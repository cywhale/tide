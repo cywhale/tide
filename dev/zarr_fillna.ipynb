{
 "cells": [
  {
   "cell_type": "code",
   "execution_count": 1,
   "metadata": {},
   "outputs": [],
   "source": [
    "import numpy as np\n",
    "import xarray as xr\n",
    "from concurrent.futures import ProcessPoolExecutor, as_completed\n",
    "# from dask import delayed, compute\n",
    "# from dask.distributed import get_client, default_client, LocalCluster, Client\n",
    "from pyTMD.io import ATLAS\n",
    "from src.model_utils import get_current_model\n",
    "from src.pytmd_utils import read_netcdf_grid\n",
    "maxWorkers = 6"
   ]
  },
  {
   "cell_type": "code",
   "execution_count": 2,
   "metadata": {},
   "outputs": [],
   "source": [
    "BATHY_gridfile = '/home/bioer/python/tide/data_src/TPXO9_atlas_v5/grid_tpxo9_atlas_30_v5.nc'\n",
    "tpxo_model_directory = '/home/bioer/python/tide/data_src'\n",
    "tpxo_model_format = 'netcdf'\n",
    "tpxo_compressed = False\n",
    "tpxo_model_name = 'TPXO9-atlas-v5'\n",
    "tpxo_model = get_current_model(\n",
    "    tpxo_model_name, tpxo_model_directory, tpxo_model_format, tpxo_compressed)\n"
   ]
  },
  {
   "cell_type": "code",
   "execution_count": 3,
   "metadata": {},
   "outputs": [],
   "source": [
    "def recompute_na_points(coord, lonz, latz, bathy_mask, bathy_data):\n",
    "    ilat_idx, ilon_idx = coord\n",
    "\n",
    "    if bathy_mask[ilat_idx, ilon_idx] or bathy_data[ilat_idx, ilon_idx] <= 0.0:  # If it's a land point or depth <= 0\n",
    "        return None\n",
    "\n",
    "    ilon = lonz[ilon_idx]\n",
    "    ilat = latz[ilat_idx]\n",
    "\n",
    "    results = {}\n",
    "    for var_type in ['u', 'v']:\n",
    "        amp, ph, _, _ = ATLAS.extract_constants(\n",
    "            np.atleast_1d(ilon), np.atleast_1d(ilat),\n",
    "            tpxo_model.grid_file,\n",
    "            tpxo_model.model_file[var_type], type=var_type, method='spline',\n",
    "            scale=tpxo_model.scale, compressed=tpxo_model.compressed\n",
    "        )\n",
    "        results[f\"{var_type}_amp\"] = amp\n",
    "        results[f\"{var_type}_ph\"] = ph\n",
    "    \n",
    "    return results"
   ]
  },
  {
   "cell_type": "code",
   "execution_count": 9,
   "metadata": {},
   "outputs": [],
   "source": [
    "input_file = \"../data/tpxo9_fillna08.zarr\"\n"
   ]
  },
  {
   "cell_type": "code",
   "execution_count": 4,
   "metadata": {},
   "outputs": [],
   "source": [
    "lonz, latz, bathy_z = read_netcdf_grid(BATHY_gridfile, variable='z')\n"
   ]
  },
  {
   "cell_type": "code",
   "execution_count": 5,
   "metadata": {},
   "outputs": [
    {
     "name": "stdout",
     "output_type": "stream",
     "text": [
      "(5401, 10800)\n"
     ]
    }
   ],
   "source": [
    "bathy_mask = bathy_z.mask\n",
    "bathy_data = bathy_z.data\n",
    "print(bathy_mask.shape)\n"
   ]
  },
  {
   "cell_type": "code",
   "execution_count": 6,
   "metadata": {},
   "outputs": [
    {
     "name": "stdout",
     "output_type": "stream",
     "text": [
      "0.0\n",
      "<bound method Dataset.info of <xarray.Dataset>\n",
      "Dimensions:       (constituents: 15, lat: 5401, lon: 10800)\n",
      "Coordinates:\n",
      "  * constituents  (constituents) object 'q1' 'o1' 'p1' 'k1' ... '2n2' 'mf' 'mm'\n",
      "  * lat           (lat) float64 -90.0 -89.97 -89.93 -89.9 ... 89.93 89.97 90.0\n",
      "  * lon           (lon) float64 0.03333 0.06667 0.1 0.1333 ... 359.9 360.0 360.0\n",
      "Data variables:\n",
      "    u_amp         (lat, lon, constituents) float64 dask.array<chunksize=(113, 113, 8), meta=np.ndarray>\n",
      "    u_ph          (lat, lon, constituents) float64 dask.array<chunksize=(113, 113, 8), meta=np.ndarray>\n",
      "    v_amp         (lat, lon, constituents) float64 dask.array<chunksize=(113, 113, 8), meta=np.ndarray>\n",
      "    v_ph          (lat, lon, constituents) float64 dask.array<chunksize=(113, 113, 8), meta=np.ndarray>\n",
      "    z_amp         (lat, lon, constituents) float64 dask.array<chunksize=(113, 113, 8), meta=np.ndarray>\n",
      "    z_ph          (lat, lon, constituents) float64 dask.array<chunksize=(113, 113, 8), meta=np.ndarray>>\n"
     ]
    }
   ],
   "source": [
    "ds = xr.open_zarr(input_file, chunks='auto', decode_times=False, consolidated=True) \n",
    "print(ds['lat'].values[2700])\n",
    "#ds = ds.chunk({'lat': 113, 'lon': 113, 'constituents': 8}) \n",
    "print(ds.info)"
   ]
  },
  {
   "cell_type": "code",
   "execution_count": 54,
   "metadata": {},
   "outputs": [
    {
     "name": "stdout",
     "output_type": "stream",
     "text": [
      "<xarray.Dataset>\n",
      "Dimensions:       (constituents: 15, lat: 5401, lon: 10800)\n",
      "Coordinates:\n",
      "  * constituents  (constituents) object 'q1' 'o1' 'p1' 'k1' ... '2n2' 'mf' 'mm'\n",
      "  * lat           (lat) float64 -90.0 -89.97 -89.93 -89.9 ... 89.93 89.97 90.0\n",
      "  * lon           (lon) float64 0.03333 0.06667 0.1 0.1333 ... 359.9 360.0 360.0\n",
      "Data variables:\n",
      "    u_amp         (lat, lon, constituents) float64 dask.array<chunksize=(113, 113, 8), meta=np.ndarray>\n",
      "    u_ph          (lat, lon, constituents) float64 dask.array<chunksize=(113, 113, 8), meta=np.ndarray>\n",
      "    v_amp         (lat, lon, constituents) float64 dask.array<chunksize=(113, 113, 8), meta=np.ndarray>\n",
      "    v_ph          (lat, lon, constituents) float64 dask.array<chunksize=(113, 113, 8), meta=np.ndarray>\n",
      "    z_amp         (lat, lon, constituents) float64 dask.array<chunksize=(113, 113, 8), meta=np.ndarray>\n",
      "    z_ph          (lat, lon, constituents) float64 dask.array<chunksize=(113, 113, 8), meta=np.ndarray>\n"
     ]
    }
   ],
   "source": [
    "ds['lat'].values[2700] = 0\n",
    "ds = ds.sortby('lat')\n",
    "print(ds)"
   ]
  },
  {
   "cell_type": "code",
   "execution_count": 8,
   "metadata": {},
   "outputs": [
    {
     "name": "stdout",
     "output_type": "stream",
     "text": [
      "[3.33333340e-02 6.66666670e-02 9.99999999e-02 ... 3.59933329e+02\n",
      " 3.59966663e+02 3.59999996e+02]\n",
      "[-90.00000356 -89.96667023 -89.93333689 ...  89.93333689  89.96667023\n",
      "  90.00000356]\n",
      "[3.33333340e-02 6.66666670e-02 9.99999999e-02 ... 3.59933329e+02\n",
      " 3.59966663e+02 3.59999996e+02]\n",
      "[-90.00000356 -89.96667023 -89.93333689 ...  89.93333689  89.96667023\n",
      "  90.00000356]\n",
      "10800\n",
      "5401\n",
      "10800\n",
      "5401\n"
     ]
    }
   ],
   "source": [
    "print(lonz)\n",
    "print(latz)\n",
    "print(ds['lon'].values)\n",
    "print(ds['lat'].values)\n",
    "print(len(lonz))\n",
    "print(len(latz))\n",
    "print(len(ds['lon'].values))\n",
    "print(len(ds['lat'].values))"
   ]
  },
  {
   "cell_type": "code",
   "execution_count": 41,
   "metadata": {},
   "outputs": [],
   "source": [
    "#ds['lon'].values = lonz\n",
    "#ds['lat'].values = latz\n"
   ]
  },
  {
   "cell_type": "code",
   "execution_count": null,
   "metadata": {},
   "outputs": [],
   "source": [
    "#ds_new = ds.sel(lat=latz, lon=lonz, method='nearest')\n",
    "#print(ds_new)"
   ]
  },
  {
   "cell_type": "code",
   "execution_count": 7,
   "metadata": {},
   "outputs": [
    {
     "name": "stdout",
     "output_type": "stream",
     "text": [
      "<xarray.Dataset>\n",
      "Dimensions:       (constituents: 15, lat: 5401, lon: 10800)\n",
      "Coordinates:\n",
      "  * constituents  (constituents) object 'q1' 'o1' 'p1' 'k1' ... '2n2' 'mf' 'mm'\n",
      "  * lat           (lat) float64 -90.0 -89.97 -89.93 -89.9 ... 89.93 89.97 90.0\n",
      "  * lon           (lon) float64 0.03333 0.06667 0.1 0.1333 ... 359.9 360.0 360.0\n",
      "Data variables:\n",
      "    u_amp         (lat, lon, constituents) float64 dask.array<chunksize=(113, 113, 8), meta=np.ndarray>\n",
      "    u_ph          (lat, lon, constituents) float64 dask.array<chunksize=(113, 113, 8), meta=np.ndarray>\n",
      "    v_amp         (lat, lon, constituents) float64 dask.array<chunksize=(113, 113, 8), meta=np.ndarray>\n",
      "    v_ph          (lat, lon, constituents) float64 dask.array<chunksize=(113, 113, 8), meta=np.ndarray>\n",
      "    z_amp         (lat, lon, constituents) float64 dask.array<chunksize=(113, 113, 8), meta=np.ndarray>\n",
      "    z_ph          (lat, lon, constituents) float64 dask.array<chunksize=(113, 113, 8), meta=np.ndarray>\n"
     ]
    }
   ],
   "source": [
    "#del ds\n",
    "#ds = ds_new\n",
    "print(ds)"
   ]
  },
  {
   "cell_type": "code",
   "execution_count": 12,
   "metadata": {},
   "outputs": [
    {
     "name": "stdout",
     "output_type": "stream",
     "text": [
      "['q1' 'o1' 'p1' 'k1' 'n2' 'm2' 's1' 's2' 'k2' 'm4' 'ms4' 'mn4' '2n2' 'mf'\n",
      " 'mm']\n"
     ]
    }
   ],
   "source": [
    "print(ds.coords[\"constituents\"].values)"
   ]
  },
  {
   "cell_type": "code",
   "execution_count": 17,
   "metadata": {},
   "outputs": [
    {
     "name": "stdout",
     "output_type": "stream",
     "text": [
      "constituents has dtype=object\n"
     ]
    }
   ],
   "source": [
    "import zarr\n",
    "\n",
    "store = zarr.open(input_file, mode='r')  # Open in read mode\n",
    "\n",
    "# List variables with object dtype\n",
    "for var_name in store.array_keys():\n",
    "    if store[var_name].dtype == object:\n",
    "        print(f\"{var_name} has dtype=object\")"
   ]
  },
  {
   "cell_type": "code",
   "execution_count": 20,
   "metadata": {},
   "outputs": [],
   "source": [
    "#Rescale amp by 0.01 https://github.com/tsutterley/pyTMD/discussions/241\n",
    "Rescale = False\n",
    "if Rescale:\n",
    "    ds = xr.open_zarr(input_file, chunks={'lat': 113, 'lon': 113, 'constituents': 8})\n",
    "    # Scale the needed variables\n",
    "    variables_to_scale = ['u_amp', 'v_amp']\n",
    "    ds_scaled = ds.assign({var: ds[var] * 0.01 for var in variables_to_scale})\n",
    "    ds_scaled['constituents'] = np.array(['q1', 'o1', 'p1', 'k1', 'n2', 'm2', 's1', 's2', 'k2', 'm4', 'ms4', 'mn4', '2n2', 'mf', 'mm'], dtype=str)"
   ]
  },
  {
   "cell_type": "code",
   "execution_count": 21,
   "metadata": {},
   "outputs": [
    {
     "name": "stdout",
     "output_type": "stream",
     "text": [
      "Dataset scaled and saved to ../data/tpxo9_fillna05.zarr\n"
     ]
    }
   ],
   "source": [
    "# Save the corrected dataset\n",
    "if Rescale:\n",
    "    corrected_file_path = '../data/tpxo9_fillna05.zarr'  # New file path to save the corrected dataset\n",
    "    ds_scaled.to_zarr(corrected_file_path, mode='w')  # Use mode='w' to overwrite if using the same file path\n",
    "    print(f\"Dataset scaled and saved to {corrected_file_path}\")    \n"
   ]
  },
  {
   "cell_type": "code",
   "execution_count": 10,
   "metadata": {},
   "outputs": [],
   "source": [
    "ds = xr.open_zarr(input_file, chunks='auto', decode_times=False, consolidated=True) "
   ]
  },
  {
   "cell_type": "code",
   "execution_count": 58,
   "metadata": {},
   "outputs": [
    {
     "name": "stdout",
     "output_type": "stream",
     "text": [
      "Now process var to find na:  u_ph\n",
      "Now process var to find na:  v_ph\n"
     ]
    }
   ],
   "source": [
    "All_NA_CONDITION = False\n",
    "if True:\n",
    "    # Check for NaNs in the four variables\n",
    "    coords_to_recompute = set()\n",
    "    variables = ['u_amp', 'v_amp', 'u_ph', 'v_ph']\n",
    "\n",
    "    # nan_loc1 = set(map(tuple, np.argwhere(np.isnan(ds['u_amp'].values).any(axis=-1))))\n",
    "    ## it seems cause memory crash? #nan_loc1.update(map(tuple, np.argwhere(np.isnan(ds['u_ph'].values).any(axis=-1))))    \n",
    "    # nan_loc2 = set(map(tuple, np.argwhere(np.isnan(ds['v_amp'].values).any(axis=-1))))\n",
    "    #### nan_loc2.update(map(tuple, np.argwhere(np.isnan(ds['v_ph'].values).any(axis=-1))))\n",
    "    #intersecting_nans = nan_loc1.intersection(nan_loc2)\n",
    "    #for ilat_idx, ilon_idx in intersecting_nans:\n",
    "    for var in ['u_ph', 'v_ph']:\n",
    "        print(\"Now process var to find na: \", var)\n",
    "        ## it's slow # nan_locs = np.argwhere(np.isnan(ds[var].values))\n",
    "        if All_NA_CONDITION:\n",
    "            nan_locs = np.argwhere(np.isnan(ds[var].values).all(axis=-1))\n",
    "        else:    \n",
    "            nan_locs = np.argwhere(np.isnan(ds[var].values).any(axis=-1))\n",
    "        #It will get 204969 points if scan u_amp, v_amp, u_ph, v_ph     \n",
    "        for loc in nan_locs:\n",
    "            ilat_idx, ilon_idx = loc\n",
    "            if not bathy_mask[ilat_idx, ilon_idx] and bathy_data[ilat_idx, ilon_idx] > 0.0:\n",
    "                coords_to_recompute.add((ilat_idx, ilon_idx))\n",
    "                #print(coords_to_recompute)\n",
    "            #print(len(coords_to_recompute))\n",
    "    # Parallelize the re-computation using ProcessPoolExecutor\n"
   ]
  },
  {
   "cell_type": "code",
   "execution_count": 59,
   "metadata": {},
   "outputs": [
    {
     "name": "stdout",
     "output_type": "stream",
     "text": [
      "508981\n"
     ]
    }
   ],
   "source": [
    "all_na_list_to_recompute = np.copy(list(coords_to_recompute))\n",
    "print(len(all_na_list_to_recompute))"
   ]
  },
  {
   "cell_type": "code",
   "execution_count": 53,
   "metadata": {},
   "outputs": [
    {
     "name": "stdout",
     "output_type": "stream",
     "text": [
      "Total points to process: 352138\n"
     ]
    }
   ],
   "source": [
    "#Total points to process: 178275 before first-time 5x5 neighbors with NA recomputation\n",
    "#Total points to process: 109452 before first-time 4x4 neighbors NA recomputation and if All_NA_CONDITION = True -> 100388(fillna03) -> 89334(fillna04) -> 84282(fillna05) -> 82502(06, with extrapolate) -> 79654(07, 2*3 neighbors)\n",
    "#79654 -> 73114 (08, 1*3 neighbors)\n",
    "total_points = len(coords_to_recompute)\n",
    "print(f\"Total points to process: {total_points}\")"
   ]
  },
  {
   "cell_type": "code",
   "execution_count": 55,
   "metadata": {},
   "outputs": [
    {
     "name": "stdout",
     "output_type": "stream",
     "text": [
      "[(2988, 8964), (3650, 7363), (4046, 947), (4419, 10577), (5071, 8288), (4517, 532), (3574, 8307), (4040, 1132), (3988, 942), (4327, 408)]\n"
     ]
    }
   ],
   "source": [
    "print(list(coords_to_recompute)[0:10])"
   ]
  },
  {
   "cell_type": "code",
   "execution_count": 50,
   "metadata": {},
   "outputs": [
    {
     "name": "stdout",
     "output_type": "stream",
     "text": [
      "[2.37540944e+01 2.37350708e+02 1.59934387e+02 5.17129517e+02\n",
      " 1.40964583e+03 1.43437513e+04 2.22089208e+01 2.10834782e+03\n",
      " 7.46692790e+02 5.22872009e+01 1.24571482e+01 1.24571482e+01\n",
      " 1.21741130e+02 3.90156651e+00 1.13345591e+00]\n",
      "[nan nan nan nan nan nan nan nan nan nan nan nan nan nan nan]\n",
      "<xarray.DataArray 'lon' ()>\n",
      "array(309.2999965)\n",
      "Coordinates:\n",
      "    lon      float64 309.3 <xarray.DataArray 'lat' ()>\n",
      "array(63.36666917)\n",
      "Coordinates:\n",
      "    lat      float64 63.37\n",
      "309.2999965043527\n",
      "63.36666917297668\n",
      "False\n",
      "6.0\n"
     ]
    }
   ],
   "source": [
    "#NA find {(140, 6102), (138, 6232), (139, 6260), (140, 6010), .....} is huge about 204969 points.\n",
    "ilat_idx = 4601 #1846 #5400 #138                                                                                                                                                                                                                                                                                                                                                                                                                                                                                                                                                                                                                                                                                                                                                                                                                                                                                                                                                                                                                                                                                                                                                                          r33333333333333333333333333333333333333333333333333333333333333333333333333333333333ilat_idx = 5400 #138\n",
    "ilon_idx = 9278 #10083 #8455 #6232\n",
    "print(ds[\"u_amp\"].isel(lat=ilat_idx, lon=ilon_idx).values)\n",
    "print(ds[\"v_ph\"].isel(lat=ilat_idx, lon=ilon_idx).values)\n",
    "print(ds.coords['lon'][ilon_idx], ds.coords['lat'][ilat_idx])\n",
    "print(lonz[ilon_idx]) #check equality\n",
    "print(latz[ilat_idx])\n",
    "print(bathy_mask[ilat_idx, ilon_idx])\n",
    "print(bathy_data[ilat_idx, ilon_idx])"
   ]
  },
  {
   "cell_type": "code",
   "execution_count": 46,
   "metadata": {},
   "outputs": [
    {
     "name": "stdout",
     "output_type": "stream",
     "text": [
      "[[6.471731252495115 35.33086601374958 16.516280589743747\n",
      "  41.467513024211506 142.83056067766648 664.3835523804238\n",
      "  2.444686523899555 234.189589513611 67.98351421495443 87.0246193313029\n",
      "  63.81208862198095 35.57978240963184 14.91632397993586\n",
      "  0.5217650702235797 0.1304412675558949]] [[299.92393051356146 311.93218171600927 331.7145695996912\n",
      "  312.8010739859887 300.80447167117035 325.3005762992059\n",
      "  260.7889751355719 352.1406908598158 348.51758798627856\n",
      "  357.0142950755634 55.725218494572914 289.09922132068266\n",
      "  285.8593620690221 90.00000250447816 90.00000250447816]]\n"
     ]
    }
   ],
   "source": [
    "ampu, phu, _, _ = ATLAS.extract_constants(\n",
    "        np.atleast_1d(lonz[ilon_idx]), np.atleast_1d(latz[ilat_idx]),\n",
    "        tpxo_model.grid_file,\n",
    "        tpxo_model.model_file['u'], type='u', method='spline',\n",
    "        scale=tpxo_model.scale, compressed=tpxo_model.compressed\n",
    "    )\n",
    "print(ampu, phu)"
   ]
  },
  {
   "cell_type": "code",
   "execution_count": 23,
   "metadata": {},
   "outputs": [
    {
     "name": "stdout",
     "output_type": "stream",
     "text": [
      "[[8.668813118062117 35.76033562499962 8.683169526784722 23.45806202528826\n",
      "  47.0764734010927 213.35622310706765 0.25969733329667843\n",
      "  77.97409128150774 21.970233688959325 1.4524161022783755\n",
      "  0.7655314554124386 0.5279226470822542 6.575219141717764\n",
      "  2.862807843370184 0.5041899446945962]] [[113.33001625627412 132.03097175093149 160.45599243485512\n",
      "  162.9877113337471 67.40618069237203 76.19530909747947 157.4830159948237\n",
      "  92.9992478520575 89.28646630226528 246.77373431721838\n",
      "  348.21351820971336 195.81061250443756 37.385402422090806\n",
      "  258.2549476327405 63.84744039893113]]\n"
     ]
    }
   ],
   "source": [
    "ampv, phv, _, _ = ATLAS.extract_constants(\n",
    "        np.atleast_1d(lonz[ilon_idx]), np.atleast_1d(latz[ilat_idx]),\n",
    "        tpxo_model.grid_file,\n",
    "        tpxo_model.model_file['v'], type='v', method='spline',\n",
    "        scale=tpxo_model.scale, compressed=tpxo_model.compressed\n",
    "    )\n",
    "print(ampv, phv)"
   ]
  },
  {
   "cell_type": "code",
   "execution_count": 14,
   "metadata": {},
   "outputs": [
    {
     "name": "stdout",
     "output_type": "stream",
     "text": [
      "After removing:  17112\n"
     ]
    }
   ],
   "source": [
    "filtered_coords = set()\n",
    "for ilat_idx, ilon_idx in coords_to_recompute:\n",
    "    if ilat_idx>=1 and ilon_idx>=1 and ilat_idx<=len(latz)-2 and ilon_idx<=len(lonz)-2:\n",
    "        neighbors = [\n",
    "            (ilat_idx+1, ilon_idx),\n",
    "            (ilat_idx, ilon_idx+1),\n",
    "            (ilat_idx+1, ilon_idx+1)\n",
    "        ]\n",
    "    if all(neighbor in coords_to_recompute for neighbor in neighbors):\n",
    "        filtered_coords.add((ilat_idx, ilon_idx))\n",
    "        #print(neighbors)\n",
    "        for neighbor in neighbors:\n",
    "            filtered_coords.add(neighbor)\n",
    "\n",
    "#coords_to_recompute = filtered_coords\n",
    "print('After removing: ', len(filtered_coords))"
   ]
  },
  {
   "cell_type": "code",
   "execution_count": 15,
   "metadata": {},
   "outputs": [
    {
     "name": "stdout",
     "output_type": "stream",
     "text": [
      "After removing:  2309\n"
     ]
    }
   ],
   "source": [
    "filtered_coord3 = set()\n",
    "for ilat_idx, ilon_idx in coords_to_recompute:\n",
    "    if ilat_idx <= len(latz) - 3 and ilon_idx <= len(lonz) - 3:\n",
    "        neighbors = [\n",
    "            (ilat_idx+1, ilon_idx), \n",
    "            (ilat_idx+2, ilon_idx),\n",
    "            (ilat_idx, ilon_idx+1), \n",
    "            (ilat_idx, ilon_idx+2),\n",
    "            (ilat_idx+1, ilon_idx+1),\n",
    "            (ilat_idx+1, ilon_idx+2),\n",
    "            (ilat_idx+2, ilon_idx+1),\n",
    "            (ilat_idx+2, ilon_idx+2)\n",
    "        ]\n",
    "        if all(neighbor in coords_to_recompute for neighbor in neighbors):\n",
    "            #print(neighbors)\n",
    "            filtered_coord3.add((ilat_idx, ilon_idx))\n",
    "            for neighbor in neighbors:\n",
    "                filtered_coord3.add(neighbor)\n",
    "#### Note this mehtod re-evaluate the points which may already had been included in previous neighborhoods \n",
    "#### so that they may be repeated in clusters and may to be recompute by extract_constant \n",
    "#### because the member in each cluster may be duplicated\n",
    "print('After removing: ', len(filtered_coord3))                "
   ]
  },
  {
   "cell_type": "code",
   "execution_count": null,
   "metadata": {},
   "outputs": [],
   "source": [
    "#try one neibors to extract constants: [(1757, 10166), (1758, 10166), (1756, 10167), (1756, 10168), (1757, 10167), (1757, 10168), (1758, 10167), (1758, 10168)]\n",
    "lon_chunk = lonz[10166:10169]\n",
    "lat_chunk = latz[1756:1759]\n",
    "lon_grid, lat_grid = np.meshgrid(lon_chunk, lat_chunk)\n",
    "mampu, mphu, mD, mc = ATLAS.extract_constants(\n",
    "    lon_grid.ravel(), lat_grid.ravel(),\n",
    "    tpxo_model.grid_file,\n",
    "    tpxo_model.model_file['u'], type='u', method='spline',\n",
    "    scale=tpxo_model.scale, compressed=tpxo_model.compressed)\n",
    "print(mampu, mphu)"
   ]
  },
  {
   "cell_type": "code",
   "execution_count": 16,
   "metadata": {},
   "outputs": [
    {
     "name": "stdout",
     "output_type": "stream",
     "text": [
      "After removing:  0\n"
     ]
    }
   ],
   "source": [
    "filtered_coord5 = set()\n",
    "\n",
    "for ilat_idx, ilon_idx in coords_to_recompute:\n",
    "    if ilat_idx <= len(latz) - 5 and ilon_idx <= len(lonz) - 5:\n",
    "        is_square = True\n",
    "        for i in range(5):\n",
    "            for j in range(5):\n",
    "                if (ilat_idx + i, ilon_idx + j) not in coords_to_recompute:\n",
    "                    is_square = False\n",
    "                    break\n",
    "            if not is_square:\n",
    "                break\n",
    "        if is_square:\n",
    "            for i in range(5):\n",
    "                for j in range(5):\n",
    "                    filtered_coord5.add((ilat_idx + i, ilon_idx + j))\n",
    "\n",
    "#coords_to_recompute = filtered_coord5\n",
    "print('After removing: ', len(filtered_coord5))   "
   ]
  },
  {
   "cell_type": "code",
   "execution_count": null,
   "metadata": {},
   "outputs": [],
   "source": [
    "#filtered_coords = set()\n",
    "#for ilat_idx, ilon_idx in coords_to_recompute:\n",
    "#    if ilat_idx>=1 and ilon_idx>=1 and ilat_idx<=len(latz)-2 and ilon_idx<=len(lonz)-2:\n",
    "#        neighbors = [\n",
    "#            (ilat_idx+1, ilon_idx),\n",
    "#            (ilat_idx, ilon_idx+1),\n",
    "#            (ilat_idx+1, ilon_idx+1)\n",
    "#        ]\n",
    "#    if all(neighbor in coords_to_recompute for neighbor in neighbors):\n",
    "#        filtered_coords.add((ilat_idx, ilon_idx))\n",
    "#        for neighbor in neighbors:\n",
    "#            filtered_coords.add(neighbor)"
   ]
  },
  {
   "cell_type": "code",
   "execution_count": 17,
   "metadata": {},
   "outputs": [],
   "source": [
    "def filter_and_form_cluster2(coords_to_recompute):\n",
    "    filtered_coords = set()\n",
    "    clusters = []\n",
    "\n",
    "    for ilat_idx, ilon_idx in coords_to_recompute:\n",
    "        # Creating a list for all 5x5 neighbors of the current point\n",
    "        neighbors = [(ilat_idx + dlat, ilon_idx + dlon) for dlat in range(2) for dlon in range(2)]\n",
    "        \n",
    "        if all(neighbor in coords_to_recompute for neighbor in neighbors):\n",
    "            clusters.append(neighbors)\n",
    "            for neighbor in neighbors:\n",
    "                filtered_coords.add(neighbor)\n",
    "\n",
    "    return clusters, filtered_coords"
   ]
  },
  {
   "cell_type": "code",
   "execution_count": 18,
   "metadata": {},
   "outputs": [],
   "source": [
    "f2_cluster, f2_coords = filter_and_form_cluster2(coords_to_recompute)"
   ]
  },
  {
   "cell_type": "code",
   "execution_count": 19,
   "metadata": {},
   "outputs": [
    {
     "name": "stdout",
     "output_type": "stream",
     "text": [
      "16077\n",
      "[[(4412, 9756), (4412, 9757), (4413, 9756), (4413, 9757)], [(4949, 10146), (4949, 10147), (4950, 10146), (4950, 10147)], [(3347, 6399), (3347, 6400), (3348, 6399), (3348, 6400)], [(4419, 9772), (4419, 9773), (4420, 9772), (4420, 9773)], [(336, 9092), (336, 9093), (337, 9092), (337, 9093)], [(1113, 5751), (1113, 5752), (1114, 5751), (1114, 5752)], [(3313, 6414), (3313, 6415), (3314, 6414), (3314, 6415)], [(3288, 8047), (3288, 8048), (3289, 8047), (3289, 8048)], [(1108, 5757), (1108, 5758), (1109, 5757), (1109, 5758)], [(5194, 9926), (5194, 9927), (5195, 9926), (5195, 9927)]]\n",
      "[(5159, 8401), (4813, 9979), (3099, 9475), (3335, 8025), (5071, 8288), (838, 9061), (1791, 10147), (4830, 763), (4833, 8645), (5161, 8218)]\n"
     ]
    }
   ],
   "source": [
    "print(len(f2_coords))\n",
    "print(f2_cluster[0:10])\n",
    "print(list(f2_coords)[0:10])"
   ]
  },
  {
   "cell_type": "code",
   "execution_count": null,
   "metadata": {},
   "outputs": [],
   "source": [
    "remaining_points = coords_to_recompute - f2_coords\n",
    "if remaining_points:\n",
    "    print(\"Remaining points at final: \", len(remaining_points))"
   ]
  },
  {
   "cell_type": "code",
   "execution_count": 20,
   "metadata": {},
   "outputs": [],
   "source": [
    "def process_chunk(cluster, lonz, latz, tpxo_model, var_type, cluster_idx, cluster_num):\n",
    "    start_lat, end_lat, start_lon, end_lon = cluster\n",
    "    lon_chunk = lonz[start_lon:end_lon]\n",
    "    lat_chunk = latz[start_lat:end_lat]\n",
    "    lon_grid, lat_grid = np.meshgrid(lon_chunk, lat_chunk)\n",
    "    scale = 1e-4 ## replace tpxo_model.scale before pyTMD new release\n",
    "\n",
    "    amp, ph, D, c = ATLAS.extract_constants(\n",
    "        lon_grid.ravel(), lat_grid.ravel(),\n",
    "        tpxo_model.grid_file,\n",
    "        tpxo_model.model_file[var_type], type=var_type, method='spline',\n",
    "        scale=scale, compressed=tpxo_model.compressed, extrapolate=True)\n",
    "\n",
    "    # reshape back amp and ph\n",
    "    amp = amp.reshape((end_lat - start_lat, end_lon - start_lon, -1))\n",
    "    ph = ph.reshape((end_lat - start_lat, end_lon - start_lon, -1))\n",
    "    print(f\"Cluster index: {cluster_idx}/{cluster_num} for variable: {var_type} wtih scale: {scale}\")\n",
    "\n",
    "    return (cluster_idx, cluster_num, start_lat, end_lat, start_lon, end_lon, var_type, amp, ph)\n",
    "\n",
    "\n",
    "def filter_and_form_clusters(coords_to_recompute, neighborx=1, neighbory=4):\n",
    "    coords_to_recompute = set(coords_to_recompute)  # Ensure it's a set for efficient removal\n",
    "    clusters = []\n",
    "\n",
    "    while coords_to_recompute:\n",
    "        ilat_idx, ilon_idx = next(iter(coords_to_recompute))  # Take one coord from the set without removing it\n",
    "\n",
    "        neighbors = [(ilat_idx + dlat, ilon_idx + dlon) for dlat in range(neighbory) for dlon in range(neighborx)]\n",
    "\n",
    "        if all(neighbor in coords_to_recompute for neighbor in neighbors):\n",
    "            start_lat, start_lon = min(neighbors, key=lambda x: (x[0], x[1]))\n",
    "            end_lat, end_lon = max(neighbors, key=lambda x: (x[0], x[1]))\n",
    "            # +1 because we want to include the last point when slicing\n",
    "            clusters.append((start_lat, end_lat + 1, start_lon, end_lon + 1))\n",
    "\n",
    "            for neighbor in neighbors:\n",
    "                coords_to_recompute.discard(neighbor)  # Remove these neighbors from further consideration\n",
    "        else:\n",
    "            coords_to_recompute.discard((ilat_idx, ilon_idx))  # Remove the current point if not all its neighbors are in the set\n",
    "\n",
    "    return clusters\n"
   ]
  },
  {
   "cell_type": "code",
   "execution_count": 62,
   "metadata": {},
   "outputs": [],
   "source": [
    "ReComputeCoords = False\n",
    "# input_file = \"tpxo9_fillna04.zarr\"\n",
    "# ds = xr.open_zarr(input_file)\n",
    "\n",
    "if ReComputeCoords:\n",
    "    # Check for NaNs in the four variables\n",
    "    coords_to_recompute = set()\n",
    "    for var in ['u_amp', 'v_amp']:\n",
    "        print(\"Now process var to find na: \", var)\n",
    "        nan_locs = np.argwhere(np.isnan(ds[var].values).any(axis=-1))\n",
    "        for loc in nan_locs:\n",
    "            ilat_idx, ilon_idx = loc\n",
    "            if not bathy_mask[ilat_idx, ilon_idx] and bathy_data[ilat_idx, ilon_idx] > 0.0:\n",
    "                coords_to_recompute.add((ilat_idx, ilon_idx))\n",
    "\n"
   ]
  },
  {
   "cell_type": "code",
   "execution_count": 63,
   "metadata": {},
   "outputs": [
    {
     "name": "stdout",
     "output_type": "stream",
     "text": [
      "Total points to process: 508981\n"
     ]
    }
   ],
   "source": [
    "total_points = len(coords_to_recompute)\n",
    "print(f\"Total points to process: {total_points}\")"
   ]
  },
  {
   "cell_type": "code",
   "execution_count": 60,
   "metadata": {},
   "outputs": [
    {
     "name": "stdout",
     "output_type": "stream",
     "text": [
      "[(3988, 3993, 942, 947), (3354, 3359, 9472, 9477), (4620, 4625, 660, 665), (232, 237, 9143, 9148), (3349, 3354, 9478, 9483), (3833, 3838, 8544, 8549), (4884, 4889, 4274, 4279), (4536, 4541, 558, 563), (1674, 1679, 715, 720), (4007, 4012, 968, 973), (3972, 3977, 1132, 1137), (4002, 4007, 974, 979), (4650, 4655, 1195, 1200), (4741, 4746, 7729, 7734), (4025, 4030, 1143, 1148), (4496, 4501, 728, 733), (3967, 3972, 1138, 1143), (1313, 1318, 5408, 5413), (4645, 4650, 1201, 1206), (4020, 4025, 1149, 1154), (4359, 4364, 615, 620), (3579, 3584, 3658, 3663), (4852, 4857, 3931, 3936), (1308, 1313, 5414, 5419), (4071, 4076, 1087, 1092), (4410, 4415, 553, 558), (1759, 1764, 9258, 9263), (4653, 4658, 688, 693), (4847, 4852, 3937, 3942), (4723, 4728, 2181, 2186), (4072, 4077, 908, 913), (4776, 4781, 2192, 2197), (3736, 3741, 3618, 3623), (3987, 3992, 985, 990), (1725, 1730, 9243, 9248), (3981, 3986, 1170, 1175), (3791, 3796, 1046, 1051), (4038, 4043, 923, 928), (2422, 2427, 3694, 3699), (3982, 3987, 991, 996), (1240, 1245, 5414, 5419), (4091, 4096, 934, 939), (2475, 2480, 3705, 3710), (3947, 3952, 1155, 1160), (4085, 4090, 1119, 1124), (4033, 4038, 929, 934), (292, 297, 9812, 9817), (4839, 4844, 2490, 2495), (1692, 1697, 3444, 3449), (4737, 4742, 2213, 2218), (2470, 2475, 3711, 3716), (277, 282, 9130, 9135), (287, 292, 9818, 9823), (4265, 4270, 124, 129), (3966, 3971, 1181, 1186), (4642, 4647, 1171, 1176), (4748, 4753, 2321, 2326), (3961, 3966, 1187, 1192), (4889, 4894, 4431, 4436), (4018, 4023, 940, 945), (4012, 4017, 1125, 1130), (4848, 4853, 4780, 4785), (4013, 4018, 946, 951), (4752, 4757, 7701, 7706), (4007, 4012, 1131, 1136), (4645, 4650, 664, 669), (4839, 4844, 3913, 3918), (4935, 4940, 4375, 4380), (4501, 4506, 885, 890), (4843, 4848, 4786, 4791), (4025, 4030, 10755, 10760), (257, 262, 9147, 9152), (3619, 3624, 3651, 3656), (3374, 3379, 9482, 9487), (4747, 4752, 7707, 7712), (4834, 4839, 3919, 3924), (4710, 4715, 2163, 2168), (3979, 3984, 961, 966), (4794, 4799, 6772, 6777), (4450, 4455, 546, 551), (3636, 3641, 7388, 7393), (4032, 4037, 972, 977), (3974, 3979, 967, 972), (4789, 4794, 6778, 6783), (4852, 4857, 4094, 4099), (4816, 4821, 2185, 2190), (2467, 2472, 3681, 3686), (4027, 4032, 978, 983), (3992, 3997, 1142, 1147), (4078, 4083, 916, 921), (4920, 4925, 4386, 4391), (4043, 4048, 1080, 1085), (3597, 3602, 7409, 7414), (4915, 4920, 4392, 4397), (4096, 4101, 1091, 1096), (4038, 4043, 1086, 1091), (2995, 3000, 8657, 8662), (4866, 4871, 4126, 4131), (3959, 3964, 978, 983), (4091, 4096, 1097, 1102), (3953, 3958, 1163, 1168), (4845, 4850, 2498, 2503), (4006, 4011, 1174, 1179), (3948, 3953, 1169, 1174), (293, 298, 9826, 9831), (4498, 4503, 855, 860), (4876, 4881, 4413, 4418), (4005, 4010, 922, 927), (2389, 2394, 3693, 3698), (4744, 4749, 7677, 7682), (4709, 4714, 2206, 2211), (4058, 4063, 933, 938), (4801, 4806, 5178, 5183), (4762, 4767, 2217, 2222), (302, 307, 9134, 9139), (244, 249, 9129, 9134), (3361, 3366, 9464, 9469), (3968, 3973, 1016, 1021), (4019, 4024, 954, 959), (3327, 3332, 9479, 9484), (4891, 4896, 4266, 4271), (3984, 3989, 1118, 1123), (4014, 4019, 960, 965), (3322, 3327, 9485, 9490), (3979, 3984, 1124, 1129), (4907, 4912, 4368, 4373), (4088, 4093, 1067, 1072), (4032, 4037, 1135, 1140), (4832, 4837, 5133, 5138), (4612, 4617, 663, 668), (4083, 4088, 1073, 1078), (3945, 3950, 1139, 1144), (4827, 4832, 5139, 5144), (3998, 4003, 1150, 1155), (4870, 4875, 4462, 4467), (3997, 4002, 898, 903), (3993, 3998, 1156, 1161), (3469, 3474, 8326, 8331), (4825, 4830, 3938, 3943), (4701, 4706, 2182, 2187), (4921, 4926, 4400, 4405), (1805, 1810, 503, 508), (4050, 4055, 909, 914), (4435, 4440, 720, 725), (2434, 2439, 3680, 3685), (4701, 4706, 5565, 5570), (4856, 4861, 2470, 2475), (4916, 4921, 4406, 4411), (4045, 4050, 915, 920), (3960, 3965, 992, 997), (299, 304, 9804, 9809), (4590, 4595, 607, 612), (4760, 4765, 8373, 8378), (4765, 4770, 2301, 2306), (3976, 3981, 1094, 1099), (4064, 4069, 941, 946), (4760, 4765, 2307, 2312), (4029, 4034, 1105, 1110), (3973, 3978, 1173, 1178), (3971, 3976, 1100, 1105), (4901, 4906, 4417, 4422), (2414, 2419, 3697, 3702), (3367, 3372, 9472, 9477), (4024, 4029, 1111, 1116), (3922, 3927, 834, 839), (4604, 4609, 639, 644), (4077, 4082, 1122, 1127), (1642, 1647, 592, 597), (4851, 4856, 3899, 3904), (3938, 3943, 936, 941), (4520, 4525, 537, 542), (3991, 3996, 947, 952), (4800, 4805, 6943, 6948), (4827, 4832, 4602, 4607), (2903, 2908, 3056, 3061), (4427, 4432, 696, 701), (3986, 3991, 953, 958), (3294, 3299, 9478, 9483), (3951, 3956, 1117, 1122), (4039, 4044, 964, 969), (4849, 4854, 2267, 2272), (1713, 1718, 3760, 3765), (4834, 4839, 4968, 4973), (4736, 4741, 7816, 7821), (4441, 4446, 728, 733), (1258, 1263, 5408, 5413), (3965, 3970, 1149, 1154), (4022, 4027, 902, 907), (2406, 2411, 3673, 3678), (3966, 3971, 970, 975), (4016, 4021, 1087, 1092), (3960, 3965, 1155, 1160), (2459, 2464, 3684, 3689), (4510, 4515, 841, 846), (4069, 4074, 1098, 1103), (4017, 4022, 908, 913), (2401, 2406, 3679, 3684), (4721, 4726, 2192, 2197), (4755, 4760, 1776, 1781), (2454, 2459, 3690, 3695), (4505, 4510, 847, 852), (3985, 3990, 996, 1001), (2420, 2425, 3705, 3710), (1127, 1132, 5409, 5414), (4856, 4861, 4056, 4061), (4472, 4477, 683, 688), (3339, 3344, 9465, 9470), (4523, 4528, 621, 626), (3996, 4001, 1104, 1109), (4832, 4837, 4759, 4764), (3951, 3956, 580, 585), (3334, 3339, 9471, 9476), (4751, 4756, 2326, 2331), (3571, 3576, 1463, 1468), (4875, 4880, 7465, 7470), (4433, 4438, 704, 709), (4624, 4629, 649, 654), (3963, 3968, 940, 945), (3957, 3962, 1125, 1130), (3566, 3571, 1469, 1474), (4887, 4892, 4442, 4447), (4010, 4015, 1136, 1141), (3958, 3963, 946, 951), (3952, 3957, 1131, 1136), (4886, 4891, 4190, 4195), (1214, 1219, 3044, 3049), (2451, 2456, 3660, 3665), (4846, 4851, 4791, 4796), (4009, 4014, 884, 889), (3481, 3486, 8312, 8317), (3564, 3569, 3651, 3656), (4837, 4842, 3924, 3929), (4713, 4718, 2168, 2173), (4933, 4938, 4386, 4391), (4881, 4886, 4196, 4201), (4497, 4502, 823, 828), (4745, 4750, 7718, 7723), (4498, 4503, 644, 649), (4708, 4713, 2174, 2179), (1715, 1720, 9230, 9235), (1710, 1715, 9236, 9241), (3382, 3387, 9780, 9785), (4602, 4607, 593, 598), (4848, 4853, 4032, 4037), (3937, 3942, 1142, 1147), (4829, 4834, 2477, 2482), (4895, 4900, 4228, 4233), (3876, 3881, 85, 90), (3988, 3993, 1080, 1085), (4459, 4464, 665, 670), (3932, 3937, 1148, 1153), (4041, 4046, 1091, 1096), (3985, 3990, 1159, 1164), (3983, 3988, 1086, 1091), (4094, 4099, 1102, 1107), (2051, 2056, 4560, 4565), (2426, 2431, 3683, 3688), (4036, 4041, 1097, 1102), (3881, 3886, 4192, 4197), (3913, 3918, 8611, 8616), (4862, 4867, 4064, 4069), (4089, 4094, 1108, 1113), (4426, 4431, 501, 506), (3950, 3955, 922, 927), (4264, 4269, 8437, 8442), (4532, 4537, 523, 528), (4003, 4008, 933, 938), (3945, 3950, 928, 933), (4056, 4061, 944, 949), (4439, 4444, 682, 687), (1065, 1070, 5417, 5422), (3998, 4003, 939, 944), (4548, 4553, 625, 630), (3306, 3311, 9464, 9469), (3963, 3968, 1103, 1108), (5159, 5164, 9265, 9270), (3359, 3364, 9475, 9480), (4543, 4548, 631, 636), (3964, 3969, 954, 959), (3596, 3601, 1467, 1472), (3982, 3987, 1129, 1134), (3591, 3596, 1473, 1478), (3977, 3982, 1135, 1140), (3822, 3827, 4230, 4235), (2476, 2481, 3664, 3669), (1736, 1741, 3854, 3859), (4905, 4910, 4379, 4384), (4034, 4039, 888, 893), (2418, 2423, 3659, 3664), (4028, 4033, 1073, 1078), (3976, 3981, 883, 888), (3506, 3511, 8316, 8321), (1664, 1669, 9054, 9059), (2471, 2476, 3670, 3675), (3286, 3291, 9481, 9486), (4900, 4905, 4385, 4390), (4081, 4086, 1084, 1089), (4029, 4034, 894, 899), (3601, 3606, 7398, 7403), (3790, 3795, 3887, 3892), (3995, 4000, 909, 914), (4833, 4838, 4637, 4642), (3467, 3472, 8337, 8342), (4831, 4836, 4564, 4569), (4251, 4256, 8419, 8424), (4489, 4494, 663, 668), (4048, 4053, 920, 925), (2432, 2437, 3691, 3696), (3990, 3995, 915, 920), (3955, 3960, 10528, 10533), (4792, 4797, 4986, 4991), (4484, 4489, 669, 674), (4826, 4831, 4570, 4575), (3955, 3960, 1079, 1084), (302, 307, 9809, 9814), (4008, 4013, 10539, 10544), (2427, 2432, 3697, 3702), (4535, 4540, 607, 612), (4008, 4013, 1090, 1095), (4787, 4792, 4992, 4997), (4588, 4593, 618, 623), (4530, 4535, 613, 618), (4763, 4768, 2312, 2317), (4931, 4936, 4340, 4345), (4583, 4588, 624, 629), (4445, 4450, 690, 695), (4753, 4758, 8390, 8395), (4758, 4763, 2318, 2323), (3975, 3980, 926, 931), (3969, 3974, 1111, 1116), (4440, 4445, 696, 701), (1728, 1733, 3830, 3835), (4718, 4723, 8554, 8559), (4026, 4031, 864, 869), (4549, 4554, 639, 644), (3970, 3975, 932, 937), (3964, 3969, 1117, 1122), (4898, 4903, 4176, 4181), (2463, 2468, 3646, 3651), (4023, 4028, 943, 948), (4073, 4078, 1060, 1065), (4021, 4026, 870, 875), (1032, 1037, 5416, 5421), (2458, 2463, 3652, 3657), (3597, 3602, 1481, 1486), (5188, 5193, 10142, 10147), (4425, 4430, 707, 712), (4476, 4481, 645, 650), (4035, 4040, 902, 907), (4877, 4882, 4372, 4377), (4000, 4005, 1066, 1071), (4471, 4476, 651, 656), (4580, 4585, 594, 599), (4836, 4841, 4721, 4726), (4001, 4006, 887, 892), (3995, 4000, 1072, 1077), (4734, 4739, 7827, 7832), (4489, 4494, 826, 831), (4575, 4580, 600, 605), (2208, 2213, 4146, 4151), (3967, 3972, 902, 907), (4490, 4495, 677, 682), (4875, 4880, 3871, 3876), (4020, 4025, 913, 918), (2404, 2409, 3684, 3689), (4014, 4019, 1098, 1103), (3962, 3967, 908, 913), (4644, 4649, 713, 718), (4890, 4895, 4152, 4157), (2457, 2462, 3695, 3700), (4015, 4020, 919, 924), (2399, 2404, 3690, 3695), (4841, 4846, 3886, 3891), (4753, 4758, 1787, 1792), (4503, 4508, 858, 863), (4845, 4850, 4759, 4764), (4560, 4565, 611, 616), (1072, 1077, 5409, 5414), (4903, 4908, 4333, 4338), (4555, 4560, 617, 622), (4026, 4031, 1027, 1032), (4658, 4663, 745, 750), (4521, 4526, 632, 637), (3994, 3999, 1115, 1120), (4830, 4835, 4770, 4775), (2379, 2384, 3707, 3712), (2619, 2624, 9583, 9588), (3989, 3994, 1121, 1126), (4917, 4922, 4365, 4370), (4825, 4830, 4776, 4781), (3569, 3574, 1474, 1479), (4040, 4045, 1059, 1064), (4790, 4795, 4940, 4945), (4692, 4697, 2153, 2158), (3956, 3961, 957, 962), (4884, 4889, 4201, 4206), (4007, 4012, 895, 900), (4879, 4884, 4207, 4212), (3972, 3977, 1059, 1064), (4060, 4065, 906, 911), (4495, 4500, 834, 839), (4002, 4007, 901, 906), (4552, 4557, 587, 592), (4496, 4501, 655, 660), (4838, 4843, 4556, 4561), (3967, 3972, 1065, 1070), (1713, 1718, 9241, 9246), (2410, 2415, 3662, 3667), (4547, 4552, 593, 598), (4020, 4025, 1076, 1081), (4759, 4764, 7831, 7836), (3380, 3385, 9791, 9796), (4600, 4605, 604, 609), (4846, 4851, 4043, 4048), (3935, 3940, 1153, 1158), (4507, 4512, 7960, 7965), (4754, 4759, 7837, 7842), (2376, 2381, 3677, 3682), (3986, 3991, 1091, 1096), (2463, 2468, 3272, 3277), (3981, 3986, 1097, 1102), (4909, 4914, 4341, 4346), (4857, 4862, 4151, 4156), (4561, 4566, 625, 630), (2422, 2427, 3621, 3626), (4664, 4669, 723, 728), (2475, 2480, 3632, 3637), (3997, 4002, 1199, 1204), (1097, 1102, 5413, 5418), (3948, 3953, 933, 938), (4260, 4265, 8375, 8380), (3943, 3948, 939, 944), (3575, 3580, 1452, 1457), (4017, 4022, 1046, 1051), (3304, 3309, 9475, 9480), (4488, 4493, 631, 636), (1720, 1725, 3833, 3838), (3541, 3546, 1467, 1472), (4012, 4017, 1052, 1057), (4065, 4070, 1063, 1068), (4346, 4351, 524, 529), (3884, 3889, 8572, 8577), (3589, 3594, 1484, 1489), (5261, 5266, 2028, 2033), (1316, 1321, 5419, 5424), (3979, 3984, 888, 893), (3509, 3514, 8321, 8326), (4661, 4666, 693, 698), (2416, 2421, 3670, 3675), (3974, 3979, 894, 899), (3648, 3653, 909, 914), (4656, 4661, 699, 704), (4027, 4032, 905, 910), (2411, 2416, 3676, 3681), (4903, 4908, 3959, 3964), (4867, 4872, 2050, 2055), (4519, 4524, 586, 591), (3837, 3842, 4164, 4169), (4482, 4487, 680, 685), (3953, 3958, 1090, 1095), (4881, 4886, 4334, 4339), (3697, 3702, 346, 351), (4533, 4538, 618, 623), (4006, 4011, 1101, 1106), (3954, 3959, 911, 916), (3948, 3953, 1096, 1101), (4636, 4641, 716, 721), (4882, 4887, 4155, 4160), (4498, 4503, 782, 787), (2389, 2394, 3620, 3625), (4528, 4533, 624, 629), (3581, 3586, 1460, 1465), (3973, 3978, 937, 942), (3576, 3581, 1466, 1471), (1726, 1731, 3841, 3846), (4843, 4848, 4176, 4181), (2408, 2413, 3646, 3651), (3968, 3973, 943, 948), (4650, 4655, 748, 753), (2461, 2466, 3657, 3662), (4460, 4465, 624, 629), (3983, 3988, 1224, 1229), (4019, 4024, 881, 886), (2403, 2408, 3652, 3657), (3984, 3989, 1045, 1050), (4507, 4512, 820, 825), (4455, 4460, 630, 635), (4564, 4569, 573, 578), (4508, 4513, 641, 646), (4559, 4564, 579, 584), (3951, 3956, 881, 886), (4474, 4479, 656, 661), (4875, 4880, 4383, 4388), (4909, 4914, 3967, 3972), (2388, 2393, 3663, 3668), (3998, 4003, 1077, 1082), (3946, 3951, 887, 892), (3875, 3880, 8591, 8596), (4834, 4839, 4732, 4737), (3963, 3968, 1241, 1246), (2383, 2388, 3669, 3674), (4798, 4803, 8458, 8463), (3993, 3998, 1083, 1088), (4869, 4874, 4137, 4142), (3958, 3963, 1247, 1252), (4539, 4544, 596, 601), (3960, 3965, 919, 924), (4642, 4647, 724, 729), (4888, 4893, 4163, 4168), (1720, 1725, 3459, 3464), (4765, 4770, 2228, 2233), (3976, 3981, 1021, 1026), (2448, 2453, 3639, 3644), (305, 310, 9145, 9150), (3382, 3387, 10081, 10086), (4029, 4034, 1032, 1037), (3971, 3976, 1027, 1032), (4553, 4558, 628, 633), (4773, 4778, 5098, 5103), (2414, 2419, 3624, 3629), (4024, 4029, 1038, 1043), (3384, 3389, 9753, 9758), (4077, 4082, 1049, 1054), (3939, 3944, 1115, 1120), (4389, 4394, 8491, 8496), (2380, 2385, 3639, 3644), (4845, 4850, 4011, 4016), (3601, 3606, 1470, 1475), (3991, 3996, 874, 879), (2375, 2380, 3645, 3650), (4391, 4396, 8163, 8168), (3862, 3867, 8573, 8578), (4247, 4252, 8384, 8389), (4695, 4700, 2158, 2163), (2428, 2433, 3656, 3661), (3950, 3955, 1223, 1228), (3986, 3991, 880, 885), (4386, 4391, 8169, 8174), (4480, 4485, 634, 639), (3571, 3576, 7993, 7998), (4039, 4044, 891, 896), (1697, 1702, 9220, 9225), (3910, 3915, 8590, 8595), (4531, 4536, 572, 577), (4004, 4009, 1055, 1060), (3952, 3957, 895, 900), (4840, 4845, 4710, 4715), (4736, 4741, 7743, 7748), (4499, 4504, 660, 665), (3970, 3975, 1070, 1075), (4441, 4446, 655, 660), (4810, 4815, 2215, 2220), (4023, 4028, 1081, 1086), (1822, 1827, 947, 952), (3965, 3970, 1076, 1081), (1724, 1729, 3795, 3800), (4545, 4550, 604, 609), (4422, 4427, 8118, 8123), (4016, 4021, 1014, 1019), (2986, 2991, 3128, 3133), (4860, 4865, 4156, 4161), (3985, 3990, 923, 928), (3983, 3988, 850, 855), (4855, 4860, 4162, 4167), (2420, 2425, 3632, 3637), (4080, 4085, 1133, 1138), (1703, 1708, 3991, 3996), (4662, 4667, 734, 739), (4001, 4006, 1025, 1030), (2473, 2478, 3643, 3648), (4031, 4036, 867, 872), (1042, 1047, 5413, 5418), (4774, 4779, 5112, 5117), (2415, 2420, 3638, 3643), (272, 277, 9144, 9149), (4523, 4528, 548, 553), (3996, 4001, 1031, 1036), (4811, 4816, 6842, 6847), (1037, 1042, 5419, 5424), (3963, 3968, 867, 872), (4486, 4491, 642, 647), (4010, 4015, 1063, 1068), (3958, 3963, 873, 878), (4414, 4419, 8094, 8099), (3887, 3892, 8577, 8582), (4640, 4645, 678, 683), (3975, 3980, 1227, 1232), (3882, 3887, 8583, 8588), (4933, 4938, 4313, 4318), (4497, 4502, 750, 755), (4841, 4846, 4724, 4729), (3970, 3975, 1233, 1238), (4853, 4858, 3953, 3958), (4782, 4787, 2208, 2213), (4870, 4875, 2055, 2060), (4654, 4659, 710, 715), (4848, 4853, 3959, 3964), (4900, 4905, 4149, 4154), (2465, 2470, 3619, 3624), (4517, 4522, 597, 602), (4895, 4900, 4155, 4160), (3988, 3993, 1007, 1012), (317, 322, 9131, 9136), (4570, 4575, 608, 613), (4568, 4573, 535, 540), (3983, 3988, 1013, 1018), (1698, 1703, 3460, 3465), (4732, 4737, 8456, 8461), (4913, 4918, 4330, 4335), (4964, 4969, 4268, 4273), (3955, 3960, 843, 848), (4001, 4006, 1188, 1193), (4879, 4884, 4345, 4350), (2392, 2397, 3625, 3630), (4002, 4007, 1039, 1044), (3950, 3955, 849, 854), (4496, 4501, 793, 798), (4105, 4110, 1137, 1142), (3967, 3972, 1203, 1208), (4003, 4008, 860, 865), (2387, 2392, 3631, 3636), (4491, 4496, 799, 804), (3962, 3967, 1209, 1214), (4548, 4553, 552, 557), (3363, 3368, 3509, 3514), (4754, 4759, 7975, 7980), (4072, 4077, 973, 978), (4543, 4548, 558, 563), (3964, 3969, 881, 886), (4646, 4651, 686, 691), (3996, 4001, 8683, 8688), (3982, 3987, 1056, 1061), (3494, 3499, 7883, 7888), (4910, 4915, 4300, 4305), (4562, 4567, 584, 589), (4033, 4038, 994, 999), (3977, 3982, 1062, 1067), (2982, 2987, 8647, 8652), (3854, 3859, 8576, 8581), (4905, 4910, 4306, 4311), (4777, 4782, 5060, 5065), (4557, 4562, 590, 595), (3942, 3947, 1226, 1231), (4028, 4033, 1000, 1005), (4732, 4737, 7919, 7924), (2386, 2391, 3674, 3679), (3944, 3949, 898, 903), (4626, 4631, 703, 708), (4727, 4732, 7925, 7930), (4872, 4877, 4142, 4147), (4097, 4102, 1113, 1118), (2381, 2386, 3680, 3685), (3939, 3944, 904, 909), (4867, 4872, 4148, 4153), (3990, 3995, 842, 847), (4484, 4489, 596, 601), (1716, 1721, 3798, 3803), (284, 289, 9130, 9135), (4008, 4013, 1017, 1022), (250, 255, 9145, 9150), (4742, 4747, 7778, 7783), (3974, 3979, 1032, 1037), (3380, 3385, 10092, 10097), (3975, 3980, 853, 858), (3969, 3974, 1038, 1043), (3846, 3851, 8552, 8557), (4549, 4554, 566, 571), (3934, 3939, 1202, 1207), (4652, 4657, 664, 669), (3841, 3846, 8558, 8563), (4073, 4078, 987, 992), (1331, 1336, 5410, 5415), (4377, 4382, 617, 622), (4618, 4623, 679, 684), (1326, 1331, 5416, 5421), (3989, 3994, 885, 890), (2373, 2378, 3656, 3661), (4372, 4377, 623, 628), (4245, 4250, 8395, 8400), (4613, 4618, 685, 690), (3948, 3953, 1234, 1239), (4794, 4799, 2194, 2199), (4666, 4671, 696, 701), (4860, 4865, 3945, 3950), (4876, 4881, 4478, 4483), (4005, 4010, 987, 992), (4789, 4794, 2200, 2205), (4871, 4876, 4484, 4489), (3604, 3609, 7409, 7414), (4000, 4005, 993, 998), (4739, 4744, 7748, 7753), (4836, 4841, 4648, 4653), (4796, 4801, 5249, 5254), (1710, 1715, 3446, 3451), (4734, 4739, 7754, 7759), (4755, 4760, 2215, 2220), (305, 310, 9820, 9825), (4756, 4761, 2036, 2041), (4490, 4495, 604, 609), (1722, 1727, 3806, 3811), (300, 305, 9826, 9831), (4014, 4019, 1025, 1030), (4758, 4763, 1708, 1713), (2984, 2989, 3139, 3144), (4644, 4649, 640, 645), (2457, 2462, 3622, 3627), (3979, 3984, 1189, 1194), (4503, 4508, 785, 790), (2452, 2457, 3628, 3633), (309, 314, 9134, 9139), (3974, 3979, 1195, 1200), (4083, 4088, 1138, 1143), (4735, 4740, 2232, 2237), (4857, 4862, 3915, 3920), (4893, 4898, 3572, 3577), (4043, 4048, 10757, 10762), (3457, 3462, 1965, 1970), (4658, 4663, 672, 677), (4470, 4475, 621, 626), (3049, 3054, 3079, 3084), (3994, 3999, 1042, 1047), (4465, 4470, 627, 632), (4574, 4579, 570, 575), (4045, 4050, 980, 985), (3989, 3994, 1048, 1053), (3866, 3871, 8562, 8567), (4917, 4922, 4292, 4297), (4040, 4045, 986, 991), (1298, 1303, 5409, 5414), (3575, 3580, 7982, 7987), (4005, 4010, 1150, 1155), (1914, 1919, 4594, 4599), (1817, 1822, 497, 502), (1714, 1719, 3782, 3787), (2398, 2403, 3660, 3665), (3956, 3961, 884, 889), (3885, 3890, 8588, 8593), (4638, 4643, 689, 694), (4832, 4837, 3938, 3943), (1709, 1714, 3788, 3793), (3973, 3978, 1238, 1243), (3971, 3976, 1165, 1170), (3859, 3864, 3553, 3558), (3972, 3977, 986, 991), (4495, 4500, 761, 766), (3968, 3973, 1244, 1249), (4814, 4819, 2204, 2209), (1682, 1687, 3439, 3444), (4727, 4732, 2208, 2213), (4897, 4902, 4309, 4314), (2460, 2465, 3706, 3711), (4759, 4764, 7758, 7763), (3380, 3385, 9718, 9723), (4722, 4727, 2214, 2219), (262, 267, 9131, 9136), (4515, 4520, 608, 613), (3986, 3991, 1018, 1023), (315, 320, 9142, 9147), (4735, 4740, 8461, 8466), (3951, 3956, 1182, 1187), (3981, 3986, 1024, 1029), (310, 315, 9148, 9153), (4730, 4735, 8467, 8472), (3946, 3951, 1188, 1193), (3997, 4002, 1126, 1131), (4527, 4532, 537, 542), (4389, 4394, 603, 608), (3948, 3953, 860, 865), (4630, 4635, 665, 670), (242, 247, 9148, 9153), (3872, 3877, 8570, 8575), (4257, 4262, 8381, 8386), (4625, 4630, 671, 676), (1892, 1897, 9344, 9349), (3960, 3965, 1220, 1225), (4806, 4811, 2180, 2185), (4017, 4022, 973, 978), (3961, 3966, 1041, 1046), (4889, 4894, 4285, 4290), (4541, 4546, 569, 574), (4883, 4888, 4470, 4475), (4012, 4017, 979, 984), (4751, 4756, 7734, 7739), (4940, 4945, 4223, 4228), (4838, 4843, 3946, 3951), (4767, 4772, 2201, 2206), (317, 322, 9806, 9811), (4856, 4861, 4121, 4126), (1769, 1774, 9263, 9268), (2980, 2985, 8658, 8663), (4851, 4856, 4127, 4132), (3938, 3943, 1164, 1169), (4836, 4841, 2314, 2319), (2996, 3001, 3125, 3130), (3991, 3996, 1175, 1180), (2991, 2996, 3131, 3136), (3992, 3997, 996, 1001), (4042, 4047, 1113, 1118), (3986, 3991, 1181, 1186), (4870, 4875, 4153, 4158), (1060, 1065, 3043, 3048), (4386, 4391, 8470, 8475), (4095, 4100, 1124, 1129), (4043, 4048, 934, 939), (3993, 3998, 847, 852), (2377, 2382, 3618, 3623), (4747, 4752, 2218, 2223), (3902, 3907, 10528, 10533), (4090, 4095, 1130, 1135), (287, 292, 9135, 9140), (3952, 3957, 1196, 1201), (4795, 4800, 8301, 8306), (229, 234, 9130, 9135), (282, 287, 9141, 9146), (4006, 4011, 1028, 1033), (4057, 4062, 966, 971), (4528, 4533, 551, 556), (4022, 4027, 1130, 1135), (3920, 3925, 853, 858), (4602, 4607, 658, 663), (3973, 3978, 864, 869), (4915, 4920, 2286, 2291), (4849, 4854, 3918, 3923), (3844, 3849, 8563, 8568), (2171, 2176, 4384, 4389), (3968, 3973, 870, 875), (4650, 4655, 675, 680), (3281, 3286, 3323, 3328), (3983, 3988, 1151, 1156), (3592, 3597, 1495, 1500), (1271, 1276, 5416, 5421), (3733, 3738, 3605, 3610), (3984, 3989, 972, 977), (2477, 2482, 3686, 3691), (4863, 4868, 3950, 3955), (4739, 4744, 2194, 2199), (2472, 2477, 3692, 3697), (4858, 4863, 3956, 3961), (4734, 4739, 2200, 2205), (1741, 1746, 9256, 9261), (3694, 3699, 3626, 3631), (3998, 4003, 1004, 1009), (327, 332, 9128, 9133), (4834, 4839, 4659, 4664), (3963, 3968, 1168, 1173), (3993, 3998, 1010, 1015), (4485, 4490, 691, 696), (3958, 3963, 1174, 1179), (4856, 4861, 2324, 2329), (1650, 1655, 9087, 9092), (4795, 4800, 8464, 8469), (4067, 4072, 1117, 1122), (4009, 4014, 1112, 1117), (3960, 3965, 846, 851), (4642, 4647, 651, 656), (4836, 4841, 3900, 3905), (1816, 1821, 465, 470), (3977, 3982, 1200, 1205), (254, 259, 9134, 9139), (3976, 3981, 948, 953), (3971, 3976, 954, 959), (3337, 3342, 9484, 9489), (4553, 4558, 555, 560), (4024, 4029, 965, 970), (4916, 4921, 2300, 2305), (2178, 2183, 4213, 4218), (4779, 4784, 2187, 2192), (5189, 5194, 10164, 10169), (3990, 3995, 980, 985), (4484, 4489, 734, 739), (4093, 4098, 1078, 1083), (3955, 3960, 1144, 1149), (1243, 1248, 5409, 5414), (4008, 4013, 1155, 1160), (3704, 3709, 10543, 10548), (3950, 3955, 1150, 1155), (4003, 4008, 1161, 1166), (4711, 4716, 2187, 2192), (4931, 4936, 4405, 4410), (4737, 4742, 7922, 7927), (4706, 4711, 2193, 2198), (4926, 4931, 4411, 4416), (4055, 4060, 920, 925), (4759, 4764, 2204, 2209), (3970, 3975, 997, 1002), (309, 314, 9809, 9814), (1038, 1043, 3044, 3049), (4023, 4028, 1008, 1013), (4021, 4026, 935, 940), (3965, 3970, 1003, 1008), (294, 299, 9127, 9132), (4074, 4079, 946, 951), (4069, 4074, 952, 957), (260, 265, 9142, 9147), (4034, 4039, 1116, 1121), (4614, 4619, 644, 649), (3927, 3932, 845, 850), (4609, 4614, 650, 655), (3944, 3949, 1199, 1204), (4872, 4877, 4443, 4448), (4001, 4006, 952, 957), (3995, 4000, 1137, 1142), (3996, 4001, 958, 963), (5166, 5171, 10151, 10156), (4628, 4633, 676, 681), (4832, 4837, 4613, 4618), (1895, 1900, 9349, 9354), (4047, 4052, 896, 901), (4804, 4809, 2191, 2196), (3619, 3624, 7400, 7405), (1718, 1723, 3771, 3776), (4887, 4892, 4296, 4301), (4799, 4804, 2197, 2202), (4010, 4015, 990, 995), (4749, 4754, 7745, 7750), (3975, 3980, 1154, 1159), (4061, 4066, 928, 933), (4411, 4416, 8100, 8105), (4903, 4908, 4398, 4403), (1263, 1268, 5419, 5424), (4026, 4031, 1092, 1097), (315, 320, 9817, 9822), (1662, 1667, 9073, 9078), (4854, 4859, 4132, 4137), (4898, 4903, 4404, 4409), (4079, 4084, 1103, 1108), (1644, 1649, 573, 578), (4021, 4026, 1098, 1103), (310, 315, 9823, 9828), (4074, 4079, 1109, 1114), (3936, 3941, 1175, 1180), (4259, 4264, 108, 113), (4866, 4871, 4492, 4497), (3686, 3691, 3629, 3634), (3989, 3994, 1186, 1191), (2430, 2435, 3710, 3715), (3988, 3993, 934, 939), (4035, 4040, 1130, 1135), (232, 237, 9135, 9140), (3349, 3354, 9470, 9475), (285, 290, 9146, 9151), (227, 232, 9141, 9146), (3344, 3349, 9476, 9481), (4443, 4448, 709, 714), (4002, 4007, 966, 971), (4634, 4639, 654, 659), (4496, 4501, 720, 725), (3967, 3972, 1130, 1135), (4438, 4443, 715, 720), (4645, 4650, 1193, 1198), (4020, 4025, 1141, 1146), (3962, 3967, 1136, 1141), (1721, 1726, 3855, 3860), (4071, 4076, 1079, 1084), (4015, 4020, 1147, 1152), (4354, 4359, 613, 618), (3491, 3496, 8317, 8322), (4653, 4658, 680, 685), (2456, 2461, 3671, 3676), (4066, 4071, 1085, 1090), (4405, 4410, 551, 556), (4842, 4847, 3935, 3940), (4718, 4723, 2179, 2184), (4771, 4776, 2190, 2195), (3982, 3987, 983, 988), (1720, 1725, 9241, 9246), (4033, 4038, 921, 926), (3977, 3982, 989, 994), (4737, 4742, 2205, 2210), (4086, 4091, 932, 937), (2470, 2475, 3703, 3708), (4028, 4033, 927, 932), (287, 292, 9810, 9815), (3742, 3747, 341, 346), (4834, 4839, 2488, 2493), (4081, 4086, 938, 943), (4573, 4578, 619, 624), (4046, 4051, 1102, 1107), (3815, 3820, 8524, 8529), (4012, 4017, 1117, 1122), (3956, 3961, 1185, 1190), (4848, 4853, 4772, 4777), (4007, 4012, 1123, 1128), (4839, 4844, 3905, 3910), (4885, 4890, 4250, 4255), (4843, 4848, 4778, 4783), (4747, 4752, 7699, 7704), (4814, 4819, 2505, 2510), (3568, 3573, 10471, 10476), (3316, 3321, 9469, 9474), (4834, 4839, 3911, 3916), (1814, 1819, 476, 481), (4450, 4455, 538, 543), (4020, 4025, 10753, 10758), (3614, 3619, 3649, 3654), (1902, 1907, 9341, 9346), (3974, 3979, 959, 964), (4445, 4450, 544, 549), (3631, 3636, 7386, 7391), (4027, 4032, 970, 975), (4410, 4415, 708, 713), (3969, 3974, 965, 970), (5139, 5144, 10158, 10163), (3585, 3590, 975, 980), (4043, 4048, 1072, 1077), (4073, 4078, 914, 919), (3546, 3551, 3649, 3654), (4915, 4920, 4384, 4389), (4038, 4043, 1078, 1083), (4091, 4096, 1089, 1094), (3948, 3953, 1161, 1166), (1707, 1712, 3880, 3885), (3570, 3575, 986, 991), (4005, 4010, 914, 919), (2389, 2394, 3685, 3690), (3943, 3948, 1167, 1172), (4000, 4005, 920, 925), (3560, 3565, 10447, 10452), (4053, 4058, 931, 936), (2437, 2442, 3702, 3707), (4909, 4914, 2609, 2614), (1115, 1120, 5415, 5420), (3968, 3973, 1008, 1013), (239, 244, 9127, 9132), (4891, 4896, 4258, 4263), (4014, 4019, 952, 957), (4456, 4461, 516, 521), (3322, 3327, 9477, 9482), (3979, 3984, 1116, 1121), (4450, 4455, 701, 706), (1676, 1681, 705, 710), (4907, 4912, 4360, 4365), (3980, 3985, 937, 942), (4832, 4837, 5125, 5130), (4612, 4617, 655, 660), (1733, 1738, 3841, 3846), (4902, 4907, 4366, 4371), (4083, 4088, 1065, 1070), (4027, 4032, 1133, 1138), (3885, 3890, 3709, 3714), (2181, 2186, 4381, 4386), (2468, 2473, 3657, 3662), (4607, 4612, 661, 666), (4827, 4832, 5131, 5136), (4078, 4083, 1071, 1076), (4870, 4875, 4454, 4459), (3993, 3998, 1148, 1153), (2434, 2439, 3672, 3677), (3994, 3999, 969, 974), (5164, 5169, 10162, 10167), (4830, 4835, 4624, 4629), (4916, 4921, 4398, 4403), (4045, 4050, 907, 912), (4481, 4486, 656, 661), (4744, 4749, 7832, 7837), (294, 299, 9802, 9807), (3971, 3976, 1092, 1097), (4901, 4906, 4409, 4414), (2414, 2419, 3689, 3694), (4024, 4029, 1103, 1108), (3972, 3977, 913, 918), (3968, 3973, 1171, 1176), (1660, 1665, 9084, 9089), (4896, 4901, 4415, 4420), (4077, 4082, 1114, 1119), (2409, 2414, 3695, 3700), (4019, 4024, 1109, 1114), (4851, 4856, 3891, 3896), (2460, 2465, 3633, 3638), (4411, 4416, 586, 591), (4846, 4851, 3897, 3902), (1082, 1087, 5414, 5419), (4800, 4805, 6935, 6940), (3294, 3299, 9470, 9475), (3951, 3956, 1109, 1114), (2898, 2903, 3054, 3059), (4422, 4427, 694, 699), (3981, 3986, 951, 956), (3289, 3294, 9476, 9481), (3946, 3951, 1115, 1120), (3342, 3347, 9487, 9492), (3997, 4002, 1053, 1058), (4736, 4741, 7808, 7813), (1174, 1179, 3043, 3048), (4702, 4707, 2158, 2163), (3494, 3499, 8322, 8327), (3960, 3965, 1147, 1152), (4894, 4899, 4206, 4211), (2459, 2464, 3676, 3681), (1719, 1724, 3866, 3871), (4017, 4022, 900, 905), (2401, 2406, 3671, 3676), (4361, 4366, 8257, 8262), (4889, 4894, 4212, 4217), (4505, 4510, 839, 844), (4064, 4069, 1096, 1101), (4012, 4017, 906, 911), (4716, 4721, 2190, 2195), (4065, 4070, 917, 922), (4500, 4505, 845, 850), (4030, 4035, 1081, 1086), (1718, 1723, 9252, 9257), (2415, 2420, 3703, 3708), (3996, 4001, 1096, 1101), (3842, 3847, 629, 634), (4832, 4837, 4751, 4756), (3991, 3996, 1102, 1107), (3946, 3951, 578, 583), (4624, 4629, 641, 646), (4694, 4699, 2134, 2139), (4914, 4919, 4352, 4357), (3566, 3571, 1461, 1466), (3958, 3963, 938, 943), (3952, 3957, 1123, 1128), (4886, 4891, 4182, 4187), (4009, 4014, 876, 881), (3953, 3958, 944, 949), (3481, 3486, 8304, 8309), (4881, 4886, 4188, 4193), (4497, 4502, 815, 820), (4006, 4011, 955, 960), (3559, 3564, 3649, 3654), (3314, 3319, 9480, 9485), (4498, 4503, 636, 641), (4057, 4062, 893, 898), (4863, 4868, 2454, 2459), (4022, 4027, 1057, 1062), (4703, 4708, 2172, 2177), (1710, 1715, 9228, 9233), (4848, 4853, 4024, 4029), (4895, 4900, 4220, 4225), (4597, 4602, 591, 596), (4843, 4848, 4030, 4035), (4409, 4414, 540, 545), (4459, 4464, 657, 662), (3932, 3937, 1140, 1145), (3983, 3988, 1078, 1083), (2051, 2056, 4552, 4557), (2426, 2431, 3675, 3680), (3984, 3989, 899, 904), (3913, 3918, 8603, 8608), (4908, 4913, 4401, 4406), (4037, 4042, 910, 915), (4031, 4036, 1095, 1100), (3908, 3913, 8609, 8614), (2472, 2477, 3619, 3624), (3945, 3950, 920, 925), (2440, 2445, 3707, 3712), (3998, 4003, 931, 936), (2382, 2387, 3702, 3707), (4781, 4786, 7958, 7963), (4834, 4839, 4586, 4591), (3963, 3968, 1095, 1100), (4543, 4548, 623, 628), (4485, 4490, 618, 623), (3785, 3790, 8528, 8533), (4538, 4543, 629, 634), (4009, 4014, 1039, 1044), (3591, 3596, 1465, 1470), (1736, 1741, 3846, 3851), (4853, 4858, 4181, 4186), (4034, 4039, 880, 885), (2418, 2423, 3651, 3656), (4028, 4033, 1065, 1070), (3976, 3981, 875, 880), (3506, 3511, 8308, 8313), (1234, 1239, 3046, 3051), (2471, 2476, 3662, 3667), (1731, 1736, 3852, 3857), (4029, 4034, 886, 891), (2413, 2418, 3657, 3662), (3501, 3506, 8314, 8319), (2466, 2471, 3668, 3673), (2236, 2241, 4145, 4150), (4251, 4256, 8411, 8416), (4569, 4574, 584, 589), (4431, 4436, 650, 655), (3785, 3790, 3885, 3890), (3990, 3995, 907, 912), (4484, 4489, 661, 666), (3955, 3960, 1071, 1076), (2427, 2432, 3689, 3694), (3950, 3955, 10526, 10531), (4008, 4013, 1082, 1087), (4479, 4484, 667, 672), (2393, 2398, 3674, 3679), (4530, 4535, 605, 610), (4003, 4008, 1088, 1093), (4931, 4936, 4332, 4337), (4583, 4588, 616, 621), (4839, 4844, 4743, 4748), (4743, 4748, 7664, 7669), (3578, 3583, 1447, 1452), (4440, 4445, 688, 693), (3970, 3975, 924, 929), (3964, 3969, 1109, 1114), (4652, 4657, 729, 734), (4898, 4903, 4168, 4173), (4021, 4026, 862, 867), (1032, 1037, 5408, 5413), (3965, 3970, 930, 935), (4021, 4026, 4245, 4250), (4893, 4898, 4174, 4179), (1085, 1090, 5419, 5424), (4509, 4514, 801, 806), (2458, 2463, 3644, 3649), (4016, 4021, 868, 873), (1027, 1032, 5414, 5419), (3326, 3331, 9466, 9471), (4972, 4977, 8789, 8794), (4504, 4509, 807, 812), (4034, 4039, 1043, 1048), (3650, 3655, 10502, 10507), (3558, 3563, 1464, 1469), (4420, 4425, 705, 710), (4041, 4046, 4092, 4097), (4471, 4476, 643, 648), (3944, 3949, 1126, 1131), (4001, 4006, 879, 884), (3995, 4000, 1064, 1069), (4489, 4494, 818, 823), (4575, 4580, 592, 597), (3551, 3556, 3652, 3657), (3962, 3967, 900, 905), (4644, 4649, 705, 710), (3809, 3814, 254, 259), (3957, 3962, 906, 911), (4887, 4892, 4223, 4228), (4639, 4644, 711, 716), (4010, 4015, 917, 922), (2394, 2399, 3688, 3693), (3975, 3980, 1081, 1086), (4903, 4908, 4325, 4330), (4555, 4560, 609, 614), (4520, 4525, 7970, 7975), (4026, 4031, 1019, 1024), (1120, 1125, 5418, 5423), (4465, 4470, 692, 697), (4516, 4521, 630, 635), (3989, 3994, 1113, 1118), (3937, 3942, 923, 928), (4865, 4870, 4167, 4172), (4917, 4922, 4357, 4362), (1057, 1062, 5412, 5417), (4040, 4045, 1051, 1056), (3988, 3993, 861, 866), (4692, 4697, 2145, 2150), (4912, 4917, 4363, 4368), (1052, 1057, 5418, 5423), (2425, 2430, 3643, 3648), (4035, 4040, 1057, 1062), (4740, 4745, 7797, 7802), (4002, 4007, 893, 898), (3967, 3972, 1057, 1062), (4490, 4495, 832, 837), (2259, 2264, 4239, 4244), (4547, 4552, 585, 590), (4020, 4025, 1068, 1073), (4491, 4496, 653, 658), (1721, 1726, 3782, 3787), (4890, 4895, 4307, 4312), (4542, 4547, 591, 596), (4015, 4020, 1074, 1079), (4754, 4759, 7829, 7834), (4595, 4600, 602, 607), (4708, 4713, 1418, 1423), (4857, 4862, 4143, 4148), (3982, 3987, 910, 915), (4664, 4669, 715, 720), (2475, 2480, 3624, 3629), (2470, 2475, 3630, 3635), (4522, 4527, 608, 613), (1092, 1097, 5411, 5416), (4488, 4493, 623, 628), (1720, 1725, 3825, 3830), (4734, 4739, 7445, 7450), (4012, 4017, 1044, 1049), (3956, 3961, 1112, 1117), (4065, 4070, 1055, 1060), (2397, 2402, 3636, 3641), (4007, 4012, 1050, 1055), (4843, 4848, 4705, 4710), (3972, 3977, 1214, 1219), (4060, 4065, 1061, 1066), (4741, 4746, 7811, 7816), (3584, 3589, 1482, 1487), (1179, 1184, 3046, 3051), (4904, 4909, 4203, 4208), (2411, 2416, 3668, 3673), (4410, 4415, 635, 640), (3969, 3974, 892, 897), (1694, 1699, 4027, 4032), (4651, 4656, 697, 702), (4668, 4673, 1051, 1056), (4043, 4048, 999, 1004), (4514, 4519, 584, 589), (3987, 3992, 1067, 1072), (1111, 1116, 3046, 3051), (4915, 4920, 4311, 4316), (4567, 4572, 595, 600), (4670, 4675, 723, 728), (333, 338, 9144, 9149), (3948, 3953, 1088, 1093), (4882, 4887, 4147, 4152), (4405, 4410, 8130, 8135), (4877, 4882, 4153, 4158), (4493, 4498, 780, 785), (4837, 4842, 4754, 4759), (4488, 4493, 786, 791), (3576, 3581, 1458, 1463), (4751, 4756, 7962, 7967), (2403, 2408, 3644, 3649), (3984, 3989, 1037, 1042), (4507, 4512, 812, 817), (4014, 4019, 879, 884), (3979, 3984, 1043, 1048), (3385, 3390, 10103, 10108), (4559, 4564, 571, 576), (4554, 4559, 577, 582), (1341, 1346, 5415, 5420), (3946, 3951, 879, 884), (2383, 2388, 3661, 3666), (3941, 3946, 885, 890), (4623, 4628, 690, 695), (3958, 3963, 1239, 1244), (2378, 2383, 3667, 3672), (4916, 4921, 4325, 4330), (3959, 3964, 1060, 1065), (3953, 3958, 1245, 1250), (3918, 3923, 8606, 8611), (3574, 3579, 8015, 8020), (4691, 4696, 2113, 2118), (1078, 1083, 3045, 3050), (4744, 4749, 7759, 7764), (4637, 4642, 722, 727), (4883, 4888, 4161, 4166), (1715, 1720, 3457, 3462), (3382, 3387, 10073, 10078), (4760, 4765, 2226, 2231), (300, 305, 9143, 9148), (4849, 4854, 4146, 4151), (4773, 4778, 5090, 5095), (2414, 2419, 3616, 3621), (3972, 3977, 840, 845), (4495, 4500, 615, 620), (4768, 4773, 5096, 5101), (4389, 4394, 8483, 8488), (4019, 4024, 1036, 1041), (3635, 3640, 10495, 10500), (1949, 1954, 4576, 4581), (4845, 4850, 4003, 4008), (3984, 3989, 1200, 1205), (3991, 3996, 866, 871), (2375, 2380, 3637, 3642), (2428, 2433, 3648, 3653), (3950, 3955, 1215, 1220), (3986, 3991, 872, 877), (4668, 4673, 677, 682), (2423, 2428, 3654, 3659), (3945, 3950, 1221, 1226), (4915, 4920, 3937, 3942), (3910, 3915, 8582, 8587), (4531, 4536, 564, 569), (4055, 4060, 985, 990), (3997, 4002, 980, 985), (4736, 4741, 7735, 7740), (4050, 4055, 991, 996), (1659, 1664, 9054, 9059), (4436, 4441, 653, 658), (1724, 1729, 3787, 3792), (4016, 4021, 1006, 1011), (3960, 3965, 1074, 1079), (1719, 1724, 3793, 3798), (4888, 4893, 4318, 4323), (4417, 4422, 8116, 8121), (4412, 4417, 8122, 8127), (3377, 3382, 3476, 3481), (4732, 4737, 2219, 2224), (4850, 4855, 4160, 4165), (4774, 4779, 5104, 5109), (2415, 2420, 3630, 3635), (272, 277, 9136, 9141), (4031, 4036, 4242, 4247), (3385, 3390, 9729, 9734), (4657, 4662, 732, 737), (3996, 4001, 1023, 1028), (325, 330, 9147, 9152), (3940, 3945, 1091, 1096), (3990, 3995, 1208, 1213), (1037, 1042, 5411, 5416), (267, 272, 9142, 9147), (3991, 3996, 1029, 1034), (4740, 4745, 8472, 8477), (3655, 3660, 10505, 10510), (3958, 3963, 865, 870), (4640, 4645, 670, 675), (2395, 2400, 3647, 3652), (3953, 3958, 871, 876), (4933, 4938, 4305, 4310), (4635, 4640, 676, 681), (4497, 4502, 742, 747), (4841, 4846, 4716, 4721), (3970, 3975, 1225, 1230), (4021, 4026, 1163, 1168), (4022, 4027, 984, 989), (4016, 4021, 1169, 1174), (4848, 4853, 3951, 3956), (4755, 4760, 7924, 7929), (4777, 4782, 2206, 2211), (4279, 4284, 8345, 8350), (4649, 4654, 708, 713), (4843, 4848, 3957, 3962), (3592, 3597, 7415, 7420), (1779, 1784, 9268, 9273), (3983, 3988, 1005, 1010), (312, 317, 9129, 9134), (4861, 4866, 4132, 4137), (3006, 3011, 3130, 3135), (1693, 1698, 3458, 3463), (4001, 4006, 1180, 1185), (4264, 4269, 8356, 8361), (4105, 4110, 1129, 1134), (4875, 4880, 4164, 4169), (4491, 4496, 791, 796), (4100, 4105, 1135, 1140), (3962, 3967, 1201, 1206), (3998, 4003, 858, 863), (2382, 2387, 3629, 3634), (3963, 3968, 1022, 1027), (292, 297, 9146, 9151), (3957, 3962, 1207, 1212), (4072, 4077, 965, 970), (4543, 4548, 550, 555), (3578, 3583, 7977, 7982), (4692, 4697, 1023, 1028), (3991, 3996, 8681, 8686), (3977, 3982, 1054, 1059), (3854, 3859, 8568, 8573), (4853, 4858, 4108, 4113), (4817, 4822, 2199, 2204), (4777, 4782, 5052, 5057), (4028, 4033, 992, 997), (1286, 1291, 5415, 5420), (4660, 4665, 680, 685), (3937, 3942, 1224, 1229), (1091, 1096, 3045, 3050), (4626, 4631, 695, 700), (4727, 4732, 7917, 7922), (3939, 3944, 896, 901), (4722, 4727, 7923, 7928), (4775, 4780, 7934, 7939), (4744, 4749, 2205, 2210), (4484, 4489, 588, 593), (4862, 4867, 4146, 4151), (2427, 2432, 3616, 3621), (1023, 1028, 3045, 3050), (4008, 4013, 1009, 1014), (4880, 4885, 4321, 4326), (4003, 4008, 1015, 1020), (4742, 4747, 7770, 7775), (4106, 4111, 1143, 1148), (3975, 3980, 845, 850), (3917, 3922, 840, 845), (3934, 3939, 1194, 1199), (3970, 3975, 851, 856), (3964, 3969, 1036, 1041), (4652, 4657, 656, 661), (3841, 3846, 8550, 8555), (4766, 4771, 5107, 5112), (2407, 2412, 3633, 3638), (3982, 3987, 1211, 1216), (1326, 1331, 5408, 5413), (4372, 4377, 615, 620), (4613, 4618, 677, 682), (1321, 1326, 5414, 5419), (4794, 4799, 2186, 2191), (4367, 4372, 621, 626), (4666, 4671, 688, 693), (4240, 4245, 8393, 8398), (3943, 3948, 1232, 1237), (4789, 4794, 2192, 2197), (4000, 4005, 985, 990), (4524, 4529, 581, 586), (3995, 4000, 991, 996), (1121, 1126, 3043, 3048), (1253, 1258, 5414, 5419), (4831, 4836, 4646, 4651), (4048, 4053, 1002, 1007), (300, 305, 9818, 9823), (4398, 4403, 576, 581), (2452, 2457, 3620, 3625), (4503, 4508, 777, 782), (3974, 3979, 1187, 1192), (3975, 3980, 1008, 1013), (4766, 4771, 7953, 7958), (3969, 3974, 1193, 1198), (4658, 4663, 664, 669), (4730, 4735, 2230, 2235), (4079, 4084, 957, 962), (4465, 4470, 619, 624), (3989, 3994, 1040, 1045), (3866, 3871, 8554, 8559), (4040, 4045, 978, 983), (4882, 4887, 4448, 4453), (4005, 4010, 1142, 1147), (4035, 4040, 984, 989), (4877, 4882, 4454, 4459), (4832, 4837, 3930, 3935), (1812, 1817, 495, 500), (1709, 1714, 3780, 3785), (4633, 4638, 687, 692), (3972, 3977, 978, 983), (3967, 3972, 984, 989), (4020, 4025, 995, 1000), (4020, 4025, 4378, 4383), (4722, 4727, 2206, 2211), (4890, 4895, 4234, 4239), (3873, 3878, 3577, 3582), (4878, 4883, 2315, 2320), (4796, 4801, 6827, 6832), (310, 315, 9140, 9145), (1649, 1654, 584, 589), (3946, 3951, 1180, 1185), (3982, 3987, 837, 842), (2238, 2243, 4362, 4367), (3941, 3946, 1186, 1191), (1753, 1758, 533, 538), (242, 247, 9140, 9145), (3943, 3948, 858, 863), (4625, 4630, 663, 668), (237, 242, 9146, 9151), (3354, 3359, 9481, 9486), (4889, 4894, 4277, 4282), (4801, 4806, 2178, 2183), (4012, 4017, 971, 976), (3576, 3581, 7988, 7993), (4940, 4945, 4215, 4220), (3833, 3838, 8553, 8558), (4884, 4889, 4283, 4288), (4536, 4541, 567, 572), (1674, 1679, 724, 729), (4007, 4012, 977, 982), (3434, 3439, 1115, 1120), (3972, 3977, 1141, 1146), (4025, 4030, 1152, 1157), (312, 317, 9804, 9809), (4758, 4763, 8092, 8097), (4851, 4856, 4119, 4124), (4076, 4081, 1090, 1095), (2975, 2980, 8656, 8661), (4852, 4857, 3940, 3945), (3991, 3996, 1167, 1172), (3596, 3601, 7404, 7409), (2991, 2996, 3123, 3128), (3986, 3991, 1173, 1178), (4043, 4048, 926, 931), (4747, 4752, 2210, 2215), (2480, 2485, 3708, 3713), (4090, 4095, 1122, 1127), (4038, 4043, 932, 937), (4742, 4747, 2216, 2221), (4085, 4090, 1128, 1133), (4424, 4429, 594, 599), (292, 297, 9821, 9826), (3825, 3830, 8529, 8534), (277, 282, 9139, 9144), (4748, 4753, 8396, 8401), (4022, 4027, 1122, 1127), (4493, 4498, 707, 712), (4837, 4842, 4681, 4686), (4052, 4057, 964, 969), (4762, 4767, 2063, 2068), (4894, 4899, 4434, 4439), (4642, 4647, 1180, 1185), (4017, 4022, 1128, 1133), (3915, 3920, 851, 856), (4849, 4854, 3910, 3915), (4597, 4602, 656, 661), (4853, 4858, 4783, 4788), (3968, 3973, 862, 867), (4844, 4849, 3916, 3921), (1271, 1276, 5408, 5413), (4645, 4650, 673, 678), (3984, 3989, 964, 969), (3979, 3984, 970, 975), (4907, 4912, 4214, 4219), (2472, 2477, 3684, 3689), (4083, 4088, 919, 924), (2467, 2472, 3690, 3695), (4729, 4734, 2198, 2203), (4910, 4915, 3707, 3712), (1066, 1071, 3043, 3048), (3993, 3998, 1002, 1007), (3958, 3963, 1166, 1171), (1650, 1655, 9079, 9084), (4881, 4886, 4416, 4421), (4062, 4067, 1115, 1120), (4714, 4719, 2209, 2214), (4836, 4841, 3892, 3897), (4063, 4068, 936, 941), (4498, 4503, 864, 869), (254, 259, 9126, 9131), (4744, 4749, 7686, 7691), (4637, 4642, 649, 654), (249, 254, 9132, 9137), (4849, 4854, 4073, 4078), (4553, 4558, 547, 552), (4024, 4029, 957, 962), (4916, 4921, 2292, 2297), (3332, 3337, 9482, 9487), (4850, 4855, 3924, 3929), (4779, 4784, 2179, 2184), (5189, 5194, 10156, 10161), (4845, 4850, 3930, 3935), (4093, 4098, 1070, 1075), (4774, 4779, 2185, 2190), (4426, 4431, 721, 726), (4617, 4622, 666, 671), (4088, 4093, 1076, 1081), (3950, 3955, 1142, 1147), (3699, 3704, 10541, 10546), (4931, 4936, 4397, 4402), (3945, 3950, 1148, 1153), (3998, 4003, 1159, 1164), (4706, 4711, 2185, 2190), (4926, 4931, 4403, 4408), (4055, 4060, 912, 917), (3965, 3970, 995, 1000), (4893, 4898, 4239, 4244), (1033, 1038, 3042, 3047), (4016, 4021, 933, 938), (4888, 4893, 4245, 4250), (4069, 4074, 944, 949), (4760, 4765, 8382, 8387), (4034, 4039, 1108, 1113), (3978, 3983, 1176, 1181), (3976, 3981, 1103, 1108), (4064, 4069, 950, 955), (4614, 4619, 636, 641), (3372, 3377, 9475, 9480), (3985, 3990, 842, 847), (4029, 4034, 1114, 1119), (4609, 4614, 642, 647), (4856, 4861, 3902, 3907), (4850, 4855, 4087, 4092), (3939, 3944, 1197, 1202), (3745, 3750, 3583, 3588), (3996, 4001, 950, 955), (3990, 3995, 1135, 1140), (4832, 4837, 4605, 4610), (3740, 3745, 3589, 3594), (3991, 3996, 956, 961), (3299, 3304, 9481, 9486), (3957, 3962, 971, 976), (1718, 1723, 3763, 3768), (4799, 4804, 2189, 2194), (1713, 1718, 3769, 3774), (3975, 3980, 1146, 1151), (4811, 4816, 4801, 4806), (1263, 1268, 5411, 5416), (4651, 4656, 1136, 1141), (3970, 3975, 1152, 1157), (4898, 4903, 4396, 4401), (4079, 4084, 1095, 1100), (4646, 4651, 1142, 1147), (4021, 4026, 1090, 1095), (310, 315, 9815, 9820), (4074, 4079, 1101, 1106), (4828, 4833, 2472, 2477), (2425, 2430, 3708, 3713), (3983, 3988, 932, 937), (4035, 4040, 1122, 1127), (4785, 4790, 5003, 5008), (3789, 3794, 1066, 1071), (4477, 4482, 686, 691), (3344, 3349, 9468, 9473), (4001, 4006, 1107, 1112), (4438, 4443, 707, 712), (4645, 4650, 1185, 1190), (4746, 4751, 8407, 8412), (4368, 4373, 8232, 8237), (3962, 3967, 1128, 1133), (4433, 4438, 713, 718), (1721, 1726, 3847, 3852), (4015, 4020, 1139, 1144), (3963, 3968, 949, 954), (3491, 3496, 8309, 8314), (4363, 4368, 8238, 8243), (3957, 3962, 1134, 1139), (1651, 1656, 9120, 9125), (5133, 5138, 10142, 10147), (2456, 2461, 3663, 3668), (4851, 4856, 4794, 4799), (4066, 4071, 1077, 1082), (4010, 4015, 1145, 1150), (4749, 4754, 7900, 7905), (4067, 4072, 898, 903), (2451, 2456, 3669, 3674), (4502, 4507, 826, 831), (1720, 1725, 9233, 9238), (3977, 3982, 981, 986), (4469, 4474, 662, 667), (4028, 4033, 919, 924), (4834, 4839, 2480, 2485), (4618, 4623, 1135, 1140), (4081, 4086, 930, 935), (2465, 2470, 3701, 3706), (4829, 4834, 2486, 2491), (4046, 4051, 1094, 1099), (4568, 4573, 617, 622), (4698, 4703, 5571, 5576), (3710, 3715, 10570, 10575), (4431, 4436, 504, 509), (2397, 2402, 3701, 3706), (3955, 3960, 925, 930), (4843, 4848, 4770, 4775), (4008, 4013, 936, 941), (4747, 4752, 7691, 7696), (4002, 4007, 1121, 1126), (4838, 4843, 4776, 4781), (3614, 3619, 3641, 3646), (3311, 3316, 9467, 9472), (4829, 4834, 3909, 3914), (4799, 4804, 5198, 5203), (4860, 4865, 2441, 2446), (4015, 4020, 10751, 10756), (3609, 3614, 3647, 3652), (3364, 3369, 9478, 9483), (4548, 4553, 634, 639), (3917, 3922, 767, 772), (3277, 3282, 9482, 9487), (3934, 3939, 1121, 1126), (3964, 3969, 963, 968), (4915, 4920, 4376, 4381), (4038, 4043, 1070, 1075), (3982, 3987, 1138, 1143), (4690, 4695, 2164, 2169), (4910, 4915, 4382, 4387), (4818, 4823, 4793, 4798), (4033, 4038, 1076, 1081), (2476, 2481, 3673, 3678), (4086, 4091, 1087, 1092), (2246, 2251, 4150, 4155), (4877, 4882, 4218, 4223), (4871, 4876, 4403, 4408), (4000, 4005, 912, 917), (4836, 4841, 4567, 4572), (2437, 2442, 3694, 3699), (3995, 4000, 918, 923), (4510, 4515, 7965, 7970), (4489, 4494, 672, 677), (4831, 4836, 4573, 4578), (4540, 4545, 610, 615), (4013, 4018, 1093, 1098), (1110, 1115, 5413, 5418), (4008, 4013, 10548, 10553), (4891, 4896, 4250, 4255), (3979, 3984, 1108, 1113), (4758, 4763, 8393, 8398), (3974, 3979, 1114, 1119), (4027, 4032, 1125, 1130), (3503, 3508, 8295, 8300), (2468, 2473, 3649, 3654), (4827, 4832, 5123, 5128), (4078, 4083, 1063, 1068), (4026, 4031, 873, 878), (4822, 4827, 5129, 5134), (4073, 4078, 1069, 1074), (3302, 3307, 9486, 9491), (3989, 3994, 967, 972), (4040, 4045, 905, 910), (4005, 4010, 1069, 1074), (4744, 4749, 7824, 7829), (3561, 3566, 3657, 3662), (4580, 4585, 603, 608), (3972, 3977, 905, 910), (4495, 4500, 680, 685), (2409, 2414, 3687, 3692), (3967, 3972, 911, 916), (4490, 4495, 686, 691), (1655, 1660, 9082, 9087), (4020, 4025, 922, 927), (4014, 4019, 1107, 1112), (4846, 4851, 3889, 3894), (4841, 4846, 3895, 3900), (1077, 1082, 5412, 5417), (3981, 3986, 943, 948), (4663, 4668, 748, 753), (3289, 3294, 9468, 9473), (3946, 3951, 1107, 1112), (4702, 4707, 2150, 2155), (4045, 4050, 1062, 1067), (4017, 4022, 892, 897), (4361, 4366, 8249, 8254), (4889, 4894, 4204, 4209), (4505, 4510, 831, 836), (4012, 4017, 898, 903), (2396, 2401, 3669, 3674), (4065, 4070, 909, 914), (4500, 4505, 837, 842), (4552, 4557, 596, 601), (2702, 2707, 2971, 2976), (3825, 3830, 267, 272), (1713, 1718, 9250, 9255), (3385, 3390, 9794, 9799), (4605, 4610, 607, 612), (3836, 3841, 806, 811), (3991, 3996, 1094, 1099), (3986, 3991, 1100, 1105), (4914, 4919, 4344, 4349), (4566, 4571, 628, 633), (3566, 3571, 1453, 1458), (2480, 2485, 3635, 3640), (1102, 1107, 5416, 5421), (3953, 3958, 936, 941), (4881, 4886, 4180, 4185), (4006, 4011, 947, 952), (3948, 3953, 942, 947), (4876, 4881, 4186, 4191), (4863, 4868, 2446, 2451), (4022, 4027, 1049, 1054), (3309, 3314, 9478, 9483), (4493, 4498, 634, 639), (4703, 4708, 2164, 2169), (3920, 3925, 772, 777), (4052, 4057, 891, 896), (1725, 1730, 3836, 3841), (3546, 3551, 1470, 1475), (4017, 4022, 1055, 1060), (1705, 1710, 9226, 9231), (4597, 4602, 583, 588), (4843, 4848, 4022, 4027), (3686, 3691, 10525, 10530), (1194, 1199, 3045, 3050), (4772, 4777, 2277, 2282), (3985, 3990, 1143, 1148), (3594, 3599, 1487, 1492), (4927, 4932, 2565, 2570), (2426, 2431, 3667, 3672), (3984, 3989, 891, 896), (4908, 4913, 4393, 4398), (2421, 2426, 3673, 3678), (4031, 4036, 1087, 1092), (3979, 3984, 897, 902), (3908, 3913, 8601, 8606), (4661, 4666, 702, 707), (4032, 4037, 908, 913), (3903, 3908, 8607, 8612), (3945, 3950, 912, 917), (4804, 4809, 2484, 2489), (4834, 4839, 4578, 4583), (3963, 3968, 1087, 1092), (3993, 3998, 929, 934), (4829, 4834, 4584, 4589), (3958, 3963, 1093, 1098), (1717, 1722, 3812, 3817), (4538, 4543, 621, 626), (4591, 4596, 632, 637), (3591, 3596, 1457, 1462), (3586, 3591, 1463, 1468), (4853, 4858, 4173, 4178), (4870, 4875, 2275, 2280), (4848, 4853, 4179, 4184), (4029, 4034, 878, 883), (2413, 2418, 3649, 3654), (3501, 3506, 8306, 8311), (3383, 3388, 9748, 9753), (4655, 4660, 751, 756), (1229, 1234, 3044, 3049), (1726, 1731, 3850, 3855), (3281, 3286, 9471, 9476), (2880, 2885, 9127, 9132), (4024, 4029, 884, 889), (2408, 2413, 3655, 3660), (2461, 2466, 3666, 3671), (2231, 2236, 4143, 4148), (4569, 4574, 576, 581), (1161, 1166, 3044, 3049), (4800, 4805, 6716, 6721), (3889, 3894, 3826, 3831), (4530, 4535, 597, 602), (4003, 4008, 1080, 1085), (3951, 3956, 890, 895), (3880, 3885, 8594, 8599), (4474, 4479, 665, 670), (4583, 4588, 608, 613), (4875, 4880, 4392, 4397), (4839, 4844, 4735, 4740), (4803, 4808, 8461, 8466), (3998, 4003, 1086, 1091), (4578, 4583, 614, 619), (4652, 4657, 721, 726), (4023, 4028, 927, 932), (3965, 3970, 922, 927), (4647, 4652, 727, 732), (4893, 4898, 4166, 4171), (4016, 4021, 860, 865), (4888, 4893, 4172, 4177), (2453, 2458, 3642, 3647), (4504, 4509, 799, 804), (4034, 4039, 1035, 1040), (3321, 3326, 9464, 9469), (4906, 4911, 4347, 4352), (4558, 4563, 631, 636), (3558, 3563, 1456, 1461), (3645, 3650, 10500, 10505), (4471, 4476, 635, 640), (4415, 4420, 703, 708), (4001, 4006, 871, 876), (4128, 4133, 7062, 7067), (2385, 2390, 3642, 3647), (3384, 3389, 9762, 9767), (4466, 4471, 641, 646), (3939, 3944, 1124, 1129), (4489, 4494, 810, 815), (4048, 4053, 1067, 1072), (3996, 4001, 877, 882), (3990, 3995, 1062, 1067), (4484, 4489, 816, 821), (3955, 3960, 1226, 1231), (4849, 4854, 4886, 4891), (4909, 4914, 3439, 3444), (3957, 3962, 898, 903), (4639, 4644, 703, 708), (2394, 2399, 3680, 3685), (3952, 3957, 904, 909), (3975, 3980, 1073, 1078), (4903, 4908, 4317, 4322), (4815, 4820, 2218, 2223), (4555, 4560, 601, 606), (3970, 3975, 1079, 1084), (4898, 4903, 4323, 4328), (4550, 4555, 607, 612), (4515, 4520, 7968, 7973), (4021, 4026, 1017, 1022), (1120, 1125, 5410, 5415), (3937, 3942, 915, 920), (4865, 4870, 4159, 4164), (3840, 3845, 10781, 10786), (3988, 3993, 853, 858), (4511, 4516, 628, 633), (3249, 3254, 10313, 10318), (4860, 4865, 4165, 4170), (1052, 1057, 5410, 5415), (2425, 2430, 3635, 3640), (4035, 4040, 1049, 1054), (3983, 3988, 859, 864), (4913, 4918, 4176, 4181), (2478, 2483, 3646, 3651), (4036, 4041, 870, 875), (1047, 1052, 5416, 5421), (4001, 4006, 1034, 1039), (4740, 4745, 7789, 7794), (3370, 3375, 1167, 1172), (3967, 3972, 1049, 1054), (4491, 4496, 645, 650), (3962, 3967, 1055, 1060), (4542, 4547, 583, 588), (4015, 4020, 1066, 1071), (3892, 3897, 8580, 8585), (4749, 4754, 7827, 7832), (3920, 3925, 24, 29), (2419, 2424, 3684, 3689), (3977, 3982, 908, 913), (4659, 4664, 713, 718), (4522, 4527, 600, 605), (4864, 4869, 4501, 4506), (2465, 2470, 3628, 3633), (322, 327, 9134, 9139), (1087, 1092, 5409, 5414), (1703, 1708, 3463, 3468), (3956, 3961, 1104, 1109), (2397, 2402, 3628, 3633), (3955, 3960, 852, 857), (4879, 4884, 4354, 4359), (3972, 3977, 1206, 1211), (4008, 4013, 863, 868), (1019, 1024, 5409, 5414), (4002, 4007, 1048, 1053), (4741, 4746, 7803, 7808), (2070, 2075, 4522, 4527), (3584, 3589, 1474, 1479), (4838, 4843, 4703, 4708), (3967, 3972, 1212, 1217), (4759, 4764, 7978, 7983), (1927, 1932, 4594, 4599), (3631, 3636, 7305, 7310), (3969, 3974, 884, 889), (1694, 1699, 4019, 4024), (4915, 4920, 4303, 4308), (4038, 4043, 997, 1002), (1106, 1111, 3044, 3049), (4910, 4915, 4309, 4314), (4782, 4787, 5063, 5068), (4562, 4567, 593, 598), (3943, 3948, 1086, 1091), (4631, 4636, 706, 711), (4877, 4882, 4145, 4150), (4493, 4498, 772, 777), (4857, 4862, 2338, 2343), (4751, 4756, 7954, 7959), (4540, 4545, 537, 542), (4746, 4751, 7960, 7965), (3721, 3726, 4002, 4007), (4768, 4773, 2242, 2247), (3979, 3984, 1035, 1040), (3385, 3390, 10095, 10100), (4559, 4564, 563, 568), (4503, 4508, 631, 636), (3974, 3979, 1041, 1046), (3380, 3385, 10101, 10106), (4554, 4559, 569, 574), (4027, 4032, 1052, 1057), (3735, 3740, 4034, 4039), (1204, 1209, 3042, 3047), (1336, 1341, 5413, 5418), (1278, 1283, 5408, 5413), (3941, 3946, 877, 882), (4623, 4628, 682, 687), (1331, 1336, 5419, 5424), (3994, 3999, 888, 893), (2378, 2383, 3659, 3664), (4377, 4382, 626, 631), (4916, 4921, 4317, 4322), (4618, 4623, 688, 693), (2056, 2061, 4547, 4552), (3953, 3958, 1237, 1242), (3989, 3994, 894, 899), (3574, 3579, 8007, 8012), (4691, 4696, 2105, 2110), (3954, 3959, 1058, 1063), (2252, 2257, 4085, 4090), (4882, 4887, 4302, 4307), (4534, 4539, 586, 591), (4005, 4010, 996, 1001), (3569, 3574, 8013, 8018), (4744, 4749, 7751, 7756), (1073, 1078, 3043, 3048), (4739, 4744, 7757, 7762), (3915, 3920, 10528, 10533), (4761, 4766, 2039, 2044), (4755, 4760, 2224, 2229), (3972, 3977, 832, 837), (1727, 1732, 3809, 3814), (295, 300, 9141, 9146), (4768, 4773, 5088, 5093), (4019, 4024, 1028, 1033), (3967, 3972, 838, 843), (4490, 4495, 613, 618), (3984, 3989, 1192, 1197), (4384, 4389, 8481, 8486), (4740, 4745, 2235, 2240), (4898, 4903, 3575, 3580), (4039, 4044, 875, 880), (3945, 3950, 1213, 1218), (3981, 3986, 870, 875), (1692, 1697, 9210, 9215), (4786, 4791, 2179, 2184), (4736, 4741, 7727, 7732), (4050, 4055, 983, 988), (4805, 4810, 2205, 2210), (1303, 1308, 5412, 5417), (3759, 3764, 3786, 3791), (3960, 3965, 1066, 1071), (3961, 3966, 887, 892), (4643, 4648, 692, 697), (1714, 1719, 3791, 3796), (4883, 4888, 4316, 4321), (3976, 3981, 1168, 1173), (4412, 4417, 8114, 8119), (4500, 4505, 764, 769), (3372, 3377, 3474, 3479), (1687, 1692, 3442, 3447), (4856, 4861, 3967, 3972), (4732, 4737, 2211, 2216), (4850, 4855, 4152, 4157), (272, 277, 9128, 9133), (3385, 3390, 9721, 9726), (4657, 4662, 724, 729), (4727, 4732, 2217, 2222), (325, 330, 9139, 9144), (267, 272, 9134, 9139), (3991, 3996, 1021, 1026), (320, 325, 9145, 9150), (4571, 4576, 549, 554), (4515, 4520, 617, 622), (3986, 3991, 1027, 1032), (3951, 3956, 1191, 1196), (4967, 4972, 4282, 4287), (3958, 3963, 857, 862), (4640, 4645, 662, 667), (3953, 3958, 863, 868), (4635, 4640, 668, 673), (4108, 4113, 1151, 1156), (2390, 2395, 3645, 3650), (3877, 3882, 8573, 8578), (3965, 3970, 1223, 1228), (4811, 4816, 2183, 2188), (4022, 4027, 976, 981), (4016, 4021, 1161, 1166), (4914, 4919, 2311, 2316), (4546, 4551, 572, 577), (4777, 4782, 2198, 2203), (4761, 4766, 1665, 1670), (4843, 4848, 3949, 3954), (4896, 4901, 3960, 3965), (4772, 4777, 2204, 2209), (1051, 1056, 3044, 3049), (1774, 1779, 9266, 9271), (3006, 3011, 3122, 3127), (307, 312, 9127, 9132), (4908, 4913, 4320, 4325), (4001, 4006, 1172, 1177), (3384, 3389, 10063, 10068), (3001, 3006, 3128, 3133), (3996, 4001, 1178, 1183), (4105, 4110, 1121, 1126), (4100, 4105, 1127, 1132), (2382, 2387, 3621, 3626), (4741, 4746, 8478, 8483), (4870, 4875, 4162, 4167), (3963, 3968, 1014, 1019), (3957, 3962, 1199, 1204), (3993, 3998, 856, 861), (4543, 4548, 542, 547), (4692, 4697, 1015, 1020), (3952, 3957, 1205, 1210), (4886, 4891, 4264, 4269), (4067, 4072, 963, 968), (4538, 4543, 548, 553), (4011, 4016, 1031, 1036), (4748, 4753, 7713, 7718), (3032, 3037, 3083, 3088), (4395, 4400, 620, 625), (4652, 4657, 1185, 1190), (3925, 3930, 856, 861), (3986, 3991, 8679, 8684), (4853, 4858, 4100, 4105), (4817, 4822, 2191, 2196), (4848, 4853, 4106, 4111), (4812, 4817, 2197, 2202), (3937, 3942, 1216, 1221), (1281, 1286, 5413, 5418), (3988, 3993, 1154, 1159), (5221, 5226, 2028, 2033), (1276, 1281, 5419, 5424), (4867, 4872, 4132, 4137), (4775, 4780, 7926, 7931), (4744, 4749, 2197, 2202), (4093, 4098, 924, 929), (2477, 2482, 3695, 3700), (4862, 4867, 4138, 4143), (4008, 4013, 1001, 1006), (3515, 3520, 1068, 1073), (3699, 3704, 3629, 3634), (1018, 1023, 3043, 3048), (4003, 4008, 1007, 1012), (332, 337, 9131, 9136), (4737, 4742, 7768, 7773), (3917, 3922, 832, 837), (4072, 4077, 1120, 1125), (3964, 3969, 1028, 1033), (4652, 4657, 648, 653), (2407, 2412, 3625, 3630), (3965, 3970, 849, 854), (4647, 4652, 654, 659), (2402, 2407, 3631, 3636), (259, 264, 9137, 9142), (3977, 3982, 1209, 1214), (4896, 4901, 3586, 3591), (4789, 4794, 2184, 2189), (4471, 4476, 562, 567), (4784, 4789, 2190, 2195), (4466, 4471, 568, 573), (1248, 1253, 5412, 5417), (3955, 3960, 1153, 1158), (4008, 4013, 1164, 1169), (4711, 4716, 2196, 2201), (4764, 4769, 2207, 2212), (3975, 3980, 1000, 1005), (4026, 4031, 938, 943), (4079, 4084, 949, 954), (4550, 4555, 534, 539), (4074, 4079, 955, 960), (4619, 4624, 647, 652), (4040, 4045, 970, 975), (2374, 2379, 3624, 3629), (4877, 4882, 4446, 4451), (4000, 4005, 1140, 1145), (1346, 1351, 5410, 5415), (4740, 4745, 7716, 7721), (4827, 4832, 3928, 3933), (4443, 4448, 555, 560), (4387, 4392, 623, 628), (2008, 2013, 3408, 3413), (4628, 4633, 685, 690), (3967, 3972, 976, 981), (1664, 1669, 565, 570), (3711, 3716, 3615, 3620), (1723, 1728, 3774, 3779), (4015, 4020, 993, 998), (4943, 4948, 4237, 4242), (4066, 4071, 931, 936), (1719, 1724, 9266, 9271), (4857, 4862, 4062, 4067), (1649, 1654, 576, 581), (1644, 1649, 582, 587), (3941, 3946, 1178, 1183), (3977, 3982, 835, 840), (3558, 3563, 10458, 10463), (2435, 2440, 3713, 3718), (4522, 4527, 527, 532), (4625, 4630, 655, 660), (237, 242, 9138, 9143), (4883, 4888, 4454, 4459), (4746, 4751, 7724, 7729), (4076, 4081, 1082, 1087), (2975, 2980, 8648, 8653), (3847, 3852, 8577, 8582), (307, 312, 9802, 9807), (3986, 3991, 1165, 1170), (3796, 3801, 1041, 1046), (2480, 2485, 3700, 3705), (4090, 4095, 1114, 1119), (4864, 4869, 3891, 3896), (1153, 1158, 5419, 5424), (4748, 4753, 8388, 8393), (3820, 3825, 8527, 8532), (4493, 4498, 699, 704), (4052, 4057, 956, 961), (4894, 4899, 4426, 4431), (3873, 3878, 8538, 8543), (4017, 4022, 1120, 1125), (4844, 4849, 3908, 3913), (4007, 4012, 10581, 10586), (3592, 3597, 1479, 1484), (3287, 3292, 9487, 9492), (4858, 4863, 3940, 3945), (1736, 1741, 9246, 9251), (1784, 1789, 9263, 9268), (4714, 4719, 2201, 2206), (3565, 3570, 10450, 10455), (4883, 4888, 7463, 7468), (4553, 4558, 539, 544), (4024, 4029, 949, 954), (4460, 4465, 698, 703), (5189, 5194, 10148, 10153), (4973, 4978, 8803, 8808), (4774, 4779, 2177, 2182), (4753, 4758, 7716, 7721), (4421, 4426, 719, 724), (3951, 3956, 955, 960), (3474, 3479, 8321, 8326), (4055, 4060, 904, 909), (3372, 3377, 9467, 9472), (4556, 4561, 623, 628), (2380, 2385, 3713, 3718), (3990, 3995, 1127, 1132), (4832, 4837, 4597, 4602), (3299, 3304, 9473, 9478), (4755, 4760, 7843, 7848), (4665, 4670, 729, 734), (4001, 4006, 1099, 1104), (4349, 4354, 603, 608), (4749, 4754, 7892, 7897), (4502, 4507, 818, 823), (4062, 4067, 896, 901), (4766, 4771, 2180, 2185), (4834, 4839, 2472, 2477), (4046, 4051, 1086, 1091), (2201, 2206, 4155, 4160), (1659, 1664, 573, 578), (3955, 3960, 917, 922), (1643, 1648, 9088, 9093), (4537, 4542, 518, 523), (1675, 1680, 675, 680), (4008, 4013, 928, 933), (4787, 4792, 4830, 4835), (4002, 4007, 1113, 1118), (4838, 4843, 4768, 4773), (3821, 3826, 297, 302), (4509, 4514, 647, 652), (4910, 4915, 4374, 4379), (4033, 4038, 1068, 1073), (4860, 4865, 3856, 3861), (2241, 2246, 4148, 4153), (3604, 3609, 7320, 7325), (3472, 3477, 8332, 8337), (2437, 2442, 3686, 3691), (4704, 4709, 5571, 5576), (4540, 4545, 602, 607), (4593, 4598, 613, 618), (2468, 2473, 3641, 3646), (4078, 4083, 1055, 1060), (4822, 4827, 5121, 5126), (4040, 4045, 897, 902), (4005, 4010, 1061, 1066), (4724, 4729, 2198, 2203), (4846, 4851, 3881, 3886), (4758, 4763, 1782, 1787), (4663, 4668, 740, 745), (4398, 4403, 8147, 8152), (4697, 4702, 2148, 2153), (4889, 4894, 4196, 4201), (4012, 4017, 890, 895), (5192, 5197, 8519, 8524), (4605, 4610, 599, 604), (1170, 1175, 5408, 5413), (4914, 4919, 4336, 4341), (2054, 2059, 4566, 4571), (4039, 4044, 1103, 1108), (4669, 4674, 718, 723), (1102, 1107, 5408, 5413), (4876, 4881, 4178, 4183), (4493, 4498, 626, 631), (4980, 4985, 7510, 7515), (4772, 4777, 2269, 2274), (4927, 4932, 2557, 2562), (3495, 3500, 7889, 7894), (1189, 1194, 3043, 3048), (1739, 1744, 3860, 3865), (2421, 2426, 3665, 3670), (3384, 3389, 10128, 10133), (4902, 4907, 4139, 4144), (4485, 4490, 602, 607), (3958, 3963, 1085, 1090), (1717, 1722, 3804, 3809), (4670, 4675, 732, 737), (4009, 4014, 1023, 1028), (3586, 3591, 1455, 1460), (1731, 1736, 3836, 3841), (4848, 4853, 4171, 4176), (3496, 3501, 8304, 8309), (4569, 4574, 568, 573), (4428, 4433, 713, 718), (1156, 1161, 3042, 3047), (4197, 4202, 4321, 4326), (2669, 2674, 3125, 3130), (4388, 4393, 482, 487), (4647, 4652, 719, 724), (2402, 2407, 3696, 3701), (3925, 3930, 10533, 10538), (2453, 2458, 3634, 3639), (4504, 4509, 791, 796), (3640, 3645, 10498, 10503), (4466, 4471, 633, 638), (3996, 4001, 869, 874), (2622, 2627, 9589, 9594), (4396, 4401, 8158, 8163), (3990, 3995, 1054, 1059), (3867, 3872, 8568, 8573), (4484, 4489, 808, 813), (3955, 3960, 1218, 1223), (4446, 4451, 650, 655), (4798, 4803, 5239, 5244), (4815, 4820, 2210, 2215), (4898, 4903, 4315, 4320), (4773, 4778, 7945, 7950), (2425, 2430, 3627, 3632), (3835, 3840, 10779, 10784), (1047, 1052, 5408, 5413), (4890, 4895, 4291, 4296), (1134, 1139, 3043, 3048), (5206, 5211, 2029, 2034), (4522, 4527, 592, 597), (322, 327, 9126, 9131), (1703, 1708, 3455, 3460), (3969, 3974, 876, 881), (4405, 4410, 625, 630), (1689, 1694, 4017, 4022), (4782, 4787, 5055, 5060), (1291, 1296, 5418, 5423), (1101, 1106, 3042, 3047), (4631, 4636, 698, 703), (4940, 4945, 4435, 4440), (4746, 4751, 7952, 7957), (3721, 3726, 3994, 3999), (4768, 4773, 2234, 2239), (1020, 1025, 5415, 5420), (3385, 3390, 10087, 10092), (4503, 4508, 623, 628), (4554, 4559, 561, 566), (4027, 4032, 1044, 1049), (3551, 3556, 1465, 1470), (4864, 4869, 4119, 4124), (4865, 4870, 3940, 3945), (3574, 3579, 7999, 8004), (4882, 4887, 4294, 4299), (4534, 4539, 578, 583), (4884, 4889, 3966, 3971), (1727, 1732, 3801, 3806), (295, 300, 9133, 9138), (3727, 3732, 4002, 4007), (4740, 4745, 2227, 2232), (4320, 4325, 328, 333), (3997, 4002, 964, 969), (4050, 4055, 975, 980), (4800, 4805, 2203, 2208), (4883, 4888, 4308, 4313), (4412, 4417, 8106, 8111), (4755, 4760, 8445, 8450), (4500, 4505, 756, 761), (4701, 4706, 988, 993), (3825, 3830, 3569, 3574), (267, 272, 9126, 9131), (3935, 3940, 10530, 10535), (4967, 4972, 4274, 4279), (4635, 4640, 660, 665), (2390, 2395, 3637, 3642), (3877, 3882, 8565, 8570), (4350, 4355, 625, 630), (1774, 1779, 9258, 9263), (1046, 1051, 3042, 3047), (3996, 4001, 1170, 1175), (4047, 4052, 1108, 1113), (4100, 4105, 1119, 1124), (4886, 4891, 4256, 4261), (3849, 3854, 8558, 8563), (3937, 3942, 1208, 1213), (3738, 3743, 3600, 3605), (4770, 4775, 7924, 7929), (4088, 4093, 922, 927), (4799, 4804, 5255, 5260), (1713, 1718, 3452, 3457), (4644, 4649, 1153, 1158), (3900, 3905, 3853, 3858), (4406, 4411, 584, 589), (4647, 4652, 646, 651), (2402, 2407, 3623, 3628), (4833, 4838, 4703, 4708), (4747, 4752, 7911, 7916), (2463, 2468, 3712, 3717), (4545, 4550, 532, 537), (4619, 4624, 639, 644), (4000, 4005, 1132, 1137), (4740, 4745, 7708, 7713), (3854, 3859, 3535, 3540), (2003, 2008, 3406, 3411), (4890, 4895, 4218, 4223), (4015, 4020, 985, 990), (3723, 3728, 3967, 3972), (3465, 3470, 8357, 8362), (3354, 3359, 9465, 9470), (4007, 4012, 961, 966), (3972, 3977, 1125, 1130), (3791, 3796, 1039, 1044), (4909, 4914, 4407, 4412), (4038, 4043, 916, 921), (4488, 4493, 697, 702), (1653, 1658, 9093, 9098), (3619, 3624, 3644, 3649), (4794, 4799, 6765, 6770), (2181, 2186, 4219, 4224), (1712, 1717, 3875, 3880), (4744, 4749, 7670, 7675), (3864, 3869, 10509, 10514), (302, 307, 9127, 9132), (4460, 4465, 690, 695), (3327, 3332, 9472, 9477), (3984, 3989, 1111, 1116), (3037, 3042, 3078, 3083), (3945, 3950, 1132, 1137), (4921, 4926, 4393, 4398), (4050, 4055, 902, 907), (4856, 4861, 2463, 2468), (3960, 3965, 985, 990), (3976, 3981, 1087, 1092), (3367, 3372, 9465, 9470), (3938, 3943, 929, 934), (4827, 4832, 4595, 4600), (4441, 4446, 721, 726), (4022, 4027, 895, 900), (4510, 4515, 834, 839), (4523, 4528, 614, 619), (4576, 4581, 625, 630), (3334, 3339, 9464, 9469), (3957, 3962, 1118, 1123), (2451, 2456, 3653, 3658), (4413, 4418, 714, 719), (5033, 5038, 10221, 10226), (3382, 3387, 9773, 9778), (4464, 4469, 652, 657), (3937, 3942, 1135, 1140), (3988, 3993, 1073, 1078), (4511, 4516, 848, 853), (4568, 4573, 601, 606), (1638, 1643, 9086, 9091), (4532, 4537, 516, 521), (1065, 1070, 5410, 5415), (4439, 4444, 675, 680), (4548, 4553, 618, 623), (3905, 3910, 8580, 8585), (3437, 3442, 8488, 8493), (4833, 4838, 4630, 4635), (3919, 3924, 8612, 8617), (3975, 3980, 919, 924), (1728, 1733, 3823, 3828), (2463, 2468, 3639, 3644), (4877, 4882, 4365, 4370), (4580, 4585, 587, 592), (4560, 4565, 604, 609), (2619, 2624, 9576, 9581), (3759, 3764, 10609, 10614), (5289, 5294, 2028, 2033), (3317, 3322, 9486, 9491), (3972, 3977, 1052, 1057), (3711, 3716, 314, 319), (4858, 4863, 2436, 2441), (4661, 4666, 686, 691), (4881, 4886, 4327, 4332), (4498, 4503, 775, 780), (4449, 4454, 509, 514), (3581, 3586, 1453, 1458), (2408, 2413, 3639, 3644), (3681, 3686, 3912, 3917), (3983, 3988, 1217, 1222), (4564, 4569, 566, 571), (4421, 4426, 638, 643), (3963, 3968, 1234, 1239), (3579, 3584, 8010, 8015), (3920, 3925, 10531, 10536), (3976, 3981, 1014, 1019), (2999, 3004, 3139, 3144), (4080, 4085, 963, 968), (4850, 4855, 3998, 4003), (1553, 1558, 4227, 4232), (2986, 2991, 3121, 3126), (3985, 3990, 916, 921), (1650, 1655, 590, 595), (1703, 1708, 3984, 3989), (3963, 3968, 860, 865), (3975, 3980, 1220, 1225), (4479, 4484, 8458, 8463), (4853, 4858, 3946, 3951), (4782, 4787, 2201, 2206), (4895, 4900, 4148, 4153), (4568, 4573, 528, 533), (4512, 4517, 596, 601), (4838, 4843, 4687, 4692), (4548, 4553, 545, 550), (2624, 2629, 9579, 9584), (4770, 4775, 5818, 5823), (4400, 4405, 623, 628), (4658, 4663, 1039, 1044), (2621, 2626, 9549, 9554), (1766, 1771, 525, 530), (4073, 4078, 980, 985), (4618, 4623, 672, 677), (3797, 3802, 3636, 3641), (3074, 3079, 3049, 3054), (3979, 3984, 1182, 1187), (4898, 4903, 3559, 3564), (4735, 4740, 2225, 2230), (4857, 4862, 3908, 3913), (2398, 2403, 3653, 3658), (4746, 4751, 7570, 7575), (4282, 4287, 8351, 8356), (3951, 3956, 1175, 1180), (4017, 4022, 966, 971), (3581, 3586, 7983, 7988), (4751, 4756, 7727, 7732), (4856, 4861, 4114, 4119), (3860, 3865, 3560, 3565), (1769, 1774, 9256, 9261), (4836, 4841, 2307, 2312), (4920, 4925, 4233, 4238), (4528, 4533, 544, 549), (3365, 3370, 9484, 9489), (3920, 3925, 846, 851), (4819, 4824, 4799, 4804), (3733, 3738, 3598, 3603), (2477, 2482, 3679, 3684), (1741, 1746, 9249, 9254), (3963, 3968, 1161, 1166), (3045, 3050, 5401, 5406), (4067, 4072, 1110, 1115), (4362, 4367, 603, 608), (3337, 3342, 9477, 9482), (4978, 4983, 8806, 8811), (2102, 2107, 3591, 3596), (4711, 4716, 2180, 2185), (4023, 4028, 1001, 1006), (5023, 5028, 8793, 8798), (4001, 4006, 945, 950), (3851, 3856, 8548, 8553), (4047, 4052, 889, 894), (4903, 4908, 4391, 4396), (1662, 1667, 9066, 9071), (4866, 4871, 4485, 4490), (3553, 3558, 10448, 10453), (2430, 2435, 3703, 3708), (4761, 4766, 2324, 2329), (3828, 3833, 8535, 8540), (4443, 4448, 702, 707), (3967, 3972, 1123, 1128), (1224, 1229, 3042, 3047), (287, 292, 9803, 9808), (1663, 1668, 4138, 4143), (3631, 3636, 7379, 7384), (4882, 4887, 4213, 4218), (1707, 1712, 3873, 3878), (4005, 4010, 907, 912), (3477, 3482, 8335, 8340), (4493, 4498, 846, 851), (1115, 1120, 5408, 5413), (4907, 4912, 4353, 4358), (4083, 4088, 1058, 1063), (5274, 5279, 2029, 2034), (3410, 3415, 3543, 3548), (4920, 4925, 2574, 2579), (2414, 2419, 3682, 3687), (1559, 1564, 5238, 5243), (4914, 4919, 4182, 4187), (3951, 3956, 1102, 1107), (4531, 4536, 630, 635), (3579, 3584, 1472, 1477), (1169, 1174, 3042, 3047), (4894, 4899, 4199, 4204), (5241, 5246, 2028, 2033), (4832, 4837, 4744, 4749), (3941, 3946, 577, 582), (3958, 3963, 931, 936), (4009, 4014, 869, 874), (4889, 4894, 3668, 3673), (4848, 4853, 4017, 4022), (3818, 3823, 3879, 3884), (3417, 3422, 3535, 3540), (3913, 3918, 8596, 8601), (4543, 4548, 616, 621), (2418, 2423, 3644, 3649), (4028, 4033, 1058, 1063), (3990, 3995, 900, 905), (4008, 4013, 1075, 1080), (4898, 4903, 4161, 4166), (4575, 4580, 585, 590), (3962, 3967, 893, 898), (4644, 4649, 698, 703), (4109, 4114, 1157, 1162), (4547, 4552, 578, 583), (1139, 1144, 3046, 3051), (4669, 4674, 702, 707), (1708, 1713, 3458, 3463), (1720, 1725, 3818, 3823), (4043, 4048, 992, 997), (4744, 4749, 7589, 7594), (3630, 3635, 882, 887), (1341, 1346, 5408, 5413), (3946, 3951, 872, 877), (3958, 3963, 1232, 1237), (4889, 4894, 3969, 3974), (4849, 4854, 4139, 4144), (2994, 2999, 3137, 3142), (2375, 2380, 3630, 3635), (4531, 4536, 557, 562), (4055, 4060, 978, 983), (1084, 1089, 3046, 3051), (3996, 4001, 1016, 1021), (3990, 3995, 1201, 1206), (4740, 4745, 8465, 8470), (4497, 4502, 735, 740), (4360, 4365, 622, 627), (4919, 4924, 2306, 2311), (1779, 1784, 9261, 9266), (4740, 4745, 7928, 7933), (3962, 3967, 1194, 1199), (4028, 4033, 985, 990), (1286, 1291, 5408, 5413), (3704, 3709, 3624, 3629), (3934, 3939, 1187, 1192), (3841, 3846, 8543, 8548), (4240, 4245, 8386, 8391), (1116, 1121, 3042, 3047), (4560, 4565, 523, 528), (4902, 4907, 4424, 4429), (4417, 4422, 595, 600), (4760, 4765, 7700, 7705), (4033, 4038, 10754, 10759), (3269, 3274, 3322, 3327), (4756, 4761, 1647, 1652), (3462, 3467, 8336, 8341), (3641, 3646, 7384, 7389), (3956, 3961, 8684, 8689), (4029, 4034, 944, 949), (4845, 4850, 3923, 3928), (3699, 3704, 10534, 10539), (4692, 4697, 1317, 1322), (4614, 4619, 629, 634), (4850, 4855, 4080, 4085), (3745, 3750, 3576, 3581), (3802, 3807, 1077, 1082), (3957, 3962, 964, 969), (4754, 4759, 8424, 8429), (3867, 3872, 616, 621), (4413, 4418, 560, 565), (4368, 4373, 8225, 8230), (4066, 4071, 1070, 1075), (3742, 3747, 326, 331), (4827, 4832, 5116, 5121), (4744, 4749, 7817, 7822), (4739, 4744, 7823, 7828), (3661, 3666, 10514, 10519), (4114, 4119, 1168, 1173), (3945, 3950, 905, 910), (2382, 2387, 3687, 3692), (3780, 3785, 8519, 8524), (4034, 4039, 4248, 4253), (3281, 3286, 9464, 9469), (3988, 3993, 1220, 1225), (4027, 4032, 370, 375), (4803, 4808, 8454, 8459), (3930, 3935, 10528, 10533), (4471, 4476, 628, 633), (4415, 4420, 696, 701), (2272, 2277, 4242, 4247), (3965, 3970, 10527, 10532), (4427, 4432, 8114, 8119), (4760, 4765, 7765, 7770), (4838, 4843, 4696, 4701), (4663, 4668, 1042, 1047), (4857, 4862, 2331, 2336), (4761, 4766, 8098, 8103), (4915, 4920, 2499, 2504), (3910, 3915, 10527, 10532), (4495, 4500, 600, 605), (3842, 3847, 10527, 10532), (4898, 4903, 3568, 3573), (3945, 3950, 1206, 1211), (4805, 4810, 2198, 2203), (3976, 3981, 1161, 1166), (1783, 1788, 514, 519), (4016, 4021, 1154, 1159), (1304, 1309, 5419, 5424), (4843, 4848, 3942, 3947), (4772, 4777, 2197, 2202), (1236, 1241, 5419, 5424), (3001, 3006, 3121, 3126), (3957, 3962, 1192, 1197), (3370, 3375, 9487, 9492), (4848, 4853, 4099, 4104), (4812, 4817, 2190, 2195), (1632, 1637, 8615, 8620), (4087, 4092, 1102, 1107), (4888, 4893, 2132, 2137), (4555, 4560, 521, 526), (3822, 3827, 3760, 3765), (4073, 4078, 1127, 1132), (4387, 4392, 616, 621), (4943, 4948, 4230, 4235), (3585, 3590, 7417, 7422), (4522, 4527, 520, 525), (4620, 4625, 654, 659), (4864, 4869, 2461, 2466), (4741, 4746, 7723, 7728), (1745, 1750, 3877, 3882), (3981, 3986, 1164, 1169), (4085, 4090, 1113, 1118), (3502, 3507, 8321, 8326), (3585, 3590, 3660, 3665), (2467, 2472, 3675, 3680), (3282, 3287, 9486, 9491), (4019, 4024, 948, 953), (4973, 4978, 8796, 8801), (4421, 4426, 712, 717), (3694, 3699, 10532, 10537), (4485, 4490, 831, 836), (2453, 2458, 3700, 3705), (3922, 3927, 828, 833), (2375, 2380, 3712, 3717), (3299, 3304, 9466, 9471), (3347, 3352, 9483, 9488), (3804, 3809, 310, 315), (3952, 3957, 962, 967), (3965, 3970, 1143, 1148), (2406, 2411, 3667, 3672), (4016, 4021, 1081, 1086), (4069, 4074, 1092, 1097), (4408, 4413, 558, 563), (4721, 4726, 2186, 2191), (2420, 2425, 3699, 3704), (3951, 3956, 574, 579), (4433, 4438, 698, 703), (3571, 3576, 1457, 1462), (2201, 2206, 4148, 4153), (1675, 1680, 668, 673), (3950, 3955, 916, 921), (4838, 4843, 4761, 4766), (4003, 4008, 927, 932), (4905, 4910, 4373, 4378), (4081, 4086, 1078, 1083), (3995, 4000, 903, 908), (2432, 2437, 3685, 3690), (4535, 4540, 601, 606), (4588, 4593, 612, 617), (4753, 4758, 8384, 8389), (3969, 3974, 1105, 1110), (4026, 4031, 4241, 4246), (4073, 4078, 1054, 1059), (3597, 3602, 1475, 1480), (4425, 4430, 701, 706), (3292, 3297, 9483, 9488), (4476, 4481, 639, 644), (4035, 4040, 896, 901), (4000, 4005, 1060, 1065), (4836, 4841, 4715, 4720), (3524, 3529, 1481, 1486), (4734, 4739, 7821, 7826), (2264, 2269, 4072, 4077), (4658, 4663, 739, 744), (4470, 4475, 688, 693), (4521, 4526, 626, 631), (4830, 4835, 4764, 4769), (3956, 3961, 951, 956), (4007, 4012, 889, 894), (4495, 4500, 828, 833), (3380, 3385, 9785, 9790), (4846, 4851, 4037, 4042), (4909, 4914, 4335, 4340), (3997, 4002, 1193, 1198), (4876, 4881, 4171, 4176), (3304, 3309, 9469, 9474), (4541, 4546, 636, 641), (1184, 1189, 3042, 3047), (1734, 1739, 3859, 3864), (2416, 2421, 3664, 3669), (3953, 3958, 1084, 1089), (1712, 1717, 3803, 3808), (4767, 4772, 5114, 5119), (4019, 4024, 875, 880), (4241, 4246, 8400, 8405), (4875, 4880, 4377, 4382), (4834, 4839, 4726, 4731), (4798, 4803, 8452, 8457), (3960, 3965, 913, 918), (4642, 4647, 718, 723), (4888, 4893, 4157, 4162), (2448, 2453, 3633, 3638), (305, 310, 9139, 9144), (1070, 1075, 5414, 5419), (3862, 3867, 8567, 8572), (3855, 3860, 3558, 3563), (4810, 4815, 2209, 2214), (4545, 4550, 598, 603), (2420, 2425, 3626, 3631), (2473, 2478, 3637, 3642), (4523, 4528, 542, 547), (4576, 4581, 553, 558), (4486, 4491, 636, 641), (4010, 4015, 1057, 1062), (1129, 1134, 3042, 3047), (5201, 5206, 2028, 2033), (4654, 4659, 704, 709), (4517, 4522, 591, 596), (3988, 3993, 1001, 1006), (4879, 4884, 4339, 4344), (1721, 1726, 539, 544), (4890, 4895, 4447, 4452), (4754, 4759, 7969, 7974), (3964, 3969, 875, 880), (4646, 4651, 680, 685), (3982, 3987, 1050, 1055), (4782, 4787, 5048, 5053), (1291, 1296, 5411, 5416), (3944, 3949, 892, 897), (4097, 4102, 1107, 1112), (4104, 4109, 4156, 4161), (250, 255, 9139, 9144), (4763, 4768, 2233, 2238), (3380, 3385, 10086, 10091), (3585, 3590, 10491, 10496), (4549, 4554, 560, 565), (2373, 2378, 3650, 3655), (3948, 3953, 1228, 1233), (4755, 4760, 2209, 2214), (305, 310, 9814, 9819), (1722, 1727, 3800, 3805), (2984, 2989, 3133, 3138), (4045, 4050, 974, 979), (1714, 1719, 3776, 3781), (3971, 3976, 1159, 1164), (4495, 4500, 755, 760), (2460, 2465, 3700, 3705), (4515, 4520, 602, 607), (315, 320, 9136, 9141), (3948, 3953, 854, 859), (4630, 4635, 659, 664), (3960, 3965, 1214, 1219), (4838, 4843, 3940, 3945), (4767, 4772, 2195, 2200), (2980, 2985, 8652, 8657), (3938, 3943, 1158, 1163), (4095, 4100, 1118, 1123), (3932, 3937, 1207, 1212), (3998, 4003, 998, 1003), (4834, 4839, 4653, 4658), (4406, 4411, 577, 582), (4642, 4647, 645, 650), (3828, 3833, 4104, 4109), (3976, 3981, 942, 947), (3990, 3995, 974, 979), (1296, 1301, 5414, 5419), (4054, 4059, 1093, 1098), (3970, 3975, 991, 996), (3964, 3969, 1176, 1181), (2458, 2463, 3711, 3716), (4619, 4624, 632, 637), (3944, 3949, 1193, 1198), (3995, 4000, 1131, 1136), (3854, 3859, 3528, 3533), (3412, 3417, 3533, 3538), (4804, 4809, 2185, 2190), (3619, 3624, 7394, 7399), (1998, 2003, 3405, 3410), (4749, 4754, 7739, 7744), (4061, 4066, 922, 927), (4026, 4031, 1086, 1091), (315, 320, 9811, 9816), (4760, 4765, 7847, 7852), (3936, 3941, 1169, 1174), (3349, 3354, 9464, 9469), (4002, 4007, 960, 965), (4020, 4025, 1135, 1140), (3584, 3589, 8152, 8157), (3918, 3923, 858, 863), (3982, 3987, 977, 982), (4033, 4038, 915, 920), (2470, 2475, 3697, 3702), (4889, 4894, 4417, 4422), (4065, 4070, 1122, 1127), (4905, 4910, 3690, 3695), (3702, 3707, 10548, 10553), (3570, 3575, 980, 985), (2389, 2394, 3679, 3684), (3322, 3327, 9471, 9476), (4870, 4875, 4448, 4453), (5164, 5169, 10156, 10161), (4045, 4050, 901, 906), (3971, 3976, 1086, 1091), (1660, 1665, 9078, 9083), (4599, 4604, 631, 636), (3294, 3299, 9464, 9469), (4736, 4741, 7802, 7807), (4510, 4515, 827, 832), (2446, 2451, 3652, 3657), (3932, 3937, 1134, 1139), (3983, 3988, 1072, 1077), (3506, 3511, 8302, 8307), (3900, 3905, 8579, 8584), (3955, 3960, 1065, 1070), (3803, 3808, 3653, 3658), (4393, 4398, 486, 491), (3970, 3975, 918, 923), (2458, 2463, 3638, 3643), (3989, 3994, 1107, 1112), (3460, 3465, 1517, 1522), (4692, 4697, 2139, 2144), (4020, 4025, 1062, 1067), (4857, 4862, 4137, 4142), (4871, 4876, 4169, 4174), (4519, 4524, 572, 577), (2403, 2408, 3638, 3643), (1025, 1030, 5419, 5424), (4668, 4673, 671, 676), (4016, 4021, 1000, 1005), (4825, 4830, 5437, 5442), (4021, 4026, 1157, 1162), (4848, 4853, 3945, 3950), (4512, 4517, 589, 594), (288, 293, 9826, 9831), (3977, 3982, 1048, 1053), (4484, 4489, 582, 587), (4832, 4837, 2338, 2343), (4766, 4771, 5101, 5106), (1741, 1746, 541, 546), (230, 235, 9148, 9153), (4613, 4618, 671, 676), (4794, 4799, 2180, 2185), (1253, 1258, 5408, 5413), (3974, 3979, 1181, 1186), (4730, 4735, 2224, 2229), (4882, 4887, 4442, 4447), (4005, 4010, 1136, 1141), (4832, 4837, 3924, 3929), (1709, 1714, 3774, 3779), (3972, 3977, 972, 977), (4076, 4081, 921, 926), (4735, 4740, 8447, 8452), (3946, 3951, 1174, 1179), (242, 247, 9134, 9139), (4889, 4894, 4271, 4276), (4012, 4017, 965, 970), (4851, 4856, 4113, 4118), (3991, 3996, 1161, 1166), (4043, 4048, 920, 925), (4022, 4027, 1116, 1121), (4602, 4607, 644, 649), (3360, 3365, 9483, 9488), (3915, 3920, 845, 850), (4849, 4854, 3904, 3909), (3984, 3989, 958, 963), (2472, 2477, 3678, 3683), (4832, 4837, 4973, 4978), (4067, 4072, 1103, 1108), (3332, 3337, 9476, 9481), (3950, 3955, 1136, 1141), (4844, 4849, 4796, 4801), (3479, 3484, 8317, 8322), (4706, 4711, 2179, 2184), (1810, 1815, 500, 505), (3965, 3970, 989, 994), (3930, 3935, 1153, 1158), (4016, 4021, 927, 932), (4034, 4039, 1102, 1107), (4860, 4865, 4069, 4074), (3996, 4001, 944, 949), (2425, 2430, 3702, 3707), (4756, 4761, 2323, 2328), (4438, 4443, 701, 706), (4746, 4751, 8401, 8406), (3962, 3967, 1122, 1127), (1721, 1726, 3841, 3846), (4015, 4020, 1133, 1138), (2456, 2461, 3657, 3662), (4851, 4856, 4788, 4793), (4469, 4474, 656, 661), (4028, 4033, 913, 918), (4081, 4086, 924, 929), (2397, 2402, 3695, 3700), (4843, 4848, 4764, 4769), (3277, 3282, 9476, 9481), (4915, 4920, 4370, 4375), (4038, 4043, 1064, 1069), (4690, 4695, 2158, 2163), (4877, 4882, 4212, 4217), (4000, 4005, 906, 911), (4836, 4841, 4561, 4566), (2598, 2603, 3390, 3395), (3982, 3987, 3978, 3983), (3972, 3977, 899, 904), (2409, 2414, 3681, 3686), (4865, 4870, 2055, 2060), (3695, 3700, 351, 356), (4526, 4531, 629, 634), (3574, 3579, 1471, 1476), (4035, 4040, 368, 373), (4017, 4022, 886, 891), (4832, 4837, 4737, 4742), (3991, 3996, 1088, 1093), (3953, 3958, 930, 935), (4022, 4027, 1043, 1048), (4843, 4848, 4016, 4021), (2426, 2431, 3661, 3666), (3984, 3989, 885, 890), (4384, 4389, 8174, 8179), (4908, 4913, 4387, 4392), (3908, 3913, 8595, 8600), (3963, 3968, 1081, 1086), (4538, 4543, 615, 620), (3591, 3596, 1451, 1456), (4853, 4858, 4167, 4172), (2413, 2418, 3643, 3648), (4820, 4825, 5134, 5139), (4530, 4535, 591, 596), (4003, 4008, 1074, 1079), (3880, 3885, 8588, 8593), (4839, 4844, 4729, 4734), (4652, 4657, 715, 720), (4893, 4898, 4160, 4165), (4001, 4006, 865, 870), (2385, 2390, 3636, 3641), (4489, 4494, 804, 809), (3957, 3962, 892, 897), (4639, 4644, 697, 702), (3975, 3980, 1067, 1072), (4903, 4908, 4311, 4316), (3937, 3942, 909, 914), (4865, 4870, 4153, 4158), (3988, 3993, 847, 852), (4740, 4745, 7783, 7788), (3967, 3972, 1043, 1048), (4542, 4547, 577, 582), (3946, 3951, 1239, 1244), (1708, 1713, 3451, 3456), (3956, 3961, 1098, 1103), (3972, 3977, 1200, 1205), (3584, 3589, 1468, 1473), (4846, 4851, 4184, 4189), (4038, 4043, 991, 996), (1912, 1917, 4599, 4604), (255, 260, 9142, 9147), (3979, 3984, 1029, 1034), (3946, 3951, 865, 870), (4623, 4628, 676, 681), (3953, 3958, 1231, 1236), (4881, 4886, 4475, 4480), (4760, 4765, 2212, 2217), (4896, 4901, 4328, 4333), (4019, 4024, 1022, 1027), (2989, 2994, 3136, 3141), (4088, 4093, 1135, 1140), (280, 285, 9146, 9151), (4736, 4741, 7721, 7726), (4856, 4861, 3961, 3966), (4732, 4737, 2205, 2210), (4832, 4837, 4664, 4669), (3991, 3996, 1015, 1020), (4640, 4645, 656, 661), (4022, 4027, 970, 975), (2176, 2181, 4218, 4223), (4235, 4240, 4245, 4250), (4001, 4006, 1166, 1171), (4735, 4740, 7927, 7932), (3963, 3968, 1008, 1013), (4697, 4702, 1003, 1008), (4067, 4072, 957, 962), (4766, 4771, 2247, 2252), (3925, 3930, 850, 855), (3988, 3993, 1148, 1153), (4072, 4077, 1114, 1119), (3934, 3939, 1180, 1185), (2407, 2412, 3619, 3624), (4026, 4031, 932, 937), (4079, 4084, 943, 948), (1900, 1905, 9346, 9351), (3941, 3946, 1172, 1177), (3558, 3563, 10452, 10457), (2435, 2440, 3707, 3712), (237, 242, 9132, 9137), (4884, 4889, 4269, 4274), (4448, 4453, 706, 711), (1674, 1679, 710, 715), (4605, 4610, 666, 671), (4076, 4081, 1076, 1081), (3600, 3605, 1497, 1502), (4894, 4899, 4420, 4425), (4017, 4022, 1114, 1119), (4844, 4849, 3902, 3907), (3979, 3984, 956, 961), (1246, 1251, 5417, 5422), (3951, 3956, 949, 954), (3998, 4003, 1145, 1150), (4055, 4060, 898, 903), (4825, 4830, 3933, 3938), (4701, 4706, 2177, 2182), (4029, 4034, 1100, 1105), (1695, 1700, 9215, 9220), (4477, 4482, 672, 677), (4001, 4006, 1093, 1098), (4502, 4507, 812, 817), (4033, 4038, 1062, 1067), (4489, 4494, 658, 663), (2468, 2473, 3635, 3640), (1090, 1095, 5416, 5421), (3967, 3972, 897, 902), (4552, 4557, 582, 587), (4493, 4498, 620, 625), (4017, 4022, 1041, 1046), (4111, 4116, 7068, 7073), (4410, 4415, 8127, 8132), (3925, 3930, 10527, 10532), (3939, 3944, 1110, 1115), (3996, 4001, 863, 868), (2380, 2385, 3634, 3639), (3955, 3960, 1212, 1217), (4414, 4419, 8089, 8094), (3967, 3972, 1198, 1203), (4631, 4636, 692, 697), (4377, 4382, 612, 617), (4882, 4887, 4288, 4293), (4005, 4010, 982, 987), (4740, 4745, 2221, 2226), (4640, 4645, 1185, 1190), (4727, 4732, 2203, 2208), (1658, 1663, 4137, 4142), (3536, 3541, 7461, 7466), (3996, 4001, 1164, 1169), (3738, 3743, 3594, 3599), (3955, 3960, 1139, 1144), (4827, 4832, 2491, 2496), (4740, 4745, 7702, 7707), (3607, 3612, 3652, 3657), (3972, 3977, 1119, 1124), (4043, 4048, 1067, 1072), (3984, 3989, 1105, 1110), (3946, 3951, 947, 952), (3307, 3312, 9483, 9488), (1703, 1708, 9231, 9236), (4827, 4832, 4589, 4594), (4022, 4027, 889, 894), (4472, 4477, 670, 675), (3996, 4001, 1091, 1096), (4886, 4891, 4177, 4182), (3382, 3387, 9767, 9772), (3937, 3942, 1129, 1134), (1199, 1204, 3042, 3047), (4548, 4553, 612, 617), (4034, 4039, 875, 880), (4877, 4882, 4359, 4364), (4560, 4565, 598, 603), (3972, 3977, 1046, 1051), (4076, 4081, 995, 1000), (1144, 1149, 3042, 3047), (5216, 5221, 2028, 2033), (4498, 4503, 769, 774), (3984, 3989, 1032, 1037), (2388, 2393, 3650, 3655), (3963, 3968, 1228, 1233), (3382, 3387, 10068, 10073), (3950, 3955, 1210, 1215), (3963, 3968, 854, 859), (4782, 4787, 2195, 2200), (4548, 4553, 539, 544), (4072, 4077, 960, 965), (4751, 4756, 7721, 7726), (4889, 4894, 3963, 3968)]\n",
      "3214\n"
     ]
    }
   ],
   "source": [
    "clusters_5x5 = filter_and_form_clusters(coords_to_recompute, neighborx=5, neighbory=5)\n",
    "print(clusters_5x5)\n",
    "print(len(clusters_5x5))"
   ]
  },
  {
   "cell_type": "code",
   "execution_count": 27,
   "metadata": {},
   "outputs": [
    {
     "name": "stdout",
     "output_type": "stream",
     "text": [
      "[(4412, 4414, 9756, 9758), (3347, 3349, 6399, 6401), (4419, 4421, 9772, 9774), (336, 338, 9092, 9094), (1113, 1115, 5751, 5753), (3313, 3315, 6414, 6416), (3288, 3290, 8047, 8049), (1108, 1110, 5757, 5759), (1944, 1946, 9412, 9414), (4907, 4909, 7775, 7777), (1951, 1953, 9428, 9430), (5183, 5185, 9521, 9523), (4496, 4498, 9722, 9724), (4450, 4452, 9727, 9729), (3344, 3346, 6369, 6371), (4462, 4464, 9737, 9739), (3247, 3249, 6436, 6438), (3339, 3341, 6375, 6377), (4457, 4459, 9743, 9745), (3370, 3372, 6330, 6332), (5008, 5010, 8421, 8423), (5104, 5106, 8883, 8885), (1921, 1923, 9399, 9401), (4405, 4407, 9821, 9823), (1080, 1082, 5750, 5752), (3280, 3282, 6413, 6415), (1994, 1996, 7783, 7785), (1989, 1991, 7789, 7791), (4747, 4749, 8780, 8782), (1923, 1925, 9421, 9423), (5084, 5086, 8550, 8552), (1930, 1932, 9437, 9439), (235, 237, 9067, 9069), (4429, 4431, 9736, 9738), (3214, 3216, 6435, 6437), (4482, 4484, 9747, 9749), (3318, 3320, 6384, 6386), (4436, 4438, 9752, 9754), (3313, 3315, 6390, 6392), (1961, 1963, 9392, 9394), (1968, 1970, 9408, 9410), (4394, 4396, 5688, 5690), (4729, 4731, 2352, 2354), (5100, 5102, 2830, 2832), (1961, 1963, 7782, 7784), (1767, 1769, 10168, 10170), (3351, 3353, 6361, 6363), (5188, 5190, 8662, 8664), (3254, 3256, 6428, 6430), (1871, 1873, 10117, 10119), (5062, 5064, 8307, 8309), (4449, 4451, 9746, 9748), (5122, 5124, 8334, 8336), (322, 324, 9117, 9119), (3292, 3294, 6399, 6401), (1099, 1101, 5752, 5754), (1904, 1906, 10094, 10096), (1935, 1937, 9407, 9409), (1911, 1913, 10110, 10112), (4854, 4856, 7848, 7850), (1165, 1167, 7795, 7797), (3330, 3332, 6370, 6372), (3233, 3235, 6437, 6439), (1845, 1847, 10132, 10134), (4405, 4407, 8455, 8457), (3102, 3104, 9471, 9473), (3114, 3116, 9481, 9483), (3266, 3268, 6438, 6440), (4888, 4890, 3862, 3864), (5077, 5079, 2980, 2982), (4949, 4951, 10150, 10152), (1025, 1027, 5750, 5752), (3363, 3365, 6347, 6349), (1205, 1207, 7788, 7790), (1883, 1885, 10103, 10105), (5194, 5196, 9930, 9932), (5163, 5165, 8365, 8367), (4829, 4831, 9243, 9245), (4405, 4407, 5690, 5692), (1885, 1887, 10125, 10127), (1132, 1134, 7794, 7796), (4415, 4417, 9737, 9739), (1861, 1863, 7795, 7797), (3350, 3352, 6380, 6382), (4985, 4987, 7796, 7798), (3081, 3083, 9480, 9482), (3358, 3360, 8068, 8070), (3353, 3355, 8074, 8076), (3365, 3367, 8084, 8086), (5073, 5075, 8285, 8287), (3294, 3296, 6339, 6341), (3335, 3337, 6340, 6342), (1911, 1913, 7776, 7778), (3204, 3206, 6422, 6424), (1906, 1908, 7782, 7784), (1816, 1818, 10117, 10119), (1951, 1953, 9379, 9381), (5157, 5159, 8251, 8253), (5060, 5062, 8318, 8320), (4807, 4809, 675, 677), (1693, 1695, 7353, 7355), (1049, 1051, 5746, 5748), (4405, 4407, 5666, 5668), (1878, 1880, 7775, 7777), (3321, 3323, 6365, 6367), (5034, 5036, 494, 496), (3093, 3095, 9466, 9468), (4744, 4746, 9133, 9135), (3105, 3107, 9476, 9478), (3100, 3102, 9482, 9484), (5059, 5061, 634, 636), (4857, 4859, 9144, 9146), (5026, 5028, 470, 472), (1196, 1198, 7783, 7785), (840, 842, 9060, 9062), (3359, 3361, 8109, 8111), (1943, 1945, 9382, 9384), (1970, 1972, 7795, 7797), (4762, 4764, 8747, 8749), (1769, 1771, 10141, 10143), (1764, 1766, 10147, 10149), (3125, 3127, 9486, 9488), (3356, 3358, 8079, 8081), (3351, 3353, 8085, 8087), (3280, 3282, 6340, 6342), (4898, 4900, 10031, 10033), (1897, 1899, 7777, 7779), (5184, 5186, 9462, 9464), (5181, 5183, 8410, 8412), (5191, 5193, 9852, 9854), (4935, 4937, 9108, 9110), (331, 333, 9106, 9108), (4969, 4971, 3400, 3402), (1855, 1857, 10129, 10131), (1783, 1785, 7782, 7784), (4865, 4867, 8257, 8259), (1937, 1939, 7794, 7796), (4964, 4966, 7862, 7864), (5161, 5163, 8376, 8378), (5052, 5054, 512, 514), (1840, 1842, 10089, 10091), (1743, 1745, 10156, 10158), (5071, 5073, 8459, 8461), (1893, 1895, 10100, 10102), (1835, 1837, 10095, 10097), (1738, 1740, 10162, 10164), (5194, 5196, 9963, 9965), (1847, 1849, 10105, 10107), (4800, 4802, 9285, 9287), (5130, 5132, 8234, 8236), (4872, 4874, 10046, 10048), (4854, 4856, 7962, 7964), (303, 305, 9099, 9101), (306, 308, 6364, 6366), (298, 300, 9105, 9107), (1919, 1921, 10061, 10063), (3275, 3277, 6427, 6429), (1885, 1887, 10076, 10078), (1880, 1882, 10082, 10084), (3091, 3093, 9477, 9479), (3363, 3365, 8071, 8073), (336, 338, 9076, 9078), (5163, 5165, 9284, 9286), (271, 273, 6341, 6343), (5183, 5185, 9505, 9507), (5123, 5125, 8299, 8301), (273, 275, 6363, 6365), (323, 325, 9109, 9111), (5136, 5138, 1714, 1716), (277, 279, 9114, 9116), (5165, 5167, 9143, 9145), (4405, 4407, 6422, 6424), (5035, 5037, 10201, 10203), (4405, 4407, 9805, 9807), (5319, 5321, 5422, 5424), (5123, 5125, 1696, 1698), (4827, 4829, 772, 774), (1734, 1736, 10151, 10153), (4813, 4815, 9978, 9980), (5182, 5184, 8505, 8507), (4766, 4768, 6725, 6727), (1809, 1811, 7776, 7778), (241, 243, 9083, 9085), (5083, 5085, 7721, 7723), (4488, 4490, 9763, 9765), (289, 291, 9100, 9102), (5143, 5145, 8122, 8124), (5160, 5162, 9230, 9232), (1876, 1878, 10071, 10073), (5105, 5107, 7964, 7966), (5194, 5196, 9483, 9485), (327, 329, 9071, 9073), (5137, 5139, 1728, 1730), (1788, 1790, 7785, 7787), (5193, 5195, 9876, 9878), (5190, 5192, 9578, 9580), (1172, 1174, 7795, 7797), (4462, 4464, 9778, 9780), (1843, 1845, 10070, 10072), (3338, 3340, 8069, 8071), (3280, 3282, 8064, 8066), (4749, 4751, 8225, 8227), (3162, 3164, 9482, 9484), (4793, 4795, 576, 578), (260, 262, 9085, 9087), (1693, 1695, 7361, 7363), (5192, 5194, 9868, 9870), (4507, 4509, 9765, 9767), (3318, 3320, 8035, 8037), (4405, 4407, 5674, 5676), (3371, 3373, 8046, 8048), (1139, 1141, 7794, 7796), (293, 295, 9062, 9064), (4845, 4847, 7345, 7347), (227, 229, 9084, 9086), (4474, 4476, 9764, 9766), (4914, 4916, 10036, 10038), (1122, 1124, 5748, 5750), (3363, 3365, 6412, 6414), (1809, 1811, 10061, 10063), (3304, 3306, 8060, 8062), (5190, 5192, 9822, 9824), (265, 267, 9055, 9057), (5312, 5314, 8472, 8474), (4976, 4978, 7344, 7346), (1947, 1949, 9458, 9460), (310, 312, 9042, 9044), (1089, 1091, 5747, 5749), (5079, 5081, 8491, 8493), (5125, 5127, 1669, 1671), (5131, 5133, 8250, 8252), (4887, 4889, 3678, 3680), (1693, 1695, 7418, 7420), (1705, 1707, 7778, 7780), (277, 279, 9041, 9043), (3360, 3362, 6358, 6360), (4478, 4480, 9726, 9728), (1977, 1979, 7795, 7797), (1882, 1884, 10136, 10138), (4882, 4884, 7977, 7979), (4412, 4414, 9748, 9750), (4419, 4421, 9764, 9766), (1949, 1951, 9398, 9400), (1108, 1110, 5749, 5751), (1951, 1953, 9420, 9422), (4450, 4452, 9719, 9721), (3230, 3232, 6424, 6426), (4872, 4874, 7452, 7454), (4747, 4749, 5471, 5473), (4882, 4884, 10018, 10020), (5094, 5096, 8561, 8563), (4886, 4888, 10086, 10088), (1994, 1996, 7775, 7777), (5165, 5167, 8346, 8348), (1087, 1089, 5758, 5760), (1989, 1991, 7781, 7783), (1923, 1925, 9413, 9415), (1930, 1932, 9429, 9431), (5178, 5180, 8527, 8529), (4429, 4431, 9728, 9730), (1901, 1903, 10138, 10140), (3313, 3315, 6382, 6384), (1968, 1970, 9400, 9402), (5076, 5078, 8063, 8065), (1181, 1183, 7784, 7786), (3351, 3353, 6353, 6355), (4968, 4970, 3403, 3405), (5150, 5152, 9301, 9303), (1968, 1970, 7790, 7792), (5086, 5088, 375, 377), (4824, 4826, 9265, 9267), (3285, 3287, 6375, 6377), (3338, 3340, 6386, 6388), (3292, 3294, 6391, 6393), (1935, 1937, 9399, 9401), (4700, 4702, 2112, 2114), (5130, 5132, 1696, 1698), (3339, 3341, 8034, 8036), (1781, 1783, 7777, 7779), (4885, 4887, 10105, 10107), (5161, 5163, 9222, 9224), (4436, 4438, 9720, 9722), (3330, 3332, 6362, 6364), (3162, 3164, 9490, 9492), (248, 250, 9083, 9085), (3363, 3365, 6339, 6341), (1205, 1207, 7780, 7782), (4495, 4497, 9763, 9765), (1885, 1887, 10117, 10119), (1861, 1863, 7787, 7789), (286, 288, 9054, 9056), (4429, 4431, 9785, 9787), (329, 331, 9101, 9103), (3304, 3306, 6377, 6379), (1713, 1715, 10144, 10146), (336, 338, 9117, 9119), (3300, 3302, 8082, 8084), (3081, 3083, 9472, 9474), (3076, 3078, 9478, 9480), (5162, 5164, 8319, 8321), (1968, 1970, 9457, 9459), (4394, 4396, 5737, 5739), (5123, 5125, 8340, 8342), (3342, 3344, 6348, 6350), (1184, 1186, 7789, 7791), (5106, 5108, 10214, 10216), (1179, 1181, 7795, 7797), (1707, 1709, 10166, 10168), (4742, 4744, 7843, 7845), (3292, 3294, 8058, 8060), (301, 303, 9094, 9096), (3121, 3123, 9465, 9467), (4793, 4795, 560, 562), (1693, 1695, 7345, 7347), (5363, 5365, 5412, 5414), (4502, 4504, 9779, 9781), (1883, 1885, 10071, 10073), (5317, 5319, 5417, 5419), (1837, 1839, 10076, 10078), (4509, 4511, 9795, 9797), (5122, 5124, 1512, 1514), (3055, 3057, 9487, 9489), (3332, 3334, 8075, 8077), (3327, 3329, 8081, 8083), (1151, 1153, 7788, 7790), (5034, 5036, 486, 488), (1880, 1882, 7789, 7791), (3358, 3360, 8036, 8038), (5131, 5133, 8258, 8260), (3365, 3367, 8052, 8054), (1807, 1809, 7795, 7797), (239, 241, 9078, 9080), (241, 243, 9124, 9126), (5026, 5028, 462, 464), (5157, 5159, 9024, 9026), (1196, 1198, 7775, 7777), (5083, 5085, 7762, 7764), (3190, 3192, 7781, 7783), (1816, 1818, 10085, 10087), (3345, 3347, 8069, 8071), (3299, 3301, 8074, 8076), (1726, 1728, 10168, 10170), (323, 325, 9044, 9046), (1852, 1854, 7782, 7784), (5023, 5025, 8353, 8355), (267, 269, 9085, 9087), (5324, 5326, 8466, 8468), (279, 281, 9095, 9097), (5319, 5321, 8472, 8474), (281, 283, 9117, 9119), (1861, 1863, 10072, 10074), (3344, 3346, 8061, 8063), (3079, 3081, 9483, 9485), (305, 307, 9056, 9058), (4458, 4460, 9751, 9753), (317, 319, 9066, 9068), (5063, 5065, 7996, 7998), (312, 314, 9072, 9074), (5189, 5191, 9798, 9800), (5369, 5371, 8453, 8455), (1170, 1172, 7790, 7792), (1698, 1700, 10161, 10163), (5369, 5371, 5420, 5422), (1718, 1720, 7780, 7782), (5079, 5081, 8475, 8477), (1987, 1989, 9459, 9461), (1906, 1908, 10059, 10061), (1809, 1811, 10126, 10128), (246, 248, 9094, 9096), (5089, 5091, 7957, 7959), (4493, 4495, 9774, 9776), (253, 255, 9110, 9112), (1828, 1830, 10071, 10073), (4500, 4502, 9790, 9792), (5117, 5119, 8446, 8448), (3214, 3216, 7777, 7779), (3311, 3313, 8060, 8062), (4398, 4400, 5699, 5701), (226, 228, 9111, 9113), (1738, 1740, 10154, 10156), (5194, 5196, 9955, 9957), (4405, 4407, 5715, 5717), (5182, 5184, 8790, 8792), (1808, 1810, 10088, 10090), (5336, 5338, 8452, 8454), (5336, 5338, 5419, 5421), (5343, 5345, 8468, 8470), (3349, 3351, 8031, 8033), (1873, 1875, 10058, 10060), (1745, 1747, 7779, 7781), (3363, 3365, 8063, 8065), (329, 331, 9052, 9054), (232, 234, 9119, 9121), (273, 275, 9120, 9122), (3306, 3308, 6374, 6376), (4424, 4426, 9742, 9744), (336, 338, 9068, 9070), (5089, 5091, 8388, 8390), (5388, 5390, 8455, 8457), (4950, 4952, 1813, 1815), (1956, 1958, 9398, 9400), (1843, 1845, 7777, 7779), (258, 260, 9080, 9082), (4902, 4904, 9985, 9987), (4459, 4461, 9765, 9767), (5103, 5105, 8658, 8660), (4785, 4787, 620, 622), (3280, 3282, 6389, 6391), (4400, 4402, 9803, 9805), (317, 319, 9123, 9125), (4504, 4506, 9752, 9754), (1937, 1939, 9453, 9455), (5103, 5105, 2860, 2862), (1906, 1908, 10116, 10118), (3375, 3377, 8049, 8051), (4482, 4484, 9723, 9725), (4985, 4987, 8065, 8067), (5102, 5104, 8650, 8652), (4909, 4911, 2593, 2595), (1981, 1983, 7792, 7794), (4436, 4438, 9728, 9730), (336, 338, 9044, 9046), (3325, 3327, 6376, 6378), (1691, 1693, 7787, 7789), (1963, 1965, 9414, 9416), (4394, 4396, 5664, 5666), (1840, 1842, 10138, 10140), (1970, 1972, 9430, 9432), (1133, 1135, 7778, 7780), (3356, 3358, 6331, 6333), (4471, 4473, 9751, 9753), (3365, 3367, 6393, 6395), (3360, 3362, 6399, 6401), (3294, 3296, 8031, 8033), (1859, 1861, 10059, 10061), (3301, 3303, 8047, 8049), (262, 264, 9042, 9044), (4417, 4419, 9783, 9785), (4509, 4511, 9722, 9724), (2008, 2010, 7791, 7793), (4898, 4900, 1680, 1682), (4834, 4836, 4139, 4141), (1956, 1958, 9455, 9457), (3334, 3336, 8024, 8026), (5162, 5164, 8327, 8329), (1788, 1790, 7777, 7779), (3332, 3334, 6392, 6394), (1172, 1174, 7787, 7789), (1843, 1845, 10062, 10064), (3339, 3341, 6408, 6410), (3312, 3314, 6409, 6411), (4896, 4898, 10091, 10093), (226, 228, 9062, 9064), (3372, 3374, 6385, 6387), (1890, 1892, 10095, 10097), (1793, 1795, 10162, 10164), (5160, 5162, 8393, 8395), (3313, 3315, 8033, 8035), (4400, 4402, 5672, 5674), (1897, 1899, 10111, 10113), (4835, 4837, 8229, 8231), (1017, 1019, 5753, 5755), (3355, 3357, 6350, 6352), (3309, 3311, 6355, 6357), (4429, 4431, 9769, 9771), (1720, 1722, 10168, 10170), (303, 305, 6359, 6361), (3318, 3320, 6417, 6419), (2020, 2022, 7777, 7779), (1961, 1963, 9425, 9427), (3088, 3090, 9472, 9474), (4455, 4457, 9730, 9732), (227, 229, 9076, 9078), (4834, 4836, 8221, 8223), (3344, 3346, 6378, 6380), (4474, 4476, 9756, 9758), (1806, 1808, 10156, 10158), (5129, 5131, 1699, 1701), (1191, 1193, 7789, 7791), (3363, 3365, 6404, 6406), (4902, 4904, 1642, 1644), (260, 262, 9053, 9055), (320, 322, 9104, 9106), (4415, 4417, 9794, 9796), (4507, 4509, 9733, 9735), (5163, 5165, 8317, 8319), (3378, 3380, 8054, 8056), (1902, 1904, 10081, 10083), (1947, 1949, 9450, 9452), (3067, 3069, 9481, 9483), (3339, 3341, 8075, 8077), (5027, 5029, 454, 456), (4893, 4895, 10037, 10039), (1836, 1838, 10103, 10105), (1819, 1821, 7789, 7791), (3218, 3220, 6430, 6432), (1731, 1733, 10146, 10148), (3209, 3211, 7791, 7793), (3304, 3306, 8028, 8030), (3293, 3295, 6334, 6336), (3140, 3142, 9475, 9477), (4405, 4407, 5723, 5725), (3350, 3352, 6413, 6415), (286, 288, 9095, 9097), (293, 295, 9111, 9113), (4982, 4984, 2939, 2941), (3190, 3192, 6423, 6425), (1892, 1894, 7783, 7785), (3282, 3284, 6362, 6364), (324, 326, 9066, 9068), (4467, 4469, 9797, 9799), (5191, 5193, 9828, 9830), (4912, 4914, 10039, 10041), (5376, 5378, 8453, 8455), (5150, 5152, 9049, 9051), (1809, 1811, 10110, 10112), (3114, 3116, 9490, 9492), (4751, 4753, 1530, 1532), (4888, 4890, 3871, 3873), (4784, 4786, 9183, 9185), (1210, 1212, 7791, 7793), (5117, 5119, 8430, 8432), (1693, 1695, 7386, 7388), (5194, 5196, 9939, 9941), (3158, 3160, 3641, 3643), (4405, 4407, 5699, 5701), (3169, 3171, 6432, 6434), (4868, 4870, 9149, 9151), (3201, 3203, 7794, 7796), (3086, 3088, 9483, 9485), (4925, 4927, 1657, 1659), (3375, 3377, 8057, 8059), (4470, 4472, 9721, 9723), (336, 338, 9052, 9054), (3313, 3315, 6374, 6376), (1828, 1830, 10136, 10138), (4763, 4765, 8737, 8739), (4853, 4855, 4466, 4468), (3138, 3140, 9486, 9488), (270, 272, 9074, 9076), (3344, 3346, 6329, 6331), (5124, 5126, 1680, 1682), (4745, 4747, 9231, 9233), (5073, 5075, 7757, 7759), (1866, 1868, 10107, 10109), (3337, 3339, 8086, 8088), (4906, 4908, 1712, 1714), (1690, 1692, 7383, 7385), (3176, 3178, 6424, 6426), (4896, 4898, 10018, 10020), (3213, 3215, 7780, 7782), (1923, 1925, 9381, 9383), (5138, 5140, 8746, 8748), (1930, 1932, 9397, 9399), (4885, 4887, 10097, 10099), (5161, 5163, 9214, 9216), (4793, 4795, 658, 660), (1840, 1842, 10122, 10124), (5071, 5073, 8492, 8494), (3150, 3152, 9472, 9474), (3363, 3365, 6331, 6333), (1885, 1887, 10109, 10111), (4965, 4967, 7529, 7531), (1880, 1882, 10115, 10117), (3285, 3287, 6343, 6345), (4739, 4741, 5496, 5498), (3363, 3365, 8104, 8106), (3292, 3294, 6359, 6361), (4983, 4985, 8084, 8086), (3306, 3308, 6415, 6417), (336, 338, 9109, 9111), (331, 333, 9115, 9117), (3330, 3332, 6330, 6332), (1695, 1697, 10148, 10150), (5139, 5141, 8760, 8762), (4902, 4904, 1650, 1652), (1828, 1830, 7778, 7780), (4809, 4811, 7447, 7449), (4405, 4407, 5650, 5652), (5070, 5072, 8484, 8486), (4786, 4788, 8725, 8727), (1747, 1749, 10151, 10153), (3325, 3327, 8027, 8029), (5127, 5129, 8213, 8215), (3334, 3336, 8089, 8091), (5393, 5395, 8466, 8468), (3365, 3367, 8044, 8046), (1807, 1809, 7787, 7789), (4476, 4478, 9786, 9788), (3185, 3187, 7779, 7781), (4405, 4407, 6431, 6433), (5319, 5321, 8464, 8466), (327, 329, 9104, 9106), (281, 283, 9109, 9111), (5140, 5142, 8475, 8477), (1721, 1723, 7775, 7777), (3332, 3334, 8043, 8045), (5130, 5132, 8137, 8139), (3067, 3069, 9465, 9467), (4446, 4448, 9733, 9735), (4828, 4830, 9246, 9248), (3226, 3228, 6438, 6440), (5017, 5019, 8394, 8396), (3277, 3279, 6376, 6378), (312, 314, 9064, 9066), (1799, 1801, 10154, 10156), (4405, 4407, 8472, 8474), (5139, 5141, 8467, 8469), (246, 248, 9086, 9088), (3315, 3317, 6347, 6349), (4493, 4495, 9766, 9768), (1030, 1032, 5761, 5763), (5117, 5119, 8438, 8440), (3209, 3211, 7775, 7777), (1738, 1740, 10146, 10148), (5194, 5196, 9947, 9949), (1837, 1839, 10125, 10127), (3318, 3320, 8068, 8070), (4405, 4407, 5707, 5709), (279, 281, 9063, 9065), (5336, 5338, 5411, 5413), (4997, 4999, 8173, 8175), (1778, 1780, 10163, 10165), (4916, 4918, 9123, 9125), (5311, 5313, 8467, 8469), (1043, 1045, 5755, 5757), (4737, 4739, 9134, 9136), (4892, 4894, 8267, 8269), (227, 229, 9117, 9119), (4896, 4898, 9140, 9142), (4740, 4742, 7846, 7848), (4976, 4978, 7564, 7566), (4474, 4476, 9797, 9799), (1705, 1707, 10145, 10147), (3285, 3287, 8067, 8069), (1809, 1811, 10094, 10096), (1908, 1910, 10073, 10075), (5036, 5038, 10193, 10195), (3327, 3329, 6333, 6335), (265, 267, 9088, 9090), (260, 262, 9094, 9096), (5182, 5184, 9563, 9565), (4976, 4978, 1766, 1768), (1849, 1851, 10111, 10113), (3378, 3380, 8095, 8097), (3330, 3332, 8054, 8056), (1871, 1873, 7776, 7778), (3344, 3346, 8110, 8112), (3208, 3210, 7794, 7796), (5355, 5357, 5413, 5415), (1887, 1889, 10082, 10084), (3052, 3054, 9482, 9484), (1985, 1987, 9462, 9464), (3322, 3324, 8030, 8032), (5127, 5129, 1748, 1750), (232, 234, 9087, 9089), (1148, 1150, 7783, 7785), (3309, 3311, 8063, 8065), (3249, 3251, 6426, 6428), (277, 279, 9074, 9076), (5179, 5181, 8517, 8519), (1919, 1921, 10102, 10104), (3367, 3369, 6407, 6409), (4894, 4896, 9980, 9982), (1738, 1740, 7788, 7790), (3183, 3185, 6424, 6426), (1094, 1096, 5750, 5752), (3294, 3296, 6413, 6415), (5374, 5376, 8472, 8474), (269, 271, 9050, 9052), (2008, 2010, 7783, 7785), (4419, 4421, 9797, 9799), (1937, 1939, 9421, 9423), (4808, 4810, 1755, 1757), (3332, 3334, 6384, 6386), (1695, 1697, 10156, 10158), (1845, 1847, 10100, 10102), (4984, 4986, 8076, 8078), (1828, 1830, 7786, 7788), (250, 252, 9105, 9107), (3365, 3367, 6361, 6363), (4497, 4499, 9785, 9787), (4891, 4893, 10089, 10091), (1923, 1925, 9446, 9448), (5160, 5162, 8385, 8387), (5063, 5065, 8452, 8454), (3313, 3315, 8025, 8027), (5340, 5342, 8463, 8465), (4996, 4998, 8249, 8251), (4739, 4741, 9131, 9133), (3296, 3298, 6329, 6331), (1806, 1808, 10148, 10150), (4476, 4478, 9794, 9796), (1864, 1866, 10102, 10104), (1847, 1849, 7788, 7790), (3285, 3287, 6408, 6410), (4405, 4407, 6439, 6441), (3378, 3380, 8046, 8048), (1935, 1937, 9432, 9434), (5130, 5132, 8145, 8147), (300, 302, 9062, 9064), (5114, 5116, 8685, 8687), (1018, 1020, 5759, 5761), (248, 250, 9116, 9118), (3363, 3365, 6372, 6374), (4495, 4497, 9796, 9798), (4932, 4934, 2600, 2602), (3204, 3206, 7789, 7791), (3140, 3142, 9467, 9469), (279, 281, 9071, 9073), (5080, 5082, 8058, 8060), (2018, 2020, 7780, 7782), (1868, 1870, 10064, 10066), (4915, 4917, 1709, 1711), (3353, 3355, 8099, 8101), (1899, 1901, 7791, 7793), (3289, 3291, 6370, 6372), (4407, 4409, 9738, 9740), (3192, 3194, 6437, 6439), (4777, 4779, 7736, 7738), (281, 283, 6328, 6330), (3285, 3287, 8075, 8077), (3315, 3317, 6331, 6333), (4500, 4502, 9766, 9768), (1693, 1695, 7378, 7380), (5113, 5115, 1432, 1434), (232, 234, 9095, 9097), (4426, 4428, 9764, 9766), (1918, 1920, 7793, 7795), (4433, 4435, 9780, 9782), (1958, 1960, 9420, 9422), (3350, 3352, 8072, 8074), (1965, 1967, 9436, 9438), (3289, 3291, 8037, 8039), (1731, 1733, 7780, 7782), (1837, 1839, 7775, 7777), (1890, 1892, 7786, 7788), (1937, 1939, 9429, 9431), (4829, 4831, 762, 764), (1930, 1932, 7779, 7781), (3327, 3329, 6398, 6400), (4863, 4865, 4398, 4400), (229, 231, 9041, 9043), (236, 238, 9057, 9059), (3365, 3367, 6369, 6371), (1964, 1966, 9455, 9457), (4417, 4419, 9759, 9761), (5189, 5191, 9457, 9459), (1856, 1858, 7777, 7779), (329, 331, 9085, 9087), (336, 338, 9101, 9103), (1113, 1115, 5760, 5762), (3288, 3290, 8056, 8058), (3348, 3350, 8107, 8109), (5144, 5146, 8128, 8130), (5097, 5099, 7908, 7910), (5183, 5185, 9530, 9532), (4897, 4899, 10075, 10077), (3240, 3242, 6429, 6431), (5313, 5315, 5415, 5417), (3325, 3327, 6328, 6330), (3056, 3058, 9479, 9481), (4802, 4804, 8228, 8230), (5399, 5401, 8460, 8462), (1994, 1996, 7792, 7794), (1899, 1901, 10133, 10135), (4429, 4431, 9745, 9747), (1720, 1722, 10144, 10146), (1870, 1872, 10088, 10090), (3318, 3320, 6393, 6395), (3307, 3309, 8082, 8084), (1961, 1963, 9401, 9403), (4952, 4954, 10162, 10164), (3142, 3144, 3618, 3620), (3135, 3137, 9481, 9483), (4978, 4980, 2902, 2904), (5370, 5372, 5412, 5414), (1911, 1913, 10119, 10121), (254, 256, 9102, 9104), (1153, 1155, 7794, 7796), (4501, 4503, 9782, 9784), (1887, 1889, 7789, 7791), (3277, 3279, 6368, 6370), (1799, 1801, 10146, 10148), (1753, 1755, 7787, 7789), (1793, 1795, 7780, 7782), (5104, 5106, 7957, 7959), (4797, 4799, 8722, 8724), (304, 306, 9059, 9061), (4786, 4788, 561, 563), (5003, 5005, 8143, 8145), (1222, 1224, 7777, 7779), (5055, 5057, 388, 390), (1241, 1243, 7779, 7781), (5156, 5158, 9033, 9035), (3340, 3342, 6400, 6402), (4814, 4816, 9938, 9940), (5184, 5186, 9471, 9473), (4746, 4748, 9245, 9247), (5140, 5142, 8768, 8770), (242, 244, 9043, 9045), (4489, 4491, 9723, 9725), (3378, 3380, 6371, 6373), (4860, 4862, 8272, 8274), (1840, 1842, 10098, 10100), (4430, 4432, 9761, 9763), (4979, 4981, 7724, 7726), (1962, 1964, 9417, 9419), (3275, 3277, 6436, 6438), (3315, 3317, 8063, 8065), (5381, 5383, 8456, 8458), (336, 338, 9085, 9087), (298, 300, 6349, 6351), (1795, 1797, 7777, 7779), (5183, 5185, 9514, 9516), (4734, 4736, 9129, 9131), (1954, 1956, 7783, 7785), (4935, 4937, 2595, 2597), (4975, 4977, 2989, 2991), (1897, 1899, 10071, 10073), (1899, 1901, 10117, 10119), (3327, 3329, 8049, 8051), (3102, 3104, 9488, 9490), (5123, 5125, 1518, 1520), (1695, 1697, 7790, 7792), (1878, 1880, 10126, 10128), (4899, 4901, 9999, 10001), (1766, 1768, 10153, 10155), (3353, 3355, 8091, 8093), (3282, 3284, 6346, 6348), (4893, 4895, 9997, 9999), (4914, 4916, 7841, 7843), (5193, 5195, 9885, 9887), (3171, 3173, 7780, 7782), (4844, 4846, 7340, 7342), (4405, 4407, 5683, 5685), (3325, 3327, 8060, 8062), (300, 302, 9111, 9113), (293, 295, 9071, 9073), (227, 229, 9093, 9095), (4900, 4902, 9989, 9991), (5009, 5011, 483, 485), (1809, 1811, 10070, 10072), (5160, 5162, 9296, 9298), (4459, 4461, 9733, 9735), (3244, 3246, 6432, 6434), (4969, 4971, 7337, 7339), (1726, 1728, 7778, 7780), (5350, 5352, 5419, 5421), (3282, 3284, 6403, 6405), (1887, 1889, 10058, 10060), (4744, 4746, 9126, 9128), (234, 236, 9109, 9111), (246, 248, 9119, 9121), (4857, 4859, 9137, 9139), (307, 309, 6338, 6340), (1693, 1695, 7427, 7429), (272, 274, 9080, 9082), (5088, 5090, 8375, 8377), (3280, 3282, 6333, 6335), (5068, 5070, 8341, 8343), (4792, 4794, 5036, 5038), (277, 279, 9107, 9109), (1859, 1861, 10084, 10086), (3320, 3322, 6407, 6409), (4469, 4471, 9730, 9732), (4894, 4896, 9989, 9991), (5117, 5119, 7967, 7969), (4424, 4426, 9800, 9802), (5075, 5077, 8040, 8042), (3370, 3372, 6364, 6366), (5190, 5192, 9815, 9817), (5177, 5179, 8374, 8376), (274, 276, 6345, 6347), (4864, 4866, 9137, 9139), (4820, 4822, 839, 841), (5132, 5134, 8281, 8283), (4898, 4900, 10008, 10010), (4886, 4888, 10079, 10081), (4870, 4872, 8448, 8450), (5068, 5070, 8463, 8465), (4958, 4960, 10173, 10175), (4977, 4979, 2897, 2899), (5029, 5031, 8698, 8700), (5036, 5038, 10161, 10163), (5074, 5076, 7717, 7719), (5184, 5186, 9447, 9449), (4814, 4816, 2506, 2508), (4775, 4777, 9293, 9295), (4866, 4868, 8470, 8472), (4973, 4975, 4128, 4130), (2041, 2043, 9558, 9560), (4981, 4983, 1818, 1820), (4637, 4639, 1203, 1205), (4896, 4898, 10084, 10086), (4845, 4847, 7330, 7332), (4770, 4772, 8258, 8260), (4814, 4816, 9280, 9282), (4901, 4903, 1654, 1656), (4832, 4834, 8599, 8601), (4888, 4890, 3864, 3866), (5117, 5119, 8423, 8425), (5194, 5196, 9932, 9934), (4838, 4840, 8607, 8609), (4774, 4776, 9269, 9271), (4672, 4674, 1041, 1043), (5136, 5138, 8449, 8451), (5084, 5086, 8503, 8505), (4821, 4823, 9971, 9973), (4885, 4887, 10090, 10092), (5161, 5163, 8215, 8217), (5146, 5148, 8151, 8153), (4864, 4866, 8438, 8440), (4804, 4806, 8706, 8708), (5136, 5138, 1716, 1718), (5061, 5063, 8309, 8311), (4813, 4815, 9980, 9982), (4771, 4773, 6721, 6723), (5158, 5160, 8405, 8407), (5186, 5188, 8493, 8495), (4795, 4797, 5912, 5914), (5192, 5194, 9870, 9872), (5034, 5036, 504, 506), (5091, 5093, 2916, 2918), (5125, 5127, 1671, 1673), (4813, 4815, 9931, 9933), (5180, 5182, 8762, 8764), (4829, 4831, 10009, 10011), (4873, 4875, 8372, 8374), (296, 298, 6328, 6330), (4977, 4979, 2873, 2875), (4836, 4838, 8602, 8604), (5023, 5025, 483, 485), (4712, 4714, 7572, 7574), (4824, 4826, 9267, 9269), (4915, 4917, 7850, 7852), (5098, 5100, 8226, 8228), (5093, 5095, 661, 663), (5176, 5178, 8377, 8379), (5194, 5196, 9924, 9926), (5163, 5165, 8359, 8361), (5196, 5198, 9596, 9598), (4745, 4747, 7606, 7608), (4747, 4749, 7652, 7654), (5181, 5183, 8778, 8780), (5131, 5133, 8260, 8262), (5026, 5028, 464, 466), (5104, 5106, 8641, 8643), (4997, 4999, 8207, 8209), (5189, 5191, 9450, 9452), (5063, 5065, 7998, 8000), (336, 338, 9094, 9096), (5058, 5060, 8323, 8325), (5183, 5185, 9523, 9525), (5006, 5008, 8700, 8702), (4875, 4877, 8378, 8380), (4766, 4768, 7979, 7981), (4813, 4815, 9972, 9974), (4985, 4987, 7798, 7800), (5109, 5111, 723, 725), (5135, 5137, 8710, 8712), (4807, 4809, 677, 679), (4896, 4898, 10093, 10095), (5034, 5036, 496, 498), (4744, 4746, 9135, 9137), (5126, 5128, 1508, 1510), (5059, 5061, 636, 638), (5180, 5182, 8510, 8512), (4762, 4764, 8749, 8751), (4887, 4889, 3859, 3861), (4893, 4895, 10039, 10041), (5184, 5186, 9464, 9466), (5191, 5193, 9854, 9856), (5181, 5183, 8412, 8414), (5071, 5073, 8461, 8463), (5194, 5196, 9965, 9967), (4800, 4802, 9287, 9289), (5130, 5132, 8236, 8238), (4872, 4874, 10048, 10050), (4671, 4673, 5441, 5443), (5150, 5152, 9051, 9053), (5163, 5165, 9286, 9288), (5183, 5185, 9507, 9509), (4882, 4884, 10012, 10014), (4994, 4996, 3032, 3034), (5123, 5125, 1698, 1700), (4824, 4826, 8641, 8643), (5194, 5196, 9485, 9487), (5138, 5140, 8748, 8750), (4995, 4997, 7234, 7236), (5193, 5195, 9878, 9880), (4793, 4795, 578, 580), (4951, 4953, 10158, 10160), (4784, 4786, 7900, 7902), (4983, 4985, 8086, 8088), (4976, 4978, 7346, 7348), (5079, 5081, 8493, 8495), (5131, 5133, 8252, 8254), (4887, 4889, 3680, 3682), (5017, 5019, 8396, 8398), (4882, 4884, 7979, 7981), (5117, 5119, 8440, 8442), (4872, 4874, 7454, 7456), (4747, 4749, 5473, 5475), (5094, 5096, 8563, 8565), (4816, 4818, 7790, 7792), (4949, 4951, 4265, 4267), (4746, 4748, 9897, 9899), (4894, 4896, 9982, 9984), (5035, 5037, 8658, 8660), (5162, 5164, 8321, 8323), (5122, 5124, 1701, 1703), (1695, 1697, 10158, 10160), (5034, 5036, 488, 490), (4947, 4949, 2615, 2617), (5126, 5128, 1663, 1665), (5189, 5191, 9800, 9802), (5138, 5140, 8252, 8254), (5089, 5091, 7959, 7961), (1203, 1205, 7793, 7795), (5194, 5196, 9957, 9959), (5021, 5023, 8285, 8287), (4915, 4917, 1711, 1713), (5089, 5091, 8390, 8392), (4832, 4834, 10023, 10025), (5085, 5087, 8485, 8487), (4739, 4741, 7848, 7850), (5103, 5105, 8660, 8662), (5137, 5139, 8244, 8246), (4884, 4886, 10026, 10028), (5102, 5104, 8652, 8654), (1821, 1823, 9309, 9311), (4935, 4937, 1751, 1753), (4913, 4915, 1722, 1724), (4881, 4883, 7394, 7396), (4898, 4900, 1682, 1684), (5162, 5164, 8329, 8331), (5160, 5162, 8395, 8397), (303, 305, 6361, 6363), (5144, 5146, 8130, 8132), (4940, 4942, 10178, 10180), (5183, 5185, 9532, 9534), (4802, 4804, 659, 661), (4782, 4784, 7041, 7043), (5105, 5107, 8633, 8635), (4888, 4890, 7630, 7632), (5113, 5115, 8687, 8689), (4888, 4890, 8248, 8250), (4861, 4863, 7899, 7901), (3282, 3284, 6364, 6366), (4912, 4914, 10041, 10043), (4888, 4890, 3873, 3875), (5117, 5119, 8432, 8434), (5194, 5196, 9941, 9943), (5040, 5042, 8319, 8321), (5022, 5024, 8358, 8360), (5125, 5127, 8486, 8488), (4897, 4899, 10028, 10030), (5124, 5126, 1682, 1684), (4896, 4898, 10020, 10022), (4885, 4887, 10099, 10101), (5161, 5163, 9216, 9218), (5055, 5057, 390, 392), (5066, 5068, 8337, 8339), (4739, 4741, 5498, 5500), (1695, 1697, 10150, 10152), (4864, 4866, 8260, 8262), (4923, 4925, 1670, 1672), (5070, 5072, 8486, 8488), (4812, 4814, 9924, 9926), (5191, 5193, 9570, 9572), (5130, 5132, 8139, 8141), (4907, 4909, 2590, 2592), (3277, 3279, 6378, 6380), (5067, 5069, 8459, 8461), (5194, 5196, 9949, 9951), (4916, 4918, 9125, 9127), (4914, 4916, 7843, 7845), (4474, 4476, 9799, 9801), (4863, 4865, 8523, 8525), (4949, 4951, 10145, 10147), (4976, 4978, 1768, 1770), (1241, 1243, 7789, 7791), (3282, 3284, 6405, 6407), (4891, 4893, 10091, 10093), (5160, 5162, 8387, 8389), (4804, 4806, 860, 862), (1806, 1808, 10150, 10152), (5161, 5163, 9444, 9446), (5130, 5132, 8147, 8149), (4695, 4697, 998, 1000), (300, 302, 9064, 9066), (5083, 5085, 7740, 7742), (4932, 4934, 2602, 2604), (4814, 4816, 8208, 8210), (5018, 5020, 8337, 8339), (5105, 5107, 10211, 10213), (5080, 5082, 8060, 8062), (3289, 3291, 6372, 6374), (4407, 4409, 9740, 9742), (3315, 3317, 6333, 6335), (1785, 1787, 10165, 10167), (4426, 4428, 9766, 9768), (5089, 5091, 8366, 8368), (1958, 1960, 9422, 9424), (5106, 5108, 694, 696), (4884, 4886, 10002, 10004), (5129, 5131, 8223, 8225), (4885, 4887, 3675, 3677), (3327, 3329, 6400, 6402), (4686, 4688, 5880, 5882), (1856, 1858, 7779, 7781), (5140, 5142, 8762, 8764), (5139, 5141, 8754, 8756), (5051, 5053, 507, 509), (5046, 5048, 8216, 8218), (4978, 4980, 2904, 2906), (3277, 3279, 6370, 6372), (4899, 4901, 9993, 9995), (4833, 4835, 8218, 8220), (5164, 5166, 9433, 9435), (5141, 5143, 8483, 8485), (4958, 4960, 10175, 10177), (4703, 4705, 2085, 2087), (4835, 4837, 4133, 4135), (5175, 5177, 8338, 8340), (5156, 5158, 9035, 9037), (4814, 4816, 9940, 9942), (5184, 5186, 9473, 9475), (5026, 5028, 457, 459), (5064, 5066, 8454, 8456), (1919, 1921, 10072, 10074), (4903, 4905, 7784, 7786), (4518, 4520, 9797, 9799), (5184, 5186, 9449, 9451), (5167, 5169, 9414, 9416), (5183, 5185, 9516, 9518), (5104, 5106, 8878, 8880), (5159, 5161, 8398, 8400), (5123, 5125, 1520, 1522), (5188, 5190, 8657, 8659), (5122, 5124, 8329, 8331), (5193, 5195, 9887, 9889), (4759, 4761, 8737, 8739), (4900, 4902, 9991, 9993), (5009, 5011, 485, 487), (4896, 4898, 10086, 10088), (4969, 4971, 7339, 7341), (4857, 4859, 9139, 9141), (4899, 4901, 10034, 10036), (5088, 5090, 8377, 8379), (1919, 1921, 10080, 10082), (5184, 5186, 9457, 9459), (5136, 5138, 8231, 8233), (3378, 3380, 6357, 6359), (5001, 5003, 8140, 8142), (5399, 5401, 5421, 5423), (4741, 4743, 7895, 7897), (306, 308, 6359, 6361), (4984, 4986, 2874, 2876), (1919, 1921, 10137, 10139), (4829, 4831, 9970, 9972), (5117, 5119, 7969, 7971), (5136, 5138, 8719, 8721), (5075, 5077, 8042, 8044), (5175, 5177, 8517, 8519), (4804, 4806, 8708, 8710), (5190, 5192, 9817, 9819), (4755, 4757, 7878, 7880), (4908, 4910, 1704, 1706), (5127, 5129, 1710, 1712), (5061, 5063, 8311, 8313), (5167, 5169, 8333, 8335), (5119, 5121, 10089, 10091), (4921, 4923, 1728, 1730), (4751, 4753, 5802, 5804), (5065, 5067, 8324, 8326), (4771, 4773, 4844, 4846), (4838, 4840, 8243, 8245), (4894, 4896, 9999, 10001), (2026, 2028, 7790, 7792), (5185, 5187, 8595, 8597), (5029, 5031, 8700, 8702), (4994, 4996, 8059, 8061), (5157, 5159, 9019, 9021), (4781, 4783, 6855, 6857), (4776, 4778, 6725, 6727), (5182, 5184, 8785, 8787), (4779, 4781, 5362, 5364), (5196, 5198, 9598, 9600), (4886, 4888, 10065, 10067), (5102, 5104, 8645, 8647), (4731, 4733, 8836, 8838), (4981, 4983, 1820, 1822), (5192, 5194, 9587, 9589), (336, 338, 9096, 9098), (5183, 5185, 9525, 9527), (4785, 4787, 8755, 8757), (4875, 4877, 7493, 7495), (4783, 4785, 7904, 7906), (4883, 4885, 1668, 1670), (4888, 4890, 3866, 3868), (5117, 5119, 8425, 8427), (5194, 5196, 9934, 9936), (4881, 4883, 7501, 7503), (4865, 4867, 4203, 4205), (4774, 4776, 9271, 9273), (5124, 5126, 1675, 1677), (5084, 5086, 8505, 8507), (4885, 4887, 10092, 10094), (3378, 3380, 6390, 6392), (840, 842, 9064, 9066), (4762, 4764, 8751, 8753), (5161, 5163, 8217, 8219), (4708, 4710, 7927, 7929), (4864, 4866, 8440, 8442), (4797, 4799, 8692, 8694), (1806, 1808, 10159, 10161), (4763, 4765, 8252, 8254), (4860, 4862, 8535, 8537), (5070, 5072, 8479, 8481), (5136, 5138, 1718, 1720), (5068, 5070, 488, 490), (4771, 4773, 6723, 6725), (5194, 5196, 9487, 9489), (4793, 4795, 580, 582), (5182, 5184, 9558, 9560), (4750, 4752, 8773, 8775), (5192, 5194, 9872, 9874), (5103, 5105, 2847, 2849), (4996, 4998, 3194, 3196), (5179, 5181, 8512, 8514), (4996, 4998, 8000, 8002), (5180, 5182, 8764, 8766), (4829, 4831, 10011, 10013), (4994, 4996, 3042, 3044), (5023, 5025, 485, 487), (4915, 4917, 7852, 7854), (4012, 4014, 4398, 4400), (4717, 4719, 8886, 8888), (5121, 5123, 8322, 8324), (5176, 5178, 8379, 8381), (5194, 5196, 9926, 9928), (5163, 5165, 8361, 8363), (5131, 5133, 1683, 1685), (5181, 5183, 8780, 8782), (5131, 5133, 8262, 8264), (5026, 5028, 466, 468), (4820, 4822, 2468, 2470), (5189, 5191, 9452, 9454), (5058, 5060, 8325, 8327), (4813, 4815, 2509, 2511), (5183, 5185, 9501, 9503), (4813, 4815, 9974, 9976), (5162, 5164, 8331, 8333), (5109, 5111, 725, 727), (5106, 5108, 10226, 10228), (5135, 5137, 8712, 8714), (4822, 4824, 1636, 1638), (5034, 5036, 498, 500), (5156, 5158, 8410, 8412), (5157, 5159, 8231, 8233), (5184, 5186, 9466, 9468), (5181, 5183, 8414, 8416), (5071, 5073, 8463, 8465), (4800, 4802, 9289, 9291), (5130, 5132, 8238, 8240), (5167, 5169, 9407, 9409), (5183, 5185, 9509, 9511), (273, 275, 6367, 6369), (5141, 5143, 8777, 8779), (4882, 4884, 10014, 10016), (5165, 5167, 8342, 8344), (4814, 4816, 9990, 9992), (4896, 4898, 10022, 10024), (4995, 4997, 7236, 7238), (5193, 5195, 9880, 9882), (4883, 4885, 3856, 3858), (5174, 5176, 8512, 8514), (4885, 4887, 9995, 9997), (4976, 4978, 7348, 7350), (4880, 4882, 3853, 3855), (5079, 5081, 8495, 8497), (5131, 5133, 8254, 8256), (4882, 4884, 7981, 7983), (5189, 5191, 9794, 9796), (4772, 4774, 996, 998), (5007, 5009, 8702, 8704), (5117, 5119, 8442, 8444), (5194, 5196, 9951, 9953), (4739, 4741, 8216, 8218), (5094, 5096, 8565, 8567), (4828, 4830, 10006, 10008), (5162, 5164, 8323, 8325), (3212, 3214, 7784, 7786), (4905, 4907, 2578, 2580), (5034, 5036, 490, 492), (5130, 5132, 8149, 8151), (4779, 4781, 565, 567), (4949, 4951, 10179, 10181), (5194, 5196, 9959, 9961), (5021, 5023, 8287, 8289), (4915, 4917, 1713, 1715), (5013, 5015, 3134, 3136), (4734, 4736, 7856, 7858), (5103, 5105, 8662, 8664), (5137, 5139, 8246, 8248), (4784, 4786, 6764, 6766), (5102, 5104, 8654, 8656), (5097, 5099, 8660, 8662), (4804, 4806, 8034, 8036), (4847, 4849, 9959, 9961), (4678, 4680, 5777, 5779), (4935, 4937, 1753, 1755), (5071, 5073, 8488, 8490), (4861, 4863, 2420, 2422), (4848, 4850, 9973, 9975), (4983, 4985, 8080, 8082), (4699, 4701, 8939, 8941), (5137, 5139, 8734, 8736), (5078, 5080, 2974, 2976), (4888, 4890, 7632, 7634), (4888, 4890, 8250, 8252), (4900, 4902, 1657, 1659), (5194, 5196, 9943, 9945), (4740, 4742, 7492, 7494), (4810, 4812, 8156, 8158), (5124, 5126, 1684, 1686), (5161, 5163, 9218, 9220), (4943, 4945, 8071, 8073), (5160, 5162, 8381, 8383), (4812, 4814, 9926, 9928), (5130, 5132, 8141, 8143), (5123, 5125, 1522, 1524), (5080, 5082, 8054, 8056), (4914, 4916, 7845, 7847), (4812, 4814, 8186, 8188), (4910, 4912, 2597, 2599), (4985, 4987, 8061, 8063), (4682, 4684, 1299, 1301), (4826, 4828, 8649, 8651), (5160, 5162, 8389, 8391), (4914, 4916, 7796, 7798), (5123, 5125, 8296, 8298), (4932, 4934, 2604, 2606), (4948, 4950, 4268, 4270), (4992, 4994, 3361, 3363), (5192, 5194, 9865, 9867), (4777, 4779, 576, 578), (4857, 4859, 9149, 9151), (4755, 4757, 7880, 7882), (1693, 1695, 7415, 7417), (5139, 5141, 8756, 8758), (4867, 4869, 9146, 9148), (3297, 3299, 6382, 6384), (1947, 1949, 9406, 9408), (3335, 3337, 6353, 6355), (5160, 5162, 8243, 8245), (3375, 3377, 6346, 6348), (1217, 1219, 7787, 7789), (4993, 4995, 8077, 8079), (3347, 3349, 6339, 6341), (5076, 5078, 7767, 7769), (1876, 1878, 10133, 10135), (1726, 1728, 7774, 7776), (4453, 4455, 9778, 9780), (5026, 5028, 459, 461), (4983, 4985, 2990, 2992), (4763, 4765, 6733, 6735), (3072, 3074, 9464, 9466), (5184, 5186, 9451, 9453), (1814, 1816, 10117, 10119), (1790, 1792, 7787, 7789), (4959, 4961, 7857, 7859), (3214, 3216, 7774, 7776), (3323, 3325, 8067, 8069), (5104, 5106, 8880, 8882), (4871, 4873, 7449, 7451), (5388, 5390, 8452, 8454), (838, 840, 9060, 9062), (1826, 1828, 10103, 10105), (4774, 4776, 9289, 9291), (5111, 5113, 7928, 7930), (1809, 1811, 7789, 7791), (4450, 4452, 9781, 9783), (5083, 5085, 8515, 8517), (5154, 5156, 9455, 9457), (4858, 4860, 8531, 8533), (5338, 5340, 5413, 5415), (4706, 4708, 7573, 7575), (1788, 1790, 7774, 7776), (3342, 3344, 6353, 6355), (1843, 1845, 10059, 10061), (5009, 5011, 487, 489), (5184, 5186, 8597, 8599), (3351, 3353, 6415, 6417), (3285, 3287, 8047, 8049), (4403, 4405, 6422, 6424), (260, 262, 9074, 9076), (4403, 4405, 9805, 9807), (1693, 1695, 7350, 7352), (4896, 4898, 10088, 10090), (4507, 4509, 9754, 9756), (4969, 4971, 7341, 7343), (3325, 3327, 8040, 8042), (3339, 3341, 8096, 8098), (4787, 4789, 614, 616), (298, 300, 9045, 9047), (303, 305, 6356, 6358), (293, 295, 9051, 9053), (1973, 1975, 9432, 9434), (232, 234, 9067, 9069), (5180, 5182, 8505, 8507), (4474, 4476, 9753, 9755), (3363, 3365, 6401, 6403), (3297, 3299, 8033, 8035), (1693, 1695, 7781, 7783), (3304, 3306, 8049, 8051), (4415, 4417, 9791, 9793), (286, 288, 9116, 9118), (1914, 1916, 10088, 10090), (1947, 1949, 9447, 9449), (5177, 5179, 9443, 9445), (3335, 3337, 6394, 6396), (4453, 4455, 9762, 9764), (5184, 5186, 9459, 9461), (3342, 3344, 6410, 6412), (1096, 1098, 5752, 5754), (5161, 5163, 8373, 8375), (1693, 1695, 7407, 7409), (3375, 3377, 6387, 6389), (3311, 3313, 8065, 8067), (5071, 5073, 8456, 8458), (4403, 4405, 5674, 5676), (4800, 4802, 9282, 9284), (4741, 4743, 7897, 7899), (4775, 4777, 6727, 6729), (1873, 1875, 10063, 10065), (3091, 3093, 9474, 9476), (3347, 3349, 6380, 6382), (4419, 4421, 9753, 9755), (1141, 1143, 7780, 7782), (1951, 1953, 9409, 9411), (4770, 4772, 5391, 5393), (4457, 4459, 9724, 9726), (3242, 3244, 6423, 6425), (3342, 3344, 8077, 8079), (4405, 4407, 9802, 9804), (1087, 1089, 5747, 5749), (1930, 1932, 9418, 9420), (1194, 1196, 7791, 7793), (4436, 4438, 9733, 9735), (3221, 3223, 6432, 6434), (3313, 3315, 6371, 6373), (3143, 3145, 9477, 9479), (1066, 1068, 5756, 5758), (1968, 1970, 7779, 7781), (5160, 5162, 9227, 9229), (1873, 1875, 10120, 10122), (4961, 4963, 7781, 7783), (3292, 3294, 6380, 6382), (327, 329, 9068, 9070), (4967, 4969, 3384, 3386), (3339, 3341, 8023, 8025), (1918, 1920, 10107, 10109), (4443, 4445, 9749, 9751), (1160, 1162, 7782, 7784), (1947, 1949, 7788, 7790), (1847, 1849, 10135, 10137), (3162, 3164, 9479, 9481), (296, 298, 9113, 9115), (3363, 3365, 6328, 6330), (3375, 3377, 6338, 6340), (3377, 3379, 6384, 6386), (5115, 5117, 8679, 8681), (1212, 1214, 7785, 7787), (1890, 1892, 10100, 10102), (4405, 4407, 5671, 5673), (4415, 4417, 9718, 9720), (1914, 1916, 7787, 7789), (4858, 4860, 9133, 9135), (3304, 3306, 6366, 6368), (5175, 5177, 8519, 8521), (3342, 3344, 6337, 6339), (1179, 1181, 7784, 7786), (4398, 4400, 6436, 6438), (4763, 4765, 8254, 8256), (4976, 4978, 7341, 7343), (1897, 1899, 10092, 10094), (3325, 3327, 8024, 8026), (5160, 5162, 9447, 9449), (5127, 5129, 1712, 1714), (1130, 1132, 7786, 7788), (4737, 4739, 5504, 5506), (3309, 3311, 6417, 6419), (5331, 5333, 8471, 8473), (4763, 4765, 5115, 5117), (3185, 3187, 6434, 6436), (4412, 4414, 9745, 9747), (312, 314, 9061, 9063), (1705, 1707, 10166, 10168), (5139, 5141, 8464, 8466), (4791, 4793, 560, 562), (1738, 1740, 10143, 10145), (4639, 4641, 1212, 1214), (5094, 5096, 8558, 8560), (4746, 4748, 8225, 8227), (5104, 5106, 8872, 8874), (3086, 3088, 9488, 9490), (3377, 3379, 8108, 8110), (239, 241, 9124, 9126), (4902, 4904, 2135, 2137), (4517, 4519, 9759, 9761), (1731, 1733, 7793, 7795), (3188, 3190, 6439, 6441), (5367, 5369, 5420, 5422), (4761, 4763, 6736, 6738), (5025, 5027, 476, 478), (5374, 5376, 8469, 8471), (1904, 1906, 10059, 10061), (263, 265, 9120, 9122), (5123, 5125, 8337, 8339), (1840, 1842, 7793, 7795), (1883, 1885, 10068, 10070), (4891, 4893, 10086, 10088), (1125, 1127, 5759, 5761), (1807, 1809, 7792, 7794), (4836, 4838, 8256, 8258), (4822, 4824, 9273, 9275), (1864, 1866, 10099, 10101), (1130, 1132, 7794, 7796), (5023, 5025, 8350, 8352), (5319, 5321, 8469, 8471), (5128, 5130, 1704, 1706), (2655, 2657, 4049, 4051), (248, 250, 9113, 9115), (1693, 1695, 7399, 7401), (4495, 4497, 9793, 9795), (3311, 3313, 8057, 8059), (3204, 3206, 7786, 7788), (5182, 5184, 8787, 8789), (4779, 4781, 5364, 5366), (5338, 5340, 8471, 8473), (1070, 1072, 5759, 5761), (4864, 4866, 4400, 4402), (3349, 3351, 6418, 6420), (251, 253, 9061, 9063), (4498, 4500, 9741, 9743), (1712, 1714, 7775, 7777), (5161, 5163, 9414, 9416), (5137, 5139, 8239, 8241), (3164, 3166, 6427, 6429), (3176, 3178, 6437, 6439), (4886, 4888, 10067, 10069), (5125, 5127, 8473, 8475), (5102, 5104, 8647, 8649), (1021, 1023, 5761, 5763), (336, 338, 9041, 9043), (4787, 4789, 6868, 6870), (5073, 5075, 7746, 7748), (1873, 1875, 10112, 10114), (1914, 1916, 10113, 10115), (4941, 4943, 10181, 10183), (1738, 1740, 7793, 7795), (1094, 1096, 5755, 5757), (3294, 3296, 6418, 6420), (3167, 3169, 7774, 7776), (324, 326, 9112, 9114), (1937, 1939, 9426, 9428), (1906, 1908, 10089, 10091), (4498, 4500, 9798, 9800), (1167, 1169, 7790, 7792), (4457, 4459, 9773, 9775), (3365, 3367, 6366, 6368), (1885, 1887, 10098, 10100), (3313, 3315, 8030, 8032), (3368, 3370, 8087, 8089), (3297, 3299, 6342, 6344), (1139, 1141, 7783, 7785), (5379, 5381, 5414, 5416), (329, 331, 9082, 9084), (1134, 1136, 7789, 7791), (5386, 5388, 8463, 8465), (4436, 4438, 9782, 9784), (5137, 5139, 8109, 8111), (5381, 5383, 8469, 8471), (336, 338, 9098, 9100), (1819, 1821, 10120, 10122), (1826, 1828, 10136, 10138), (1795, 1797, 7790, 7792), (1968, 1970, 9438, 9440), (3088, 3090, 9469, 9471), (263, 265, 9104, 9106), (275, 277, 9114, 9116), (270, 272, 9120, 9122), (4464, 4466, 9789, 9791), (5071, 5073, 7757, 7759), (1707, 1709, 10147, 10149), (1857, 1859, 10091, 10093), (1760, 1762, 10158, 10160), (3185, 3187, 7792, 7794), (1852, 1854, 10097, 10099), (1864, 1866, 10107, 10109), (3292, 3294, 8039, 8041), (1734, 1736, 7782, 7784), (5102, 5104, 8867, 8869), (3347, 3349, 8096, 8098), (301, 303, 9075, 9077), (1840, 1842, 7777, 7779), (1835, 1837, 7783, 7785), (5353, 5355, 8462, 8464), (308, 310, 9091, 9093), (260, 262, 9050, 9052), (320, 322, 9101, 9103), (4502, 4504, 9760, 9762), (1921, 1923, 9405, 9407), (315, 317, 9107, 9109), (1895, 1897, 10062, 10064), (4509, 4511, 9776, 9778), (1890, 1892, 10068, 10070), (3320, 3322, 8046, 8048), (1902, 1904, 10078, 10080), (3373, 3375, 8057, 8059), (3339, 3341, 8072, 8074), (3309, 3311, 6328, 6330), (4865, 4867, 9141, 9143), (4829, 4831, 816, 818), (1824, 1826, 10090, 10092), (5357, 5359, 5415, 5417), (5398, 5400, 5416, 5418), (1831, 1833, 10106, 10108), (1975, 1977, 9454, 9456), (4401, 4403, 5734, 5736), (3365, 3367, 8033, 8035), (1807, 1809, 7776, 7778), (4720, 4722, 7557, 7559), (1819, 1821, 7786, 7788), (1814, 1816, 7792, 7794), (5076, 5078, 7727, 7729), (239, 241, 9059, 9061), (4883, 4885, 1670, 1672), (241, 243, 9105, 9107), (4486, 4488, 9739, 9741), (1816, 1818, 10066, 10068), (4488, 4490, 9785, 9787), (289, 291, 9122, 9124), (1869, 1871, 10077, 10079), (4483, 4485, 9791, 9793), (3306, 3308, 8071, 8073), (1130, 1132, 7778, 7780), (267, 269, 9066, 9068), (320, 322, 9077, 9079), (5324, 5326, 5414, 5416), (4514, 4516, 9746, 9748), (5319, 5321, 8453, 8455), (5331, 5333, 8463, 8465), (5372, 5374, 8464, 8466), (286, 288, 9092, 9094), (3344, 3346, 8042, 8044), (1786, 1788, 7785, 7787), (3339, 3341, 8048, 8050), (3351, 3353, 8058, 8060), (4448, 4450, 9768, 9770), (1918, 1920, 10132, 10134), (317, 319, 9047, 9049), (3337, 3339, 6416, 6418), (312, 314, 9053, 9055), (4455, 4457, 9784, 9786), (4467, 4469, 9794, 9796), (3164, 3166, 7777, 7779), (1994, 1996, 9456, 9458), (246, 248, 9075, 9077), (4401, 4403, 9816, 9818), (4493, 4495, 9755, 9757), (253, 255, 9091, 9093), (4500, 4502, 9771, 9773), (1921, 1923, 9462, 9464), (3311, 3313, 8041, 8043), (3323, 3325, 8051, 8053), (5194, 5196, 9936, 9938), (1707, 1709, 7789, 7791), (3318, 3320, 8057, 8059), (4405, 4407, 5696, 5698), (4867, 4869, 7447, 7449), (3164, 3166, 6435, 6437), (5125, 5127, 8213, 8215), (291, 293, 9062, 9064), (4434, 4436, 9793, 9795), (286, 288, 9068, 9070), (5348, 5350, 5410, 5412), (1959, 1961, 9433, 9435), (5343, 5345, 5416, 5418), (5338, 5340, 8455, 8457), (1966, 1968, 9449, 9451), (5045, 5047, 632, 634), (3356, 3358, 8028, 8030), (1752, 1754, 7776, 7778), (5125, 5127, 8481, 8483), (4472, 4474, 9764, 9766), (3349, 3351, 6402, 6404), (4467, 4469, 9770, 9772), (3283, 3285, 8034, 8036), (3361, 3363, 6412, 6414), (336, 338, 9049, 9051), (3204, 3206, 6428, 6430), (331, 333, 9055, 9057), (3290, 3292, 8050, 8052), (3297, 3299, 8066, 8068), (251, 253, 9045, 9047), (1951, 1953, 9385, 9387), (4498, 4500, 9725, 9727), (258, 260, 9061, 9063), (270, 272, 9071, 9073), (5315, 5317, 5409, 5411), (4505, 4507, 9741, 9743), (265, 267, 9077, 9079), (4517, 4519, 9751, 9753), (4512, 4514, 9757, 9759), (1951, 1953, 7775, 7777), (3330, 3332, 8043, 8045), (1914, 1916, 10121, 10123), (308, 310, 9042, 9044), (5163, 5165, 9420, 9422), (3328, 3330, 6411, 6413), (303, 305, 9048, 9050), (4446, 4448, 9779, 9781), (4896, 4898, 10015, 10017), (1082, 1084, 5753, 5755), (5165, 5167, 8311, 8313), (1978, 1980, 9435, 9437), (1797, 1799, 10154, 10156), (237, 239, 9070, 9072), (244, 246, 9086, 9088), (4438, 4440, 9755, 9757), (239, 241, 9092, 9094), (3313, 3315, 6347, 6349), (3373, 3375, 6398, 6400), (4491, 4493, 9766, 9768), (3325, 3327, 6357, 6359), (4486, 4488, 9772, 9774), (3302, 3304, 8036, 8038), (1963, 1965, 9395, 9397), (1703, 1705, 7778, 7780), (840, 842, 9066, 9068), (4401, 4403, 5685, 5687), (1698, 1700, 7784, 7786), (3375, 3377, 6420, 6422), (3309, 3311, 8052, 8054), (1970, 1972, 9411, 9413), (275, 277, 9041, 9043), (4476, 4478, 9726, 9728), (3261, 3263, 6425, 6427), (1963, 1965, 7785, 7787), (4898, 4900, 8264, 8266), (3347, 3349, 8023, 8025), (5156, 5158, 9030, 9032), (5161, 5163, 8219, 8221), (5066, 5068, 8332, 8334), (3287, 3289, 6386, 6388), (4417, 4419, 9764, 9766), (3294, 3296, 6402, 6404), (4412, 4414, 9770, 9772), (1106, 1108, 5749, 5751), (3306, 3308, 6412, 6414), (3347, 3349, 6413, 6415), (5184, 5186, 9468, 9470), (1101, 1103, 5755, 5757), (2015, 2017, 7788, 7790), (1949, 1951, 9420, 9422), (1944, 1946, 9426, 9428), (1918, 1920, 10083, 10085), (3129, 3131, 9478, 9480), (4443, 4445, 9725, 9727), (3228, 3230, 6424, 6426), (4455, 4457, 9735, 9737), (4708, 4710, 7929, 7931), (3240, 3242, 6434, 6436), (3332, 3334, 6373, 6375), (4450, 4452, 9741, 9743), (3339, 3341, 6389, 6391), (4401, 4403, 5661, 5663), (1847, 1849, 10111, 10113), (3157, 3159, 9485, 9487), (1859, 1861, 10121, 10123), (5094, 5096, 8583, 8585), (1073, 1075, 5748, 5750), (1085, 1087, 5758, 5760), (1987, 1989, 7781, 7783), (3377, 3379, 6360, 6362), (1982, 1984, 7787, 7789), (1928, 1930, 9429, 9431), (4422, 4424, 9734, 9736), (3311, 3313, 6382, 6384), (4429, 4431, 9750, 9752), (3306, 3308, 6388, 6390), (4424, 4426, 9756, 9758), (1954, 1956, 9390, 9392), (298, 300, 6346, 6348), (1961, 1963, 9406, 9408), (3337, 3339, 6343, 6345), (4467, 4469, 9721, 9723), (1954, 1956, 7780, 7782), (1966, 1968, 7790, 7792), (3344, 3346, 6359, 6361), (1850, 1852, 10059, 10061), (4462, 4464, 9727, 9729), (3247, 3249, 6426, 6428), (3351, 3353, 6375, 6377), (275, 277, 6333, 6335), (3290, 3292, 6391, 6393), (3285, 3287, 6397, 6399), (1933, 1935, 9399, 9401), (1092, 1094, 5750, 5752), (327, 329, 9101, 9103), (1928, 1930, 9405, 9407), (1231, 1233, 7787, 7789), (5030, 5032, 8708, 8710), (1800, 1802, 10159, 10161), (2006, 2008, 7783, 7785), (1935, 1937, 9421, 9423), (4907, 4909, 2585, 2587), (1911, 1913, 10124, 10126), (3316, 3318, 6352, 6354), (4434, 4436, 9720, 9722), (4446, 4448, 9730, 9732), (1906, 1908, 10130, 10132), (1933, 1935, 7789, 7791), (3323, 3325, 6368, 6370), (4441, 4443, 9736, 9738), (3226, 3228, 6435, 6437), (3330, 3332, 6384, 6386), (4890, 4892, 10070, 10072), (3164, 3166, 7785, 7787), (3325, 3327, 6390, 6392), (1843, 1845, 10100, 10102), (3095, 3097, 9469, 9471), (3148, 3150, 9480, 9482), (4405, 4407, 8469, 8471), (5123, 5125, 1515, 1517), (3361, 3363, 6339, 6341), (1826, 1828, 7786, 7788), (1978, 1980, 7776, 7778), (1030, 1032, 5758, 5760), (1198, 1200, 7786, 7788), (1973, 1975, 7782, 7784), (1883, 1885, 10117, 10119), (1878, 1880, 10123, 10125), (4779, 4781, 8739, 8741), (3302, 3304, 6377, 6379), (5194, 5196, 9489, 9491), (334, 336, 9117, 9119), (1909, 1911, 10078, 10080), (5338, 5340, 8463, 8465), (293, 295, 9092, 9094), (1916, 1918, 10094, 10096), (3328, 3330, 6338, 6340), (4737, 4739, 9131, 9133), (4893, 4895, 9994, 9996), (1899, 1901, 7780, 7782), (1177, 1179, 7795, 7797), (4914, 4916, 7838, 7840), (1850, 1852, 10116, 10118), (331, 333, 9063, 9065), (4474, 4476, 9794, 9796), (1857, 1859, 10132, 10134), (4763, 4765, 8742, 8744), (3119, 3121, 9465, 9467), (3114, 3116, 9471, 9473), (5182, 5184, 9560, 9562), (5192, 5194, 9874, 9876), (1895, 1897, 10103, 10105), (1902, 1904, 10119, 10121), (3325, 3327, 8057, 8059), (1878, 1880, 7789, 7791), (3086, 3088, 9464, 9466), (3098, 3100, 9474, 9476), (1790, 1792, 10146, 10148), (3093, 3095, 9480, 9482), (4744, 4746, 9147, 9149), (1985, 1987, 9459, 9461), (3365, 3367, 8074, 8076), (3377, 3379, 8084, 8086), (4936, 4938, 1746, 1748), (1014, 1016, 6087, 6089), (1923, 1925, 7776, 7778), (5383, 5385, 8450, 8452), (1816, 1818, 10107, 10109), (3363, 3365, 6418, 6420), (3133, 3135, 9473, 9475), (277, 279, 9071, 9073), (5179, 5181, 8514, 8516), (1229, 1231, 7774, 7776), (1914, 1916, 10105, 10107), (3344, 3346, 8083, 8085), (1738, 1740, 7785, 7787), (1890, 1892, 7775, 7777), (4832, 4834, 8644, 8646), (310, 312, 9048, 9050), (3105, 3107, 9466, 9468), (5180, 5182, 9571, 9573), (1705, 1707, 7784, 7786), (5180, 5182, 8766, 8768), (296, 298, 9097, 9099), (4483, 4485, 9726, 9728), (1982, 1984, 7795, 7797), (1781, 1783, 10141, 10143), (3363, 3365, 8085, 8087), (5071, 5073, 8286, 8288), (1134, 1136, 7781, 7783), (5386, 5388, 5422, 5424), (3313, 3315, 6412, 6414), (1795, 1797, 7782, 7784), (1838, 1840, 10057, 10059), (1748, 1750, 10140, 10142), (1852, 1854, 10089, 10091), (1859, 1861, 10105, 10107), (1835, 1837, 7775, 7777), (4405, 4407, 6436, 6438), (5360, 5362, 8470, 8472), (315, 317, 9099, 9101), (4509, 4511, 9768, 9770), (310, 312, 9105, 9107), (1930, 1932, 9435, 9437), (1906, 1908, 10138, 10140), (3375, 3377, 8071, 8073), (5398, 5400, 5408, 5410), (1831, 1833, 10098, 10100), (3365, 3367, 8025, 8027), (1802, 1804, 7774, 7776), (1814, 1816, 7784, 7786), (4469, 4471, 9751, 9753), (5177, 5179, 8525, 8527), (4476, 4478, 9767, 9769), (1816, 1818, 10058, 10060), (1857, 1859, 10059, 10061), (5166, 5168, 9409, 9411), (3306, 3308, 8063, 8065), (4775, 4777, 4841, 4843), (3292, 3294, 6397, 6399), (1942, 1944, 9445, 9447), (1954, 1956, 9455, 9457), (3332, 3334, 8024, 8026), (4453, 4455, 9730, 9732), (3171, 3173, 7785, 7787), (5121, 5123, 10097, 10099), (3370, 3372, 6385, 6387), (1693, 1695, 7375, 7377), (1037, 1039, 5758, 5760), (5194, 5196, 9928, 9930), (5163, 5165, 8363, 8365), (4829, 4831, 9241, 9243), (1707, 1709, 7781, 7783), (1885, 1887, 10123, 10125), (4867, 4869, 4406, 4408), (4422, 4424, 9775, 9777), (5343, 5345, 5408, 5410), (293, 295, 9076, 9078), (4670, 4672, 5665, 5667), (3081, 3083, 9478, 9480), (4732, 4734, 9145, 9147), (3351, 3353, 8026, 8028), (1014, 1016, 6095, 6097), (4980, 4982, 8068, 8070), (1918, 1920, 7790, 7792), (331, 333, 9047, 9049), (4474, 4476, 9778, 9780), (3292, 3294, 8064, 8066), (3126, 3128, 9465, 9467), (3133, 3135, 9481, 9483), (3330, 3332, 8035, 8037), (1726, 1728, 7783, 7785), (303, 305, 9040, 9042), (1089, 1091, 5761, 5763), (1985, 1987, 9443, 9445), (1797, 1799, 10146, 10148), (3361, 3363, 6380, 6382), (4438, 4440, 9747, 9749), (239, 241, 9084, 9086), (5026, 5028, 468, 470), (1698, 1700, 7776, 7778), (3375, 3377, 6412, 6414), (1970, 1972, 9403, 9405), (5180, 5182, 8774, 8776), (277, 279, 9055, 9057), (5189, 5191, 9454, 9456), (3294, 3296, 6394, 6396), (1101, 1103, 5747, 5749), (1937, 1939, 9402, 9404), (2015, 2017, 7780, 7782), (1951, 1953, 9434, 9436), (4438, 4440, 9723, 9725), (3332, 3334, 6365, 6367), (3339, 3341, 6381, 6383), (5192, 5194, 9565, 9567), (1847, 1849, 10103, 10105), (5094, 5096, 8575, 8577), (5130, 5132, 8232, 8234), (3365, 3367, 6342, 6344), (3377, 3379, 6352, 6354), (1982, 1984, 7779, 7781), (1989, 1991, 7795, 7797), (4742, 4744, 8792, 8794), (4422, 4424, 9726, 9728), (5125, 5127, 1740, 1742), (4417, 4419, 9732, 9734), (1715, 1717, 10147, 10149), (3313, 3315, 6396, 6398), (1722, 1724, 10163, 10165), (4462, 4464, 9719, 9721), (1227, 1229, 7793, 7795), (5071, 5073, 7733, 7735), (4476, 4478, 9775, 9777), (3351, 3353, 6367, 6369), (1921, 1923, 9381, 9383), (3377, 3379, 6328, 6330), (5175, 5177, 9455, 9457), (3280, 3282, 6395, 6397), (4509, 4511, 9752, 9754), (1928, 1930, 9397, 9399), (2006, 2008, 7775, 7777), (2001, 2003, 7781, 7783), (1935, 1937, 9413, 9415), (3332, 3334, 8032, 8034), (4839, 4841, 4513, 4515), (4429, 4431, 9718, 9720), (1928, 1930, 7787, 7789), (4883, 4885, 10022, 10024), (1734, 1736, 10149, 10151), (1968, 1970, 9390, 9392), (4813, 4815, 9976, 9978), (5078, 5080, 7749, 7751), (5102, 5104, 2858, 2860), (4476, 4478, 9751, 9753), (1973, 1975, 7774, 7776), (248, 250, 9097, 9099), (3363, 3365, 6353, 6355), (3365, 3367, 6399, 6401), (4495, 4497, 9777, 9779), (1876, 1878, 10069, 10071), (1878, 1880, 10115, 10117), (3306, 3308, 8047, 8049), (3361, 3363, 8104, 8106), (279, 281, 9052, 9054), (3297, 3299, 6375, 6377), (4415, 4417, 9743, 9745), (329, 331, 9115, 9117), (5137, 5139, 1726, 1728), (3069, 3071, 9476, 9478), (1911, 1913, 10092, 10094), (4794, 4796, 582, 584), (3330, 3332, 6352, 6354), (4678, 4680, 1322, 1324), (1906, 1908, 7788, 7790), (3344, 3346, 6408, 6410), (1852, 1854, 10130, 10132), (3292, 3294, 8072, 8074), (4403, 4405, 6431, 6433), (1921, 1923, 9438, 9440), (1883, 1885, 10085, 10087), (1217, 1219, 7780, 7782), (1745, 1747, 10151, 10153), (1786, 1788, 10152, 10154), (4507, 4509, 9763, 9765), (3211, 3213, 7786, 7788), (3320, 3322, 8079, 8081), (3373, 3375, 8090, 8092), (1897, 1899, 10117, 10119), (3325, 3327, 8049, 8051), (3302, 3304, 6345, 6347), (4434, 4436, 9769, 9771), (1824, 1826, 10123, 10125), (1966, 1968, 9425, 9427), (4706, 4708, 7558, 7560), (3088, 3090, 9478, 9480), (5076, 5078, 7760, 7762), (4699, 4701, 8941, 8943), (1918, 1920, 7774, 7776), (4914, 4916, 10034, 10036), (1693, 1695, 7790, 7792), (3304, 3306, 8058, 8060), (1044, 1046, 5758, 5760), (279, 281, 9109, 9111), (1861, 1863, 10086, 10088), (1764, 1766, 10153, 10155), (5158, 5160, 9426, 9428), (1738, 1740, 7777, 7779), (3351, 3353, 8091, 8093), (310, 312, 9040, 9042), (4746, 4748, 9242, 9244), (3342, 3344, 6419, 6421), (1937, 1939, 9410, 9412), (1980, 1982, 9457, 9459), (1899, 1901, 10057, 10059), (3223, 3225, 6430, 6432), (1208, 1210, 7775, 7777), (5071, 5073, 8465, 8467), (1869, 1871, 7776, 7778), (5130, 5132, 8240, 8242), (3365, 3367, 6350, 6352), (336, 338, 9082, 9084), (1120, 1122, 5757, 5759), (1790, 1792, 7780, 7782), (3332, 3334, 6349, 6351), (1845, 1847, 10065, 10067), (4457, 4459, 9733, 9735), (4843, 4845, 8614, 8616), (5141, 5143, 8779, 8781), (4886, 4888, 10084, 10086), (5165, 5167, 8344, 8346), (2001, 2003, 7789, 7791), (1899, 1901, 10114, 10116), (1930, 1932, 9427, 9429), (4436, 4438, 9742, 9744), (1968, 1970, 9398, 9400), (3365, 3367, 6407, 6409), (3287, 3289, 6419, 6421), (4417, 4419, 9797, 9799), (1949, 1951, 9453, 9455), (1781, 1783, 7775, 7777), (1918, 1920, 10116, 10118), (4933, 4935, 10174, 10176), (3233, 3235, 6427, 6429), (1845, 1847, 10122, 10124), (248, 250, 9081, 9083), (4883, 4885, 3858, 3860), (4803, 4805, 8036, 8038), (3377, 3379, 6393, 6395), (4495, 4497, 9761, 9763), (3311, 3313, 8025, 8027), (1760, 1762, 7784, 7786), (4429, 4431, 9783, 9785), (2025, 2027, 7785, 7787), (3356, 3358, 6402, 6404), (4976, 4978, 7350, 7352), (4812, 4814, 9928, 9930), (1156, 1158, 7780, 7782), (3358, 3360, 8034, 8036), (1726, 1728, 10166, 10168), (1693, 1695, 7774, 7776), (4898, 4900, 7793, 7795), (3079, 3081, 9481, 9483), (4412, 4414, 9754, 9756), (3347, 3349, 6397, 6399), (5189, 5191, 9796, 9798), (4772, 4774, 998, 1000), (4969, 4971, 3390, 3392), (5194, 5196, 9953, 9955), (1847, 1849, 10095, 10097), (5094, 5096, 8567, 8569), (3365, 3367, 6334, 6336), (4770, 4772, 6726, 6728), (1080, 1082, 5748, 5750), (4417, 4419, 9724, 9726), (3306, 3308, 6372, 6374), (227, 229, 9123, 9125), (1956, 1958, 9396, 9398), (5166, 5168, 9141, 9143), (5166, 5168, 8336, 8338), (1961, 1963, 7780, 7782), (3169, 3171, 6422, 6424), (3181, 3183, 6432, 6434), (5163, 5165, 9437, 9439), (317, 319, 9121, 9123), (1906, 1908, 10114, 10116), (4985, 4987, 8063, 8065), (4993, 4995, 10128, 10130), (3356, 3358, 6329, 6331), (4708, 4710, 8938, 8940), (1878, 1880, 10107, 10109), (3356, 3358, 8102, 8104), (3335, 3337, 6338, 6340), (1172, 1174, 7785, 7787), (1928, 1930, 9446, 9448), (1890, 1892, 10093, 10095), (1793, 1795, 10160, 10162), (1755, 1757, 7774, 7776), (334, 336, 9077, 9079), (3309, 3311, 6353, 6355), (3365, 3367, 8058, 8060), (4914, 4916, 7798, 7800), (4469, 4471, 9784, 9786), (1850, 1852, 10076, 10078), (3178, 3180, 7777, 7779), (3190, 3192, 7787, 7789), (1816, 1818, 10091, 10093), (1719, 1721, 10158, 10160), (3287, 3289, 8070, 8072), (4398, 4400, 6429, 6431), (1767, 1769, 7784, 7786), (4798, 4800, 8725, 8727), (312, 314, 9078, 9080), (4935, 4937, 9106, 9108), (5364, 5366, 8465, 8467), (1985, 1987, 9419, 9421), (234, 236, 9090, 9092), (246, 248, 9100, 9102), (4481, 4483, 9770, 9772), (4779, 4781, 567, 569), (4493, 4495, 9780, 9782), (3370, 3372, 6418, 6420), (1828, 1830, 10077, 10079), (1835, 1837, 10093, 10095), (5194, 5196, 9961, 9963), (4405, 4407, 5721, 5723), (272, 274, 9061, 9063), (5336, 5338, 8458, 8460), (3337, 3339, 8027, 8029), (1745, 1747, 7785, 7787), (3356, 3358, 8053, 8055), (324, 326, 9064, 9066), (3316, 3318, 8036, 8038), (284, 286, 9047, 9049), (4831, 4833, 10019, 10021), (5035, 5037, 10199, 10201), (3354, 3356, 6397, 6399), (4438, 4440, 9780, 9782), (1115, 1117, 5755, 5757), (5158, 5160, 9288, 9290), (1970, 1972, 9436, 9438), (263, 265, 9056, 9058), (3294, 3296, 8037, 8039), (1895, 1897, 7786, 7788), (1996, 1998, 7787, 7789), (305, 307, 6330, 6332), (3320, 3322, 6388, 6390), (241, 243, 9057, 9059), (3358, 3360, 6359, 6361), (3273, 3275, 6436, 6438), (3306, 3308, 8023, 8025), (4410, 4412, 9749, 9751), (4862, 4864, 4396, 4398), (4983, 4985, 8082, 8084), (1942, 1944, 9405, 9407), (4810, 4812, 8662, 8664), (5040, 5042, 427, 429), (3370, 3372, 6345, 6347), (1892, 1894, 10123, 10125), (3100, 3102, 9464, 9466), (1959, 1961, 7775, 7777), (3349, 3351, 6354, 6356), (4900, 4902, 1659, 1661), (1937, 1939, 7776, 7778), (5194, 5196, 9945, 9947), (3152, 3154, 9467, 9469), (1795, 1797, 10141, 10143), (3370, 3372, 8069, 8071), (5161, 5163, 9220, 9222), (5073, 5075, 7739, 7741), (5078, 5080, 7709, 7711), (3162, 3164, 9464, 9466), (1871, 1873, 10059, 10061), (3313, 3315, 8023, 8025), (1707, 1709, 10140, 10142), (4742, 4744, 9240, 9242), (5130, 5132, 8143, 8145), (5090, 5092, 7963, 7965), (5357, 5359, 5408, 5410), (3377, 3379, 8036, 8038), (5080, 5082, 8056, 8058), (1914, 1916, 10057, 10059), (317, 319, 9040, 9042), (4896, 4898, 10008, 10010), (3325, 3327, 6350, 6352), (5160, 5162, 8391, 8393), (2020, 2022, 7775, 7777), (5144, 5146, 8126, 8128)]\n",
      "2266\n"
     ]
    }
   ],
   "source": [
    "clusters_2x2 = filter_and_form_clusters(coords_to_recompute, neighborx=2, neighbory=2)\n",
    "print(clusters_2x2)\n",
    "print(len(clusters_2x2))"
   ]
  },
  {
   "cell_type": "code",
   "execution_count": 37,
   "metadata": {},
   "outputs": [
    {
     "name": "stdout",
     "output_type": "stream",
     "text": [
      "191.7666644997597 -52.86666875767544\n"
     ]
    }
   ],
   "source": [
    "print(ds.coords['lon'].values[5752], ds.coords['lat'].values[1114])"
   ]
  },
  {
   "cell_type": "code",
   "execution_count": 43,
   "metadata": {},
   "outputs": [],
   "source": [
    "def find_nearest_lonlat(dz, ilon, ilat):\n",
    "    ilon = ilon + 360 if ilon < 0 else ilon\n",
    "    abs_diff_lat = np.abs(dz['lat'].values - ilat)  # Calculate absolute difference from desired value\n",
    "    nearest_lat_index = np.argmin(abs_diff_lat)  # Get index of smallest difference\n",
    "    nearest_lat = dz['lat'].values[nearest_lat_index]\n",
    "    abs_diff_lon = np.abs(dz['lon'].values - ilon)  \n",
    "    nearest_lon_index = np.argmin(abs_diff_lon)  \n",
    "    nearest_lon = dz['lon'].values[nearest_lon_index]\n",
    "    return (nearest_lon, nearest_lat, nearest_lon_index, nearest_lat_index)\n",
    "\n",
    "def find_cluster_index(clusters, lon_index, lat_index):\n",
    "    for idx, (lat_start, lat_end, lon_start, lon_end) in enumerate(clusters):\n",
    "        if lat_start <= lat_index < lat_end and lon_start <= lon_index < lon_end:\n",
    "            return idx  # Return index of the found cluster\n",
    "    return -1  # Return -1 if no cluster contains the provided indices\n",
    "\n",
    "def find_recompoute_index(list_to_recompute, lon_index, lat_index):\n",
    "    for idx, (lat, lon) in enumerate(list_to_recompute):\n",
    "        if lat == lat_index and lon == lon_index:\n",
    "            return idx  # Return index of the found coords\n",
    "    return -1  # Return -1 if no coords contains the provided indices\n"
   ]
  },
  {
   "cell_type": "code",
   "execution_count": 61,
   "metadata": {},
   "outputs": [
    {
     "name": "stdout",
     "output_type": "stream",
     "text": [
      "121.99999862182065 -9.000000355972489 3659 2430\n",
      "534\n",
      "(2428, 2433, 3656, 3661)\n",
      "475496\n",
      "(2430, 3659)\n",
      "[[[6.91453119e-02 1.65097759e-01 5.43460462e-02 2.41392962e-01\n",
      "   5.68252491e-01 3.01851075e+00 8.67283057e-02 1.44436726e+00\n",
      "   4.01194331e-01 7.50599604e-03 2.92606777e-03 2.61325997e-03\n",
      "   9.71716825e-02 1.63083734e-01 6.47662973e-02]]] [[[ 66.29900703  68.61961161 102.20783183 104.95377279  69.63127191\n",
      "    93.62177178 349.26245427 160.7580917  160.74522363 324.61925127\n",
      "    84.36787633 205.05400313  17.86357601  51.81990074 356.71422352]]] [[[1.94456026e-02 4.49745854e-02 1.33725985e-02 6.27619769e-02\n",
      "   1.64657124e-01 8.59102122e-01 2.52046901e-02 4.20720427e-01\n",
      "   1.16438867e-01 2.24817211e-03 6.23693231e-04 7.39258797e-04\n",
      "   2.92209951e-02 3.08506264e-02 8.58493185e-03]]] [[[         nan          nan          nan          nan          nan\n",
      "            nan          nan          nan 158.61111736 323.33636416\n",
      "    68.13856822 204.61323736  15.72410121  22.13877412 332.72600963]]]\n"
     ]
    }
   ],
   "source": [
    "clusters_chk = clusters_5x5\n",
    "x1, y1, x1idx, y1idx = find_nearest_lonlat(ds, 122, -9) #existed example in 2x2: 191.76, -52.87\n",
    "print(x1, y1, x1idx, y1idx)\n",
    "chk_idx = find_cluster_index(clusters_chk, x1idx, y1idx)\n",
    "print(chk_idx)\n",
    "if chk_idx >= 0:\n",
    "    print(clusters_chk[chk_idx])\n",
    "\n",
    "chk_coords = find_recompoute_index(list(coords_to_recompute), x1idx, y1idx)\n",
    "print(chk_coords)\n",
    "if chk_coords >= 0:\n",
    "    print(list(coords_to_recompute)[chk_coords])\n",
    "\n",
    "chk_ds = ds.isel(lat=slice(y1idx, y1idx+1), lon=slice(x1idx, x1idx+1))\n",
    "print(chk_ds['u_amp'].values, chk_ds['u_ph'].values, chk_ds['v_amp'].values, chk_ds['v_ph'].values)"
   ]
  },
  {
   "cell_type": "code",
   "execution_count": 18,
   "metadata": {},
   "outputs": [
    {
     "name": "stdout",
     "output_type": "stream",
     "text": [
      "[]\n",
      "0\n"
     ]
    }
   ],
   "source": [
    "# Filter coordinates and form 1x4 clusters (fillna05:445 -> 06, with extrapolate:0)\n",
    "#clusters_1x4 = filter_and_form_clusters(coords_to_recompute, neighborx=1, neighbory=4)\n",
    "#print(clusters_1x4)\n",
    "#print(len(clusters_1x4))\n",
    "# (filter06:475 -> 07, with extrapolate: 0)\n",
    "#clusters_2x3 = filter_and_form_clusters(coords_to_recompute, neighborx=2, neighbory=3)\n",
    "#print(clusters_2x3)\n",
    "#print(len(clusters_2x3))"
   ]
  },
  {
   "cell_type": "code",
   "execution_count": 25,
   "metadata": {},
   "outputs": [
    {
     "name": "stdout",
     "output_type": "stream",
     "text": [
      "[(5071, 5072, 8288, 8293), (5400, 5401, 9668, 9673), (5400, 5401, 3252, 3257), (5400, 5401, 6635, 6640), (4767, 4768, 6722, 6727), (5400, 5401, 219, 224), (5400, 5401, 10018, 10023), (5400, 5401, 3602, 3607), (336, 337, 9092, 9097), (5400, 5401, 8863, 8868), (5400, 5401, 2447, 2452), (5144, 5145, 8119, 8124), (5400, 5401, 5830, 5835), (5400, 5401, 9213, 9218), (5147, 5148, 8767, 8772), (5088, 5089, 616, 621), (5400, 5401, 8058, 8063), (5183, 5184, 9521, 9526), (5400, 5401, 1642, 1647), (4907, 4908, 1709, 1714), (5146, 5147, 8141, 8146), (5400, 5401, 5025, 5030), (5106, 5107, 7961, 7966), (4979, 4980, 2901, 2906), (5400, 5401, 3870, 3875), (5400, 5401, 7253, 7258), (5400, 5401, 837, 842), (5400, 5401, 10636, 10641), (5400, 5401, 4220, 4225), (5137, 5138, 8721, 8726), (5131, 5132, 8152, 8157), (5400, 5401, 9481, 9486), (5400, 5401, 3065, 3070), (5126, 5127, 1742, 1747), (5400, 5401, 6448, 6453), (5400, 5401, 32, 37), (5400, 5401, 9831, 9836), (4788, 4789, 592, 597), (5102, 5103, 8861, 8866), (5400, 5401, 8676, 8681), (5400, 5401, 2260, 2265), (5400, 5401, 5643, 5648), (5400, 5401, 9026, 9031), (1921, 1922, 9399, 9404), (5400, 5401, 4488, 4493), (243, 244, 9040, 9045), (5400, 5401, 7871, 7876), (5400, 5401, 1455, 1460), (5400, 5401, 4838, 4843), (4490, 4491, 9720, 9725), (5191, 5192, 9575, 9580), (4953, 4954, 10161, 10166), (4786, 4787, 8708, 8713), (5400, 5401, 10099, 10104), (5400, 5401, 3683, 3688), (5400, 5401, 7066, 7071), (5400, 5401, 650, 655), (5400, 5401, 10449, 10454), (5400, 5401, 4033, 4038), (5400, 5401, 9294, 9299), (5400, 5401, 2878, 2883), (5084, 5085, 7745, 7750), (5400, 5401, 6261, 6266), (5400, 5401, 9644, 9649), (4985, 4986, 8089, 8094), (5400, 5401, 8489, 8494), (5400, 5401, 2073, 2078), (200, 201, 5043, 5048), (5400, 5401, 5456, 5461), (4546, 4547, 9516, 9521), (5159, 5160, 8403, 8408), (4600, 4601, 303, 308), (5400, 5401, 4301, 4306), (5400, 5401, 7684, 7689), (5400, 5401, 1268, 1273), (4656, 4657, 10384, 10389), (5400, 5401, 4651, 4656), (5111, 5112, 7931, 7936), (5400, 5401, 9912, 9917), (5400, 5401, 3496, 3501), (5400, 5401, 6879, 6884), (5400, 5401, 463, 468), (5400, 5401, 10262, 10267), (5400, 5401, 3846, 3851), (4846, 4847, 8548, 8553), (5400, 5401, 9107, 9112), (5400, 5401, 2691, 2696), (5188, 5189, 8662, 8667), (5400, 5401, 6074, 6079), (5400, 5401, 9457, 9462), (5400, 5401, 4919, 4924), (5062, 5063, 8307, 8312), (5400, 5401, 1886, 1891), (5400, 5401, 8302, 8307), (5400, 5401, 5269, 5274), (3278, 3279, 6367, 6372), (4795, 4796, 584, 589), (4997, 4998, 10140, 10145), (5400, 5401, 4114, 4119), (5400, 5401, 7497, 7502), (5400, 5401, 1081, 1086), (4518, 4519, 9509, 9514), (5400, 5401, 4464, 4469), (5194, 5195, 9499, 9504), (4793, 4794, 9155, 9160), (5035, 5036, 8688, 8693), (5400, 5401, 9725, 9730), (5400, 5401, 3309, 3314), (5400, 5401, 276, 281), (5400, 5401, 6692, 6697), (5400, 5401, 10075, 10080), (4752, 4753, 1529, 1534), (5400, 5401, 8920, 8925), (5400, 5401, 2504, 2509), (5400, 5401, 5887, 5892), (4889, 4890, 3870, 3875), (4979, 4980, 10179, 10184), (5042, 5043, 8249, 8254), (5400, 5401, 4732, 4737), (5400, 5401, 8115, 8120), (5400, 5401, 1699, 1704), (5400, 5401, 5082, 5087), (5191, 5192, 9819, 9824), (4888, 4889, 3594, 3599), (5195, 5196, 9938, 9943), (5400, 5401, 10343, 10348), (5400, 5401, 3927, 3932), (5400, 5401, 7310, 7315), (5400, 5401, 894, 899), (5400, 5401, 10693, 10698), (5400, 5401, 4277, 4282), (5400, 5401, 9538, 9543), (4813, 4814, 9970, 9975), (5400, 5401, 3122, 3127), (3379, 3380, 8059, 8064), (5400, 5401, 6505, 6510), (4679, 4680, 10155, 10160), (5400, 5401, 89, 94), (5400, 5401, 9888, 9893), (5159, 5160, 9452, 9457), (4876, 4877, 3852, 3857), (5400, 5401, 8733, 8738), (5400, 5401, 2317, 2322), (4888, 4889, 3862, 3867), (5400, 5401, 5700, 5705), (5016, 5017, 8743, 8748), (5400, 5401, 4545, 4550), (5400, 5401, 7928, 7933), (5400, 5401, 1512, 1517), (4552, 4553, 9524, 9529), (5400, 5401, 4895, 4900), (5194, 5195, 9930, 9935), (4829, 4830, 9243, 9248), (5126, 5127, 8483, 8488), (5400, 5401, 10156, 10161), (5400, 5401, 3740, 3745), (4745, 4746, 9141, 9146), (5400, 5401, 7123, 7128), (5113, 5114, 1431, 1436), (5400, 5401, 707, 712), (5117, 5118, 7966, 7971), (5400, 5401, 10506, 10511), (5400, 5401, 4090, 4095), (5075, 5076, 8494, 8499), (5400, 5401, 9351, 9356), (5400, 5401, 2935, 2940), (5400, 5401, 6318, 6323), (4985, 4986, 7796, 7801), (5400, 5401, 9701, 9706), (5080, 5081, 8033, 8038), (5400, 5401, 5163, 5168), (5400, 5401, 8546, 8551), (5400, 5401, 2130, 2135), (4888, 4889, 3675, 3680), (5400, 5401, 5513, 5518), (4732, 4733, 9147, 9152), (323, 324, 6230, 6235), (5400, 5401, 10774, 10779), (4968, 4969, 8111, 8116), (5400, 5401, 4358, 4363), (5400, 5401, 7741, 7746), (5400, 5401, 1325, 1330), (5400, 5401, 4708, 4713), (5047, 5048, 648, 653), (4938, 4939, 2583, 2588), (5400, 5401, 9969, 9974), (5400, 5401, 3553, 3558), (5400, 5401, 6936, 6941), (5400, 5401, 520, 525), (4900, 4901, 9996, 10001), (5400, 5401, 10319, 10324), (4887, 4888, 8256, 8261), (5184, 5185, 8600, 8605), (4251, 4252, 10647, 10652), (5400, 5401, 9164, 9169), (5400, 5401, 2748, 2753), (5400, 5401, 6131, 6136), (5046, 5047, 8262, 8267), (4994, 4995, 8072, 8077), (4704, 4705, 2082, 2087), (5400, 5401, 4976, 4981), (4807, 4808, 675, 680), (5400, 5401, 8359, 8364), (5400, 5401, 1943, 1948), (5400, 5401, 5326, 5331), (5400, 5401, 10587, 10592), (5089, 5090, 337, 342), (5400, 5401, 4171, 4176), (5400, 5401, 7554, 7559), (5400, 5401, 1138, 1143), (5400, 5401, 4521, 4526), (5194, 5195, 9556, 9561), (5192, 5193, 9860, 9865), (5194, 5195, 9906, 9911), (5400, 5401, 9782, 9787), (5400, 5401, 3366, 3371), (5400, 5401, 6749, 6754), (5400, 5401, 333, 338), (5400, 5401, 10132, 10137), (5080, 5081, 8464, 8469), (5400, 5401, 8977, 8982), (5400, 5401, 2561, 2566), (5400, 5401, 5944, 5949), (5034, 5035, 494, 499), (5400, 5401, 4789, 4794), (5400, 5401, 8172, 8177), (4891, 4892, 3599, 3604), (5400, 5401, 1756, 1761), (5400, 5401, 5139, 5144), (5037, 5038, 10190, 10195), (5400, 5401, 10400, 10405), (5400, 5401, 3984, 3989), (5118, 5119, 8435, 8440), (5400, 5401, 7367, 7372), (5400, 5401, 951, 956), (5400, 5401, 10750, 10755), (4744, 4745, 9133, 9138), (5103, 5104, 2835, 2840), (4449, 4450, 8461, 8466), (5400, 5401, 9595, 9600), (4748, 4749, 5468, 5473), (5400, 5401, 3179, 3184), (5059, 5060, 634, 639), (5400, 5401, 6562, 6567), (5400, 5401, 146, 151), (5400, 5401, 9945, 9950), (4941, 4942, 1702, 1707), (4857, 4858, 9144, 9149), (399, 400, 6335, 6340), (5400, 5401, 5407, 5412), (5026, 5027, 470, 475), (5400, 5401, 8790, 8795), (5157, 5158, 9032, 9037), (5400, 5401, 2374, 2379), (5400, 5401, 5757, 5762), (5400, 5401, 4602, 4607), (5400, 5401, 7985, 7990), (5400, 5401, 1569, 1574), (4904, 4905, 7781, 7786), (5400, 5401, 4952, 4957), (5055, 5056, 379, 384), (5400, 5401, 10213, 10218), (5400, 5401, 3797, 3802), (5185, 5186, 9470, 9475), (5400, 5401, 7180, 7185), (5400, 5401, 764, 769), (5400, 5401, 10563, 10568), (4848, 4849, 8545, 8550), (5400, 5401, 9408, 9413), (5400, 5401, 2992, 2997), (5400, 5401, 6375, 6380), (5104, 5105, 2849, 2854), (4893, 4894, 8264, 8269), (4762, 4763, 8747, 8752), (4672, 4673, 9204, 9209), (4686, 4687, 5877, 5882), (5400, 5401, 5220, 5225), (4681, 4682, 8916, 8921), (5400, 5401, 8603, 8608), (5400, 5401, 2187, 2192), (5400, 5401, 5570, 5575), (5066, 5067, 8326, 8331), (5400, 5401, 4415, 4420), (5400, 5401, 7798, 7803), (5400, 5401, 1382, 1387), (5400, 5401, 4765, 4770), (5194, 5195, 9800, 9805), (5400, 5401, 227, 232), (5184, 5185, 9462, 9467), (5400, 5401, 10026, 10031), (5400, 5401, 3610, 3615), (5181, 5182, 8410, 8415), (5191, 5192, 9852, 9857), (5400, 5401, 6993, 6998), (5400, 5401, 577, 582), (5400, 5401, 10376, 10381), (5140, 5141, 8759, 8764), (4969, 4970, 3400, 3405), (5151, 5152, 9298, 9303), (5400, 5401, 5838, 5843), (5400, 5401, 9221, 9226), (5147, 5148, 8775, 8780), (4751, 4752, 8775, 8780), (5400, 5401, 2805, 2810), (5400, 5401, 6188, 6193), (5400, 5401, 5033, 5038), (5400, 5401, 8416, 8421), (5400, 5401, 2000, 2005), (4865, 4866, 8257, 8262), (5400, 5401, 5383, 5388), (3276, 3277, 6435, 6440), (5161, 5162, 8376, 8381), (5400, 5401, 10644, 10649), (5400, 5401, 4228, 4233), (5400, 5401, 7611, 7616), (5400, 5401, 1195, 1200), (3316, 3317, 8062, 8067), (5071, 5072, 8459, 8464), (5092, 5093, 2920, 2925), (5400, 5401, 40, 45), (5194, 5195, 9963, 9968), (5400, 5401, 9839, 9844), (5400, 5401, 3423, 3428), (4870, 4871, 4389, 4394), (5139, 5140, 8751, 8756), (5180, 5181, 8752, 8757), (4800, 4801, 9285, 9290), (5400, 5401, 6806, 6811), (5400, 5401, 390, 395), (4979, 4980, 7715, 7720), (5130, 5131, 8234, 8239), (5400, 5401, 5651, 5656), (337, 338, 9084, 9089), (5400, 5401, 9034, 9039), (5400, 5401, 2618, 2623), (4872, 4873, 10046, 10051), (4860, 4861, 8531, 8536), (5400, 5401, 6001, 6006), (4886, 4887, 10102, 10107), (4818, 4819, 8655, 8660), (5400, 5401, 4846, 4851), (4911, 4912, 1649, 1654), (4891, 4892, 10072, 10077), (5400, 5401, 8229, 8234), (5400, 5401, 1813, 1818), (4953, 4954, 10169, 10174), (5400, 5401, 5196, 5201), (5070, 5071, 8475, 8480), (5400, 5401, 10457, 10462), (5400, 5401, 4041, 4046), (5400, 5401, 1008, 1013), (5400, 5401, 7424, 7429), (5400, 5401, 9652, 9657), (5400, 5401, 3236, 3241), (4751, 4752, 9206, 9211), (5400, 5401, 6619, 6624), (5400, 5401, 203, 208), (4950, 4951, 2626, 2631), (4829, 4830, 4551, 4556), (5400, 5401, 5464, 5469), (5400, 5401, 8847, 8852), (5400, 5401, 2431, 2436), (5400, 5401, 5814, 5819), (5163, 5164, 9284, 9289), (5400, 5401, 4659, 4664), (1920, 1921, 10099, 10104), (5400, 5401, 8042, 8047), (5183, 5184, 9505, 9510), (5400, 5401, 1626, 1631), (4984, 4985, 2879, 2884), (5193, 5194, 9819, 9824), (5400, 5401, 471, 476), (5400, 5401, 10270, 10275), (5400, 5401, 3854, 3859), (5400, 5401, 7237, 7242), (5400, 5401, 821, 826), (5136, 5137, 1714, 1719), (5400, 5401, 10620, 10625), (5131, 5132, 8136, 8141), (5400, 5401, 6082, 6087), (5400, 5401, 9465, 9470), (5400, 5401, 3049, 3054), (145, 146, 6312, 6317), (5400, 5401, 6432, 6437), (5400, 5401, 16, 21), (5112, 5113, 2767, 2772), (4892, 4893, 1680, 1685), (5400, 5401, 5277, 5282), (5400, 5401, 8660, 8665), (5400, 5401, 2244, 2249), (3278, 3279, 6375, 6380), (5400, 5401, 5627, 5632), (4978, 4979, 2901, 2906), (1921, 1922, 9383, 9388), (5400, 5401, 4472, 4477), (5400, 5401, 7855, 7860), (5400, 5401, 1439, 1444), (4400, 4401, 9811, 9816), (5030, 5031, 8702, 8707), (5123, 5124, 1696, 1701), (5400, 5401, 284, 289), (4814, 4815, 9986, 9991), (5184, 5185, 9519, 9524), (5400, 5401, 10083, 10088), (5400, 5401, 3667, 3672), (5124, 5125, 1517, 1522), (5400, 5401, 7050, 7055), (5400, 5401, 634, 639), (4705, 4706, 8888, 8893), (186, 187, 5776, 5781), (5400, 5401, 5895, 5900), (5400, 5401, 9278, 9283), (5400, 5401, 2862, 2867), (5400, 5401, 6245, 6250), (5400, 5401, 5090, 5095), (5400, 5401, 8473, 8478), (5400, 5401, 2057, 2062), (5400, 5401, 5440, 5445), (4830, 4831, 9259, 9264), (4890, 4891, 10064, 10069), (4951, 4952, 4301, 4306), (4808, 4809, 7406, 7411), (5400, 5401, 902, 907), (5400, 5401, 4285, 4290), (5400, 5401, 10701, 10706), (5400, 5401, 7668, 7673), (5400, 5401, 1252, 1257), (4813, 4814, 9978, 9983), (5400, 5401, 97, 102), (5400, 5401, 9896, 9901), (5400, 5401, 3480, 3485), (5400, 5401, 6863, 6868), (5400, 5401, 447, 452), (4663, 4664, 9229, 9234), (675, 676, 8786, 8791), (5400, 5401, 5708, 5713), (5400, 5401, 9091, 9096), (5400, 5401, 2675, 2680), (4917, 4918, 9122, 9127), (5400, 5401, 6058, 6063), (5400, 5401, 4903, 4908), (5400, 5401, 8286, 8291), (5400, 5401, 1870, 1875), (4894, 4895, 9996, 10001), (4915, 4916, 7840, 7845), (5400, 5401, 715, 720), (5117, 5118, 7974, 7979), (5400, 5401, 10514, 10519), (5400, 5401, 4098, 4103), (5400, 5401, 7481, 7486), (5400, 5401, 1065, 1070), (4475, 4476, 9796, 9801), (5194, 5195, 9483, 9488), (4514, 4515, 9724, 9729), (5400, 5401, 6326, 6331), (5400, 5401, 9709, 9714), (5400, 5401, 3293, 3298), (5080, 5081, 8041, 8046), (5400, 5401, 6676, 6681), (5400, 5401, 260, 265), (1807, 1808, 10145, 10150), (144, 145, 5930, 5935), (5400, 5401, 5521, 5526), (5400, 5401, 8904, 8909), (5400, 5401, 2488, 2493), (5400, 5401, 5871, 5876), (4979, 4980, 10163, 10168), (5311, 5312, 8458, 8463), (5162, 5163, 8335, 8340), (5400, 5401, 4716, 4721), (5047, 5048, 656, 661), (5400, 5401, 8099, 8104), (5183, 5184, 9562, 9567), (5400, 5401, 1683, 1688), (4858, 4859, 7900, 7905), (5193, 5194, 9876, 9881), (5190, 5191, 9578, 9583), (5400, 5401, 528, 533), (5400, 5401, 10327, 10332), (5400, 5401, 3911, 3916), (4891, 4892, 9137, 9142), (5400, 5401, 878, 883), (5400, 5401, 7294, 7299), (5400, 5401, 6139, 6144), (5400, 5401, 9522, 9527), (5400, 5401, 3106, 3111), (3379, 3380, 8043, 8048), (5400, 5401, 6489, 6494), (5141, 5142, 8480, 8485), (5400, 5401, 5334, 5339), (5400, 5401, 8717, 8722), (5400, 5401, 2301, 2306), (5400, 5401, 5684, 5689), (4793, 4794, 576, 581), (5400, 5401, 1146, 1151), (1921, 1922, 9440, 9445), (5400, 5401, 4529, 4534), (5400, 5401, 1496, 1501), (5400, 5401, 7912, 7917), (5115, 5116, 8682, 8687), (5192, 5193, 9868, 9873), (5194, 5195, 9914, 9919), (5400, 5401, 341, 346), (5400, 5401, 6757, 6762), (5400, 5401, 10140, 10145), (5080, 5081, 8472, 8477), (5400, 5401, 3724, 3729), (5400, 5401, 7107, 7112), (5400, 5401, 691, 696), (5010, 5011, 3165, 3170), (5075, 5076, 8478, 8483), (5400, 5401, 5952, 5957), (5400, 5401, 9335, 9340), (5400, 5401, 2919, 2924), (5400, 5401, 6302, 6307), (4858, 4859, 9136, 9141), (535, 536, 8969, 8974), (4999, 5000, 7836, 7841), (5161, 5162, 9295, 9300), (5400, 5401, 5147, 5152), (5400, 5401, 8530, 8535), (5400, 5401, 2114, 2119), (5400, 5401, 959, 964), (5400, 5401, 10758, 10763), (5400, 5401, 4342, 4347), (5158, 5159, 8192, 8197), (5400, 5401, 7725, 7730), (5400, 5401, 1309, 1314), (4950, 4951, 10148, 10153), (4414, 4415, 9737, 9742), (5400, 5401, 6570, 6575), (5400, 5401, 154, 159), (5400, 5401, 9953, 9958), (5400, 5401, 3537, 3542), (5400, 5401, 6920, 6925), (5400, 5401, 504, 509), (1242, 1243, 7786, 7791), (4699, 4700, 8943, 8948), (673, 674, 8797, 8802), (5400, 5401, 5765, 5770), (5400, 5401, 9148, 9153), (5400, 5401, 2732, 2737), (5400, 5401, 6115, 6120), (4787, 4788, 6854, 6859), (4885, 4886, 9991, 9996), (5400, 5401, 4960, 4965), (5400, 5401, 8343, 8348), (5400, 5401, 1927, 1932), (3283, 3284, 6402, 6407), (5400, 5401, 772, 777), (5400, 5401, 10571, 10576), (5094, 5095, 665, 670), (5400, 5401, 4155, 4160), (5400, 5401, 7538, 7543), (5400, 5401, 1122, 1127), (5192, 5193, 9844, 9849), (5400, 5401, 6383, 6388), (5400, 5401, 9766, 9771), (5400, 5401, 3350, 3355), (5400, 5401, 6733, 6738), (4976, 4977, 7344, 7349), (4880, 4881, 3849, 3854), (5400, 5401, 5578, 5583), (5400, 5401, 8961, 8966), (5400, 5401, 2545, 2550), (5096, 5097, 8176, 8181), (4886, 4887, 10029, 10034), (5400, 5401, 1390, 1395), (5400, 5401, 4773, 4778), (5400, 5401, 8156, 8161), (5400, 5401, 1740, 1745), (4815, 4816, 713, 718), (5400, 5401, 7001, 7006), (5400, 5401, 585, 590), (4808, 4809, 673, 678), (5400, 5401, 10384, 10389), (5400, 5401, 3968, 3973), (5079, 5080, 8491, 8496), (5400, 5401, 7351, 7356), (5400, 5401, 935, 940), (5125, 5126, 1669, 1674), (4815, 4816, 6324, 6329), (4751, 4752, 8783, 8788), (5131, 5132, 8250, 8255), (5400, 5401, 6196, 6201), (5400, 5401, 9579, 9584), (5400, 5401, 3163, 3168), (5400, 5401, 6546, 6551), (4786, 4787, 617, 622), (5400, 5401, 5391, 5396), (673, 674, 8773, 8778), (5400, 5401, 8774, 8779), (5400, 5401, 2358, 2363), (4887, 4888, 3678, 3683), (5161, 5162, 8384, 8389), (5400, 5401, 1203, 1208), (5400, 5401, 4586, 4591), (5400, 5401, 7969, 7974), (5400, 5401, 1553, 1558), (5018, 5019, 8806, 8811), (2647, 2648, 9200, 9205), (4870, 4871, 4397, 4402), (5180, 5181, 8760, 8765), (5400, 5401, 6814, 6819), (5400, 5401, 398, 403), (5400, 5401, 10197, 10202), (5400, 5401, 3781, 3786), (5400, 5401, 7164, 7169), (5400, 5401, 748, 753), (337, 338, 9092, 9097), (4798, 4799, 9166, 9171), (1056, 1057, 5746, 5751), (5400, 5401, 6009, 6014), (4970, 4971, 3392, 3397), (5400, 5401, 9392, 9397), (5152, 5153, 9290, 9295), (5400, 5401, 2976, 2981), (5117, 5118, 10235, 10240), (5400, 5401, 6359, 6364), (5400, 5401, 1821, 1826), (5400, 5401, 5204, 5209), (5400, 5401, 8587, 8592), (5400, 5401, 2171, 2176), (5190, 5191, 10066, 10071), (5400, 5401, 7432, 7437), (5400, 5401, 1016, 1021), (645, 646, 2350, 2355), (3248, 3249, 6436, 6441), (5400, 5401, 4399, 4404), (5400, 5401, 7782, 7787), (5108, 5109, 1746, 1751), (5400, 5401, 1366, 1371), (4739, 4740, 9204, 9209), (4601, 4602, 9270, 9275), (4882, 4883, 7977, 7982), (5400, 5401, 6627, 6632), (5400, 5401, 211, 216), (4845, 4846, 9980, 9985), (5400, 5401, 10010, 10015), (5400, 5401, 3594, 3599), (5400, 5401, 6977, 6982), (4772, 4773, 992, 997), (281, 282, 6344, 6349), (4795, 4796, 8708, 8713), (4823, 4824, 9975, 9980), (5400, 5401, 5822, 5827), (5400, 5401, 9205, 9210), (5147, 5148, 8759, 8764), (5400, 5401, 2789, 2794), (5400, 5401, 1634, 1639), (5400, 5401, 5017, 5022), (4900, 4901, 1661, 1666), (5400, 5401, 8400, 8405), (5400, 5401, 1984, 1989), (194, 195, 5139, 5144), (5400, 5401, 7245, 7250), (5400, 5401, 829, 834), (5400, 5401, 10628, 10633), (5400, 5401, 4212, 4217), (5400, 5401, 7595, 7600), (5400, 5401, 1179, 1184), (5400, 5401, 6440, 6445), (5400, 5401, 24, 29), (5400, 5401, 9823, 9828), (5400, 5401, 3407, 3412), (5085, 5086, 8499, 8504), (5400, 5401, 6790, 6795), (4816, 4817, 6015, 6020), (275, 276, 4807, 4812), (5094, 5095, 8561, 8566), (5400, 5401, 5635, 5640), (5400, 5401, 9018, 9023), (5400, 5401, 2602, 2607), (4886, 4887, 10086, 10091), (5400, 5401, 1447, 1452), (5400, 5401, 4830, 4835), (5400, 5401, 8213, 8218), (5400, 5401, 1797, 1802), (4730, 4731, 2352, 2357), (5124, 5125, 1525, 1530), (5400, 5401, 7058, 7063), (5400, 5401, 642, 647), (5400, 5401, 10441, 10446), (5400, 5401, 4025, 4030), (4707, 4708, 8942, 8947), (5178, 5179, 8527, 8532), (5400, 5401, 7408, 7413), (4884, 4885, 1664, 1669), (5077, 5078, 8071, 8076), (4790, 4791, 8014, 8019), (4871, 4872, 7444, 7449), (1863, 1864, 7776, 7781), (5400, 5401, 6253, 6258), (5400, 5401, 9636, 9641), (5400, 5401, 3220, 3225), (5121, 5122, 7969, 7974), (5400, 5401, 6603, 6608), (5400, 5401, 2065, 2070), (5400, 5401, 5448, 5453), (5400, 5401, 8831, 8836), (5400, 5401, 2415, 2420), (4950, 4951, 1805, 1810), (5400, 5401, 7676, 7681), (4715, 4716, 7573, 7578), (5400, 5401, 1260, 1265), (5400, 5401, 4643, 4648), (5400, 5401, 8026, 8031), (5400, 5401, 1610, 1615), (5118, 5119, 7939, 7944), (5400, 5401, 455, 460), (5400, 5401, 6871, 6876), (5400, 5401, 10254, 10259), (5400, 5401, 3838, 3843), (5400, 5401, 7221, 7226), (5400, 5401, 6066, 6071), (5150, 5151, 9301, 9306), (5400, 5401, 9449, 9454), (5400, 5401, 3033, 3038), (5400, 5401, 1878, 1883), (3349, 3350, 8104, 8109), (5400, 5401, 5261, 5266), (5400, 5401, 8644, 8649), (5400, 5401, 2228, 2233), (4915, 4916, 7848, 7853), (5400, 5401, 7489, 7494), (5400, 5401, 1073, 1078), (5400, 5401, 4456, 4461), (5400, 5401, 7839, 7844), (5400, 5401, 1423, 1428), (4898, 4899, 10072, 10077), (277, 278, 6333, 6338), (5400, 5401, 6684, 6689), (5400, 5401, 268, 273), (5400, 5401, 10067, 10072), (5400, 5401, 3651, 3656), (5400, 5401, 7034, 7039), (1807, 1808, 10153, 10158), (3057, 3058, 9476, 9481), (5130, 5131, 1696, 1701), (4815, 4816, 6007, 6012), (5400, 5401, 2496, 2501), (5400, 5401, 5879, 5884), (5400, 5401, 9262, 9267), (5400, 5401, 2846, 2851), (4889, 4890, 3862, 3867), (4979, 4980, 10171, 10176), (4933, 4934, 10176, 10181), (5037, 5038, 8247, 8252), (5400, 5401, 1691, 1696), (5161, 5162, 9222, 9227), (5400, 5401, 5074, 5079), (5400, 5401, 8457, 8462), (5400, 5401, 2041, 2046), (4860, 4861, 7954, 7959), (5195, 5196, 9930, 9935), (5164, 5165, 8365, 8370), (5400, 5401, 7302, 7307), (5400, 5401, 886, 891), (5400, 5401, 10685, 10690), (445, 446, 7824, 7829), (5400, 5401, 4269, 4274), (4780, 4781, 8725, 8730), (5400, 5401, 7652, 7657), (4977, 4978, 7734, 7739), (3379, 3380, 8051, 8056), (5400, 5401, 6497, 6502), (5400, 5401, 81, 86), (5400, 5401, 9880, 9885), (5400, 5401, 3464, 3469), (5400, 5401, 2309, 2314), (5028, 5029, 451, 456), (5400, 5401, 5692, 5697), (5148, 5149, 8100, 8105), (5400, 5401, 9075, 9080), (5400, 5401, 2659, 2664), (4883, 4884, 3860, 3865), (1721, 1722, 10141, 10146), (4753, 4754, 1535, 1540), (1871, 1872, 10085, 10090), (1921, 1922, 9448, 9453), (5400, 5401, 7920, 7925), (5400, 5401, 1504, 1509), (5400, 5401, 4887, 4892), (5400, 5401, 8270, 8275), (5400, 5401, 1854, 1859), (3308, 3309, 8079, 8084), (4728, 4729, 2363, 2368), (4745, 4746, 9133, 9138), (4693, 4694, 8943, 8948), (5400, 5401, 7115, 7120), (5400, 5401, 699, 704), (5400, 5401, 10498, 10503), (5400, 5401, 4082, 4087), (5075, 5076, 8486, 8491), (5400, 5401, 7465, 7470), (5010, 5011, 490, 495), (4756, 4757, 9241, 9246), (5400, 5401, 6310, 6315), (5400, 5401, 9693, 9698), (5400, 5401, 3277, 3282), (5080, 5081, 8025, 8030), (4858, 4859, 9144, 9149), (4759, 4760, 8734, 8739), (4996, 4997, 7923, 7928), (5400, 5401, 2122, 2127), (5400, 5401, 5505, 5510), (4717, 4718, 8858, 8863), (5400, 5401, 8888, 8893), (5400, 5401, 2472, 2477), (4732, 4733, 9139, 9144), (5400, 5401, 7733, 7738), (5162, 5163, 8319, 8324), (5400, 5401, 1317, 1322), (5400, 5401, 4700, 4705), (4933, 4934, 10152, 10157), (4686, 4687, 8740, 8745), (5183, 5184, 9546, 9551), (5400, 5401, 8083, 8088), (5400, 5401, 1667, 1672), (4748, 4749, 9217, 9222), (5400, 5401, 6928, 6933), (5400, 5401, 512, 517), (4802, 4803, 8699, 8704), (5371, 5372, 5409, 5414), (5400, 5401, 10311, 10316), (5400, 5401, 3895, 3900), (5400, 5401, 7278, 7283), (4982, 4983, 7704, 7709), (4981, 4982, 1817, 1822), (5400, 5401, 2740, 2745), (5400, 5401, 6123, 6128), (4990, 4991, 7945, 7950), (5046, 5047, 8254, 8259), (4994, 4995, 8064, 8069), (5400, 5401, 9506, 9511), (5400, 5401, 3090, 3095), (5400, 5401, 8351, 8356), (5400, 5401, 1935, 1940), (5400, 5401, 5318, 5323), (5400, 5401, 8701, 8706), (5168, 5169, 9132, 9137), (5400, 5401, 2285, 2290), (255, 256, 9099, 9104), (4887, 4888, 3605, 3610), (268, 269, 6328, 6333), (400, 401, 8699, 8704), (5400, 5401, 7546, 7551), (5400, 5401, 1130, 1135), (4502, 4503, 9779, 9784), (5400, 5401, 4513, 4518), (5400, 5401, 7896, 7901), (5192, 5193, 9852, 9857), (4969, 4970, 7336, 7341), (5194, 5195, 9898, 9903), (5175, 5176, 8343, 8348), (5400, 5401, 6741, 6746), (5400, 5401, 325, 330), (5060, 5061, 634, 639), (5400, 5401, 10124, 10129), (5400, 5401, 3708, 3713), (4880, 4881, 3857, 3862), (5400, 5401, 2553, 2558), (5400, 5401, 5936, 5941), (5400, 5401, 9319, 9324), (5400, 5401, 2903, 2908), (5034, 5035, 486, 491), (4596, 4597, 260, 265), (5400, 5401, 8164, 8169), (5400, 5401, 1748, 1753), (5400, 5401, 5131, 5136), (4864, 4865, 8534, 8539), (5400, 5401, 8514, 8519), (5400, 5401, 2098, 2103), (4827, 4828, 8652, 8657), (5118, 5119, 8427, 8432), (5400, 5401, 7359, 7364), (5400, 5401, 943, 948), (5400, 5401, 10742, 10747), (5400, 5401, 4326, 4331), (5400, 5401, 7709, 7714), (1754, 1755, 7784, 7789), (5131, 5132, 8258, 8263), (5400, 5401, 6554, 6559), (5400, 5401, 138, 143), (4984, 4985, 7807, 7812), (5400, 5401, 3521, 3526), (5400, 5401, 9937, 9942), (5026, 5027, 462, 467), (5400, 5401, 2366, 2371), (5400, 5401, 5749, 5754), (5400, 5401, 9132, 9137), (5400, 5401, 2716, 2721), (5162, 5163, 8213, 8218), (5400, 5401, 7977, 7982), (5400, 5401, 1561, 1566), (4756, 4757, 7875, 7880), (4995, 4996, 10143, 10148), (1129, 1130, 5748, 5753), (5400, 5401, 4944, 4949), (4919, 4920, 1638, 1643), (5400, 5401, 8327, 8332), (4899, 4900, 10031, 10036), (4985, 4986, 3389, 3394), (4602, 4603, 9286, 9291), (5185, 5186, 9462, 9467), (5190, 5191, 9806, 9811), (5400, 5401, 7172, 7177), (5400, 5401, 756, 761), (5400, 5401, 10555, 10560), (5400, 5401, 4139, 4144), (5400, 5401, 7522, 7527), (240, 241, 6134, 6139), (5070, 5071, 7768, 7773), (5400, 5401, 2984, 2989), (5400, 5401, 6367, 6372), (5400, 5401, 9750, 9755), (5400, 5401, 3334, 3339), (4976, 4977, 7328, 7333), (5400, 5401, 8595, 8600), (5400, 5401, 2179, 2184), (4865, 4866, 8436, 8441), (5400, 5401, 5562, 5567), (5400, 5401, 8945, 8950), (5400, 5401, 2529, 2534), (3339, 3340, 8067, 8072), (5400, 5401, 7790, 7795), (305, 306, 9056, 9061), (5400, 5401, 1374, 1379), (5053, 5054, 512, 517), (5400, 5401, 4757, 4762), (5400, 5401, 8140, 8145), (5063, 5064, 7996, 8001), (5072, 5073, 8459, 8464), (5400, 5401, 6985, 6990), (5400, 5401, 569, 574), (5400, 5401, 10368, 10373), (5400, 5401, 3952, 3957), (4801, 4802, 9285, 9290), (5079, 5080, 8475, 8480), (188, 189, 5757, 5762), (5400, 5401, 2797, 2802), (5131, 5132, 8234, 8239), (5400, 5401, 6180, 6185), (5400, 5401, 9563, 9568), (5142, 5143, 8773, 8778), (5400, 5401, 3147, 3152), (4873, 4874, 10046, 10051), (5138, 5139, 8250, 8255), (4900, 4901, 1669, 1674), (5400, 5401, 8408, 8413), (5400, 5401, 1992, 1997), (1691, 1692, 7380, 7385), (5400, 5401, 5375, 5380), (5015, 5016, 8193, 8198), (5400, 5401, 8758, 8763), (5400, 5401, 2342, 2347), (5016, 5017, 8768, 8773), (4887, 4888, 10078, 10083), (5400, 5401, 1187, 1192), (5400, 5401, 7603, 7608), (3214, 3215, 7777, 7782), (5400, 5401, 4570, 4575), (4803, 4804, 9949, 9954), (5400, 5401, 7953, 7958), (5194, 5195, 9955, 9960), (5400, 5401, 3415, 3420), (5400, 5401, 6798, 6803), (5400, 5401, 382, 387), (5400, 5401, 10181, 10186), (5400, 5401, 3765, 3770), (5132, 5133, 8272, 8277), (5400, 5401, 2610, 2615), (5400, 5401, 5993, 5998), (5400, 5401, 9376, 9381), (5400, 5401, 2960, 2965), (4770, 4771, 6728, 6733), (4886, 4887, 10094, 10099), (5400, 5401, 8221, 8226), (5400, 5401, 1805, 1810), (4528, 4529, 9423, 9428), (3349, 3350, 8031, 8036), (5400, 5401, 5188, 5193), (5400, 5401, 8571, 8576), (5124, 5125, 8299, 8304), (5400, 5401, 7416, 7421), (5400, 5401, 1000, 1005), (5400, 5401, 4383, 4388), (5077, 5078, 8079, 8084), (5400, 5401, 3228, 3233), (5400, 5401, 6611, 6616), (5400, 5401, 195, 200), (5400, 5401, 9994, 9999), (5400, 5401, 3578, 3583), (5400, 5401, 8839, 8844), (5400, 5401, 2423, 2428), (5400, 5401, 5806, 5811), (5400, 5401, 9189, 9194), (5400, 5401, 2773, 2778), (5400, 5401, 8034, 8039), (5400, 5401, 1618, 1623), (4406, 4407, 9805, 9810), (5400, 5401, 5001, 5006), (5400, 5401, 8384, 8389), (5124, 5125, 1696, 1701), (5400, 5401, 7229, 7234), (5400, 5401, 813, 818), (5400, 5401, 10612, 10617), (5400, 5401, 4196, 4201), (3341, 3342, 6397, 6402), (5400, 5401, 3041, 3046), (5126, 5127, 1718, 1723), (5087, 5088, 8179, 8184), (5400, 5401, 6424, 6429), (5400, 5401, 8, 13), (5138, 5139, 1728, 1733), (5400, 5401, 9807, 9812), (5400, 5401, 3391, 3396), (4817, 4818, 6224, 6229), (5013, 5014, 3130, 3135), (5141, 5142, 8765, 8770), (4883, 4884, 7975, 7980), (4882, 4883, 10002, 10007), (5103, 5104, 8658, 8663), (5070, 5071, 604, 609), (5400, 5401, 8652, 8657), (5400, 5401, 2236, 2241), (242, 243, 8815, 8820), (5400, 5401, 5619, 5624), (4922, 4923, 2611, 2616), (5400, 5401, 9002, 9007), (4831, 4832, 10013, 10018), (4996, 4997, 7232, 7237), (5400, 5401, 7847, 7852), (5400, 5401, 1431, 1436), (3379, 3380, 6368, 6373), (5400, 5401, 4814, 4819), (5400, 5401, 8197, 8202), (4814, 4815, 9978, 9983), (5184, 5185, 9511, 9516), (5400, 5401, 3659, 3664), (5400, 5401, 7042, 7047), (5183, 5184, 8505, 8510), (5400, 5401, 626, 631), (5400, 5401, 10425, 10430), (5400, 5401, 4009, 4014), (4690, 4691, 1001, 1006), (5400, 5401, 9270, 9275), (5400, 5401, 2854, 2859), (4839, 4840, 4507, 4512), (5400, 5401, 6237, 6242), (5400, 5401, 9620, 9625), (5400, 5401, 3204, 3209), (4431, 4432, 9758, 9763), (5037, 5038, 8255, 8260), (4985, 4986, 8065, 8070), (5102, 5103, 8650, 8655), (5400, 5401, 8465, 8470), (5400, 5401, 2049, 2054), (5400, 5401, 5432, 5437), (5400, 5401, 8815, 8820), (4828, 4829, 2358, 2363), (1963, 1964, 9414, 9419), (4810, 4811, 7444, 7449), (4847, 4848, 9955, 9960), (4780, 4781, 8733, 8738), (5400, 5401, 7660, 7665), (5400, 5401, 1244, 1249), (5400, 5401, 4627, 4632), (4993, 4994, 10130, 10135), (4924, 4925, 1665, 1670), (5195, 5196, 9483, 9488), (4818, 4819, 7281, 7286), (5400, 5401, 3472, 3477), (5400, 5401, 6855, 6860), (5400, 5401, 439, 444), (5400, 5401, 10238, 10243), (5400, 5401, 3822, 3827), (5078, 5079, 7743, 7748), (5076, 5077, 8047, 8052), (385, 386, 6171, 6176), (5400, 5401, 9083, 9088), (5400, 5401, 2667, 2672), (5400, 5401, 6050, 6055), (4840, 4841, 4141, 4146), (5179, 5180, 8525, 8530), (5400, 5401, 9433, 9438), (5400, 5401, 3017, 3022), (1871, 1872, 10093, 10098), (5400, 5401, 8278, 8283), (5400, 5401, 1862, 1867), (4934, 4935, 10168, 10173), (5400, 5401, 5245, 5250), (5400, 5401, 8628, 8633), (4819, 4820, 1708, 1713), (4941, 4942, 10184, 10189), (5161, 5162, 8238, 8243), (5400, 5401, 7473, 7478), (5400, 5401, 1057, 1062), (5400, 5401, 4440, 4445), (5136, 5137, 8716, 8721), (5400, 5401, 3285, 3290), (5149, 5150, 9301, 9306), (5400, 5401, 6668, 6673), (5400, 5401, 252, 257), (5400, 5401, 10051, 10056), (5400, 5401, 3635, 3640), (5075, 5076, 8039, 8044), (5137, 5138, 1720, 1725), (5138, 5139, 8738, 8743), (4912, 4913, 10088, 10093), (4850, 4851, 9210, 9215), (5400, 5401, 8896, 8901), (5400, 5401, 2480, 2485), (5400, 5401, 5863, 5868), (4898, 4899, 1680, 1685), (5400, 5401, 9246, 9251), (4794, 4795, 576, 581), (4979, 4980, 10155, 10160), (5162, 5163, 8327, 8332), (4869, 4870, 8455, 8460), (5183, 5184, 9554, 9559), (5400, 5401, 8091, 8096), (5400, 5401, 1675, 1680), (5400, 5401, 5058, 5063), (5193, 5194, 9868, 9873), (5400, 5401, 3903, 3908), (5400, 5401, 7286, 7291), (5400, 5401, 870, 875), (4995, 4996, 3036, 3041), (5400, 5401, 10669, 10674), (5400, 5401, 4253, 4258), (5192, 5193, 9592, 9597), (143, 144, 6315, 6320), (5400, 5401, 9514, 9519), (5400, 5401, 3098, 3103), (4815, 4816, 9992, 9997), (5400, 5401, 6481, 6486), (5400, 5401, 65, 70), (5400, 5401, 9864, 9869), (5400, 5401, 3448, 3453), (4786, 4787, 552, 557), (5400, 5401, 8709, 8714), (5400, 5401, 2293, 2298), (5400, 5401, 5676, 5681), (5400, 5401, 9059, 9064), (1921, 1922, 9432, 9437), (4896, 4897, 10091, 10096), (5400, 5401, 7904, 7909), (5400, 5401, 1488, 1493), (5400, 5401, 4871, 4876), (4735, 4736, 8803, 8808), (4950, 4951, 4261, 4266), (243, 244, 4885, 4890), (5400, 5401, 3716, 3721), (5160, 5161, 8393, 8398), (5400, 5401, 7099, 7104), (5400, 5401, 683, 688), (5400, 5401, 10482, 10487), (5400, 5401, 4066, 4071), (4835, 4836, 8229, 8234), (5006, 5007, 10154, 10159), (5400, 5401, 9327, 9332), (5400, 5401, 2911, 2916), (5400, 5401, 6294, 6299), (5400, 5401, 9677, 9682), (5400, 5401, 3261, 3266), (5400, 5401, 8522, 8527), (5400, 5401, 2106, 2111), (5400, 5401, 5489, 5494), (4737, 4738, 449, 454), (5400, 5401, 8872, 8877), (5400, 5401, 4334, 4339), (5400, 5401, 7717, 7722), (5400, 5401, 1301, 1306), (5400, 5401, 4684, 4689), (5400, 5401, 3529, 3534), (5400, 5401, 6912, 6917), (5400, 5401, 496, 501), (5400, 5401, 10295, 10300), (5400, 5401, 3879, 3884), (5176, 5177, 8335, 8340), (4699, 4700, 8935, 8940), (4797, 4798, 8689, 8694), (4977, 4978, 7344, 7349), (5400, 5401, 9140, 9145), (5400, 5401, 2724, 2729), (5400, 5401, 6107, 6112), (4804, 4805, 8705, 8710), (5400, 5401, 9490, 9495), (4885, 4886, 9983, 9988), (5099, 5100, 8222, 8227), (5400, 5401, 8335, 8340), (5400, 5401, 1919, 1924), (5400, 5401, 5302, 5307), (5190, 5191, 9814, 9819), (5312, 5313, 8464, 8469), (5400, 5401, 4147, 4152), (709, 710, 3022, 3027), (1044, 1045, 5752, 5757), (5400, 5401, 7530, 7535), (5400, 5401, 1114, 1119), (5400, 5401, 4497, 4502), (169, 170, 5902, 5907), (5126, 5127, 1669, 1674), (5192, 5193, 9836, 9841), (5194, 5195, 9882, 9887), (5163, 5164, 8317, 8322), (5400, 5401, 9758, 9763), (5400, 5401, 3342, 3347), (5400, 5401, 6725, 6730), (5400, 5401, 309, 314), (5400, 5401, 10108, 10113), (5400, 5401, 3692, 3697), (4976, 4977, 7336, 7341), (4889, 4890, 1675, 1680), (5158, 5159, 9420, 9425), (5400, 5401, 8953, 8958), (5400, 5401, 2537, 2542), (5400, 5401, 5920, 5925), (4887, 4888, 3857, 3862), (5400, 5401, 9303, 9308), (5400, 5401, 1732, 1737), (5400, 5401, 8148, 8153), (4893, 4894, 10037, 10042), (5400, 5401, 5115, 5120), (5400, 5401, 3960, 3965), (1980, 1981, 9451, 9456), (5400, 5401, 7343, 7348), (5400, 5401, 927, 932), (5400, 5401, 10726, 10731), (5400, 5401, 4310, 4315), (5131, 5132, 8242, 8247), (5133, 5134, 8288, 8293), (5127, 5128, 8473, 8478), (5400, 5401, 9571, 9576), (5400, 5401, 3155, 3160), (3379, 3380, 8092, 8097), (5400, 5401, 6538, 6543), (5400, 5401, 122, 127), (5400, 5401, 9921, 9926), (5400, 5401, 8766, 8771), (5400, 5401, 2350, 2355), (5400, 5401, 5733, 5738), (5400, 5401, 9116, 9121), (5400, 5401, 4578, 4583), (391, 392, 4864, 4869), (5400, 5401, 7961, 7966), (4777, 4778, 8736, 8741), (5400, 5401, 1545, 1550), (3209, 3210, 7791, 7796), (4838, 4839, 10143, 10148), (5400, 5401, 4928, 4933), (167, 168, 5506, 5511), (5046, 5047, 643, 648), (5400, 5401, 10189, 10194), (5400, 5401, 3773, 3778), (5064, 5065, 7988, 7993), (5185, 5186, 9446, 9451), (5118, 5119, 8224, 8229), (5400, 5401, 7156, 7161), (5400, 5401, 740, 745), (5400, 5401, 10539, 10544), (5400, 5401, 4123, 4128), (5400, 5401, 9384, 9389), (5400, 5401, 2968, 2973), (5400, 5401, 6351, 6356), (5400, 5401, 9734, 9739), (5400, 5401, 8579, 8584), (5400, 5401, 2163, 2168), (5400, 5401, 5546, 5551), (5142, 5143, 1723, 1728), (5400, 5401, 4391, 4396), (5400, 5401, 7774, 7779), (5400, 5401, 1358, 1363), (5400, 5401, 4741, 4746), (5072, 5073, 8443, 8448), (5127, 5128, 8904, 8909), (5400, 5401, 10002, 10007), (5400, 5401, 3586, 3591), (5400, 5401, 6969, 6974), (5400, 5401, 553, 558), (5179, 5180, 9444, 9449), (5400, 5401, 10352, 10357), (5400, 5401, 3936, 3941), (281, 282, 6336, 6341), (4912, 4913, 10039, 10044), (5400, 5401, 9197, 9202), (5400, 5401, 2781, 2786), (5095, 5096, 8561, 8566), (5400, 5401, 6164, 6169), (5119, 5120, 10086, 10091), (1999, 2000, 9453, 9458), (5400, 5401, 9547, 9552), (5105, 5106, 8875, 8880), (5139, 5140, 8459, 8464), (5400, 5401, 5009, 5014), (5400, 5401, 8392, 8397), (5400, 5401, 1976, 1981), (5400, 5401, 5359, 5364), (5166, 5167, 8346, 8351), (4888, 4889, 3871, 3876), (5016, 5017, 8752, 8757), (4746, 4747, 9830, 9835), (5400, 5401, 4204, 4209), (4910, 4911, 7952, 7957), (5400, 5401, 7587, 7592), (5400, 5401, 1171, 1176), (5117, 5118, 8430, 8435), (5400, 5401, 4554, 4559), (4815, 4816, 9943, 9948), (5194, 5195, 9939, 9944), (5400, 5401, 9815, 9820), (5085, 5086, 8491, 8496), (5126, 5127, 8492, 8497), (5400, 5401, 3399, 3404), (5400, 5401, 6782, 6787), (5400, 5401, 366, 371), (5141, 5142, 8773, 8778), (5400, 5401, 10165, 10170), (5080, 5081, 8497, 8502), (275, 276, 4799, 4804), (337, 338, 9060, 9065), (5132, 5133, 8256, 8261), (5400, 5401, 9010, 9015), (5400, 5401, 2594, 2599), (5400, 5401, 5977, 5982), (4886, 4887, 10078, 10083), (5096, 5097, 8575, 8580), (5400, 5401, 4822, 4827), (5400, 5401, 8205, 8210), (5400, 5401, 1789, 1794), (5400, 5401, 5172, 5177), (5400, 5401, 10433, 10438), (5400, 5401, 4017, 4022), (4970, 4971, 7816, 7821), (5400, 5401, 7400, 7405), (5400, 5401, 984, 989), (5400, 5401, 10783, 10788), (5400, 5401, 4367, 4372), (5077, 5078, 8063, 8068), (4847, 4848, 8540, 8545), (4751, 4752, 5799, 5804), (5189, 5190, 9408, 9413), (5024, 5025, 481, 486), (5400, 5401, 9628, 9633), (5400, 5401, 3212, 3217), (5121, 5122, 7961, 7966), (5400, 5401, 6595, 6600), (5400, 5401, 179, 184), (4985, 4986, 8073, 8078), (5400, 5401, 9978, 9983), (4980, 4981, 8079, 8084), (5400, 5401, 8823, 8828), (5400, 5401, 2407, 2412), (5089, 5090, 8372, 8377), (5400, 5401, 5790, 5795), (4820, 4821, 9271, 9276), (4763, 4764, 8737, 8742), (4853, 4854, 4466, 4471), (5400, 5401, 4635, 4640), (1920, 1921, 10075, 10080), (4993, 4994, 10138, 10143), (5400, 5401, 8018, 8023), (5400, 5401, 1602, 1607), (5400, 5401, 4985, 4990), (4883, 4884, 3153, 3158), (5400, 5401, 10246, 10251), (5400, 5401, 3830, 3835), (5124, 5125, 1680, 1685), (5400, 5401, 797, 802), (5400, 5401, 7213, 7218), (5076, 5077, 8055, 8060), (5400, 5401, 10596, 10601), (5400, 5401, 4180, 4185), (5400, 5401, 9441, 9446), (5400, 5401, 3025, 3030), (5400, 5401, 6408, 6413), (5400, 5401, 9791, 9796), (5400, 5401, 5253, 5258), (5400, 5401, 8636, 8641), (5400, 5401, 2220, 2225), (5050, 5051, 8257, 8262), (5400, 5401, 5603, 5608), (4858, 4859, 8437, 8442), (5400, 5401, 4448, 4453), (4896, 4897, 10018, 10023), (5400, 5401, 7831, 7836), (5400, 5401, 1415, 1420), (4747, 4748, 9895, 9900), (5400, 5401, 4798, 4803), (5184, 5185, 9495, 9500), (5400, 5401, 10059, 10064), (5400, 5401, 3643, 3648), (5084, 5085, 8510, 8515), (5400, 5401, 7026, 7031), (5400, 5401, 610, 615), (5138, 5139, 8746, 8751), (5400, 5401, 10409, 10414), (5400, 5401, 9254, 9259), (5400, 5401, 2838, 2843), (5400, 5401, 6221, 6226), (386, 387, 6163, 6168), (5102, 5103, 8634, 8639), (4885, 4886, 10097, 10102), (5161, 5162, 9214, 9219), (5400, 5401, 5066, 5071), (4995, 4996, 7232, 7237), (5400, 5401, 8449, 8454), (5400, 5401, 2033, 2038), (5400, 5401, 5416, 5421), (4855, 4856, 7952, 7957), (5400, 5401, 10677, 10682), (5400, 5401, 4261, 4266), (5400, 5401, 7644, 7649), (5400, 5401, 1228, 1233), (5400, 5401, 4611, 4616), (5400, 5401, 73, 78), (5400, 5401, 9872, 9877), (5400, 5401, 3456, 3461), (5400, 5401, 6839, 6844), (5400, 5401, 423, 428), (5400, 5401, 10222, 10227), (5400, 5401, 9067, 9072), (5400, 5401, 2651, 2656), (5400, 5401, 6034, 6039), (4696, 4697, 993, 998), (5400, 5401, 4879, 4884), (578, 579, 4991, 4996), (5400, 5401, 8262, 8267), (5400, 5401, 1846, 1851), (5400, 5401, 5229, 5234), (4894, 4895, 9972, 9977), (5400, 5401, 10490, 10495), (5400, 5401, 4074, 4079), (5124, 5125, 8340, 8345), (4901, 4902, 9988, 9993), (5400, 5401, 7457, 7462), (5400, 5401, 1041, 1046), (5010, 5011, 482, 487), (5006, 5007, 10162, 10167), (5107, 5108, 10214, 10219), (5194, 5195, 9809, 9814), (5400, 5401, 9685, 9690), (5400, 5401, 3269, 3274), (4983, 4984, 8084, 8089), (5400, 5401, 6652, 6657), (5400, 5401, 236, 241), (5400, 5401, 10035, 10040), (5137, 5138, 8120, 8125), (5400, 5401, 5497, 5502), (5400, 5401, 8880, 8885), (5400, 5401, 2464, 2469), (5400, 5401, 5847, 5852), (5400, 5401, 4692, 4697), (5400, 5401, 8075, 8080), (5400, 5401, 1659, 1664), (5146, 5147, 8158, 8163), (5400, 5401, 5042, 5047), (4708, 4709, 7932, 7937), (4897, 4898, 10083, 10088), (5029, 5030, 8697, 8702), (5400, 5401, 10303, 10308), (5400, 5401, 3887, 3892), (5400, 5401, 7270, 7275), (5400, 5401, 854, 859), (1695, 1696, 10148, 10153), (4895, 4896, 9986, 9991), (5400, 5401, 10653, 10658), (5065, 5066, 352, 357), (5400, 5401, 9498, 9503), (5400, 5401, 3082, 3087), (5400, 5401, 6465, 6470), (5400, 5401, 49, 54), (4902, 4903, 1650, 1655), (4908, 4909, 2596, 2601), (5400, 5401, 5310, 5315), (4718, 4719, 8888, 8893), (5400, 5401, 8693, 8698), (5400, 5401, 2277, 2282), (5400, 5401, 5660, 5665), (4829, 4830, 10008, 10013), (5400, 5401, 4505, 4510), (5400, 5401, 7888, 7893), (5400, 5401, 1472, 1477), (5400, 5401, 4855, 4860), (376, 377, 6361, 6366), (5194, 5195, 9890, 9895), (4891, 4892, 10081, 10086), (5163, 5164, 8325, 8330), (5400, 5401, 317, 322), (5070, 5071, 8484, 8489), (5400, 5401, 10116, 10121), (5400, 5401, 3700, 3705), (5400, 5401, 7083, 7088), (5400, 5401, 667, 672), (4980, 4981, 1801, 1806), (5400, 5401, 10466, 10471), (4961, 4962, 7386, 7391), (5027, 5028, 462, 467), (5400, 5401, 5928, 5933), (5400, 5401, 9311, 9316), (5400, 5401, 2895, 2900), (5084, 5085, 7762, 7767), (5400, 5401, 6278, 6283), (5400, 5401, 5123, 5128), (4864, 4865, 8526, 8531), (5400, 5401, 8506, 8511), (5400, 5401, 2090, 2095), (4774, 4775, 6731, 6736), (5400, 5401, 5473, 5478), (501, 502, 8556, 8561), (4785, 4786, 8768, 8773), (4845, 4846, 7321, 7326), (5400, 5401, 4318, 4323), (5400, 5401, 10734, 10739), (5400, 5401, 7701, 7706), (5400, 5401, 1285, 1290), (5400, 5401, 130, 135), (5400, 5401, 9929, 9934), (5400, 5401, 3513, 3518), (4785, 4786, 8313, 8318), (5400, 5401, 6896, 6901), (5400, 5401, 480, 485), (5400, 5401, 5741, 5746), (5400, 5401, 9124, 9129), (5400, 5401, 2708, 2713), (5400, 5401, 6091, 6096), (4989, 4990, 7688, 7693), (5400, 5401, 4936, 4941), (5056, 5057, 8509, 8514), (5400, 5401, 8319, 8324), (5400, 5401, 1903, 1908), (5400, 5401, 5286, 5291), (4894, 4895, 10029, 10034), (5190, 5191, 9798, 9803), (5400, 5401, 4131, 4136), (5400, 5401, 10547, 10552), (5400, 5401, 1098, 1103), (5400, 5401, 7514, 7519), (5070, 5071, 7760, 7765), (4848, 4849, 9229, 9234), (5400, 5401, 9742, 9747), (5400, 5401, 3326, 3331), (5400, 5401, 6709, 6714), (5400, 5401, 293, 298), (5130, 5131, 8137, 8142), (5400, 5401, 5554, 5559), (5400, 5401, 8937, 8942), (5400, 5401, 2521, 2526), (2743, 2744, 3110, 3115), (5400, 5401, 5904, 5909), (5061, 5062, 8316, 8321), (5400, 5401, 4749, 4754), (5017, 5018, 8394, 8399), (5400, 5401, 8132, 8137), (5400, 5401, 1716, 1721), (5072, 5073, 8451, 8456), (5195, 5196, 9955, 9960), (5400, 5401, 561, 566), (5400, 5401, 10360, 10365), (5400, 5401, 3944, 3949), (5400, 5401, 7327, 7332), (5400, 5401, 911, 916), (5400, 5401, 10710, 10715), (5400, 5401, 6172, 6177), (5400, 5401, 9555, 9560), (5400, 5401, 3139, 3144), (4873, 4874, 10038, 10043), (5400, 5401, 6522, 6527), (5400, 5401, 106, 111), (5138, 5139, 8242, 8247), (5151, 5152, 8827, 8832), (5400, 5401, 5367, 5372), (5400, 5401, 8750, 8755), (5400, 5401, 2334, 2339), (5400, 5401, 5717, 5722), (5016, 5017, 8760, 8765), (4887, 4888, 10070, 10075), (5035, 5036, 492, 497), (5117, 5118, 8438, 8443), (5400, 5401, 4562, 4567), (5400, 5401, 7945, 7950), (5400, 5401, 1529, 1534), (5194, 5195, 9947, 9952), (5126, 5127, 8500, 8505), (5400, 5401, 374, 379), (5400, 5401, 10173, 10178), (5400, 5401, 3757, 3762), (5400, 5401, 7140, 7145), (5400, 5401, 724, 729), (4951, 4952, 2618, 2623), (4866, 4867, 4200, 4205), (5132, 5133, 8264, 8269), (4701, 4702, 9209, 9214), (4510, 4511, 8860, 8865), (5400, 5401, 5985, 5990), (5400, 5401, 9368, 9373), (5400, 5401, 2952, 2957), (5090, 5091, 8388, 8393), (5400, 5401, 6335, 6340), (5080, 5081, 8050, 8055), (5400, 5401, 5180, 5185), (5400, 5401, 8563, 8568), (5400, 5401, 2147, 2152), (5400, 5401, 5530, 5535), (4916, 4917, 9123, 9128), (5400, 5401, 992, 997), (5400, 5401, 10791, 10796), (5400, 5401, 4375, 4380), (5400, 5401, 7758, 7763), (5400, 5401, 1342, 1347), (5400, 5401, 187, 192), (5400, 5401, 3570, 3575), (5121, 5122, 8319, 8324), (5400, 5401, 9986, 9991), (4892, 4893, 8267, 8272), (4933, 4934, 2606, 2611), (4896, 4897, 9140, 9145), (5400, 5401, 6953, 6958), (5400, 5401, 537, 542), (5089, 5090, 8380, 8385), (5400, 5401, 5798, 5803), (5400, 5401, 9181, 9186), (5400, 5401, 2765, 2770), (5400, 5401, 6148, 6153), (5400, 5401, 4993, 4998), (5400, 5401, 8376, 8381), (5400, 5401, 1960, 1965), (5124, 5125, 1688, 1693), (5400, 5401, 805, 810), (5400, 5401, 10604, 10609), (5400, 5401, 4188, 4193), (5400, 5401, 7571, 7576), (5400, 5401, 1155, 1160), (4862, 4863, 7895, 7900), (4976, 4977, 1766, 1771), (5400, 5401, 6416, 6421), (5400, 5401, 0, 5), (5182, 5183, 8408, 8413), (5400, 5401, 9799, 9804), (5400, 5401, 3383, 3388), (5400, 5401, 6766, 6771), (5400, 5401, 350, 355), (5103, 5104, 8650, 8655), (5196, 5197, 9595, 9600), (4910, 4911, 2593, 2598), (5400, 5401, 5611, 5616), (5400, 5401, 8994, 8999), (5400, 5401, 2578, 2583), (5400, 5401, 5961, 5966), (5109, 5110, 2779, 2784), (4720, 4721, 8861, 8866), (5400, 5401, 4806, 4811), (5400, 5401, 8189, 8194), (5400, 5401, 1773, 1778), (5400, 5401, 618, 623), (5067, 5068, 8514, 8519), (5400, 5401, 10417, 10422), (5400, 5401, 4001, 4006), (5400, 5401, 7384, 7389), (5400, 5401, 968, 973), (5400, 5401, 6229, 6234), (5400, 5401, 9612, 9617), (5400, 5401, 3196, 3201), (5400, 5401, 6579, 6584), (5400, 5401, 5424, 5429), (5400, 5401, 8807, 8812), (5400, 5401, 2391, 2396), (5400, 5401, 5774, 5779), (307, 308, 6362, 6367), (4847, 4848, 9947, 9952), (5400, 5401, 1236, 1241), (5400, 5401, 4619, 4624), (1920, 1921, 10059, 10064), (5400, 5401, 8002, 8007), (5400, 5401, 1586, 1591), (4930, 4931, 2603, 2608), (5400, 5401, 6847, 6852), (5400, 5401, 431, 436), (5400, 5401, 10230, 10235), (5400, 5401, 3814, 3819), (4704, 4705, 9214, 9219), (5400, 5401, 7197, 7202), (5400, 5401, 781, 786), (4882, 4883, 7392, 7397), (5400, 5401, 6042, 6047), (5400, 5401, 9425, 9430), (5400, 5401, 3009, 3014), (4986, 4987, 7341, 7346), (5400, 5401, 6392, 6397), (4899, 4900, 1680, 1685), (4934, 4935, 10160, 10165), (5400, 5401, 5237, 5242), (5400, 5401, 8620, 8625), (5400, 5401, 2204, 2209), (5168, 5169, 9401, 9406), (5161, 5162, 8230, 8235), (5400, 5401, 1049, 1054), (5400, 5401, 4432, 4437), (5400, 5401, 7815, 7820), (5400, 5401, 1399, 1404), (5107, 5108, 10222, 10227), (4786, 4787, 8302, 8307), (5400, 5401, 6660, 6665), (5400, 5401, 244, 249), (5184, 5185, 9479, 9484), (5400, 5401, 3627, 3632), (5400, 5401, 10043, 10048), (5181, 5182, 8427, 8432), (5400, 5401, 7010, 7015), (5137, 5138, 1712, 1717), (696, 697, 1516, 1521), (5400, 5401, 594, 599), (5132, 5133, 1718, 1723), (5125, 5126, 1678, 1683), (3163, 3164, 9474, 9479), (5400, 5401, 5855, 5860), (5400, 5401, 9238, 9243), (5400, 5401, 2822, 2827), (5400, 5401, 6205, 6210), (5014, 5015, 3136, 3141), (5063, 5064, 3028, 3033), (4808, 4809, 1755, 1760), (5146, 5147, 8166, 8171), (5400, 5401, 5050, 5055), (5400, 5401, 8433, 8438), (5400, 5401, 2017, 2022), (4892, 4893, 10097, 10102), (5400, 5401, 862, 867), (5161, 5162, 8393, 8398), (5400, 5401, 10661, 10666), (5400, 5401, 4245, 4250), (5400, 5401, 7628, 7633), (5400, 5401, 1212, 1217), (5400, 5401, 6473, 6478), (5400, 5401, 57, 62), (5400, 5401, 9856, 9861), (5400, 5401, 3440, 3445), (5400, 5401, 6823, 6828), (304, 305, 6359, 6364), (5400, 5401, 5668, 5673), (227, 228, 4799, 4804), (5400, 5401, 9051, 9056), (5400, 5401, 2635, 2640), (4670, 4671, 9205, 9210), (4827, 4828, 6156, 6161), (5400, 5401, 1480, 1485), (5400, 5401, 4863, 4868), (5400, 5401, 8246, 8251), (5400, 5401, 1830, 1835), (243, 244, 4877, 4882), (5160, 5161, 8385, 8390), (5400, 5401, 7091, 7096), (5400, 5401, 675, 680), (4848, 4849, 9961, 9966), (5400, 5401, 10474, 10479), (5400, 5401, 4058, 4063), (4835, 4836, 8221, 8226), (5400, 5401, 7441, 7446), (5400, 5401, 1025, 1030), (5400, 5401, 6286, 6291), (5400, 5401, 5481, 5486), (4903, 4904, 1642, 1647), (5400, 5401, 1293, 1298), (4940, 4941, 10168, 10173), (5400, 5401, 4676, 4681), (5400, 5401, 6904, 6909), (5400, 5401, 488, 493), (5400, 5401, 10287, 10292), (1806, 1807, 10148, 10153), (5400, 5401, 6099, 6104), (5400, 5401, 1911, 1916), (5400, 5401, 5294, 5299), (4894, 4895, 10037, 10042), (5400, 5401, 1106, 1111), (4994, 4995, 3047, 3052), (5192, 5193, 9828, 9833), (5128, 5129, 1707, 1712), (5400, 5401, 6717, 6722), (5400, 5401, 301, 306), (5130, 5131, 8145, 8150), (5027, 5028, 446, 451), (5400, 5401, 5912, 5917), (5400, 5401, 1724, 1729), (5400, 5401, 5107, 5112), (5114, 5115, 8685, 8690), (5195, 5196, 9963, 9968), (5400, 5401, 7335, 7340), (5400, 5401, 919, 924), (5400, 5401, 10718, 10723), (5400, 5401, 6530, 6535), (5400, 5401, 114, 119), (4851, 4852, 8543, 8548), (5400, 5401, 5725, 5730), (5400, 5401, 1537, 1542), (4932, 4933, 2600, 2605), (5046, 5047, 635, 640), (4779, 4780, 8750, 8755), (5400, 5401, 7148, 7153), (5400, 5401, 732, 737), (5400, 5401, 10531, 10536), (4913, 4914, 10039, 10044), (5090, 5091, 8396, 8401), (5400, 5401, 6343, 6348), (5080, 5081, 8058, 8063), (5098, 5099, 8233, 8238), (5400, 5401, 2155, 2160), (5400, 5401, 5538, 5543), (4915, 4916, 1709, 1714), (4998, 4999, 10230, 10235), (5400, 5401, 7766, 7771), (5400, 5401, 1350, 1355), (3180, 3181, 6427, 6432), (5400, 5401, 545, 550), (5400, 5401, 6961, 6966), (281, 282, 6328, 6333), (4969, 4970, 10134, 10139), (5400, 5401, 6156, 6161), (4832, 4833, 10021, 10026), (5400, 5401, 1968, 1973), (5400, 5401, 5351, 5356), (4791, 4792, 547, 552), (4670, 4671, 8888, 8893), (5400, 5401, 1163, 1168), (5400, 5401, 7579, 7584), (5117, 5118, 8422, 8427), (5182, 5183, 9571, 9576), (5400, 5401, 6774, 6779), (5400, 5401, 358, 363), (5080, 5081, 8489, 8494), (5137, 5138, 8242, 8247), (5098, 5099, 8664, 8669), (337, 338, 9052, 9057), (5400, 5401, 2586, 2591), (5400, 5401, 5969, 5974), (5109, 5110, 2787, 2792), (5400, 5401, 1781, 1786), (4970, 4971, 7808, 7813), (5400, 5401, 7392, 7397), (5400, 5401, 976, 981), (4865, 4866, 4200, 4205), (5400, 5401, 6587, 6592), (5400, 5401, 171, 176), (4980, 4981, 8071, 8076), (5400, 5401, 2399, 2404), (5400, 5401, 5782, 5787), (5400, 5401, 8010, 8015), (5400, 5401, 1594, 1599), (4897, 4898, 10018, 10023), (5400, 5401, 7205, 7210), (5400, 5401, 789, 794), (4833, 4834, 8639, 8644), (5131, 5132, 1688, 1693), (5400, 5401, 6400, 6405), (5162, 5163, 9214, 9219), (5400, 5401, 2212, 2217), (5400, 5401, 5595, 5600), (5168, 5169, 9409, 9414), (5100, 5101, 7962, 7967), (5400, 5401, 7823, 7828), (5400, 5401, 1407, 1412), (4802, 4803, 9944, 9949), (5184, 5185, 9487, 9492), (5400, 5401, 7018, 7023), (5400, 5401, 602, 607), (5400, 5401, 2830, 2835), (5400, 5401, 6213, 6218), (5400, 5401, 8441, 8446), (5400, 5401, 2025, 2030), (4855, 4856, 7944, 7949), (5400, 5401, 7636, 7641), (5400, 5401, 1220, 1225), (4740, 4741, 5496, 5501), (5071, 5072, 8484, 8489), (4787, 4788, 8725, 8730), (4757, 4758, 9233, 9238), (5400, 5401, 6831, 6836), (5400, 5401, 415, 420), (4984, 4985, 8084, 8089), (5400, 5401, 2643, 2648), (5400, 5401, 6026, 6031), (5400, 5401, 8254, 8259), (5400, 5401, 1838, 1843), (5400, 5401, 7449, 7454), (5400, 5401, 1033, 1038), (1696, 1697, 10148, 10153), (5400, 5401, 6644, 6649), (4890, 4891, 8235, 8240), (5137, 5138, 8112, 8117), (5400, 5401, 2456, 2461), (5088, 5089, 625, 630), (5400, 5401, 8067, 8072), (5183, 5184, 9530, 9535), (5400, 5401, 1651, 1656), (5146, 5147, 8150, 8155), (5087, 5088, 373, 378), (4897, 4898, 10075, 10080), (5106, 5107, 7970, 7975), (4842, 4843, 9213, 9218), (580, 581, 654, 659), (5400, 5401, 7262, 7267), (5400, 5401, 846, 851), (5137, 5138, 8730, 8735), (5192, 5193, 9568, 9573), (5400, 5401, 3074, 3079), (4779, 4780, 8059, 8064), (5400, 5401, 6457, 6462), (5400, 5401, 8685, 8690), (5400, 5401, 2269, 2274), (4819, 4820, 2465, 2470), (5400, 5401, 7880, 7885), (5400, 5401, 1464, 1469), (4786, 4787, 8717, 8722), (5400, 5401, 7075, 7080), (5400, 5401, 659, 664), (5131, 5132, 7974, 7979), (5400, 5401, 2887, 2892), (5400, 5401, 6270, 6275), (4832, 4833, 10135, 10140), (5400, 5401, 8498, 8503), (5400, 5401, 2082, 2087), (5400, 5401, 7693, 7698), (5400, 5401, 1277, 1282), (5400, 5401, 3505, 3510), (5400, 5401, 6888, 6893), (5400, 5401, 2700, 2705), (5056, 5057, 8501, 8506), (5400, 5401, 8311, 8316), (5400, 5401, 1895, 1900), (5400, 5401, 7506, 7511), (5400, 5401, 1090, 1095), (5400, 5401, 3318, 3323), (5400, 5401, 6701, 6706), (507, 508, 8101, 8106), (5140, 5141, 8467, 8472), (5400, 5401, 8929, 8934), (5400, 5401, 2513, 2518), (5400, 5401, 8124, 8129), (5400, 5401, 1708, 1713), (5195, 5196, 9947, 9952), (5400, 5401, 7319, 7324), (5400, 5401, 3131, 3136), (4873, 4874, 10030, 10035), (5400, 5401, 6514, 6519), (5400, 5401, 8742, 8747), (5400, 5401, 2326, 2331), (5400, 5401, 7937, 7942), (5400, 5401, 1521, 1526), (5400, 5401, 3749, 3754), (5400, 5401, 7132, 7137), (286, 287, 9876, 9881), (5400, 5401, 9360, 9365), (5400, 5401, 2944, 2949), (5158, 5159, 9022, 9027), (5400, 5401, 8555, 8560), (5400, 5401, 2139, 2144), (5400, 5401, 7750, 7755), (5400, 5401, 1334, 1339), (4977, 4978, 1766, 1771), (5400, 5401, 3562, 3567), (5121, 5122, 8311, 8316), (5400, 5401, 6945, 6950), (5400, 5401, 9173, 9178), (5400, 5401, 2757, 2762), (4524, 4525, 9502, 9507), (5400, 5401, 8368, 8373), (5400, 5401, 1952, 1957), (5400, 5401, 7563, 7568), (4916, 4917, 1707, 1712), (5400, 5401, 3375, 3380), (5400, 5401, 8986, 8991), (5400, 5401, 2570, 2575), (5109, 5110, 2771, 2776), (5400, 5401, 8181, 8186), (5400, 5401, 1765, 1770), (5110, 5111, 1437, 1442), (5400, 5401, 3993, 3998), (5118, 5119, 8444, 8449), (5400, 5401, 7376, 7381), (5400, 5401, 9604, 9609), (5400, 5401, 3188, 3193), (5400, 5401, 8799, 8804), (5400, 5401, 2383, 2388), (307, 308, 6354, 6359), (4977, 4978, 2815, 2820), (5400, 5401, 7994, 7999), (5400, 5401, 1578, 1583), (4905, 4906, 3827, 3832), (5400, 5401, 3806, 3811), (5400, 5401, 7189, 7194), (4851, 4852, 9202, 9207), (5400, 5401, 9417, 9422), (5400, 5401, 3001, 3006), (4902, 4903, 9140, 9145), (5104, 5105, 2858, 2863), (5138, 5139, 8104, 8109), (5156, 5157, 9033, 9038), (5400, 5401, 8612, 8617), (5400, 5401, 2196, 2201), (5400, 5401, 4424, 4429), (5400, 5401, 7807, 7812), (4985, 4986, 2869, 2874), (5177, 5178, 9455, 9460), (5137, 5138, 2859, 2864), (5193, 5194, 9584, 9589), (4814, 4815, 9938, 9943), (5184, 5185, 9471, 9476), (5181, 5182, 8419, 8424), (5400, 5401, 3619, 3624), (5400, 5401, 9230, 9235), (5400, 5401, 2814, 2819), (4987, 4988, 7748, 7753), (5400, 5401, 8425, 8430), (5400, 5401, 2009, 2014), (4892, 4893, 10089, 10094), (5400, 5401, 4237, 4242), (4819, 4820, 8621, 8626), (5400, 5401, 7620, 7625), (5400, 5401, 9848, 9853), (5400, 5401, 3432, 3437), (5114, 5115, 594, 599), (488, 489, 7034, 7039), (5400, 5401, 9043, 9048), (5400, 5401, 2627, 2632), (5400, 5401, 8238, 8243), (4601, 4602, 277, 282), (4915, 4916, 7792, 7797), (5400, 5401, 4050, 4055), (5400, 5401, 9661, 9666), (5400, 5401, 3245, 3250), (4824, 4825, 833, 838), (5400, 5401, 8856, 8861), (5400, 5401, 2440, 2445), (5400, 5401, 4668, 4673), (5400, 5401, 8051, 8056), (5183, 5184, 9514, 9519), (5146, 5147, 8134, 8139), (5400, 5401, 10279, 10284), (5400, 5401, 3863, 3868), (5131, 5132, 8145, 8150), (5400, 5401, 9474, 9479), (5400, 5401, 3058, 3063), (4799, 4800, 8695, 8700), (5400, 5401, 8669, 8674), (5400, 5401, 2253, 2258), (4790, 4791, 9275, 9280), (1921, 1922, 9392, 9397), (5400, 5401, 4481, 4486), (5400, 5401, 7864, 7869), (5191, 5192, 9568, 9573), (5184, 5185, 9528, 9533), (5400, 5401, 10092, 10097), (5400, 5401, 3676, 3681), (4780, 4781, 561, 566), (5400, 5401, 9287, 9292), (5400, 5401, 2871, 2876), (5084, 5085, 7738, 7743), (5106, 5107, 2774, 2779), (5400, 5401, 5099, 5104), (5400, 5401, 8482, 8487), (5400, 5401, 4294, 4299), (5123, 5124, 1518, 1523), (5400, 5401, 9905, 9910), (5400, 5401, 3489, 3494), (5081, 5082, 8058, 8063), (4766, 4767, 6734, 6739), (5400, 5401, 9100, 9105), (5400, 5401, 2684, 2689), (5145, 5146, 8177, 8182), (5400, 5401, 4912, 4917), (5400, 5401, 8295, 8300), (4899, 4900, 9999, 10004), (4779, 4780, 8742, 8747), (5122, 5123, 8327, 8332), (5400, 5401, 10523, 10528), (5400, 5401, 4107, 4112), (5194, 5195, 9492, 9497), (5400, 5401, 9718, 9723), (5400, 5401, 3302, 3307), (5400, 5401, 8913, 8918), (5400, 5401, 4725, 4730), (5400, 5401, 8108, 8113), (4914, 4915, 7841, 7846), (5193, 5194, 9885, 9890), (5160, 5161, 8247, 8252), (5190, 5191, 9587, 9592), (5400, 5401, 10336, 10341), (5400, 5401, 3920, 3925), (4985, 4986, 8781, 8786), (4882, 4883, 7498, 7503), (4805, 4806, 5938, 5943), (5400, 5401, 9531, 9536), (5400, 5401, 3115, 3120), (4643, 4644, 1042, 1047), (4786, 4787, 569, 574), (4716, 4717, 8875, 8880), (5400, 5401, 5343, 5348), (5400, 5401, 8726, 8731), (5016, 5017, 8736, 8741), (5106, 5107, 8629, 8634), (5400, 5401, 4538, 4543), (5194, 5195, 9923, 9928), (5400, 5401, 10149, 10154), (5400, 5401, 3733, 3738), (337, 338, 9044, 9049), (5400, 5401, 2928, 2933), (5400, 5401, 9344, 9349), (5042, 5043, 8323, 8328), (4525, 4526, 9494, 9499), (4764, 4765, 8729, 8734), (5400, 5401, 5156, 5161), (4775, 4776, 9268, 9273), (5400, 5401, 8539, 8544), (5400, 5401, 10767, 10772), (5400, 5401, 4351, 4356), (4938, 4939, 2576, 2581), (4936, 4937, 1749, 1754), (5400, 5401, 163, 168), (5400, 5401, 9962, 9967), (5400, 5401, 3546, 3551), (4900, 4901, 9989, 9994), (5009, 5010, 483, 488), (5118, 5119, 10225, 10230), (5400, 5401, 9157, 9162), (5400, 5401, 4969, 4974), (4700, 4701, 397, 402), (5400, 5401, 10580, 10585), (5400, 5401, 4164, 4169), (5400, 5401, 9775, 9780), (5400, 5401, 3359, 3364), (5045, 5046, 8271, 8276), (4981, 4982, 7697, 7702), (5400, 5401, 5587, 5592), (5400, 5401, 8970, 8975), (4715, 4716, 8867, 8872), (4747, 4748, 9879, 9884), (5400, 5401, 4782, 4787), (4996, 4997, 3362, 3367), (5400, 5401, 10393, 10398), (5400, 5401, 3977, 3982), (5126, 5127, 1499, 1504), (5400, 5401, 9588, 9593), (5400, 5401, 3172, 3177), (4857, 4858, 9137, 9142), (5400, 5401, 5400, 5405), (5400, 5401, 8783, 8788), (4849, 4850, 9969, 9974), (5400, 5401, 4595, 4600), (4826, 4827, 8645, 8650), (5400, 5401, 407, 412), (5055, 5056, 372, 377), (5400, 5401, 10206, 10211), (5400, 5401, 3790, 3795), (4926, 4927, 1655, 1660), (5400, 5401, 6018, 6023), (5088, 5089, 8375, 8380), (5400, 5401, 9401, 9406), (5145, 5146, 8128, 8133), (5400, 5401, 5213, 5218), (5400, 5401, 4408, 4413), (4792, 4793, 5036, 5041), (4870, 4871, 4382, 4387), (4671, 4672, 5619, 5624), (5070, 5071, 8468, 8473), (3143, 3144, 3618, 3623), (5056, 5057, 386, 391), (4791, 4792, 1808, 1813), (4819, 4820, 8686, 8691), (4894, 4895, 9989, 9994), (5049, 5050, 8079, 8084), (5018, 5019, 8392, 8397), (4491, 4492, 8875, 8880), (1242, 1243, 7779, 7784), (4795, 4796, 9262, 9267), (4818, 4819, 5997, 6002), (4867, 4868, 8467, 8472), (4898, 4899, 10008, 10013), (5021, 5022, 8186, 8191), (4978, 4979, 7708, 7713), (4819, 4820, 831, 836), (4800, 4801, 699, 704), (5109, 5110, 1454, 1459), (4870, 4871, 8448, 8453), (4898, 4899, 10065, 10070), (4778, 4779, 507, 512), (4946, 4947, 8390, 8395), (4958, 4959, 10173, 10178), (4934, 4935, 2582, 2587), (4724, 4725, 8867, 8872), (4970, 4971, 7337, 7342), (4517, 4518, 8470, 8475), (5184, 5185, 9447, 9452), (4814, 4815, 2506, 2511), (4886, 4887, 3671, 3676), (4982, 4983, 3379, 3384), (4978, 4979, 8066, 8071), (4980, 4981, 8088, 8093), (4763, 4764, 8746, 8751), (4697, 4698, 8768, 8773), (179, 180, 5881, 5886), (4896, 4897, 7799, 7804), (4980, 4981, 2908, 2913), (5184, 5185, 9504, 9509), (4803, 4804, 8226, 8231), (4985, 4986, 8058, 8063), (5076, 5077, 8040, 8045), (239, 240, 9372, 9377), (4896, 4897, 10003, 10008), (5136, 5137, 8709, 8714), (4637, 4638, 1203, 1208), (4783, 4784, 7040, 7045), (4896, 4897, 10084, 10089), (5025, 5026, 10173, 10178), (4989, 4990, 2891, 2896), (5099, 5100, 8215, 8220), (4902, 4903, 1635, 1640), (275, 276, 6345, 6350), (532, 533, 7908, 7913), (5133, 5134, 8281, 8286), (5117, 5118, 8797, 8802), (4901, 4902, 1654, 1659), (4869, 4870, 2333, 2338), (4815, 4816, 9936, 9941), (4784, 4785, 6761, 6766), (4536, 4537, 9505, 9510), (4774, 4775, 9269, 9274), (4745, 4746, 9224, 9229), (5084, 5085, 8503, 8508), (4967, 4968, 10146, 10151), (4884, 4885, 3853, 3858), (4885, 4886, 10090, 10095), (5069, 5070, 8463, 8468), (5161, 5162, 8215, 8220), (4769, 4770, 8252, 8257), (5158, 5159, 8185, 8190), (4864, 4865, 8438, 8443), (4895, 4896, 9979, 9984), (4782, 4783, 7040, 7045), (5008, 5009, 7894, 7899), (571, 572, 5025, 5030), (4541, 4542, 9345, 9350), (373, 374, 4904, 4909), (5061, 5062, 8309, 8314), (4879, 4880, 9153, 9158), (4771, 4772, 6721, 6726), (5151, 5152, 8820, 8825), (4745, 4746, 8801, 8806), (5087, 5088, 325, 330), (4793, 4794, 5034, 5039), (5137, 5138, 8227, 8232), (5034, 5035, 504, 509), (5037, 5038, 8240, 8245), (4660, 4661, 8854, 8859), (4982, 4983, 1818, 1823), (5083, 5084, 8479, 8484), (4780, 4781, 6734, 6739), (4714, 4715, 958, 963), (5041, 5042, 8253, 8258), (4786, 4787, 8702, 8707), (4808, 4809, 9994, 9999), (5023, 5024, 483, 488), (4712, 4713, 7572, 7577), (5098, 5099, 8226, 8231), (4922, 4923, 1718, 1723), (4962, 4963, 7859, 7864), (4678, 4679, 8100, 8105), (5129, 5130, 1741, 1746), (4983, 4984, 2938, 2943), (5163, 5164, 8359, 8364), (279, 280, 9739, 9744), (4815, 4816, 723, 728), (5181, 5182, 8778, 8783), (4941, 4942, 1696, 1701), (4975, 4976, 7560, 7565), (4709, 4710, 7925, 7930), (5066, 5067, 8320, 8325), (5189, 5190, 9450, 9455), (4758, 4759, 9240, 9245), (5058, 5059, 8323, 8328), (5139, 5140, 8745, 8750), (5125, 5126, 1736, 1741), (4865, 4866, 9137, 9142), (4889, 4890, 7629, 7634), (4890, 4891, 1682, 1687), (466, 467, 7451, 7456), (1962, 1963, 9459, 9464), (5132, 5133, 8249, 8254), (4647, 4648, 10381, 10386), (5311, 5312, 5419, 5424), (4816, 4817, 902, 907), (5109, 5110, 723, 728), (4934, 4935, 9096, 9101), (4725, 4726, 9190, 9195), (4845, 4846, 7339, 7344), (5180, 5181, 8510, 8515), (4977, 4978, 2808, 2813), (5116, 5117, 1625, 1630), (4814, 4815, 9931, 9936), (4837, 4838, 8602, 8607), (4830, 4831, 10009, 10014), (4807, 4808, 6963, 6968), (4606, 4607, 9258, 9263), (4663, 4664, 10142, 10147), (4980, 4981, 7300, 7305), (4843, 4844, 8610, 8615), (4882, 4883, 10012, 10017), (4785, 4786, 9274, 9279), (5042, 5043, 8259, 8264), (4807, 4808, 1759, 1764), (5093, 5094, 653, 658), (4933, 4934, 2599, 2604), (5195, 5196, 9924, 9929), (5164, 5165, 8359, 8364), (5197, 5198, 9596, 9601), (1987, 1988, 9420, 9425), (4748, 4749, 8780, 8785), (4820, 4821, 791, 796), (4784, 4785, 7900, 7905), (4929, 4930, 3288, 3293), (4482, 4483, 8879, 8884), (5190, 5191, 9450, 9455), (4772, 4773, 4832, 4837), (4968, 4969, 1738, 1743), (4747, 4748, 9848, 9853), (5189, 5190, 9792, 9797), (4719, 4720, 8873, 8878), (4914, 4915, 1719, 1724), (4828, 4829, 766, 771), (4814, 4815, 9972, 9977), (4949, 4950, 4265, 4270), (3351, 3352, 6412, 6417), (4799, 4800, 9160, 9165), (5126, 5127, 1663, 1668), (4783, 4784, 519, 524), (5021, 5022, 8285, 8290), (5085, 5086, 8485, 8490), (5066, 5067, 8727, 8732), (4825, 4826, 8641, 8646), (5097, 5098, 8658, 8663), (4935, 4936, 1751, 1756), (753, 754, 8907, 8912), (4869, 4870, 7896, 7901), (5105, 5106, 8633, 8638), (308, 309, 6331, 6336), (5181, 5182, 8762, 8767), (5167, 5168, 8332, 8337), (5147, 5148, 8753, 8758), (382, 383, 6203, 6208), (4709, 4710, 5925, 5930), (5182, 5183, 8402, 8407), (5104, 5105, 8658, 8663), (4982, 4983, 2811, 2816), (4728, 4729, 2357, 2362), (4686, 4687, 8734, 8739), (5183, 5184, 9540, 9545), (4864, 4865, 8260, 8265), (4923, 4924, 1670, 1675), (4948, 4949, 2615, 2620), (4812, 4813, 9924, 9929), (4976, 4977, 7322, 7327), (4833, 4834, 10023, 10028), (188, 189, 5751, 5756), (4779, 4780, 5361, 5366), (4757, 4758, 8739, 8744), (4899, 4900, 1625, 1630), (4812, 4813, 8184, 8189), (4949, 4950, 10145, 10150), (4792, 4793, 7046, 7051), (4886, 4887, 10064, 10069), (5151, 5152, 9049, 9054), (4941, 4942, 10178, 10183), (4828, 4829, 10004, 10009), (4912, 4913, 10082, 10087), (5116, 5117, 8676, 8681), (5071, 5072, 8478, 8483), (4757, 4758, 9227, 9232), (4976, 4977, 7436, 7441), (5079, 5080, 2972, 2977), (5167, 5168, 9422, 9427), (4804, 4805, 860, 865), (5161, 5162, 9444, 9449), (4809, 4810, 7433, 7438), (5194, 5195, 9876, 9881), (4891, 4892, 10067, 10072), (4889, 4890, 1669, 1674), (4695, 4696, 998, 1003), (303, 304, 6329, 6334), (4833, 4834, 8584, 8589), (5018, 5019, 8337, 8342), (4801, 4802, 9263, 9268), (5041, 5042, 8319, 8324), (4873, 4874, 10024, 10029), (4482, 4483, 8465, 8470), (4971, 4972, 7824, 7829), (4531, 4532, 9349, 9354), (5109, 5110, 2765, 2770), (4884, 4885, 10002, 10007), (5181, 5182, 9592, 9597), (5016, 5017, 8185, 8190), (4885, 4886, 3675, 3680), (4887, 4888, 2087, 2092), (4985, 4986, 2863, 2868), (4813, 4814, 9924, 9929), (4790, 4791, 1804, 1809), (4701, 4702, 2112, 2117), (438, 439, 4818, 4823), (4862, 4863, 8369, 8374), (4907, 4908, 2582, 2587), (5035, 5036, 486, 491), (4899, 4900, 9993, 9998), (5164, 5165, 9433, 9438), (4844, 4845, 7334, 7339), (5069, 5070, 365, 370), (4968, 4969, 10139, 10144), (4899, 4900, 1674, 1679), (5175, 5176, 8338, 8343), (5047, 5048, 7937, 7942), (5026, 5027, 457, 462), (5098, 5099, 7902, 7907), (4460, 4461, 6059, 6064), (5193, 5194, 9562, 9567), (5070, 5071, 3038, 3043), (5102, 5103, 8856, 8861), (4999, 5000, 8327, 8332), (5104, 5105, 8878, 8883), (5159, 5160, 8398, 8403), (4656, 4657, 10379, 10384), (5188, 5189, 8657, 8662), (4704, 4705, 2077, 2082), (4676, 4677, 10096, 10101), (5181, 5182, 9584, 9589), (4891, 4892, 3594, 3599), (5180, 5181, 8503, 8508), (264, 265, 4816, 4821), (4747, 4748, 9239, 9244), (1919, 1920, 10080, 10085), (5184, 5185, 9457, 9462), (4746, 4747, 9231, 9236), (5140, 5141, 8754, 8759), (5162, 5163, 9452, 9457), (5136, 5137, 8231, 8236), (1985, 1986, 9416, 9421), (3378, 3379, 6357, 6362), (5052, 5053, 507, 512), (306, 307, 6359, 6364), (4841, 4842, 7321, 7326), (4984, 4985, 2874, 2879), (5193, 5194, 9814, 9819), (5112, 5113, 2762, 2767), (4892, 4893, 1675, 1680), (5142, 5143, 8483, 8488), (4980, 4981, 7724, 7729), (4774, 4775, 8734, 8739), (4245, 4246, 14, 19), (4762, 4763, 8238, 8243), (5141, 5142, 8475, 8480), (5075, 5076, 8473, 8478), (4950, 4951, 10143, 10148), (2209, 2210, 3732, 3737), (4755, 4756, 7878, 7883), (4908, 4909, 1704, 1709), (5127, 5128, 1710, 1715), (4732, 4733, 8833, 8838), (5182, 5183, 8614, 8619), (4773, 4774, 8728, 8733), (4786, 4787, 8053, 8058), (5059, 5060, 8322, 8327), (4811, 4812, 7439, 7444), (277, 278, 6328, 6333), (5122, 5123, 10094, 10099), (5084, 5085, 7708, 7713), (4850, 4851, 7261, 7266), (4507, 4508, 9500, 9505), (4979, 4980, 7751, 7756), (4707, 4708, 7571, 7576), (5185, 5186, 8595, 8600), (4974, 4975, 7594, 7599), (4996, 4997, 7918, 7923), (4906, 4907, 2577, 2582), (4994, 4995, 8059, 8064), (4742, 4743, 8806, 8811), (4564, 4565, 9310, 9315), (4979, 4980, 7808, 7813), (5157, 5158, 9019, 9024), (4965, 4966, 8394, 8399), (5185, 5186, 9457, 9462), (4780, 4781, 1019, 1024), (5131, 5132, 8229, 8234), (4742, 4743, 7895, 7900), (5182, 5183, 8785, 8790), (5183, 5184, 8606, 8611), (5166, 5167, 8333, 8338), (5127, 5128, 1751, 1756), (5102, 5103, 8645, 8650), (4974, 4975, 2983, 2988), (4993, 4994, 10125, 10130), (5046, 5047, 8176, 8181), (4892, 4893, 9132, 9137), (4725, 4726, 458, 463), (3212, 3213, 7783, 7788), (1975, 1976, 9395, 9400), (5192, 5193, 9587, 9592), (5176, 5177, 8517, 8522), (5006, 5007, 10149, 10154), (407, 408, 8694, 8699), (4798, 4799, 8722, 8727), (4785, 4786, 8755, 8760), (4783, 4784, 7904, 7909), (4685, 4686, 1303, 1308), (4883, 4884, 1668, 1673), (4777, 4778, 8731, 8736), (4667, 4668, 9636, 9641), (5045, 5046, 630, 635), (4830, 4831, 8181, 8186), (4839, 4840, 8243, 8248), (4984, 4985, 2850, 2855), (4803, 4804, 560, 565), (5124, 5125, 1675, 1680), (4750, 4751, 8765, 8770), (4626, 4627, 9237, 9242), (4825, 4826, 8618, 8623), (5084, 5085, 7700, 7705), (4394, 4395, 10636, 10641), (5102, 5103, 8629, 8634), (4443, 4444, 9747, 9752), (4790, 4791, 6822, 6827), (3378, 3379, 6390, 6395), (840, 841, 9064, 9069), (5086, 5087, 8177, 8182), (4708, 4709, 7927, 7932), (1806, 1807, 10159, 10164), (5098, 5099, 8350, 8355), (4763, 4764, 8252, 8257), (5027, 5028, 457, 462), (4947, 4948, 2600, 2605), (5078, 5079, 558, 563), (4672, 4673, 8915, 8920), (5068, 5069, 488, 493), (5183, 5184, 8785, 8790), (4887, 4888, 10065, 10070), (4701, 4702, 9204, 9209), (4775, 4776, 9287, 9292), (4914, 4915, 7836, 7841), (5182, 5183, 9558, 9563), (4863, 4864, 9939, 9944), (5103, 5104, 8645, 8650), (4687, 4688, 398, 403), (4821, 4822, 1687, 1692), (5103, 5104, 2847, 2852), (5179, 5180, 8512, 8517), (4903, 4904, 10037, 10042), (4780, 4781, 507, 512), (3163, 3164, 9469, 9474), (4613, 4614, 8853, 8858), (5083, 5084, 8026, 8031), (5118, 5119, 7967, 7972), (4459, 4460, 6052, 6057), (4994, 4995, 3042, 3047), (4910, 4911, 9118, 9123), (5158, 5159, 8228, 8233), (841, 842, 9064, 9069), (4792, 4793, 8015, 8020), (5131, 5132, 1683, 1688), (4961, 4962, 10162, 10167), (5137, 5138, 8107, 8112), (4764, 4765, 8252, 8257), (4852, 4853, 7936, 7941), (4816, 4817, 717, 722), (5156, 5157, 8410, 8415), (5137, 5138, 2854, 2859), (203, 204, 6083, 6088), (4780, 4781, 5362, 5367), (5122, 5123, 8322, 8327), (4945, 4946, 1806, 1811)]\n",
      "2574\n"
     ]
    }
   ],
   "source": [
    "clusters_test = filter_and_form_clusters(coords_to_recompute, neighborx=5, neighbory=1)\n",
    "print(clusters_test)\n",
    "print(len(clusters_test))"
   ]
  },
  {
   "cell_type": "code",
   "execution_count": 64,
   "metadata": {},
   "outputs": [
    {
     "name": "stdout",
     "output_type": "stream",
     "text": [
      "3214\n"
     ]
    }
   ],
   "source": [
    "clusters = clusters_5x5\n",
    "print(len(clusters)) "
   ]
  },
  {
   "cell_type": "code",
   "execution_count": 65,
   "metadata": {},
   "outputs": [
    {
     "name": "stdout",
     "output_type": "stream",
     "text": [
      "6\n"
     ]
    }
   ],
   "source": [
    "print(maxWorkers)"
   ]
  },
  {
   "cell_type": "code",
   "execution_count": 66,
   "metadata": {},
   "outputs": [
    {
     "name": "stdout",
     "output_type": "stream",
     "text": [
      "Cluster index: 1/3214 for variable: u wtih scale: 0.0001\n",
      "Cluster index: 2/3214 for variable: u wtih scale: 0.0001\n",
      "Processed cluster index: 1/3214 for variable: u\n",
      "Processed cluster index: 2/3214 for variable: u\n",
      "Cluster index: 0/3214 for variable: u wtih scale: 0.0001\n",
      "Processed cluster index: 0/3214 for variable: u\n",
      "Cluster index: 2/3214 for variable: v wtih scale: 0.0001\n",
      "Processed cluster index: 2/3214 for variable: v\n",
      "Cluster index: 1/3214 for variable: v wtih scale: 0.0001\n",
      "Cluster index: 0/3214 for variable: v wtih scale: 0.0001\n",
      "Processed cluster index: 1/3214 for variable: v\n",
      "Processed cluster index: 0/3214 for variable: v\n",
      "Cluster index: 3/3214 for variable: u wtih scale: 0.0001\n",
      "Processed cluster index: 3/3214 for variable: u\n",
      "Cluster index: 5/3214 for variable: u wtih scale: 0.0001\n",
      "Processed cluster index: 5/3214 for variable: u\n",
      "Cluster index: 4/3214 for variable: u wtih scale: 0.0001\n",
      "Processed cluster index: 4/3214 for variable: u\n",
      "Cluster index: 4/3214 for variable: v wtih scale: 0.0001\n",
      "Cluster index: 5/3214 for variable: v wtih scale: 0.0001\n",
      "Processed cluster index: 4/3214 for variable: v\n",
      "Processed cluster index: 5/3214 for variable: v\n",
      "Cluster index: 3/3214 for variable: v wtih scale: 0.0001\n",
      "Processed cluster index: 3/3214 for variable: v\n"
     ]
    }
   ],
   "source": [
    "ReTest = True\n",
    "if ReTest:\n",
    "    with ProcessPoolExecutor(max_workers=maxWorkers) as executor:\n",
    "        futures_list = []\n",
    "        total_clusters = len(clusters)\n",
    "        for idx, chunk in enumerate(clusters):\n",
    "            for var_type in ['u', 'v']:\n",
    "                future = executor.submit(process_chunk, chunk, lonz, latz, tpxo_model, var_type, idx, total_clusters)\n",
    "                futures_list.append(future)\n",
    "\n",
    "        for future in as_completed(futures_list):\n",
    "            idx_processed, cluster_num, start_lat, end_lat, start_lon, end_lon, var_type_processed, amp, ph = future.result()\n",
    "            print(f\"Processed cluster index: {idx_processed}/{cluster_num} for variable: {var_type_processed}\")\n",
    "\n",
    "            # Refill zarr dataset based on the variable type\n",
    "            if var_type_processed == 'u':\n",
    "                ds['u_amp'][start_lat:end_lat, start_lon:end_lon, :] = amp\n",
    "                ds['u_ph'][start_lat:end_lat, start_lon:end_lon, :] = ph\n",
    "            else:\n",
    "                ds['v_amp'][start_lat:end_lat, start_lon:end_lon, :] = amp\n",
    "                ds['v_ph'][start_lat:end_lat, start_lon:end_lon, :] = ph    "
   ]
  },
  {
   "cell_type": "code",
   "execution_count": 38,
   "metadata": {},
   "outputs": [
    {
     "name": "stdout",
     "output_type": "stream",
     "text": [
      "<xarray.Dataset>\n",
      "Dimensions:       (constituents: 15, lat: 5401, lon: 10800)\n",
      "Coordinates:\n",
      "  * constituents  (constituents) <U3 'q1' 'o1' 'p1' 'k1' ... '2n2' 'mf' 'mm'\n",
      "  * lat           (lat) float64 -90.0 -89.97 -89.93 -89.9 ... 89.93 89.97 90.0\n",
      "  * lon           (lon) float64 0.03333 0.06667 0.1 0.1333 ... 359.9 360.0 360.0\n",
      "Data variables:\n",
      "    u_amp         (lat, lon, constituents) float64 dask.array<chunksize=(113, 113, 8), meta=np.ndarray>\n",
      "    u_ph          (lat, lon, constituents) float64 dask.array<chunksize=(113, 113, 8), meta=np.ndarray>\n",
      "    v_amp         (lat, lon, constituents) float64 dask.array<chunksize=(113, 113, 8), meta=np.ndarray>\n",
      "    v_ph          (lat, lon, constituents) float64 dask.array<chunksize=(113, 113, 8), meta=np.ndarray>\n",
      "    z_amp         (lat, lon, constituents) float64 dask.array<chunksize=(113, 113, 8), meta=np.ndarray>\n",
      "    z_ph          (lat, lon, constituents) float64 dask.array<chunksize=(113, 113, 8), meta=np.ndarray>\n"
     ]
    }
   ],
   "source": [
    "print(ds)"
   ]
  },
  {
   "cell_type": "code",
   "execution_count": 27,
   "metadata": {},
   "outputs": [],
   "source": [
    "ReSave = True\n",
    "#if ReSave:\n",
    "#    outfile = 'tpxo9_tmp.zarr'\n",
    "#    print(\"Start to re-write zarr dataset...\")\n",
    "#    ds.to_zarr(outfile, mode='w')\n",
    "####ds.close()\n"
   ]
  },
  {
   "cell_type": "code",
   "execution_count": null,
   "metadata": {},
   "outputs": [],
   "source": [
    "#chunk_size = 338\n",
    "#ds_rechunked = ds.chunk({\"lat\": chunk_size, \"lon\": chunk_size, \"constituents\": -1})\n",
    "#ds_rechunked.to_zarr(\"tpxo9_new.zarr\", mode=\"w\", safe_chunks=False)\n"
   ]
  },
  {
   "cell_type": "code",
   "execution_count": 28,
   "metadata": {},
   "outputs": [],
   "source": [
    "import xarray as xr\n",
    "import zarr\n",
    "from numcodecs import MsgPack\n",
    "if ReSave:\n",
    "   zarr_path = \"../data/tpxo9.zarr\"\n",
    "   store = zarr.open(zarr_path, mode='w')\n",
    "\n",
    "# Save dimension data\n",
    "   for dim_name in ['lat', 'lon', 'constituents']:\n",
    "        data = ds[dim_name].values\n",
    "        chunks = ds[dim_name].encoding.get('chunks', ds[dim_name].shape)\n",
    "        dtype = ds[dim_name].dtype\n",
    "    \n",
    "        # Check if dtype is object and handle accordingly\n",
    "        if dtype == object:\n",
    "            codec = MsgPack()\n",
    "            arr = store.array(dim_name, data=data, chunks=chunks, dtype=dtype, object_codec=codec)\n",
    "        else:\n",
    "            arr = store.array(dim_name, data=data, chunks=chunks, dtype=dtype)\n",
    "    \n",
    "        arr.attrs['_ARRAY_DIMENSIONS'] = [dim_name]\n"
   ]
  },
  {
   "cell_type": "code",
   "execution_count": 29,
   "metadata": {},
   "outputs": [],
   "source": [
    "# Assuming chunking over lat and lon as in your example\n",
    "chunk_size = 338\n",
    "\n",
    "# Create placeholder arrays with `_ARRAY_DIMENSIONS` attribute\n",
    "for var_name in ds.data_vars:\n",
    "    shape = ds[var_name].shape\n",
    "    dtype = ds[var_name].dtype\n",
    "    chunks = (chunk_size, chunk_size, ds['constituents'].shape[0])  # Assuming 3D data with constituents as the third dimension\n",
    "    arr = store.empty(var_name, shape=shape, dtype=dtype, chunks=chunks)\n",
    "    arr.attrs['_ARRAY_DIMENSIONS'] = ['lat', 'lon', 'constituents']\n"
   ]
  },
  {
   "cell_type": "code",
   "execution_count": 30,
   "metadata": {},
   "outputs": [],
   "source": [
    "# Write data in chunks\n",
    "for i in range(0, len(ds['lat']), chunk_size):\n",
    "    for j in range(0, len(ds['lon']), chunk_size):\n",
    "\n",
    "        # Extract chunk from dataset\n",
    "        ds_chunk = ds.isel(lat=slice(i, i+chunk_size), lon=slice(j, j+chunk_size))\n",
    "\n",
    "        # Write chunk to appropriate location in Zarr store\n",
    "        for var_name, variable in ds_chunk.data_vars.items():\n",
    "            store[var_name][i:i+chunk_size, j:j+chunk_size, :] = variable.values\n"
   ]
  },
  {
   "cell_type": "code",
   "execution_count": 31,
   "metadata": {},
   "outputs": [
    {
     "name": "stdout",
     "output_type": "stream",
     "text": [
      "<zarr.hierarchy.Group '/'>\n",
      "<zarr.core.Array '/u_amp' (5401, 10800, 15) float64>\n",
      "['_ARRAY_DIMENSIONS']\n",
      "['lat', 'lon', 'constituents']\n"
     ]
    }
   ],
   "source": [
    "import zarr\n",
    "store = zarr.open('../data/tpxo9.zarr', mode='a')\n",
    "print(store)\n",
    "print(store['u_amp'])\n",
    "print(list(store['u_amp'].attrs))\n",
    "print(store['u_amp'].attrs['_ARRAY_DIMENSIONS'] )"
   ]
  },
  {
   "cell_type": "code",
   "execution_count": 59,
   "metadata": {},
   "outputs": [],
   "source": [
    "#import zarr\n",
    "ARRAY_DIMENSIONS_Err = False\n",
    "if ARRAY_DIMENSIONS_Err:\n",
    "    store = zarr.open('tpxo9.zarr', mode='a')\n",
    "#### For example, for a data variable `u_amp` that has dimensions ('lat', 'lon', 'constituents'):\n",
    "#### store['u_amp'].attrs['_ARRAY_DIMENSIONS'] = ['lat', 'lon', 'constituents']\n",
    "#### store['u_ph'].attrs['_ARRAY_DIMENSIONS'] = ['lat', 'lon', 'constituents']\n",
    "#### store['v_amp'].attrs['_ARRAY_DIMENSIONS'] = ['lat', 'lon', 'constituents']\n",
    "#### store['v_ph'].attrs['_ARRAY_DIMENSIONS'] = ['lat', 'lon', 'constituents']\n",
    "#### store['z_amp'].attrs['_ARRAY_DIMENSIONS'] = ['lat', 'lon', 'constituents']\n",
    "#### store['z_ph'].attrs['_ARRAY_DIMENSIONS'] = ['lat', 'lon', 'constituents']\n",
    "\n",
    "    for var_name in store.array_keys():\n",
    "        store[var_name].attrs['_ARRAY_DIMENSIONS'] = ['lat', 'lon', 'constituents']"
   ]
  },
  {
   "cell_type": "code",
   "execution_count": 61,
   "metadata": {},
   "outputs": [
    {
     "name": "stdout",
     "output_type": "stream",
     "text": [
      "constituents ['constituents']\n",
      "lat ['lat']\n",
      "lon ['lon']\n",
      "u_amp ['lat', 'lon', 'constituents']\n",
      "u_ph ['lat', 'lon', 'constituents']\n",
      "v_amp ['lat', 'lon', 'constituents']\n",
      "v_ph ['lat', 'lon', 'constituents']\n",
      "z_amp ['lat', 'lon', 'constituents']\n",
      "z_ph ['lat', 'lon', 'constituents']\n"
     ]
    }
   ],
   "source": [
    "# Correcting the attributes\n",
    "if ARRAY_DIMENSIONS_Err:\n",
    "    store['constituents'].attrs['_ARRAY_DIMENSIONS'] = ['constituents']\n",
    "    store['lat'].attrs['_ARRAY_DIMENSIONS'] = ['lat']\n",
    "    store['lon'].attrs['_ARRAY_DIMENSIONS'] = ['lon']\n",
    "\n",
    "# Confirming the changes\n",
    "for var_name in store.array_keys():\n",
    "    print(var_name, store[var_name].attrs['_ARRAY_DIMENSIONS'])\n"
   ]
  },
  {
   "cell_type": "code",
   "execution_count": 32,
   "metadata": {},
   "outputs": [
    {
     "data": {
      "text/plain": [
       "<zarr.hierarchy.Group '/'>"
      ]
     },
     "execution_count": 32,
     "metadata": {},
     "output_type": "execute_result"
    }
   ],
   "source": [
    "zarr.convenience.consolidate_metadata('../data/tpxo9.zarr')"
   ]
  },
  {
   "cell_type": "code",
   "execution_count": 51,
   "metadata": {},
   "outputs": [
    {
     "name": "stdout",
     "output_type": "stream",
     "text": [
      "<xarray.Dataset>\n",
      "Dimensions:       (constituents: 15, lat: 5401, lon: 10800)\n",
      "Coordinates:\n",
      "  * constituents  (constituents) object 'q1' 'o1' 'p1' 'k1' ... '2n2' 'mf' 'mm'\n",
      "  * lat           (lat) float64 -90.0 -89.97 -89.93 -89.9 ... 89.93 89.97 90.0\n",
      "  * lon           (lon) float64 0.03333 0.06667 0.1 0.1333 ... 359.9 360.0 360.0\n",
      "Data variables:\n",
      "    u_amp         (lat, lon, constituents) float64 dask.array<chunksize=(338, 338, 15), meta=np.ndarray>\n",
      "    u_ph          (lat, lon, constituents) float64 dask.array<chunksize=(338, 338, 15), meta=np.ndarray>\n",
      "    v_amp         (lat, lon, constituents) float64 dask.array<chunksize=(338, 338, 15), meta=np.ndarray>\n",
      "    v_ph          (lat, lon, constituents) float64 dask.array<chunksize=(338, 338, 15), meta=np.ndarray>\n",
      "    z_amp         (lat, lon, constituents) float64 dask.array<chunksize=(338, 338, 15), meta=np.ndarray>\n",
      "    z_ph          (lat, lon, constituents) float64 dask.array<chunksize=(338, 338, 15), meta=np.ndarray>\n"
     ]
    }
   ],
   "source": [
    "dz = xr.open_zarr('../data/tpxo9.zarr', chunks='auto', decode_times=False, consolidated=True) #, group=\"data_group\") #, consolidated=False)\n",
    "print(dz)"
   ]
  },
  {
   "cell_type": "code",
   "execution_count": 52,
   "metadata": {},
   "outputs": [
    {
     "name": "stdout",
     "output_type": "stream",
     "text": [
      "Is lat monotonic? False\n",
      "Is lon monotonic? True\n"
     ]
    }
   ],
   "source": [
    "lat_values = dz['lat'].values\n",
    "lon_values = dz['lon'].values\n",
    "\n",
    "is_lat_monotonic = np.all(np.diff(lat_values) > 0)\n",
    "is_lon_monotonic = np.all(np.diff(lon_values) > 0)\n",
    "\n",
    "print(\"Is lat monotonic?\", is_lat_monotonic)\n",
    "print(\"Is lon monotonic?\", is_lon_monotonic)\n"
   ]
  },
  {
   "cell_type": "code",
   "execution_count": 53,
   "metadata": {},
   "outputs": [
    {
     "name": "stdout",
     "output_type": "stream",
     "text": [
      "2700 nan\n",
      "[-0.06666667 -0.03333333         nan  0.03333333]\n",
      "[-0.06666667 -0.03333333  0.          0.03333333]\n"
     ]
    }
   ],
   "source": [
    "abs_diff_lat = np.abs(dz['lat'].values - 30)  # Calculate absolute difference from desired value\n",
    "nearest_lat_index = np.argmin(abs_diff_lat)  # Get index of smallest difference\n",
    "nearest_lat_value = dz['lat'].values[nearest_lat_index]\n",
    "print(nearest_lat_index, nearest_lat_value)\n",
    "print(dz['lat'].values[2698:2702])\n",
    "print(latz[2698:2702])"
   ]
  },
  {
   "cell_type": "code",
   "execution_count": 54,
   "metadata": {},
   "outputs": [],
   "source": [
    "dz['lat'].values[2700] = 0\n",
    "dz = dz.sortby('lat')"
   ]
  },
  {
   "cell_type": "code",
   "execution_count": 31,
   "metadata": {},
   "outputs": [
    {
     "name": "stdout",
     "output_type": "stream",
     "text": [
      "<xarray.Dataset>\n",
      "Dimensions:       (constituents: 15, lat: 150, lon: 150)\n",
      "Coordinates:\n",
      "  * constituents  (constituents) object 'q1' 'o1' 'p1' 'k1' ... '2n2' 'mf' 'mm'\n",
      "  * lat           (lat) float64 30.0 30.03 30.07 30.1 ... 34.87 34.9 34.93 34.97\n",
      "  * lon           (lon) float64 335.0 335.1 335.1 335.1 ... 339.9 340.0 340.0\n",
      "Data variables:\n",
      "    u_amp         (lat, lon, constituents) float64 dask.array<chunksize=(118, 90, 15), meta=np.ndarray>\n",
      "    u_ph          (lat, lon, constituents) float64 dask.array<chunksize=(118, 90, 15), meta=np.ndarray>\n",
      "    v_amp         (lat, lon, constituents) float64 dask.array<chunksize=(118, 90, 15), meta=np.ndarray>\n",
      "    v_ph          (lat, lon, constituents) float64 dask.array<chunksize=(118, 90, 15), meta=np.ndarray>\n",
      "    z_amp         (lat, lon, constituents) float64 dask.array<chunksize=(118, 90, 15), meta=np.ndarray>\n",
      "    z_ph          (lat, lon, constituents) float64 dask.array<chunksize=(118, 90, 15), meta=np.ndarray>\n"
     ]
    }
   ],
   "source": [
    "ilon = 335 #122.26672\n",
    "ilat = 30 #23.76175\n",
    "#grid_sz = 1/30\n",
    "\n",
    "dsub = dz.sel(lon=slice(ilon, ilon+5), lat=slice(ilat, ilat+5))\n",
    "print(dsub)"
   ]
  },
  {
   "cell_type": "code",
   "execution_count": 91,
   "metadata": {},
   "outputs": [
    {
     "data": {
      "text/plain": [
       "0"
      ]
     },
     "execution_count": 91,
     "metadata": {},
     "output_type": "execute_result"
    }
   ],
   "source": [
    "#dz.load()\n",
    "#del dz\n",
    "\n",
    "import gc\n",
    "gc.collect()"
   ]
  },
  {
   "cell_type": "code",
   "execution_count": 68,
   "metadata": {},
   "outputs": [
    {
     "data": {
      "text/plain": [
       "<xarray.backends.zarr.ZarrStore at 0x7fabe4a7d700>"
      ]
     },
     "execution_count": 68,
     "metadata": {},
     "output_type": "execute_result"
    }
   ],
   "source": [
    "#Three methods to re-save: compression, direct-overwrite, save by chunk of data\n",
    "from numcodecs import Blosc\n",
    "\n",
    "compressor = Blosc(cname='zstd', clevel=3, shuffle=Blosc.BITSHUFFLE)\n",
    "encoding = {var: {'compressor': compressor} for var in dz.data_vars}\n",
    "\n",
    "dz.to_zarr('tpxo9_compress.zarr', mode='w', encoding=encoding)"
   ]
  },
  {
   "cell_type": "code",
   "execution_count": 71,
   "metadata": {},
   "outputs": [
    {
     "data": {
      "text/plain": [
       "<xarray.backends.zarr.ZarrStore at 0x7fabe4a7d620>"
      ]
     },
     "execution_count": 71,
     "metadata": {},
     "output_type": "execute_result"
    }
   ],
   "source": [
    "#dz.to_zarr('tpxo9.zarr', mode='w')"
   ]
  },
  {
   "cell_type": "code",
   "execution_count": 74,
   "metadata": {},
   "outputs": [
    {
     "data": {
      "text/plain": [
       "<zarr.hierarchy.Group '/'>"
      ]
     },
     "execution_count": 74,
     "metadata": {},
     "output_type": "execute_result"
    }
   ],
   "source": [
    "store = zarr.open('tpxo9.zarr', mode='a')\n",
    "for var_name in dz.data_vars:\n",
    "    store[var_name][:] = dz[var_name].values\n",
    "\n",
    "zarr.convenience.consolidate_metadata('tpxo9.zarr')"
   ]
  },
  {
   "cell_type": "code",
   "execution_count": null,
   "metadata": {},
   "outputs": [],
   "source": [
    "#zarr_path = \"tpxo9.zarr\"\n",
    "#store = zarr.open(zarr_path, mode='w')\n",
    "#data_group = store.create_group(\"data_group\")\n",
    "\n",
    "# Save dimension data\n",
    "#for dim_name in ['lat', 'lon', 'constituents']:\n",
    "#    data_group.array(dim_name, data=ds[dim_name].values, chunks=ds[dim_name].encoding.get('chunks', ds[dim_name].shape), dtype=ds[dim_name].dtype)\n",
    "\n",
    "#for var_name in ds.data_vars:\n",
    "#    shape = ds[var_name].shape\n",
    "#    dtype = ds[var_name].dtype\n",
    "#    chunks = (chunk_size, shape[1])  # Assuming chunking only over lat for simplicity. Adjust if needed.\n",
    "    \n",
    "#    # This will create the Zarr array with the necessary metadata including `_ARRAY_DIMENSIONS`\n",
    "#    data_group.zeros(name=var_name, shape=shape, dtype=dtype, chunks=chunks)\n",
    "\n",
    "# Assuming chunking over lat as in your example\n",
    "#for i in range(0, len(ds['lat']), chunk_size):\n",
    "#    for j in range(0, len(ds['lon']), chunk_size):\n",
    "        \n",
    "#        # Extract chunk from dataset\n",
    "#        ds_chunk = ds.isel(lat=slice(i, i+chunk_size), lon=slice(j, j+chunk_size))\n",
    "        \n",
    "#        # Write chunk to appropriate location in Zarr store\n",
    "#        for var_name, variable in ds_chunk.data_vars.items():\n",
    "#            data_group[var_name][i:i+chunk_size, j:j+chunk_size] = variable.values\n"
   ]
  },
  {
   "cell_type": "code",
   "execution_count": 40,
   "metadata": {},
   "outputs": [
    {
     "name": "stdout",
     "output_type": "stream",
     "text": [
      "ItemsView(Data variables:\n",
      "    u_amp    (lat, lon, constituents) float64 dask.array<chunksize=(113, 113, 8), meta=np.ndarray>\n",
      "    u_ph     (lat, lon, constituents) float64 dask.array<chunksize=(113, 113, 8), meta=np.ndarray>\n",
      "    v_amp    (lat, lon, constituents) float64 dask.array<chunksize=(113, 113, 8), meta=np.ndarray>\n",
      "    v_ph     (lat, lon, constituents) float64 dask.array<chunksize=(113, 113, 8), meta=np.ndarray>\n",
      "    z_amp    (lat, lon, constituents) float64 dask.array<chunksize=(113, 113, 8), meta=np.ndarray>\n",
      "    z_ph     (lat, lon, constituents) float64 dask.array<chunksize=(113, 113, 8), meta=np.ndarray>)\n"
     ]
    }
   ],
   "source": [
    "print(ds.data_vars.items())"
   ]
  },
  {
   "cell_type": "code",
   "execution_count": 49,
   "metadata": {},
   "outputs": [],
   "source": [
    "# Assuming chunking over lat and lon as in your example\n",
    "chunk_size = 338\n",
    "\n",
    "#for i in range(0, len(ds['lat']), chunk_size):\n",
    "#    for j in range(0, len(ds['lon']), chunk_size):\n",
    "        \n",
    "#        # Extract chunk from dataset\n",
    "#        ds_chunk = ds.isel(lat=slice(i, i+chunk_size), lon=slice(j, j+chunk_size))\n",
    "        \n",
    "#        # Write chunk to appropriate location in Zarr store\n",
    "#        for var_name, variable in ds_chunk.data_vars.items():\n",
    "#            store['data_group'][var_name][i:i+chunk_size, j:j+chunk_size] = variable.values\n",
    "for i in range(0, len(ds['lat']), chunk_size):\n",
    "    for j in range(0, len(ds['lon']), chunk_size):\n",
    "        \n",
    "        ds_chunk = ds.isel(lat=slice(i, i+chunk_size), lon=slice(j, j+chunk_size))\n",
    "        \n",
    "        for var_name, variable in ds_chunk.data_vars.items():\n",
    "            store[var_name][i:i+chunk_size, j:j+chunk_size] = variable.values\n"
   ]
  },
  {
   "cell_type": "code",
   "execution_count": 45,
   "metadata": {},
   "outputs": [
    {
     "name": "stdout",
     "output_type": "stream",
     "text": [
      "<xarray.Dataset>\n",
      "Dimensions:       (constituents: 15, lat: 5401, lon: 10800)\n",
      "Coordinates:\n",
      "  * constituents  (constituents) <U3 'q1' 'o1' 'p1' 'k1' ... '2n2' 'mf' 'mm'\n",
      "  * lat           (lat) float64 -90.0 -89.97 -89.93 -89.9 ... 89.93 89.97 90.0\n",
      "  * lon           (lon) float64 0.03333 0.06667 0.1 0.1333 ... 359.9 360.0 360.0\n",
      "Data variables:\n",
      "    u_amp         (lat, lon, constituents) float64 dask.array<chunksize=(113, 113, 8), meta=np.ndarray>\n",
      "    u_ph          (lat, lon, constituents) float64 dask.array<chunksize=(113, 113, 8), meta=np.ndarray>\n",
      "    v_amp         (lat, lon, constituents) float64 dask.array<chunksize=(113, 113, 8), meta=np.ndarray>\n",
      "    v_ph          (lat, lon, constituents) float64 dask.array<chunksize=(113, 113, 8), meta=np.ndarray>\n",
      "    z_amp         (lat, lon, constituents) float64 dask.array<chunksize=(113, 113, 8), meta=np.ndarray>\n",
      "    z_ph          (lat, lon, constituents) float64 dask.array<chunksize=(113, 113, 8), meta=np.ndarray>\n"
     ]
    }
   ],
   "source": [
    "print(ds)"
   ]
  },
  {
   "cell_type": "code",
   "execution_count": 31,
   "metadata": {},
   "outputs": [],
   "source": [
    "from src.model_utils import *\n",
    "from src.model_plot import *"
   ]
  },
  {
   "cell_type": "code",
   "execution_count": 41,
   "metadata": {},
   "outputs": [
    {
     "name": "stdout",
     "output_type": "stream",
     "text": [
      "[[[3.40780429e+01 1.76900864e+02 7.33603518e+01 ... 7.70306980e+00\n",
      "   2.52180309e+00 1.13589369e+00]\n",
      "  [3.41874214e+01 1.77619202e+02 7.37721867e+01 ... 7.76010437e+00\n",
      "   2.53577729e+00 1.12995988e+00]\n",
      "  [3.43605686e+01 1.78656682e+02 7.43260726e+01 ... 7.83293066e+00\n",
      "   2.55519998e+00 1.12495190e+00]\n",
      "  ...\n",
      "  [1.01463628e+01 5.59750145e+01 2.10913039e+01 ... 2.23903531e+00\n",
      "   1.08214373e+00 5.79075154e-01]\n",
      "  [1.01060248e+01 5.57398869e+01 2.09988956e+01 ... 2.24079671e+00\n",
      "   1.08868636e+00 5.67125280e-01]\n",
      "  [1.00693758e+01 5.55214496e+01 2.09130455e+01 ... 2.24051345e+00\n",
      "   1.09571709e+00 5.57695126e-01]]\n",
      "\n",
      " [[3.44736787e+01 1.79628687e+02 7.43019971e+01 ... 7.68110040e+00\n",
      "   2.56000119e+00 1.19766531e+00]\n",
      "  [3.45859762e+01 1.80341152e+02 7.47122392e+01 ... 7.74710828e+00\n",
      "   2.58265538e+00 1.19563928e+00]\n",
      "  [3.47561387e+01 1.81338824e+02 7.52513701e+01 ... 7.82841818e+00\n",
      "   2.61081451e+00 1.19304673e+00]\n",
      "  ...\n",
      "  [1.01541993e+01 5.60996469e+01 2.11035521e+01 ... 2.24029592e+00\n",
      "   1.07003221e+00 5.73115478e-01]\n",
      "  [1.01153658e+01 5.58755317e+01 2.10150327e+01 ... 2.24294222e+00\n",
      "   1.07655185e+00 5.61068340e-01]\n",
      "  [1.00792540e+01 5.56608695e+01 2.09307958e+01 ... 2.24313012e+00\n",
      "   1.08385404e+00 5.51632791e-01]]\n",
      "\n",
      " [[3.49753901e+01 1.83145028e+02 7.54393960e+01 ... 7.65100838e+00\n",
      "   2.56673255e+00 1.25920798e+00]\n",
      "  [3.50781058e+01 1.83758590e+02 7.58128406e+01 ... 7.72444658e+00\n",
      "   2.60082456e+00 1.26259376e+00]\n",
      "  [3.52202487e+01 1.84557034e+02 7.62737563e+01 ... 7.81035355e+00\n",
      "   2.63967170e+00 1.26277039e+00]\n",
      "  ...\n",
      "  [1.01574581e+01 5.62016175e+01 2.11104876e+01 ... 2.23985122e+00\n",
      "   1.07012358e+00 5.71954162e-01]\n",
      "  [1.01263066e+01 5.60140314e+01 2.10374686e+01 ... 2.24358532e+00\n",
      "   1.07750228e+00 5.60602950e-01]\n",
      "  [1.00971465e+01 5.58339785e+01 2.09674929e+01 ... 2.24481696e+00\n",
      "   1.08568453e+00 5.51741182e-01]]\n",
      "\n",
      " ...\n",
      "\n",
      " [[           nan            nan            nan ...            nan\n",
      "              nan            nan]\n",
      "  [           nan            nan            nan ...            nan\n",
      "              nan            nan]\n",
      "  [           nan            nan            nan ...            nan\n",
      "              nan            nan]\n",
      "  ...\n",
      "  [4.10266695e+01 2.25922084e+02 7.74838523e+01 ... 2.78220966e+01\n",
      "   3.00594233e-01 5.18281665e-02]\n",
      "  [3.47103245e+01 1.92946992e+02 6.60600702e+01 ... 2.37430220e+01\n",
      "   2.94117495e-01 5.10962850e-02]\n",
      "  [3.00048992e+01 1.68469881e+02 5.76068018e+01 ... 2.07709838e+01\n",
      "   2.74067320e-01 4.93069776e-02]]\n",
      "\n",
      " [[           nan            nan            nan ...            nan\n",
      "              nan            nan]\n",
      "  [           nan            nan            nan ...            nan\n",
      "              nan            nan]\n",
      "  [           nan            nan            nan ...            nan\n",
      "              nan            nan]\n",
      "  ...\n",
      "  [4.89108716e+01 2.65964024e+02 9.14566156e+01 ... 3.28638442e+01\n",
      "   3.07114765e-01 5.55889863e-02]\n",
      "  [4.11766348e+01 2.25478387e+02 7.74716367e+01 ... 2.77457228e+01\n",
      "   3.22901910e-01 6.03618072e-02]\n",
      "  [3.47586911e+01 1.91836687e+02 6.58622296e+01 ... 2.36047571e+01\n",
      "   3.22001477e-01 5.82722096e-02]]\n",
      "\n",
      " [[           nan            nan            nan ...            nan\n",
      "              nan            nan]\n",
      "  [           nan            nan            nan ...            nan\n",
      "              nan            nan]\n",
      "  [           nan            nan            nan ...            nan\n",
      "              nan            nan]\n",
      "  ...\n",
      "  [5.54387504e+01 2.98022369e+02 1.02277353e+02 ... 3.72888532e+01\n",
      "   3.03375361e-01 5.60707166e-02]\n",
      "  [4.75000895e+01 2.56618082e+02 8.79949731e+01 ... 3.19718980e+01\n",
      "   3.32426094e-01 6.42519078e-02]\n",
      "  [3.98219396e+01 2.16396067e+02 7.41020566e+01 ... 2.69181246e+01\n",
      "   3.43055821e-01 6.65228849e-02]]]\n",
      "[[[248.33601715 262.26049841 304.12819199 ... 144.36909377 140.49863047\n",
      "   119.12909958]\n",
      "  [247.99450769 262.02373673 303.77975672 ... 144.30939792 140.06630682\n",
      "   119.24155181]\n",
      "  [247.64294419 261.78030879 303.43117118 ... 144.2532401  139.61056928\n",
      "   119.32350042]\n",
      "  ...\n",
      "  [221.66779625 236.83414934 265.75670149 ...  49.13938276  49.27126346\n",
      "   209.56579387]\n",
      "  [221.51344763 236.64354608 265.56143321 ...  48.6786421   47.89237121\n",
      "   207.23514208]\n",
      "  [221.38908355 236.48500373 265.38836305 ...  48.25272175  46.77041702\n",
      "   205.39793048]]\n",
      "\n",
      " [[249.09664067 262.6388704  304.36071212 ... 144.07723979 141.55822504\n",
      "   119.66080248]\n",
      "  [248.71752419 262.38516302 304.0331943  ... 144.07378371 141.26112547\n",
      "   119.8866905 ]\n",
      "  [248.31914658 262.12215976 303.70789288 ... 144.07681631 140.90116084\n",
      "   120.04431761]\n",
      "  ...\n",
      "  [221.66112998 236.85395689 265.63761714 ...  49.26516069  49.45063106\n",
      "   209.1756398 ]\n",
      "  [221.49995118 236.65562185 265.43786826 ...  48.79880903  48.01890047\n",
      "   206.7924502 ]\n",
      "  [221.37204906 236.49294041 265.26257146 ...  48.36664248  46.85257054\n",
      "   204.90823323]]\n",
      "\n",
      " [[249.96990085 263.00400548 304.47108797 ... 143.61909802 142.43569944\n",
      "   119.92082779]\n",
      "  [249.55804044 262.75195101 304.18446591 ... 143.68834248 142.28065415\n",
      "   120.2455623 ]\n",
      "  [249.11450162 262.48831254 303.90480723 ... 143.76775025 142.01617556\n",
      "   120.45061824]\n",
      "  ...\n",
      "  [221.69954297 236.90291568 265.53907801 ...  49.36712175  49.75610786\n",
      "   208.52492768]\n",
      "  [221.54694288 236.71317303 265.34549678 ...  48.90080766  48.34416774\n",
      "   206.24830269]\n",
      "  [221.42552944 236.55741739 265.1762447  ...  48.46995592  47.19597537\n",
      "   204.48364135]]\n",
      "\n",
      " ...\n",
      "\n",
      " [[         nan          nan          nan ...          nan          nan\n",
      "            nan]\n",
      "  [         nan          nan          nan ...          nan          nan\n",
      "            nan]\n",
      "  [         nan          nan          nan ...          nan          nan\n",
      "            nan]\n",
      "  ...\n",
      "  [149.09837139 166.37094992 179.78768175 ...  52.17008113 101.01383281\n",
      "    83.41805656]\n",
      "  [153.12278715 170.60400064 183.85392923 ...  54.64223736 102.45434702\n",
      "    90.0000025 ]\n",
      "  [157.5129732  175.18776791 188.32641906 ...  57.30429676 104.19855194\n",
      "   103.13401915]]\n",
      "\n",
      " [[         nan          nan          nan ...          nan          nan\n",
      "            nan]\n",
      "  [         nan          nan          nan ...          nan          nan\n",
      "            nan]\n",
      "  [         nan          nan          nan ...          nan          nan\n",
      "            nan]\n",
      "  ...\n",
      "  [146.23947277 162.91003842 176.51839804 ...  50.55826235 101.14288923\n",
      "    70.82098841]\n",
      "  [148.75283212 165.60703424 178.99696441 ...  52.15406433 101.23928369\n",
      "    70.34617415]\n",
      "  [152.07293244 169.14774966 182.35990731 ...  54.23377839 102.07213647\n",
      "    75.52970716]]\n",
      "\n",
      " [[         nan          nan          nan ...          nan          nan\n",
      "            nan]\n",
      "  [         nan          nan          nan ...          nan          nan\n",
      "            nan]\n",
      "  [         nan          nan          nan ...          nan          nan\n",
      "            nan]\n",
      "  ...\n",
      "  [146.54590238 162.96126484 176.48745728 ...  50.52236629 102.16219934\n",
      "    65.77225601]\n",
      "  [147.56795823 164.13303843 177.43039222 ...  51.15379679 101.23176365\n",
      "    59.74356222]\n",
      "  [149.63075732 166.44355483 179.51832641 ...  52.42230294 101.44506363\n",
      "    60.25511607]]]\n"
     ]
    }
   ],
   "source": [
    "x0, y0, x1, y1 = 118.0, 20.0, 129.75, 31.25 \n",
    "#x0, y0, x1, y1 = 122.26672, 23.76175, 129.75, 31.25 #123.5, 28 #to test v is empty bug \n",
    "#x0, y0, x1, y1 = 123.75, 23.76175, 129.75, 31.25\n",
    "grid_sz = 1/30\n",
    "uvsub = ds.sel(lon=slice(x0-grid_sz, x1+grid_sz), lat=slice(y0-grid_sz, y1+grid_sz))\n",
    "print(uvsub['u_amp'].values)\n",
    "print(uvsub['u_ph'].values)\n"
   ]
  },
  {
   "cell_type": "code",
   "execution_count": 28,
   "metadata": {},
   "outputs": [
    {
     "name": "stdout",
     "output_type": "stream",
     "text": [
      "(73,)\n",
      "[11528.         11528.04166667 11528.08333333 11528.125\n",
      " 11528.16666667 11528.20833333 11528.25       11528.29166667\n",
      " 11528.33333333 11528.375      11528.41666667 11528.45833333\n",
      " 11528.5        11528.54166667 11528.58333333 11528.625\n",
      " 11528.66666667 11528.70833333 11528.75       11528.79166667\n",
      " 11528.83333333 11528.875      11528.91666667 11528.95833333\n",
      " 11529.         11529.04166667 11529.08333333 11529.125\n",
      " 11529.16666667 11529.20833333 11529.25       11529.29166667\n",
      " 11529.33333333 11529.375      11529.41666667 11529.45833333\n",
      " 11529.5        11529.54166667 11529.58333333 11529.625\n",
      " 11529.66666667 11529.70833333 11529.75       11529.79166667\n",
      " 11529.83333333 11529.875      11529.91666667 11529.95833333\n",
      " 11530.         11530.04166667 11530.08333333 11530.125\n",
      " 11530.16666667 11530.20833333 11530.25       11530.29166667\n",
      " 11530.33333333 11530.375      11530.41666667 11530.45833333\n",
      " 11530.5        11530.54166667 11530.58333333 11530.625\n",
      " 11530.66666667 11530.70833333 11530.75       11530.79166667\n",
      " 11530.83333333 11530.875      11530.91666667 11530.95833333\n",
      " 11531.        ]\n"
     ]
    }
   ],
   "source": [
    "from datetime import datetime, timedelta, timezone\n",
    "start_date = datetime(2023, 7, 25)\n",
    "end_date = datetime(2023, 7, 28)\n",
    "\n",
    "\n",
    "tide_time, dtime = get_tide_time(start_date, end_date)\n",
    "print(tide_time.shape)\n",
    "print(tide_time)"
   ]
  },
  {
   "cell_type": "code",
   "execution_count": 29,
   "metadata": {},
   "outputs": [
    {
     "name": "stdout",
     "output_type": "stream",
     "text": [
      "{'u': masked_array(\n",
      "  data=[[[23.72593027829161],\n",
      "         [25.157223797329543],\n",
      "         [26.646060352055372],\n",
      "         ...,\n",
      "         [-41.00181919944255],\n",
      "         [-41.126158320603615],\n",
      "         [-41.260785965204605]],\n",
      "\n",
      "        [[22.157362063894134],\n",
      "         [23.676802492273527],\n",
      "         [25.247048927128716],\n",
      "         ...,\n",
      "         [-40.88541130157549],\n",
      "         [-41.019718328949295],\n",
      "         [-41.15926368278692]],\n",
      "\n",
      "        [[20.96925901833982],\n",
      "         [22.475329958982613],\n",
      "         [24.01451617892337],\n",
      "         ...,\n",
      "         [-40.74241811478311],\n",
      "         [-40.90498343378043],\n",
      "         [-41.07228971171635]],\n",
      "\n",
      "        ...,\n",
      "\n",
      "        [[--],\n",
      "         [--],\n",
      "         [--],\n",
      "         ...,\n",
      "         [-378.94717870579996],\n",
      "         [-304.92537633941305],\n",
      "         [-248.50507414305122]],\n",
      "\n",
      "        [[--],\n",
      "         [--],\n",
      "         [--],\n",
      "         ...,\n",
      "         [-450.0165458781292],\n",
      "         [-367.09003822535476],\n",
      "         [-297.0294135774241]],\n",
      "\n",
      "        [[--],\n",
      "         [--],\n",
      "         [--],\n",
      "         ...,\n",
      "         [-498.80792533817964],\n",
      "         [-423.4913825572679],\n",
      "         [-347.0667117928301]]],\n",
      "  mask=[[[False],\n",
      "         [False],\n",
      "         [False],\n",
      "         ...,\n",
      "         [False],\n",
      "         [False],\n",
      "         [False]],\n",
      "\n",
      "        [[False],\n",
      "         [False],\n",
      "         [False],\n",
      "         ...,\n",
      "         [False],\n",
      "         [False],\n",
      "         [False]],\n",
      "\n",
      "        [[False],\n",
      "         [False],\n",
      "         [False],\n",
      "         ...,\n",
      "         [False],\n",
      "         [False],\n",
      "         [False]],\n",
      "\n",
      "        ...,\n",
      "\n",
      "        [[ True],\n",
      "         [ True],\n",
      "         [ True],\n",
      "         ...,\n",
      "         [False],\n",
      "         [False],\n",
      "         [False]],\n",
      "\n",
      "        [[ True],\n",
      "         [ True],\n",
      "         [ True],\n",
      "         ...,\n",
      "         [False],\n",
      "         [False],\n",
      "         [False]],\n",
      "\n",
      "        [[ True],\n",
      "         [ True],\n",
      "         [ True],\n",
      "         ...,\n",
      "         [False],\n",
      "         [False],\n",
      "         [False]]],\n",
      "  fill_value=1e+20), 'v': masked_array(\n",
      "  data=[[[13.8479687777677],\n",
      "         [14.166291142665195],\n",
      "         [14.487348004584943],\n",
      "         ...,\n",
      "         [-3.823374642685749],\n",
      "         [-3.554592946037303],\n",
      "         [-3.2864397403781367]],\n",
      "\n",
      "        [[12.640727119442774],\n",
      "         [12.976670601531987],\n",
      "         [13.310064786581641],\n",
      "         ...,\n",
      "         [-3.8878845264053785],\n",
      "         [-3.622948911002865],\n",
      "         [-3.358510637397368]],\n",
      "\n",
      "        [[11.477216948938917],\n",
      "         [11.828369505143058],\n",
      "         [12.168172881506461],\n",
      "         ...,\n",
      "         [-3.951470786575677],\n",
      "         [-3.6924841010809297],\n",
      "         [-3.4332654022966453]],\n",
      "\n",
      "        ...,\n",
      "\n",
      "        [[--],\n",
      "         [--],\n",
      "         [--],\n",
      "         ...,\n",
      "         [90.30191392586663],\n",
      "         [134.8447570235616],\n",
      "         [173.06760847897246]],\n",
      "\n",
      "        [[--],\n",
      "         [--],\n",
      "         [--],\n",
      "         ...,\n",
      "         [48.084762731761835],\n",
      "         [101.65676731038454],\n",
      "         [150.2431367778289]],\n",
      "\n",
      "        [[--],\n",
      "         [--],\n",
      "         [--],\n",
      "         ...,\n",
      "         [2.845100113657608],\n",
      "         [60.820224724950094],\n",
      "         [118.96779058033094]]],\n",
      "  mask=[[[False],\n",
      "         [False],\n",
      "         [False],\n",
      "         ...,\n",
      "         [False],\n",
      "         [False],\n",
      "         [False]],\n",
      "\n",
      "        [[False],\n",
      "         [False],\n",
      "         [False],\n",
      "         ...,\n",
      "         [False],\n",
      "         [False],\n",
      "         [False]],\n",
      "\n",
      "        [[False],\n",
      "         [False],\n",
      "         [False],\n",
      "         ...,\n",
      "         [False],\n",
      "         [False],\n",
      "         [False]],\n",
      "\n",
      "        ...,\n",
      "\n",
      "        [[ True],\n",
      "         [ True],\n",
      "         [ True],\n",
      "         ...,\n",
      "         [False],\n",
      "         [False],\n",
      "         [False]],\n",
      "\n",
      "        [[ True],\n",
      "         [ True],\n",
      "         [ True],\n",
      "         ...,\n",
      "         [False],\n",
      "         [False],\n",
      "         [False]],\n",
      "\n",
      "        [[ True],\n",
      "         [ True],\n",
      "         [ True],\n",
      "         ...,\n",
      "         [False],\n",
      "         [False],\n",
      "         [False]]],\n",
      "  fill_value=1e+20)}\n"
     ]
    }
   ],
   "source": [
    "tide_curr = get_tide_map(uvsub, tide_time[0:1])\n",
    "print(tide_curr)"
   ]
  },
  {
   "cell_type": "code",
   "execution_count": null,
   "metadata": {},
   "outputs": [],
   "source": [
    "plot_current_map(x, y, u, v, mag, dtime[0])"
   ]
  },
  {
   "cell_type": "code",
   "execution_count": null,
   "metadata": {},
   "outputs": [],
   "source": [
    "#North Atlantic\n",
    "x1, y1, u1, v1, mag1 = get_current_map(280, 0, 360, 60, ds, tide_time[0:1], mask_grid=5)\n"
   ]
  }
 ],
 "metadata": {
  "kernelspec": {
   "display_name": "py311",
   "language": "python",
   "name": "python3"
  },
  "language_info": {
   "codemirror_mode": {
    "name": "ipython",
    "version": 3
   },
   "file_extension": ".py",
   "mimetype": "text/x-python",
   "name": "python",
   "nbconvert_exporter": "python",
   "pygments_lexer": "ipython3",
   "version": "3.11.3"
  },
  "orig_nbformat": 4
 },
 "nbformat": 4,
 "nbformat_minor": 2
}
