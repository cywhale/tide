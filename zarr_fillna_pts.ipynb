{
 "cells": [
  {
   "cell_type": "code",
   "execution_count": 1,
   "metadata": {},
   "outputs": [],
   "source": [
    "import numpy as np\n",
    "import xarray as xr\n",
    "from concurrent.futures import ProcessPoolExecutor, as_completed\n",
    "# from dask import delayed, compute\n",
    "# from dask.distributed import get_client, default_client, LocalCluster, Client\n",
    "from pyTMD.io import ATLAS\n",
    "from src.model_utils import get_current_model\n",
    "from src.pytmd_utils import read_netcdf_grid\n",
    "maxWorkers = 4"
   ]
  },
  {
   "cell_type": "code",
   "execution_count": 2,
   "metadata": {},
   "outputs": [],
   "source": [
    "BATHY_gridfile = '/home/bioer/python/tide/data_src/TPXO9_atlas_v5/grid_tpxo9_atlas_30_v5.nc'\n",
    "tpxo_model_directory = '/home/bioer/python/tide/data_src'\n",
    "tpxo_model_format = 'netcdf'\n",
    "tpxo_compressed = False\n",
    "tpxo_model_name = 'TPXO9-atlas-v5'\n",
    "tpxo_model = get_current_model(\n",
    "    tpxo_model_name, tpxo_model_directory, tpxo_model_format, tpxo_compressed)\n"
   ]
  },
  {
   "cell_type": "code",
   "execution_count": 3,
   "metadata": {},
   "outputs": [],
   "source": [
    "def recompute_na_points(coord, lonz, latz, bathy_mask, bathy_data):\n",
    "    ilat_idx, ilon_idx = coord\n",
    "\n",
    "    if bathy_mask[ilat_idx, ilon_idx] or bathy_data[ilat_idx, ilon_idx] <= 0.0:  # If it's a land point or depth <= 0\n",
    "        return None\n",
    "\n",
    "    ilon = lonz[ilon_idx]\n",
    "    ilat = latz[ilat_idx]\n",
    "\n",
    "    results = {}\n",
    "    for var_type in ['u', 'v']:\n",
    "        amp, ph, _, _ = ATLAS.extract_constants(\n",
    "            np.atleast_1d(ilon), np.atleast_1d(ilat),\n",
    "            tpxo_model.grid_file,\n",
    "            tpxo_model.model_file[var_type], type=var_type, method='spline',\n",
    "            scale=tpxo_model.scale, compressed=tpxo_model.compressed\n",
    "        )\n",
    "        results[f\"{var_type}_amp\"] = amp\n",
    "        results[f\"{var_type}_ph\"] = ph\n",
    "    \n",
    "    return results"
   ]
  },
  {
   "cell_type": "code",
   "execution_count": 4,
   "metadata": {},
   "outputs": [],
   "source": [
    "input_file = \"tpxo9.zarr\"\n",
    "lonz, latz, bathy_z = read_netcdf_grid(BATHY_gridfile, variable='z')\n"
   ]
  },
  {
   "cell_type": "code",
   "execution_count": 5,
   "metadata": {},
   "outputs": [
    {
     "name": "stdout",
     "output_type": "stream",
     "text": [
      "(5401, 10800)\n"
     ]
    }
   ],
   "source": [
    "bathy_mask = bathy_z.mask\n",
    "bathy_data = bathy_z.data\n",
    "print(bathy_mask.shape)\n"
   ]
  },
  {
   "cell_type": "code",
   "execution_count": 6,
   "metadata": {},
   "outputs": [],
   "source": [
    "ds = xr.open_zarr(input_file)"
   ]
  },
  {
   "cell_type": "code",
   "execution_count": 14,
   "metadata": {},
   "outputs": [
    {
     "name": "stdout",
     "output_type": "stream",
     "text": [
      "Now process var to find na:  u_amp\n",
      "Now process var to find na:  v_amp\n"
     ]
    }
   ],
   "source": [
    "if True:\n",
    "    # Check for NaNs in the four variables\n",
    "    coords_to_recompute = set()\n",
    "    variables = ['u_amp', 'v_amp', 'u_ph', 'v_ph']\n",
    "\n",
    "    # nan_loc1 = set(map(tuple, np.argwhere(np.isnan(ds['u_amp'].values).any(axis=-1))))\n",
    "    ## it seems cause memory crash? #nan_loc1.update(map(tuple, np.argwhere(np.isnan(ds['u_ph'].values).any(axis=-1))))    \n",
    "    # nan_loc2 = set(map(tuple, np.argwhere(np.isnan(ds['v_amp'].values).any(axis=-1))))\n",
    "    #### nan_loc2.update(map(tuple, np.argwhere(np.isnan(ds['v_ph'].values).any(axis=-1))))\n",
    "    #intersecting_nans = nan_loc1.intersection(nan_loc2)\n",
    "    #for ilat_idx, ilon_idx in intersecting_nans:\n",
    "    for var in ['u_amp', 'v_amp']:\n",
    "        print(\"Now process var to find na: \", var)\n",
    "        ## it's slow # nan_locs = np.argwhere(np.isnan(ds[var].values))\n",
    "        nan_locs = np.argwhere(np.isnan(ds[var].values).any(axis=-1))\n",
    "        #It will get 204969 points if scan u_amp, v_amp, u_ph, v_ph     \n",
    "        for loc in nan_locs:\n",
    "            ilat_idx, ilon_idx = loc\n",
    "            if not bathy_mask[ilat_idx, ilon_idx] and bathy_data[ilat_idx, ilon_idx] > 0.0:\n",
    "                coords_to_recompute.add((ilat_idx, ilon_idx))\n",
    "                #print(coords_to_recompute)\n",
    "            #print(len(coords_to_recompute))\n",
    "    # Parallelize the re-computation using ProcessPoolExecutor\n"
   ]
  },
  {
   "cell_type": "code",
   "execution_count": 15,
   "metadata": {},
   "outputs": [
    {
     "name": "stdout",
     "output_type": "stream",
     "text": [
      "Total points to process: 178275\n"
     ]
    }
   ],
   "source": [
    "total_points = len(coords_to_recompute)\n",
    "print(f\"Total points to process: {total_points}\")"
   ]
  },
  {
   "cell_type": "code",
   "execution_count": 20,
   "metadata": {},
   "outputs": [
    {
     "name": "stdout",
     "output_type": "stream",
     "text": [
      "[(3363, 8087), (4419, 10577), (1846, 10083), (4477, 9801), (3142, 6398), (3350, 6347), (1180, 7778), (1708, 10149), (1749, 10150), (4440, 8421)]\n"
     ]
    }
   ],
   "source": [
    "print(list(coords_to_recompute)[0:10])"
   ]
  },
  {
   "cell_type": "code",
   "execution_count": 21,
   "metadata": {},
   "outputs": [
    {
     "name": "stdout",
     "output_type": "stream",
     "text": [
      "[nan nan nan nan nan nan nan nan nan nan nan nan nan nan nan]\n",
      "[113.33001626 132.03097175 160.45599243 162.98771133  67.40618069\n",
      "  76.1953091  157.48301599  92.99924785  89.2864663  246.77373432\n",
      " 348.21351821 195.8106125   37.38540242 258.25494763  63.8474404 ]\n",
      "<xarray.DataArray 'lon' ()>\n",
      "array(336.13332953)\n",
      "Coordinates:\n",
      "    lon      float64 336.1 <xarray.DataArray 'lat' ()>\n",
      "array(-28.46666779)\n",
      "Coordinates:\n",
      "    lat      float64 -28.47\n",
      "336.1333295343293\n",
      "-28.466667792594464\n",
      "False\n",
      "4866.6201171875\n"
     ]
    }
   ],
   "source": [
    "#NA find {(140, 6102), (138, 6232), (139, 6260), (140, 6010), .....} is huge about 204969 points.\n",
    "ilat_idx = 1846 #5400 #138                                                                                                                                                                                                                                                                                                                                                                                                                                                                                                                                                                                                                                                                                                                                                                                                                                                                                                                                                                                                                                                                                                                                                                          r33333333333333333333333333333333333333333333333333333333333333333333333333333333333ilat_idx = 5400 #138\n",
    "ilon_idx = 10083 #8455 #6232\n",
    "print(ds[\"u_amp\"].isel(lat=ilat_idx, lon=ilon_idx).values)\n",
    "print(ds[\"v_ph\"].isel(lat=ilat_idx, lon=ilon_idx).values)\n",
    "print(ds.coords['lon'][ilon_idx], ds.coords['lat'][ilat_idx])\n",
    "print(lonz[ilon_idx]) #check equality\n",
    "print(latz[ilat_idx])\n",
    "print(bathy_mask[ilat_idx, ilon_idx])\n",
    "print(bathy_data[ilat_idx, ilon_idx])"
   ]
  },
  {
   "cell_type": "code",
   "execution_count": 22,
   "metadata": {},
   "outputs": [
    {
     "name": "stdout",
     "output_type": "stream",
     "text": [
      "[[3.5488494946943145 15.736559980206401 3.299996247556154\n",
      "  9.913170054534874 39.58627119252877 176.34961057860122\n",
      "  1.0585631069753543 65.29188093555867 17.544279539809963\n",
      "  1.455588020995228 0.7314513389301621 0.43110939497561923\n",
      "  7.462967894130535 1.4564532904016338 0.6295665686549752]] [[121.39103966566903 142.7525928986673 182.62312914178708\n",
      "  191.62518186408047 322.908326448071 325.82775078991494\n",
      "  259.1186728646128 339.09686857352546 332.7412375319506\n",
      "  203.10672985887192 291.36801891766413 164.02271721943578\n",
      "  291.60835961417854 205.23641016283855 10.350843474868027]]\n"
     ]
    }
   ],
   "source": [
    "ampu, phu, _, _ = ATLAS.extract_constants(\n",
    "        np.atleast_1d(lonz[ilon_idx]), np.atleast_1d(latz[ilat_idx]),\n",
    "        tpxo_model.grid_file,\n",
    "        tpxo_model.model_file['u'], type='u', method='spline',\n",
    "        scale=tpxo_model.scale, compressed=tpxo_model.compressed\n",
    "    )\n",
    "print(ampu, phu)"
   ]
  },
  {
   "cell_type": "code",
   "execution_count": 23,
   "metadata": {},
   "outputs": [
    {
     "name": "stdout",
     "output_type": "stream",
     "text": [
      "[[8.668813118062117 35.76033562499962 8.683169526784722 23.45806202528826\n",
      "  47.0764734010927 213.35622310706765 0.25969733329667843\n",
      "  77.97409128150774 21.970233688959325 1.4524161022783755\n",
      "  0.7655314554124386 0.5279226470822542 6.575219141717764\n",
      "  2.862807843370184 0.5041899446945962]] [[113.33001625627412 132.03097175093149 160.45599243485512\n",
      "  162.9877113337471 67.40618069237203 76.19530909747947 157.4830159948237\n",
      "  92.9992478520575 89.28646630226528 246.77373431721838\n",
      "  348.21351820971336 195.81061250443756 37.385402422090806\n",
      "  258.2549476327405 63.84744039893113]]\n"
     ]
    }
   ],
   "source": [
    "ampv, phv, _, _ = ATLAS.extract_constants(\n",
    "        np.atleast_1d(lonz[ilon_idx]), np.atleast_1d(latz[ilat_idx]),\n",
    "        tpxo_model.grid_file,\n",
    "        tpxo_model.model_file['v'], type='v', method='spline',\n",
    "        scale=tpxo_model.scale, compressed=tpxo_model.compressed\n",
    "    )\n",
    "print(ampv, phv)"
   ]
  },
  {
   "cell_type": "code",
   "execution_count": 24,
   "metadata": {},
   "outputs": [
    {
     "name": "stdout",
     "output_type": "stream",
     "text": [
      "After removing:  145561\n"
     ]
    }
   ],
   "source": [
    "filtered_coords = set()\n",
    "for ilat_idx, ilon_idx in coords_to_recompute:\n",
    "    if ilat_idx>=1 and ilon_idx>=1 and ilat_idx<=len(latz)-2 and ilon_idx<=len(lonz)-2:\n",
    "        neighbors = [\n",
    "            (ilat_idx+1, ilon_idx),\n",
    "            (ilat_idx, ilon_idx+1),\n",
    "            (ilat_idx+1, ilon_idx+1)\n",
    "        ]\n",
    "    if all(neighbor in coords_to_recompute for neighbor in neighbors):\n",
    "        filtered_coords.add((ilat_idx, ilon_idx))\n",
    "        for neighbor in neighbors:\n",
    "            filtered_coords.add(neighbor)\n",
    "\n",
    "#coords_to_recompute = filtered_coords\n",
    "print('After removing: ', len(filtered_coords))"
   ]
  },
  {
   "cell_type": "code",
   "execution_count": null,
   "metadata": {},
   "outputs": [],
   "source": [
    "filtered_coord3 = set()\n",
    "for ilat_idx, ilon_idx in coords_to_recompute:\n",
    "    if ilat_idx <= len(latz) - 3 and ilon_idx <= len(lonz) - 3:\n",
    "        neighbors = [\n",
    "            (ilat_idx+1, ilon_idx), \n",
    "            (ilat_idx+2, ilon_idx),\n",
    "            (ilat_idx, ilon_idx+1), \n",
    "            (ilat_idx, ilon_idx+2),\n",
    "            (ilat_idx+1, ilon_idx+1),\n",
    "            (ilat_idx+1, ilon_idx+2),\n",
    "            (ilat_idx+2, ilon_idx+1),\n",
    "            (ilat_idx+2, ilon_idx+2)\n",
    "        ]\n",
    "        if all(neighbor in coords_to_recompute for neighbor in neighbors):\n",
    "            print(neighbors)\n",
    "            filtered_coord3.add((ilat_idx, ilon_idx))\n",
    "            for neighbor in neighbors:\n",
    "                filtered_coord3.add(neighbor)\n",
    "\n",
    "print('After removing: ', len(filtered_coord3))                "
   ]
  },
  {
   "cell_type": "code",
   "execution_count": 29,
   "metadata": {},
   "outputs": [
    {
     "name": "stdout",
     "output_type": "stream",
     "text": [
      "[[2.9675224745830766 12.431708000569952 3.0023071293390213\n",
      "  8.662898754348872 48.42061517276824 219.1841754005411\n",
      "  1.0730080996791878 83.86950278506212 22.879305544359003\n",
      "  1.6097733584708138 0.7168854566849281 0.5090492219958825\n",
      "  8.92096394063201 3.4582581658987905 1.9584240253976168]\n",
      " [2.9579358800937934 12.38904314369 2.9940437123012464 8.644111979565274\n",
      "  48.5142578990052 219.67412312344175 1.0743284565403532 84.0675180084725\n",
      "  22.937657823537002 1.6052284652899584 0.7154738792649525\n",
      "  0.5071281581946608 8.938617793078416 3.447970487380112\n",
      "  1.9736361073348159]\n",
      " [2.947794223297378 12.344665388729778 2.9851795650747603\n",
      "  8.623317657073434 48.60567803063941 220.1546347792494 1.075655369924026\n",
      "  84.2614119476745 22.994910718999964 1.6004448954366146\n",
      "  0.7139589904604071 0.5052023780197574 8.955756457211674\n",
      "  3.4357823124863045 1.988885197272386]\n",
      " [2.9685420578616895 12.446326690007595 2.99938513612234\n",
      "  8.659415466701299 48.360135716488905 218.92991769346906\n",
      "  1.072960464726159 83.74412283027684 22.841745266427488\n",
      "  1.6033433533372656 0.7157022863827155 0.5063591738502249\n",
      "  8.909367215557252 3.431171321323759 1.9136169237956606]\n",
      " [2.9591514416437827 12.404280354192785 2.991359403768953\n",
      "  8.641916333114038 48.4507976989863 219.40639515860266 1.074351340153034\n",
      "  83.9369001145722 22.8985030453432 1.5988299444204992 0.7143687850038398\n",
      "  0.5045702439107531 8.92631435427021 3.420351942190007 1.927314024583291]\n",
      " [2.949098635800593 12.359946329692724 2.982678963739098\n",
      "  8.621817110992545 48.53902092143072 219.87328220777806\n",
      "  1.0755186739809082 84.12566553960838 22.954259781192047\n",
      "  1.593965186620031 0.7128180911513835 0.5027193927489946\n",
      "  8.942895181763314 3.4076337582345695 1.9414528544047165]\n",
      " [2.969662926786932 12.460993655851292 2.9965395859502753\n",
      "  8.656360431486313 48.29974270621017 218.67635701170886\n",
      "  1.072811542232957 83.61916106487682 22.804190949656892\n",
      "  1.5970263920593624 0.7144132926006844 0.5036792437856689\n",
      "  8.897736834504046 3.4042675625778185 1.8691399304720295]\n",
      " [2.960467348108937 12.419797406456462 2.9888080860716064\n",
      "  8.640025928223185 48.38735827827947 219.13952918097127\n",
      "  1.0741580088999807 83.80673196203452 22.859471915298755\n",
      "  1.5924318392450176 0.7130431539032981 0.5018647179629581\n",
      "  8.914238525228638 3.3928545026397052 1.8813438951475652]\n",
      " [2.9504612365085956 12.375417800181681 2.980364315158568\n",
      "  8.62062381227362 48.47258723691489 219.59301798944526\n",
      "  1.0753704674042677 83.99014850962116 22.913845037642577\n",
      "  1.587600470744244 0.7114414283250831 0.5000461707523602\n",
      "  8.930223385776584 3.3796133310897627 1.894523663652868]] [[111.10706288900177 131.25735720477917 165.05934869014698\n",
      "  175.88556735483235 319.8739124564553 325.2505998050489\n",
      "  263.6032248094814 339.1176289335077 333.5547215998356\n",
      "  190.64088330278992 277.3943602909776 149.94683115144173\n",
      "  290.6958804920107 142.62784632366618 174.25709999253957]\n",
      " [111.14810549572438 131.3324209837576 165.11538356209775\n",
      "  175.93772267933457 319.8277369625714 325.21106325503825\n",
      "  263.7088946661307 339.07819312878735 333.52701835256204\n",
      "  190.6130571121113 277.352675646473 149.94691311371176\n",
      "  290.67866841530224 142.30756509310595 174.14930594705842]\n",
      " [111.18145730944156 131.40124196983464 165.16200643337226\n",
      "  175.97852622943623 319.7814829215121 325.1710212710291\n",
      "  263.81456452277996 339.03805722967707 333.4991358128227\n",
      "  190.58651499699664 277.32113383288595 149.94698141560346\n",
      "  290.66044547059664 141.9955074103064 174.01266118252315]\n",
      " [111.2573133903637 131.40633729095546 165.33209180408392\n",
      "  176.1535020155936 319.87401149419827 325.2712577121936\n",
      "  263.5753917886136 339.12675577378616 333.5566801565801\n",
      "  190.70556519422996 277.54456298101536 150.0623159899283\n",
      "  290.7041108699605 142.5282621655674 173.6895795744032]\n",
      " [111.29650501582124 131.4780542772406 165.38871407230332\n",
      "  176.20263839648268 319.8289493211491 325.23312135096285\n",
      "  263.6754677203326 339.08876626162254 333.53052394715354\n",
      "  190.6771516072827 277.5021475062696 150.0581495745346 290.687417887629\n",
      "  142.18835097133254 173.5474979792886]\n",
      " [111.32883913135208 131.54373337629946 165.43111588667077\n",
      "  176.24173439929183 319.783245110318 325.19398778211325\n",
      "  263.77417078402846 339.0496053720163 333.50366593578974\n",
      "  190.65082805822146 277.4711042964919 150.06537591467648\n",
      "  290.67014433921804 141.8661572878047 173.3947066475554]\n",
      " [111.41114291085074 131.55378741475772 165.6045343896974\n",
      "  176.42095856311298 319.87402173948203 325.29188146839243\n",
      "  263.54083786160254 339.135809189531 333.55851064727767\n",
      "  190.76572550043943 277.6960497466171 150.17867509262865\n",
      "  290.713290644205 142.4285687244419 173.0967464752028]\n",
      " [111.44847672485403 131.62258108007808 165.6574000538733\n",
      "  176.46691207584882 319.82998409480837 325.25516578650905\n",
      "  263.6346573400418 339.09926767747146 333.53403124929235\n",
      "  190.73748949841058 277.6540782341674 150.17505509236852\n",
      "  290.69728751097966 142.0703253024747 172.92162042488366]\n",
      " [111.47770993450169 131.68545980157722 165.70036194375265\n",
      "  176.50345358790838 319.78500388402927 325.2169952743324\n",
      "  263.74001983817845 339.0610988728421 333.5083275398983\n",
      "  190.71057855308075 277.61431970300873 150.17138045059508\n",
      "  290.68027350975717 141.73783169367852 172.74844780866715]]\n"
     ]
    }
   ],
   "source": [
    "#try one neibors to extract constants: [(1757, 10166), (1758, 10166), (1756, 10167), (1756, 10168), (1757, 10167), (1757, 10168), (1758, 10167), (1758, 10168)]\n",
    "lon_chunk = lonz[10166:10169]\n",
    "lat_chunk = latz[1756:1759]\n",
    "lon_grid, lat_grid = np.meshgrid(lon_chunk, lat_chunk)\n",
    "mampu, mphu, mD, mc = ATLAS.extract_constants(\n",
    "    lon_grid.ravel(), lat_grid.ravel(),\n",
    "    tpxo_model.grid_file,\n",
    "    tpxo_model.model_file['u'], type='u', method='spline',\n",
    "    scale=tpxo_model.scale, compressed=tpxo_model.compressed)\n",
    "print(mampu, mphu)"
   ]
  },
  {
   "cell_type": "code",
   "execution_count": 26,
   "metadata": {},
   "outputs": [
    {
     "name": "stdout",
     "output_type": "stream",
     "text": [
      "After removing:  135860\n"
     ]
    }
   ],
   "source": [
    "filtered_coord5 = set()\n",
    "\n",
    "for ilat_idx, ilon_idx in coords_to_recompute:\n",
    "    if ilat_idx <= len(latz) - 5 and ilon_idx <= len(lonz) - 5:\n",
    "        is_square = True\n",
    "        for i in range(5):\n",
    "            for j in range(5):\n",
    "                if (ilat_idx + i, ilon_idx + j) not in coords_to_recompute:\n",
    "                    is_square = False\n",
    "                    break\n",
    "            if not is_square:\n",
    "                break\n",
    "        if is_square:\n",
    "            for i in range(5):\n",
    "                for j in range(5):\n",
    "                    filtered_coord5.add((ilat_idx + i, ilon_idx + j))\n",
    "\n",
    "#coords_to_recompute = filtered_coord5\n",
    "print('After removing: ', len(filtered_coord5))   "
   ]
  }
 ],
 "metadata": {
  "kernelspec": {
   "display_name": "py311",
   "language": "python",
   "name": "python3"
  },
  "language_info": {
   "codemirror_mode": {
    "name": "ipython",
    "version": 3
   },
   "file_extension": ".py",
   "mimetype": "text/x-python",
   "name": "python",
   "nbconvert_exporter": "python",
   "pygments_lexer": "ipython3",
   "version": "3.11.3"
  },
  "orig_nbformat": 4
 },
 "nbformat": 4,
 "nbformat_minor": 2
}
